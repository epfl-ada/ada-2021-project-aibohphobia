{
 "cells": [
  {
   "cell_type": "markdown",
   "id": "98971098-db59-4efc-a78c-7c8b5f6199d5",
   "metadata": {},
   "source": [
    "# Processing the data: from df_complete to useful and targeted data"
   ]
  },
  {
   "cell_type": "code",
   "execution_count": 1,
   "id": "bedb991f-e784-48ca-80eb-ad85eee79bb6",
   "metadata": {},
   "outputs": [],
   "source": [
    "# Libraries to import\n",
    "import pandas as pd\n",
    "import numpy as np\n",
    "import matplotlib as matplot\n",
    "import matplotlib.pyplot as plt\n",
    "import seaborn as sns\n",
    "import scipy.stats as stats\n",
    "import pickle\n",
    "from scipy.stats import ttest_ind\n",
    "\n",
    "#interactive plots\n",
    "import plotly.express as px\n",
    "import plotly as py\n",
    "import plotly.graph_objects as go\n",
    "\n",
    "# Networkx\n",
    "import pyvis\n",
    "import networkx as nx\n",
    "from pyvis import network\n",
    "from pyvis.network import Network\n",
    "import matplotlib.image as mpimg"
   ]
  },
  {
   "cell_type": "markdown",
   "id": "469b51e3-6e61-4446-a1da-f7c35a489d8d",
   "metadata": {},
   "source": [
    "# From M3_df_YEAR_complete.pkl to origine_media_YEAR.pickel"
   ]
  },
  {
   "cell_type": "code",
   "execution_count": null,
   "id": "095088de-9a1c-4f72-95d3-8e82b023ee99",
   "metadata": {},
   "outputs": [],
   "source": [
    "DATA_PATH = './data/'\n",
    "DATA_PATH2020 = DATA_PATH + 'data_2020/'\n",
    "FILE2020 = DATA_PATH2020 + 'M3_df_2020_final.pkl'\n",
    "\n",
    "\n",
    "DATA_PATH = './data/'\n",
    "\n",
    "DATA_PATH2015 = DATA_PATH + 'data2015/'\n",
    "DATA_PATH2016 = DATA_PATH + 'data2016/'\n",
    "DATA_PATH2017 = DATA_PATH + 'data2017/'\n",
    "DATA_PATH2018 = DATA_PATH + 'data2018/'\n",
    "DATA_PATH2019 = DATA_PATH + 'data2019/'\n",
    "DATA_PATH2020 = DATA_PATH + 'data2020/'\n",
    "\n",
    "FILE2015 = DATA_PATH2015 + 'M3_df_2015_complete.pkl'\n",
    "FILE2016 = DATA_PATH2016 + 'M3_df_2016_complete.pkl'\n",
    "FILE2017 = DATA_PATH2017 + 'M3_df_2017_complete.pkl'\n",
    "FILE2018 = DATA_PATH2018 + 'M3_df_2018_complete.pkl'\n",
    "FILE2019 = DATA_PATH2019 + 'M3_df_2019_complete.pkl'\n",
    "FILE2020 = DATA_PATH2020 + 'M3_df_2020_complete.pkl'\n",
    "\n",
    "FILES = [FILE2015, FILE2016, FILE2017, FILE2018, FILE2019, FILE2020]"
   ]
  },
  {
   "cell_type": "code",
   "execution_count": null,
   "id": "ccd68aeb-8a34-4f35-abea-66b4f1134e4b",
   "metadata": {},
   "outputs": [],
   "source": [
    "with open(FILE2015, 'rb') as input_file:\n",
    "    df_2015 = pickle.load(input_file)\n",
    "df_2015 = df_2015.groupby(['gender', 'age_range', 'quotation_length', 'media_country'])\n",
    "df_2015['year'] = '2015'\n",
    "df_2015.to_pickle('data/data2015/origine_media_2015.pickle')"
   ]
  },
  {
   "cell_type": "code",
   "execution_count": null,
   "id": "bb6ced16-a72b-4f07-b33b-cf3866c2efff",
   "metadata": {
    "tags": []
   },
   "outputs": [],
   "source": [
    "with open(FILE2016, 'rb') as input_file:\n",
    "    df_2016 = pickle.load(input_file)\n",
    "df_2016 = df_2016.groupby(['gender', 'age_range', 'quotation_length', 'media_country'])\n",
    "df_2016['year'] = '2016'\n",
    "df_2016.to_pickle('data/data2016/origine_media_2016.pickle')"
   ]
  },
  {
   "cell_type": "code",
   "execution_count": null,
   "id": "06a29f9d-b0a5-49ef-a957-6b92122a500b",
   "metadata": {},
   "outputs": [],
   "source": [
    "with open(FILE2017, 'rb') as input_file:\n",
    "    df_2017 = pickle.load(input_file)\n",
    "df_2017 = df_2017.groupby(['gender', 'age_range', 'quotation_length', 'media_country'])\n",
    "df_2017['year'] = '2017'\n",
    "df_2017.to_pickle('data/data2017/origine_media_2017.pickle')"
   ]
  },
  {
   "cell_type": "code",
   "execution_count": null,
   "id": "39b888d3-7872-43be-9af1-08dad7a72a64",
   "metadata": {},
   "outputs": [],
   "source": [
    "with open(FILE2018, 'rb') as input_file:\n",
    "    df_2018 = pickle.load(input_file)\n",
    "df_2018 = df_2018.groupby(['gender', 'age_range', 'quotation_length', 'media_country'])\n",
    "df_2018['year'] = '2018'\n",
    "df_2018.to_pickle('data/data2018/origine_media_2018.pickle')"
   ]
  },
  {
   "cell_type": "code",
   "execution_count": null,
   "id": "dce3719e-9cfa-451c-b551-825cec758d2d",
   "metadata": {},
   "outputs": [],
   "source": [
    "with open(FILE2019, 'rb') as input_file:\n",
    "    df_2019 = pickle.load(input_file)\n",
    "df_2019 = df_2019.groupby(['gender', 'age_range', 'quotation_length', 'media_country'])\n",
    "df_2019['year'] = '2019'\n",
    "df_2019.to_pickle('data/data2019/origine_media_2019.pickle')"
   ]
  },
  {
   "cell_type": "code",
   "execution_count": null,
   "id": "f48a258f-6b68-4720-98ba-9f3db00697cf",
   "metadata": {},
   "outputs": [],
   "source": [
    "with open(FILE2020, 'rb') as input_file:\n",
    "    df_2020 = pickle.load(input_file)\n",
    "df_2020 = df_2016.groupby(['gender', 'age_range', 'quotation_length', 'media_country'])\n",
    "df_2020['year'] = '2020'\n",
    "df_2020.to_pickle('data/data2020/origine_media_2020.pickle')"
   ]
  },
  {
   "cell_type": "markdown",
   "id": "c734a287-3bf8-4932-806c-88bc644e520a",
   "metadata": {},
   "source": [
    "# From M3_df_YEAR_complete.pkl to UK_USA_SA_YEAR.pkl"
   ]
  },
  {
   "cell_type": "code",
   "execution_count": null,
   "id": "ede4f884-8d6e-4416-8b4a-22e2d915b777",
   "metadata": {},
   "outputs": [],
   "source": [
    "DATA_PATH = './data/'\n",
    "DATA_PATH2020 = DATA_PATH + 'data_2020/'\n",
    "FILE2020 = DATA_PATH2020 + 'M3_df_2020_final.pkl'\n",
    "\n",
    "DATA_PATH = './data/'\n",
    "\n",
    "DATA_PATH2015 = DATA_PATH + 'data2015/'\n",
    "DATA_PATH2016 = DATA_PATH + 'data2016/'\n",
    "DATA_PATH2017 = DATA_PATH + 'data2017/'\n",
    "DATA_PATH2018 = DATA_PATH + 'data2018/'\n",
    "DATA_PATH2019 = DATA_PATH + 'data2019/'\n",
    "DATA_PATH2020 = DATA_PATH + 'data2020/'\n",
    "\n",
    "FILE2015 = DATA_PATH2015 + 'M3_df_2015_complete.pkl'\n",
    "FILE2016 = DATA_PATH2016 + 'M3_df_2016_complete.pkl'\n",
    "FILE2017 = DATA_PATH2017 + 'M3_df_2017_complete.pkl'\n",
    "FILE2018 = DATA_PATH2018 + 'M3_df_2018_complete.pkl'\n",
    "FILE2019 = DATA_PATH2019 + 'M3_df_2019_complete.pkl'\n",
    "FILE2020 = DATA_PATH2020 + 'M3_df_2020_complete.pkl'\n",
    "\n",
    "FILES = [FILE2015, FILE2016, FILE2017, FILE2018, FILE2019, FILE2020]"
   ]
  },
  {
   "cell_type": "code",
   "execution_count": null,
   "id": "aec9b787-2876-4119-ac10-021635e3085a",
   "metadata": {},
   "outputs": [],
   "source": [
    "with open(FILE2015, 'rb') as input_file:\n",
    "    df_2015_base = pickle.load(input_file)\n",
    "\n",
    "df_exploded = df_2015_base.explode('media_country')\n",
    "df_UK_USA_SA_2015 = df_exploded[(df_exploded['media_country']=='United Kingdom') | (df_exploded['media_country']== 'United States of America') | (df_exploded['media_country']=='South Africa')]\n",
    "df_UK_USA_SA_2015.reset_index(drop=True, inplace = True)\n",
    "df_UK_USA_SA_2015.to_pickle('data/data2015/df_UK_USA_SA_2015.pkl')"
   ]
  },
  {
   "cell_type": "code",
   "execution_count": null,
   "id": "3df5c164-6b41-4efe-9c3b-ba8d0031b9ad",
   "metadata": {},
   "outputs": [],
   "source": [
    "with open(FILE2016, 'rb') as input_file:\n",
    "    df_2016_base = pickle.load(input_file)\n",
    "\n",
    "df_exploded = df_2016_base.explode('media_country')\n",
    "df_UK_USA_SA_2016 = df_exploded[(df_exploded['media_country']=='United Kingdom') | (df_exploded['media_country']== 'United States of America') | (df_exploded['media_country']=='South Africa')]\n",
    "df_UK_USA_SA_2016.reset_index(drop=True, inplace = True)\n",
    "df_UK_USA_SA_2016.to_pickle('data/data2016/df_UK_USA_SA_2016.pkl')"
   ]
  },
  {
   "cell_type": "code",
   "execution_count": null,
   "id": "c04317a3-724f-44a4-829d-5e308d87e33e",
   "metadata": {},
   "outputs": [],
   "source": [
    "with open(FILE2017, 'rb') as input_file:\n",
    "    df_2017_base = pickle.load(input_file)\n",
    "\n",
    "df_exploded = df_2017_base.explode('media_country')\n",
    "df_UK_USA_SA_2017 = df_exploded[(df_exploded['media_country']=='United Kingdom') | (df_exploded['media_country']== 'United States of America') | (df_exploded['media_country']=='South Africa')]\n",
    "df_UK_USA_SA_2017.reset_index(drop=True, inplace = True)\n",
    "df_UK_USA_SA_2017.to_pickle('data/data2017/df_UK_USA_SA_2017.pkl')"
   ]
  },
  {
   "cell_type": "code",
   "execution_count": null,
   "id": "3422b220-e9cc-41e7-95aa-54196c26bea0",
   "metadata": {},
   "outputs": [],
   "source": [
    "with open(FILE2018, 'rb') as input_file:\n",
    "    df_2018_base = pickle.load(input_file)\n",
    "\n",
    "df_exploded = df_2018_base.explode('media_country')\n",
    "df_UK_USA_SA_2018 = df_exploded[(df_exploded['media_country']=='United Kingdom') | (df_exploded['media_country']== 'United States of America') | (df_exploded['media_country']=='South Africa')]\n",
    "df_UK_USA_SA_2018.reset_index(drop=True, inplace = True)\n",
    "df_UK_USA_SA_2018.to_pickle('data/data2018/df_UK_USA_SA_2018.pkl')"
   ]
  },
  {
   "cell_type": "code",
   "execution_count": null,
   "id": "81cdc58a-ea5c-4b9d-9587-1e63a6972f8d",
   "metadata": {},
   "outputs": [],
   "source": [
    "with open(FILE2019, 'rb') as input_file:\n",
    "    df_2019_base = pickle.load(input_file)\n",
    "\n",
    "df_exploded = df_2019_base.explode('media_country')\n",
    "df_UK_USA_SA_2019 = df_exploded[(df_exploded['media_country']=='United Kingdom') | (df_exploded['media_country']== 'United States of America') | (df_exploded['media_country']=='South Africa')]\n",
    "df_UK_USA_SA_2019.reset_index(drop=True, inplace = True)\n",
    "df_UK_USA_SA_2019.to_pickle('data/data2019/df_UK_USA_SA_2019.pkl')"
   ]
  },
  {
   "cell_type": "code",
   "execution_count": null,
   "id": "cea4d4eb-219c-411d-8cef-94a8b33a6ff8",
   "metadata": {},
   "outputs": [],
   "source": [
    "with open(FILE2020, 'rb') as input_file:\n",
    "    df_2020_base = pickle.load(input_file)\n",
    "\n",
    "df_exploded = df_2020_base.explode('media_country')\n",
    "df_UK_USA_SA_2020 = df_exploded[(df_exploded['media_country']=='United Kingdom') | (df_exploded['media_country']== 'United States of America') | (df_exploded['media_country']=='South Africa')]\n",
    "df_UK_USA_SA_2020.reset_index(drop=True, inplace = True)\n",
    "df_UK_USA_SA_2020.to_pickle('data/data2020/df_UK_USA_SA_2020.pkl')"
   ]
  },
  {
   "cell_type": "markdown",
   "id": "dc7d490c-5930-4f58-ae09-f4a8f7e58d6c",
   "metadata": {},
   "source": [
    "# From UK_USA_SA_YEAR to UK_USA_SA_clean_YEAR"
   ]
  },
  {
   "cell_type": "code",
   "execution_count": 2,
   "id": "58adca40-b5ff-493b-bb4c-3b565793cdf9",
   "metadata": {
    "tags": []
   },
   "outputs": [],
   "source": [
    "DATA_PATH = './data/'\n",
    "#DATA_PATH = '/data/'\n",
    "\n",
    "DATA_PATH2015 = DATA_PATH + 'data2015/'\n",
    "DATA_PATH2016 = DATA_PATH + 'data2016/'\n",
    "DATA_PATH2017 = DATA_PATH + 'data2017/'\n",
    "DATA_PATH2018 = DATA_PATH + 'data2018/'\n",
    "DATA_PATH2019 = DATA_PATH + 'data2019/'\n",
    "DATA_PATH2020 = DATA_PATH + 'data2020/'\n",
    "\n",
    "FILE2015 = DATA_PATH2015 + 'UK_USA_SA_2015.pkl'\n",
    "FILE2016 = DATA_PATH2016 + 'UK_USA_SA_2016.pkl'\n",
    "FILE2017 = DATA_PATH2017 + 'UK_USA_SA_2017.pkl'\n",
    "FILE2018 = DATA_PATH2018 + 'UK_USA_SA_2018.pkl'\n",
    "FILE2019 = DATA_PATH2019 + 'UK_USA_SA_2019.pkl'\n",
    "FILE2020 = DATA_PATH2020 + 'UK_USA_SA_2020.pkl'\n",
    "\n",
    "FILES = [FILE2015, FILE2016, FILE2017, FILE2018, FILE2019, FILE2020]\n",
    "list_countries = ['United Kingdom','United States of America','South Africa']"
   ]
  },
  {
   "cell_type": "code",
   "execution_count": 8,
   "id": "1c85f183-cd28-42c6-a4ae-f5231d22013c",
   "metadata": {},
   "outputs": [],
   "source": [
    "with open(FILE2015, 'rb') as input_file:\n",
    "    df_2015 = pickle.load(input_file)\n",
    "df_2015.drop(['qids','date','urls','domain','Description','date_of_birth','media_country_qid','numOcurrences','Continent'],axis=1,inplace=True)\n",
    "df_2015.to_pickle('data/data2015/UK_USA_SA_clean_2015.pkl')"
   ]
  },
  {
   "cell_type": "code",
   "execution_count": 9,
   "id": "f55ddefc-7e18-4087-98c0-dd5f137aa648",
   "metadata": {},
   "outputs": [],
   "source": [
    "with open(FILE2016, 'rb') as input_file:\n",
    "    df_2016 = pickle.load(input_file)\n",
    "df_2016.drop(['qids','date','urls','domain','Description','date_of_birth','media_country_qid','numOcurrences','Continent'],axis=1,inplace=True)\n",
    "df_2016.to_pickle('data/data2016/UK_USA_SA_clean_2016.pkl')"
   ]
  },
  {
   "cell_type": "code",
   "execution_count": 4,
   "id": "a0d2b936-d729-4de4-bc42-165fd326e7ee",
   "metadata": {},
   "outputs": [],
   "source": [
    "with open(FILE2017, 'rb') as input_file:\n",
    "    df_2017 = pickle.load(input_file)\n",
    "df_2017.drop(['qids','date','urls','domain','Description','date_of_birth','media_country_qid','numOcurrences','Continent'],axis=1,inplace=True)\n",
    "df_2017.to_pickle('data/data2017/UK_USA_SA_clean_2017.pkl')"
   ]
  },
  {
   "cell_type": "code",
   "execution_count": 3,
   "id": "4a5f8cdc-eebb-461a-8a0a-94906578d11a",
   "metadata": {},
   "outputs": [],
   "source": [
    "with open(FILE2018, 'rb') as input_file:\n",
    "    df_2018 = pickle.load(input_file)\n",
    "df_2018.drop(['qids','date','urls','domain','Description','date_of_birth','media_country_qid','numOcurrences','Continent'],axis=1,inplace=True)\n",
    "df_2018.to_pickle('data/data2018/UK_USA_SA_clean_2018.pkl')"
   ]
  },
  {
   "cell_type": "code",
   "execution_count": 3,
   "id": "4dd2b58a-19f4-4085-b6d1-aac08a1b6766",
   "metadata": {},
   "outputs": [],
   "source": [
    "with open(FILE2019, 'rb') as input_file:\n",
    "    df_2019 = pickle.load(input_file)\n",
    "df_2019.drop(['qids','date','urls','domain','Description','date_of_birth','media_country_qid','numOcurrences','Continent'],axis=1,inplace=True)\n",
    "df_2019.to_pickle('data/data2019/UK_USA_SA_clean_2019.pkl')"
   ]
  },
  {
   "cell_type": "code",
   "execution_count": 5,
   "id": "72cfbaae-51c1-4f1a-9e65-596d62b79604",
   "metadata": {},
   "outputs": [],
   "source": [
    "with open(FILE2020, 'rb') as input_file:\n",
    "    df_2020 = pickle.load(input_file)\n",
    "df_2020.drop(['qids','date','urls','domain','Description','date_of_birth','media_country_qid','numOcurrences','Continent'],axis=1,inplace=True)\n",
    "df_2020.to_pickle('data/data2020/UK_USA_SA_clean_2020.pkl')"
   ]
  }
 ],
 "metadata": {
  "kernelspec": {
   "display_name": "Python 3",
   "language": "python",
   "name": "python3"
  },
  "language_info": {
   "codemirror_mode": {
    "name": "ipython",
    "version": 3
   },
   "file_extension": ".py",
   "mimetype": "text/x-python",
   "name": "python",
   "nbconvert_exporter": "python",
   "pygments_lexer": "ipython3",
   "version": "3.8.8"
  }
 },
 "nbformat": 4,
 "nbformat_minor": 5
}

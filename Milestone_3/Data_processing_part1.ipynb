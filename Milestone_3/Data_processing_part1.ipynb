{
 "cells": [
  {
   "cell_type": "markdown",
   "id": "98971098-db59-4efc-a78c-7c8b5f6199d5",
   "metadata": {},
   "source": [
    "# Processing the data: from df_complete to useful and targeted data"
   ]
  },
  {
   "cell_type": "code",
   "execution_count": null,
   "id": "bedb991f-e784-48ca-80eb-ad85eee79bb6",
   "metadata": {},
   "outputs": [],
   "source": [
    "# Libraries to import\n",
    "import pandas as pd\n",
    "import numpy as np\n",
    "import matplotlib as matplot\n",
    "import matplotlib.pyplot as plt\n",
    "import seaborn as sns\n",
    "import scipy.stats as stats\n",
    "import pickle\n",
    "from scipy.stats import ttest_ind\n",
    "\n",
    "#interactive plots\n",
    "import plotly.express as px\n",
    "import plotly as py\n",
    "import plotly.graph_objects as go\n",
    "\n",
    "# Networkx\n",
    "import pyvis\n",
    "import networkx as nx\n",
    "from pyvis import network\n",
    "from pyvis.network import Network\n",
    "import matplotlib.image as mpimg"
   ]
  },
  {
   "cell_type": "markdown",
   "id": "469b51e3-6e61-4446-a1da-f7c35a489d8d",
   "metadata": {},
   "source": [
    "# From M3_df_YEAR_complete.pkl to origine_media_YEAR.pickel"
   ]
  },
  {
   "cell_type": "code",
   "execution_count": null,
   "id": "095088de-9a1c-4f72-95d3-8e82b023ee99",
   "metadata": {},
   "outputs": [],
   "source": [
    "DATA_PATH = './data/'\n",
    "DATA_PATH2020 = DATA_PATH + 'data_2020/'\n",
    "FILE2020 = DATA_PATH2020 + 'M3_df_2020_final.pkl'\n",
    "\n",
    "\n",
    "DATA_PATH = './data/'\n",
    "\n",
    "DATA_PATH2015 = DATA_PATH + 'data2015/'\n",
    "DATA_PATH2016 = DATA_PATH + 'data2016/'\n",
    "DATA_PATH2017 = DATA_PATH + 'data2017/'\n",
    "DATA_PATH2018 = DATA_PATH + 'data2018/'\n",
    "DATA_PATH2019 = DATA_PATH + 'data2019/'\n",
    "DATA_PATH2020 = DATA_PATH + 'data2020/'\n",
    "\n",
    "FILE2015 = DATA_PATH2015 + 'M3_df_2015_complete.pkl'\n",
    "FILE2016 = DATA_PATH2016 + 'M3_df_2016_complete.pkl'\n",
    "FILE2017 = DATA_PATH2017 + 'M3_df_2017_complete.pkl'\n",
    "FILE2018 = DATA_PATH2018 + 'M3_df_2018_complete.pkl'\n",
    "FILE2019 = DATA_PATH2019 + 'M3_df_2019_complete.pkl'\n",
    "FILE2020 = DATA_PATH2020 + 'M3_df_2020_complete.pkl'\n",
    "\n",
    "FILES = [FILE2015, FILE2016, FILE2017, FILE2018, FILE2019, FILE2020]"
   ]
  },
  {
   "cell_type": "code",
   "execution_count": null,
   "id": "ccd68aeb-8a34-4f35-abea-66b4f1134e4b",
   "metadata": {},
   "outputs": [],
   "source": [
    "with open(FILE2015, 'rb') as input_file:\n",
    "    df_2015_base = pickle.load(input_file)\n",
    "df_2015 = df_2015_base.groupby(['gender', 'age_range', 'quotation_length', 'media_country'])\n",
    "df_2015['year'] = '2015'\n",
    "df_2015.to_pickle('data/data2015/origine_media_2015.pickle')"
   ]
  },
  {
   "cell_type": "code",
   "execution_count": null,
   "id": "bb6ced16-a72b-4f07-b33b-cf3866c2efff",
   "metadata": {
    "tags": []
   },
   "outputs": [],
   "source": [
    "with open(FILE2016, 'rb') as input_file:\n",
    "    df_2016_base = pickle.load(input_file)\n",
    "df_2016 = df_2016_base.groupby(['gender', 'age_range', 'quotation_length', 'media_country'])\n",
    "df_2016['year'] = '2016'\n",
    "df_2016.to_pickle('data/data2016/origine_media_2016.pickle')"
   ]
  },
  {
   "cell_type": "code",
   "execution_count": null,
   "id": "06a29f9d-b0a5-49ef-a957-6b92122a500b",
   "metadata": {},
   "outputs": [],
   "source": [
    "with open(FILE2017, 'rb') as input_file:\n",
    "    df_2017_base = pickle.load(input_file)\n",
    "df_2017 = df_201_base7.groupby(['gender', 'age_range', 'quotation_length', 'media_country'])\n",
    "df_2017['year'] = '2017'\n",
    "df_2017.to_pickle('data/data2017/origine_media_2017.pickle')"
   ]
  },
  {
   "cell_type": "code",
   "execution_count": null,
   "id": "39b888d3-7872-43be-9af1-08dad7a72a64",
   "metadata": {},
   "outputs": [],
   "source": [
    "with open(FILE2018, 'rb') as input_file:\n",
    "    df_2018_base = pickle.load(input_file)\n",
    "df_2018 = df_2018_base.groupby(['gender', 'age_range', 'quotation_length', 'media_country'])\n",
    "df_2018['year'] = '2018'\n",
    "df_2018.to_pickle('data/data2018/origine_media_2018.pickle')"
   ]
  },
  {
   "cell_type": "code",
   "execution_count": null,
   "id": "dce3719e-9cfa-451c-b551-825cec758d2d",
   "metadata": {},
   "outputs": [],
   "source": [
    "with open(FILE2019, 'rb') as input_file:\n",
    "    df_2019_base = pickle.load(input_file)\n",
    "df_2019 = df_2019_base.groupby(['gender', 'age_range', 'quotation_length', 'media_country'])\n",
    "df_2019['year'] = '2019'\n",
    "df_2019.to_pickle('data/data2019/origine_media_2019.pickle')"
   ]
  },
  {
   "cell_type": "code",
   "execution_count": null,
   "id": "f48a258f-6b68-4720-98ba-9f3db00697cf",
   "metadata": {},
   "outputs": [],
   "source": [
    "with open(FILE2020, 'rb') as input_file:\n",
    "    df_2020_base = pickle.load(input_file)\n",
    "df_exploded = df_2020_base.explode('media_country')\n",
    "df_2020 = df_exploded.groupby(['media_country','gender', 'age_range', 'quotation_length']).quoteID.count().to_frame(name='count').sort_values([\"media_country\",\"count\"],ascending=False).reset_index()\n",
    "df_2020['year'] = '2020'\n",
    "df_2020.to_pickle('data/data2020/origine_media_2020.pickle')"
   ]
  },
  {
   "cell_type": "markdown",
   "id": "dce92b98-c604-44cb-8d79-1ea7437eedd2",
   "metadata": {},
   "source": [
    "## From M3_df_complete to M3_df_media_country_groupby_proportion.pkl"
   ]
  },
  {
   "cell_type": "code",
   "execution_count": null,
   "id": "33602fd3-9047-40f4-8245-5e191c022edb",
   "metadata": {},
   "outputs": [],
   "source": [
    "def create_df_media_country(df):\n",
    "    df_media_country_explode = df.explode(\"media_country\")\n",
    "    df_media_country = df_media_country_explode.groupby([\"media_country\",\"gender\"]).quoteID.count().to_frame(name=\"count\").sort_values(['count'],ascending=False).reset_index()\n",
    "    df_total_per_media_country = df_media_country.groupby(['media_country'])[\"count\"].sum().to_frame(name=\"Total\").reset_index()\n",
    "    df_media_country = df_media_country.merge(df_total_per_media_country, on='media_country')\n",
    "    df_media_country['Proportion']  = (df_media_country['count']/df_media_country['Total'])*100\n",
    "    return df_media_country"
   ]
  },
  {
   "cell_type": "code",
   "execution_count": null,
   "id": "f9c4883f-61bd-438d-b171-f76f323e8f7c",
   "metadata": {},
   "outputs": [],
   "source": [
    "df_2015_media_country = create_df_media_country(df_2015_base) # df_2015_base is M3_df_complete_2025 and has been downloaded above (control not modified during process !)\n",
    "df_2016_media_country = create_df_media_country(df_2016_base)\n",
    "df_2017_media_country = create_df_media_country(df_2017_base)\n",
    "df_2018_media_country = create_df_media_country(df_2018_base)\n",
    "df_2019_media_country = create_df_media_country(df_2019_base)\n",
    "df_2020_media_country = create_df_media_country(df_2020_base)"
   ]
  },
  {
   "cell_type": "code",
   "execution_count": null,
   "id": "f7295684-92ec-455b-b3c5-325daac727be",
   "metadata": {},
   "outputs": [],
   "source": [
    "# Save df_YEAR_media_country as pickle that we will reload afterwards\n",
    "with open(DATA_PATHYEAR + 'M3_df_YEAR_media_country_groupby_proportion.pkl', 'wb') as output:\n",
    "    pickle.dump(df_YEAR_media_country, output)"
   ]
  },
  {
   "cell_type": "code",
   "execution_count": null,
   "id": "9e76b97e-c1f0-4a9e-9520-7b686323f408",
   "metadata": {},
   "outputs": [],
   "source": [
    "### Load each dataframe groupedby\n",
    "with open(DATA_PATHYEAR + 'M3_df_YEAR_media_country_groupby_proportion.pkl', 'rb') as input_file:\n",
    "    df_YEAR_media_country = pickle.load(input_file)"
   ]
  },
  {
   "cell_type": "code",
   "execution_count": null,
   "id": "904ba2a3-be7c-44a5-bd12-724f9cba84f5",
   "metadata": {},
   "outputs": [],
   "source": [
    "### Merge for each media_country\n",
    "df_media_country1 = pd.merge(df_2015_media_country, df_2016_media_country, on=[\"media_country\",\"gender\"], \n",
    "                             how='outer', suffixes = ('_2015', '_2016'))\n",
    "df_2017_media_country = df_2017_media_country.add_suffix('_2017').rename({\"media_country_2017\":\"media_country\", \"gender_2017\":\"gender\"},axis=1)\n",
    "df_media_country2 = pd.merge(df_media_country1, df_2017_media_country, on=[\"media_country\",\"gender\"], how='outer')\n",
    "df_2018_media_country = df_2018_media_country.add_suffix('_2018').rename({\"media_country_2018\":\"media_country\", \"gender_2018\":\"gender\"},axis=1)\n",
    "df_media_country3 = pd.merge(df_media_country2, df_2018_media_country, on=[\"media_country\",\"gender\"], how='outer')\n",
    "df_2019_media_country = df_2019_media_country.add_suffix('_2019').rename({\"media_country_2019\":\"media_country\", \"gender_2019\":\"gender\"},axis=1)\n",
    "df_media_country4 = pd.merge(df_media_country3, df_2019_media_country, on=[\"media_country\",\"gender\"], how='outer')\n",
    "df_2020_media_country = df_2020_media_country.add_suffix('_2020').rename({\"media_country_2020\":\"media_country\", \"gender_2020\":\"gender\"},axis=1)\n",
    "df_media_country = pd.merge(df_media_country4, df_2020_media_country, on=[\"media_country\",\"gender\"], how='outer')"
   ]
  },
  {
   "cell_type": "code",
   "execution_count": null,
   "id": "684037d0-c083-4411-9ab8-9758a3e18699",
   "metadata": {},
   "outputs": [],
   "source": [
    "# Save it !\n",
    "with open(DATA_PATH + 'M3_df_media_country_groupby_proportion.pkl', 'wb') as output:\n",
    "    pickle.dump(df_media_country, output)"
   ]
  },
  {
   "cell_type": "markdown",
   "id": "1b0169e7-b975-47b7-8510-ad1c19377c47",
   "metadata": {},
   "source": [
    "It's on the drive in the folder: 'DataFrame_female_proportion_all_media_country' in M3 :)"
   ]
  },
  {
   "cell_type": "markdown",
   "id": "ac688355-ef7a-4fce-a524-0fabb03718cb",
   "metadata": {},
   "source": [
    "## Few lines for the plot! (too lazy to create a new lab) just copy paste it at the begining with the plot 'mean percentage where we selected the 3 country UK USA SA "
   ]
  },
  {
   "cell_type": "code",
   "execution_count": null,
   "id": "adc877ef-3d3b-4e32-b31f-f42f988dca3a",
   "metadata": {},
   "outputs": [],
   "source": [
    "with open(DATA_PATH + 'M3_df_media_country_groupby_proportion.pkl', 'rb') as input_file:\n",
    "    df_media_country = pickle.load(input_file)"
   ]
  },
  {
   "cell_type": "code",
   "execution_count": null,
   "id": "c90f1ced-a3b6-44b1-96bc-8eff8d52379e",
   "metadata": {},
   "outputs": [],
   "source": [
    "df_media_country.sort_values([\"media_country\",\"gender\"], inplace=True)\n",
    "df_media_country.set_index([\"media_country\",\"gender\"], inplace=True)\n",
    "df_media_country_tr = df_media_country.transpose().filter(regex='Proportion', axis=0)"
   ]
  },
  {
   "cell_type": "code",
   "execution_count": null,
   "id": "c2762f1a-da59-4ef8-8310-c227b6eb1916",
   "metadata": {},
   "outputs": [],
   "source": [
    "rows, nber_countries_x2 = df_media_country_tr.shape\n",
    "fig, axes = plt.subplots(nrows=7, ncols=3, figsize=(40,55), sharey=True)\n",
    "#fig.set_size_inches(20, 20)\n",
    "list_axes = axes.flatten()\n",
    "country=0\n",
    "plot=0\n",
    "while country < (nber_countries_x2):\n",
    "    to_plot = df_media_country_tr.iloc[:, country:country+2].filter(regex='Female', axis=1)\n",
    "    name = to_plot.columns[0][0]\n",
    "    ax = list_axes[plot]\n",
    "\n",
    "    to_plot.plot.bar(ax=ax, color=[colors[0], colors[1]])\n",
    "    ax.set_title(str(name), size=25)\n",
    "    ax.tick_params(axis='both', which='major', labelsize=15)\n",
    "    \n",
    "    if country % 3 == 0:\n",
    "        ax.set_ylabel('Count', size=16)\n",
    "        \n",
    "    country += 2\n",
    "    plot += 1\n",
    "\n",
    "#plt.suptitle('Distributions of numerical columns', size=30)\n",
    "plt.tight_layout(pad=5)\n",
    "plt.show() \n",
    "#fig.savefig('Proportion_quotes_media_country_female.pdf')"
   ]
  },
  {
   "cell_type": "markdown",
   "id": "c734a287-3bf8-4932-806c-88bc644e520a",
   "metadata": {},
   "source": [
    "# From M3_df_YEAR_complete.pkl to UK_USA_SA_YEAR_clean.pkl"
   ]
  },
  {
   "cell_type": "code",
   "execution_count": null,
   "id": "ede4f884-8d6e-4416-8b4a-22e2d915b777",
   "metadata": {},
   "outputs": [],
   "source": [
    "DATA_PATH = './data/'\n",
    "DATA_PATH2020 = DATA_PATH + 'data_2020/'\n",
    "FILE2020 = DATA_PATH2020 + 'M3_df_2020_final.pkl'\n",
    "\n",
    "DATA_PATH = './data/'\n",
    "\n",
    "DATA_PATH2015 = DATA_PATH + 'data2015/'\n",
    "DATA_PATH2016 = DATA_PATH + 'data2016/'\n",
    "DATA_PATH2017 = DATA_PATH + 'data2017/'\n",
    "DATA_PATH2018 = DATA_PATH + 'data2018/'\n",
    "DATA_PATH2019 = DATA_PATH + 'data2019/'\n",
    "DATA_PATH2020 = DATA_PATH + 'data2020/'\n",
    "\n",
    "FILE2015 = DATA_PATH2015 + 'M3_df_2015_complete.pkl'\n",
    "FILE2016 = DATA_PATH2016 + 'M3_df_2016_complete.pkl'\n",
    "FILE2017 = DATA_PATH2017 + 'M3_df_2017_complete.pkl'\n",
    "FILE2018 = DATA_PATH2018 + 'M3_df_2018_complete.pkl'\n",
    "FILE2019 = DATA_PATH2019 + 'M3_df_2019_complete.pkl'\n",
    "FILE2020 = DATA_PATH2020 + 'M3_df_2020_complete.pkl'\n",
    "\n",
    "FILES = [FILE2015, FILE2016, FILE2017, FILE2018, FILE2019, FILE2020]"
   ]
  },
  {
   "cell_type": "markdown",
   "id": "ac3e46cb-5941-4d44-b743-a7b2f470c13f",
   "metadata": {},
   "source": [
    "## Same process for all years: YEAR in [2015, 2016, 2017, 2018, 2019, 2020]"
   ]
  },
  {
   "cell_type": "code",
   "execution_count": null,
   "id": "cea4d4eb-219c-411d-8cef-94a8b33a6ff8",
   "metadata": {},
   "outputs": [],
   "source": [
    "#Open FILE\n",
    "with open(FILE2020, 'rb') as input_file:\n",
    "    df_2020 = pickle.load(input_file)"
   ]
  },
  {
   "cell_type": "code",
   "execution_count": null,
   "id": "1deb8168-dac1-4d13-ba91-1f81cbb25aca",
   "metadata": {},
   "outputs": [],
   "source": [
    "#Keep only line where 'sitename' and 'media_country' lists had the same length (otherwise not explodable and concerned only negligible lines)\n",
    "df_sitenames_groupby = df_2020['sitenames'].apply(lambda x: len(x)).to_frame(name='count_sitenames')\n",
    "df_media_country_groupby = df_2020['media_country'].apply(lambda x: len(x)).to_frame(name='count_country')\n",
    "df_comparison = pd.concat([df_2020['quoteID'], df_sitenames_groupby, df_media_country_groupby], axis=1).reset_index(drop=True)\n",
    "keep_quoteIDs = df_comparison['quoteID'][df_comparison['count_sitenames']==df_comparison['count_country']]\n",
    "keep_quoteIDs = keep_quoteIDs.to_frame(name='quoteID_keep')\n",
    "df_length_equal = df_2020[df_2020['quoteID'].isin(keep_quoteIDs['quoteID_keep'])]"
   ]
  },
  {
   "cell_type": "code",
   "execution_count": null,
   "id": "b0aecdc9-b94b-47d4-b344-0cb66fb22738",
   "metadata": {},
   "outputs": [],
   "source": [
    "#Explode to have row with 1 single element instead of list\n",
    "df_exploded = df_length_equal.explode(['media_country','sitenames','tags'])\n",
    "df_exploded = df_exploded.explode('tags') #once more for tags because still as an array"
   ]
  },
  {
   "cell_type": "code",
   "execution_count": null,
   "id": "3a8b729e-b4ed-44d0-b715-28d9bdda6c88",
   "metadata": {},
   "outputs": [],
   "source": [
    "#Keep only countries of interest and drop columns which we are not considering in the final analysis\n",
    "df_UK_USA_SA_YEAR = df_exploded[(df_exploded['media_country']=='United Kingdom') \n",
    "                                                   | (df_exploded['media_country']== 'United States of America') \n",
    "                                                   | (df_exploded['media_country']=='South Africa')]\n",
    "\n",
    "df_UK_USA_SA_YEAR.drop(['qids','date','urls','domain','Description','date_of_birth','media_country_qid','numOcurrences','Continent'],axis=1,inplace=True)\n",
    "df_UK_USA_SA_YEAR.reset_index(drop=True, inplace = True)\n",
    "#df_UK_USA_SA_YEAR.to_pickle('data/dataYEAR/df_UK_USA_SA_clean_YEAR.pkl')"
   ]
  },
  {
   "cell_type": "code",
   "execution_count": null,
   "id": "c8602368-b401-45fe-8dcb-7a2602a90f14",
   "metadata": {},
   "outputs": [],
   "source": [
    "df_UK_USA_SA_YEAR"
   ]
  },
  {
   "cell_type": "code",
   "execution_count": null,
   "id": "48675b99-ef07-4516-8a22-3963ed66a61b",
   "metadata": {},
   "outputs": [],
   "source": []
  }
 ],
 "metadata": {
  "kernelspec": {
   "display_name": "Python 3",
   "language": "python",
   "name": "python3"
  },
  "language_info": {
   "codemirror_mode": {
    "name": "ipython",
    "version": 3
   },
   "file_extension": ".py",
   "mimetype": "text/x-python",
   "name": "python",
   "nbconvert_exporter": "python",
   "pygments_lexer": "ipython3",
   "version": "3.9.7"
  }
 },
 "nbformat": 4,
 "nbformat_minor": 5
}

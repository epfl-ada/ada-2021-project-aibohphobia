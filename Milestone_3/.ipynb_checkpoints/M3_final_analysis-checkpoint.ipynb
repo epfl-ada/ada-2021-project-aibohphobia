{
 "cells": [
  {
   "cell_type": "markdown",
   "id": "eab0d9ba-3816-4f94-afd1-6f9c2b19e217",
   "metadata": {},
   "source": [
    "# Welcome to part 1 of our project on the representation of females in media"
   ]
  },
  {
   "cell_type": "code",
   "execution_count": 3,
   "id": "4ff398ca-41e5-4453-b610-7c194cef97d3",
   "metadata": {},
   "outputs": [
    {
     "ename": "ModuleNotFoundError",
     "evalue": "No module named 'M3_utils'",
     "output_type": "error",
     "traceback": [
      "\u001b[0;31m---------------------------------------------------------------------------\u001b[0m",
      "\u001b[0;31mModuleNotFoundError\u001b[0m                       Traceback (most recent call last)",
      "\u001b[0;32m/tmp/ipykernel_14616/2936462423.py\u001b[0m in \u001b[0;36m<module>\u001b[0;34m\u001b[0m\n\u001b[1;32m     29\u001b[0m \u001b[0;34m\u001b[0m\u001b[0m\n\u001b[1;32m     30\u001b[0m \u001b[0;31m# Import function from our util file\u001b[0m\u001b[0;34m\u001b[0m\u001b[0;34m\u001b[0m\u001b[0m\n\u001b[0;32m---> 31\u001b[0;31m \u001b[0;32mfrom\u001b[0m \u001b[0mM3_utils\u001b[0m \u001b[0;32mimport\u001b[0m \u001b[0;34m*\u001b[0m\u001b[0;34m\u001b[0m\u001b[0;34m\u001b[0m\u001b[0m\n\u001b[0m",
      "\u001b[0;31mModuleNotFoundError\u001b[0m: No module named 'M3_utils'"
     ]
    }
   ],
   "source": [
    "# Libraries to import\n",
    "import pandas as pd\n",
    "import numpy as np\n",
    "import matplotlib as matplot\n",
    "import matplotlib.pyplot as plt\n",
    "import seaborn as sns\n",
    "import scipy.stats as stats\n",
    "import pickle\n",
    "from scipy.stats import ttest_ind\n",
    "import math\n",
    "\n",
    "# Supress warnings\n",
    "import warnings\n",
    "warnings.filterwarnings(\"ignore\")\n",
    "\n",
    "\n",
    "#interactive plots\n",
    "import plotly.express as px\n",
    "import plotly as py\n",
    "import plotly.io as pio\n",
    "import plotly.graph_objects as go\n",
    "import bar_chart_race as bcr\n",
    "\n",
    "# Networkx\n",
    "import networkx as nx\n",
    "from pyvis import network\n",
    "from pyvis.network import Network\n",
    "import matplotlib.image as mpimg\n",
    "\n",
    "# Import function from our util file\n",
    "from M3_utils import *"
   ]
  },
  {
   "cell_type": "code",
   "execution_count": null,
   "id": "5f8fe760-bae8-4cff-9ef7-15ae9da330ab",
   "metadata": {},
   "outputs": [],
   "source": [
    "palette_gender =['#529dc8', '#cc78bc'] #Male, Female\n",
    "sns.set_palette(sns.color_palette(palette_gender))\n",
    "sns.color_palette(palette_gender) #to visualize colors\n",
    "\n",
    "palette_countries = ['#E5B25D', '#c13639', '#029e73'] #UK, USA, SA\n",
    "sns.set_palette(sns.color_palette(palette_countries))\n",
    "sns.color_palette(palette_countries) #to visualize colors\n",
    "\n",
    "palette_media = ['#7D858D', '#dc6e57'] #Respected, Popular\n",
    "sns.set_palette(sns.color_palette(palette_media))\n",
    "sns.color_palette(palette_media) #to visualize colors\n",
    "\n",
    "palette_cat = ['#7570b3', '#e7298a', '#90BE6D', '#ece133', '#F48C06', '#023E8A', '#442220'] #order whatever\n",
    "sns.set_palette(sns.color_palette(palette_cat))"
   ]
  },
  {
   "cell_type": "code",
   "execution_count": null,
   "id": "e7999e1a-6db0-4e8a-95b6-306287fd0210",
   "metadata": {},
   "outputs": [],
   "source": [
    "# Colors used for the plots with popular and respected media as well as female and male\n",
    "popular_color = sns.color_palette(palette_media)[1]\n",
    "respect_color = sns.color_palette(palette_media)[0]\n",
    "female_color = sns.color_palette(palette_gender)[1]\n",
    "male_color = sns.color_palette(palette_gender)[0]"
   ]
  },
  {
   "cell_type": "code",
   "execution_count": null,
   "id": "bd39f2c4-7297-4b38-82dc-1c36e541f963",
   "metadata": {},
   "outputs": [],
   "source": [
    "#Settings for the non-interactive plots \n",
    "sns.set_style(\"ticks\")\n",
    "colors = sns.color_palette('colorblind')\n",
    "plt.rc('xtick', labelsize=14) \n",
    "plt.rc('ytick', labelsize=14) \n",
    "plt.rc('axes', titlesize=20)\n",
    "plt.rc('axes', labelsize=18)\n",
    "plt.rcParams['ytick.major.size'] = 7\n",
    "plt.rcParams['ytick.minor.size'] = 6\n",
    "\n",
    "sns.set_style(\"darkgrid\", {'axes.grid' : False, 'ytick.left': True, 'xtick.bottom': True})"
   ]
  },
  {
   "cell_type": "code",
   "execution_count": 4,
   "id": "6f742d5c-7a04-41fc-a709-d471e800f607",
   "metadata": {},
   "outputs": [],
   "source": [
    "\n",
    "DATA_PATH = '../data/'\n",
    "\n",
    "DATA_PATH2015 = DATA_PATH + 'data2015/'\n",
    "DATA_PATH2016 = DATA_PATH + 'data2016/'\n",
    "DATA_PATH2017 = DATA_PATH + 'data2017/'\n",
    "DATA_PATH2018 = DATA_PATH + 'data2018/'\n",
    "DATA_PATH2019 = DATA_PATH + 'data2019/'\n",
    "DATA_PATH2020 = DATA_PATH + 'data2020/'\n",
    "\n",
    "FILE2015 = DATA_PATH2015 + 'M3_df_2015_complete.pkl'\n",
    "FILE2016 = DATA_PATH2016 + 'M3_df_2016_complete.pkl'\n",
    "FILE2017 = DATA_PATH2017 + 'M3_df_2017_complete.pkl'\n",
    "FILE2018 = DATA_PATH2018 + 'M3_df_2018_complete.pkl'\n",
    "FILE2019 = DATA_PATH2019 + 'M3_df_2019_complete.pkl'\n",
    "FILE2020 = DATA_PATH2020 + 'M3_df_2020_complete.pkl'\n",
    "\n",
    "FILES = [FILE2015, FILE2016, FILE2017, FILE2018, FILE2019, FILE2020]"
   ]
  },
  {
   "cell_type": "code",
   "execution_count": 5,
   "id": "3152ff62-b10e-4ce2-95e9-dd24805779be",
   "metadata": {},
   "outputs": [],
   "source": [
    "def shortened_df(df, year):\n",
    "    df = df.groupby(['gender', 'age_range', 'quotation_length', 'media_country'])\n",
    "    df['year'] = f\"{year}\"\n",
    "    df.to_pickle(f'data/data{year}/origin_media_{year}.pickle')"
   ]
  },
  {
   "cell_type": "code",
   "execution_count": 6,
   "id": "d55eecab-6647-43ed-a09e-7aa865672992",
   "metadata": {},
   "outputs": [
    {
     "ename": "FileNotFoundError",
     "evalue": "[Errno 2] No such file or directory: '../data/data2015/M3_df_2015_complete.pkl'",
     "output_type": "error",
     "traceback": [
      "\u001b[0;31m---------------------------------------------------------------------------\u001b[0m",
      "\u001b[0;31mFileNotFoundError\u001b[0m                         Traceback (most recent call last)",
      "\u001b[0;32m/tmp/ipykernel_14616/1262393550.py\u001b[0m in \u001b[0;36m<module>\u001b[0;34m\u001b[0m\n\u001b[0;32m----> 1\u001b[0;31m \u001b[0;32mwith\u001b[0m \u001b[0mopen\u001b[0m\u001b[0;34m(\u001b[0m\u001b[0mFILE2015\u001b[0m\u001b[0;34m,\u001b[0m \u001b[0;34m'rb'\u001b[0m\u001b[0;34m)\u001b[0m \u001b[0;32mas\u001b[0m \u001b[0minput_file\u001b[0m\u001b[0;34m:\u001b[0m\u001b[0;34m\u001b[0m\u001b[0;34m\u001b[0m\u001b[0m\n\u001b[0m\u001b[1;32m      2\u001b[0m     \u001b[0mdf_2015\u001b[0m \u001b[0;34m=\u001b[0m \u001b[0mpickle\u001b[0m\u001b[0;34m.\u001b[0m\u001b[0mload\u001b[0m\u001b[0;34m(\u001b[0m\u001b[0minput_file\u001b[0m\u001b[0;34m)\u001b[0m\u001b[0;34m\u001b[0m\u001b[0;34m\u001b[0m\u001b[0m\n\u001b[1;32m      3\u001b[0m \u001b[0;34m\u001b[0m\u001b[0m\n\u001b[1;32m      4\u001b[0m \u001b[0mdf_2015_origin\u001b[0m \u001b[0;34m=\u001b[0m \u001b[0mshortened_df\u001b[0m\u001b[0;34m(\u001b[0m\u001b[0mdf_2015\u001b[0m\u001b[0;34m,\u001b[0m \u001b[0;36m2015\u001b[0m\u001b[0;34m)\u001b[0m\u001b[0;34m\u001b[0m\u001b[0;34m\u001b[0m\u001b[0m\n",
      "\u001b[0;31mFileNotFoundError\u001b[0m: [Errno 2] No such file or directory: '../data/data2015/M3_df_2015_complete.pkl'"
     ]
    }
   ],
   "source": [
    "with open(FILE2015, 'rb') as input_file:\n",
    "    df_2015 = pickle.load(input_file)\n",
    "    \n",
    "df_2015_origin = shortened_df(df_2015, 2015)"
   ]
  },
  {
   "cell_type": "code",
   "execution_count": null,
   "id": "03e1340d-ae5f-48c7-94be-e45ac682e720",
   "metadata": {},
   "outputs": [],
   "source": [
    "with open(FILE2016, 'rb') as input_file:\n",
    "    df_2016 = pickle.load(input_file)"
   ]
  },
  {
   "cell_type": "code",
   "execution_count": null,
   "id": "d9712a02-8eec-4955-950d-ed3ed02301c3",
   "metadata": {},
   "outputs": [],
   "source": [
    "with open(FILE2017, 'rb') as input_file:\n",
    "    df_2017 = pickle.load(input_file)"
   ]
  },
  {
   "cell_type": "code",
   "execution_count": null,
   "id": "8b1a7500-e04e-4903-a0a5-954700b4d8eb",
   "metadata": {},
   "outputs": [],
   "source": [
    "with open(FILE2018, 'rb') as input_file:\n",
    "    df_2018 = pickle.load(input_file)"
   ]
  },
  {
   "cell_type": "code",
   "execution_count": null,
   "id": "67ac8bbe-6321-4f1a-a199-6db5b1756bde",
   "metadata": {},
   "outputs": [],
   "source": [
    "with open(FILE2019, 'rb') as input_file:\n",
    "    df_2019 = pickle.load(input_file)"
   ]
  },
  {
   "cell_type": "code",
   "execution_count": null,
   "id": "faea42da-9355-426d-b5dd-31ad762b7f10",
   "metadata": {},
   "outputs": [],
   "source": [
    "with open(FILE2020, 'rb') as input_file:\n",
    "    df_2020 = pickle.load(input_file)"
   ]
  },
  {
   "cell_type": "markdown",
   "id": "eb6cd1b6-896f-4b24-aac9-b99a407c7de7",
   "metadata": {},
   "source": [
    "# Here I need to add the code for computing the origine media"
   ]
  },
  {
   "cell_type": "code",
   "execution_count": null,
   "id": "eb73eaf0-65b6-4024-b848-21ebe2403be5",
   "metadata": {},
   "outputs": [],
   "source": [
    "df_origin_media = pd.concat([df_2015_origin, df_2016_origin, df_2017_origin, df_2018_origin, df_2019_origin, df_2020_origin])"
   ]
  },
  {
   "cell_type": "markdown",
   "id": "bcad272b-6fc2-44c9-b462-e0823b0880c4",
   "metadata": {},
   "source": [
    "## Find countries with interesting properties regarding female quotes"
   ]
  },
  {
   "cell_type": "code",
   "execution_count": null,
   "id": "3011cfcc-c745-4a05-8adf-7ca79cb0c3ad",
   "metadata": {},
   "outputs": [],
   "source": [
    "plot_quotes_media_country(df_origin_media_gender)"
   ]
  },
  {
   "cell_type": "code",
   "execution_count": null,
   "id": "9cd2bfb6-fefa-4599-b452-d5e33ae00945",
   "metadata": {},
   "outputs": [],
   "source": [
    "df_origin_media_gender, df_female_prop = add_female_percentage(df_origin_media)\n",
    "df_female_prop.head(2)"
   ]
  },
  {
   "cell_type": "markdown",
   "id": "277a5d62-bd2e-4649-ae19-1847e50f4a1e",
   "metadata": {},
   "source": [
    "#### Let's plot the proportion of females quoted based on the country of the media\n",
    "\n"
   ]
  },
  {
   "cell_type": "code",
   "execution_count": 20,
   "id": "60fd9d50-f33f-40f0-835c-84f5aa47cb93",
   "metadata": {},
   "outputs": [
    {
     "ename": "NameError",
     "evalue": "name 'df_female_prop' is not defined",
     "output_type": "error",
     "traceback": [
      "\u001b[0;31m---------------------------------------------------------------------------\u001b[0m",
      "\u001b[0;31mNameError\u001b[0m                                 Traceback (most recent call last)",
      "\u001b[0;32m/tmp/ipykernel_107243/2611213401.py\u001b[0m in \u001b[0;36m<module>\u001b[0;34m\u001b[0m\n\u001b[1;32m      4\u001b[0m             \u001b[0;32melse\u001b[0m \u001b[0mpalette_countries\u001b[0m\u001b[0;34m[\u001b[0m\u001b[0;36m1\u001b[0m\u001b[0;34m]\u001b[0m \u001b[0;32mif\u001b[0m \u001b[0mcountry\u001b[0m \u001b[0;34m==\u001b[0m \u001b[0mlist_countries\u001b[0m\u001b[0;34m[\u001b[0m\u001b[0;36m1\u001b[0m\u001b[0;34m]\u001b[0m\u001b[0;34m\u001b[0m\u001b[0;34m\u001b[0m\u001b[0m\n\u001b[1;32m      5\u001b[0m             \u001b[0;32melse\u001b[0m \u001b[0mpalette_countries\u001b[0m\u001b[0;34m[\u001b[0m\u001b[0;36m2\u001b[0m\u001b[0;34m]\u001b[0m \u001b[0;32mif\u001b[0m \u001b[0mcountry\u001b[0m \u001b[0;34m==\u001b[0m \u001b[0mlist_countries\u001b[0m\u001b[0;34m[\u001b[0m\u001b[0;36m2\u001b[0m\u001b[0;34m]\u001b[0m\u001b[0;34m\u001b[0m\u001b[0;34m\u001b[0m\u001b[0m\n\u001b[0;32m----> 6\u001b[0;31m             else '#495057' for country in df_female_prop['media_country']]\n\u001b[0m\u001b[1;32m      7\u001b[0m fig = px.bar(df_female_prop,'media_country','Female %',\n\u001b[1;32m      8\u001b[0m              \u001b[0mlabels\u001b[0m\u001b[0;34m=\u001b[0m\u001b[0;34m{\u001b[0m\u001b[0;34m\"species\"\u001b[0m\u001b[0;34m:\u001b[0m \u001b[0;34m\"countries of interest\"\u001b[0m\u001b[0;34m}\u001b[0m\u001b[0;34m,\u001b[0m\u001b[0;34m\u001b[0m\u001b[0;34m\u001b[0m\u001b[0m\n",
      "\u001b[0;31mNameError\u001b[0m: name 'df_female_prop' is not defined"
     ]
    }
   ],
   "source": [
    "list_countries = ['United Kingdom','United States of America','South Africa']\n",
    "\n",
    "colors = [palette_countries[0] if country == list_countries[0] \n",
    "            else palette_countries[1] if country == list_countries[1] \n",
    "            else palette_countries[2] if country == list_countries[2] \n",
    "            else '#495057' for country in df_female_prop['media_country']]\n",
    "fig = px.bar(df_female_prop,'media_country','Female %',\n",
    "             labels={\"species\": \"countries of interest\"},\n",
    "             color_discrete_sequence = [colors],\n",
    "             width = 1000, height = 600)\n",
    "\n",
    "fig.update_xaxes(showgrid=False)\n",
    "fig.update_yaxes(showgrid=False)\n",
    "fig.update_layout(title=dict(\n",
    "                            text=\"Mean percentage of Female quotes over all years (2015 -2020) for each media's country\",\n",
    "                            font_size=19,\n",
    "                            yanchor=\"top\",\n",
    "                            y=0.99,\n",
    "                            xanchor=\"left\",\n",
    "                            x=0.08),\n",
    "                  yaxis = dict(\n",
    "                            title=\"Mean percentage of Female quotes\",\n",
    "                            titlefont_size=15),\n",
    "                  xaxis = dict(\n",
    "                            title=\"Media's countries\",\n",
    "                            titlefont_size=15,\n",
    "                            tickangle = -45),\n",
    "                  legend=dict(\n",
    "                            title=\"Countries of interest\",\n",
    "                            orientation=\"v\",\n",
    "                            yanchor=\"bottom\",\n",
    "                            y=0.8,\n",
    "                            xanchor=\"left\",\n",
    "                            x=1.05,\n",
    "                            font_size = 13))\n",
    "\n",
    "#py.graph_objects.layout.polar.AngularAxis(direction='clockwise', rotation = 180)\n",
    "fig.show()\n"
   ]
  },
  {
   "cell_type": "code",
   "execution_count": null,
   "id": "20935721-6c6b-4c97-8bb1-bfd2f84b8361",
   "metadata": {},
   "outputs": [],
   "source": [
    "pio.write_html(fig, file='images_website/Mean_percentage_Female_quotes.html', auto_open=False)"
   ]
  },
  {
   "cell_type": "markdown",
   "id": "b352a0ec-0113-45e6-80c5-0237316e22a1",
   "metadata": {},
   "source": [
    "### 2 main questions appear after this plot:\n",
    "##### Why are there such huge differences in the representation of females in the media between the United States and the United Kindom ? \n",
    "##### Why is South Africa better in terms of representation of females in the media than United States ? \n",
    "- Dig into ages? (years separately and on average)\n",
    "- Dig into categories? (years separately and on average)\n",
    "- Dig into Unique speakers? see if countries tend to quote many times the same person "
   ]
  },
  {
   "cell_type": "markdown",
   "id": "4bc134ec-0589-4376-8acc-ca826c76c17d",
   "metadata": {},
   "source": [
    "#### Import Data only for countries of interest: 'United Kingdom','United States of America', 'South Africa'"
   ]
  },
  {
   "cell_type": "markdown",
   "id": "fb29d622-0787-4b0a-b748-2f2082affbe8",
   "metadata": {},
   "source": [
    "TODO: Add the code to get the cleaned dataframe"
   ]
  },
  {
   "cell_type": "code",
   "execution_count": 6,
   "id": "c525eaad-d013-47db-a392-81f708546546",
   "metadata": {},
   "outputs": [],
   "source": [
    "\n",
    "FILE2015_UUS = DATA_PATH2015 + 'UK_USA_SA_2015_clean.pkl'\n",
    "FILE2016_UUS = DATA_PATH2016 + 'UK_USA_SA_2016_clean.pkl'\n",
    "FILE2017_UUS = DATA_PATH2017 + 'UK_USA_SA_2017_clean.pkl'\n",
    "FILE2018_UUS = DATA_PATH2018 + 'UK_USA_SA_2018_clean.pkl'\n",
    "FILE2019_UUS = DATA_PATH2019 + 'UK_USA_SA_2019_clean.pkl'\n",
    "FILE2020_UUS = DATA_PATH2020 + 'UK_USA_SA_2020_clean.pkl'\n",
    "\n",
    "FILES_UUS = [FILE2015_UUS, FILE2016_UUS, FILE2017_UUS, FILE2018_UUS, FILE2019_UUS, FILE2020_UUS]\n",
    "list_countries = ['United Kingdom','United States of America','South Africa']"
   ]
  },
  {
   "cell_type": "code",
   "execution_count": 7,
   "id": "99fba69b-15e7-490b-94a8-d1c10c67d20f",
   "metadata": {},
   "outputs": [],
   "source": [
    "with open(FILE2015_UUS, 'rb') as input_file:\n",
    "    df_2015_UUS = pickle.load(input_file)"
   ]
  },
  {
   "cell_type": "code",
   "execution_count": 8,
   "id": "b3433064-6ee1-456d-99f9-8bb1485abd5f",
   "metadata": {},
   "outputs": [],
   "source": [
    "with open(FILE2016_UUS, 'rb') as input_file:\n",
    "    df_2016_UUS = pickle.load(input_file)"
   ]
  },
  {
   "cell_type": "code",
   "execution_count": 9,
   "id": "95817cc5-f34b-4455-95d2-cd8ae0f011b1",
   "metadata": {},
   "outputs": [],
   "source": [
    "with open(FILE2017_UUS, 'rb') as input_file:\n",
    "    df_2017_UUS = pickle.load(input_file)"
   ]
  },
  {
   "cell_type": "code",
   "execution_count": 10,
   "id": "fc1c83bb-ab14-4b06-acf3-908cd5a8a9ad",
   "metadata": {},
   "outputs": [],
   "source": [
    "with open(FILE2018_UUS, 'rb') as input_file:\n",
    "    df_2018_UUS = pickle.load(input_file)"
   ]
  },
  {
   "cell_type": "code",
   "execution_count": 11,
   "id": "70a6c497-19aa-4f3e-a5ce-bb6081f102c5",
   "metadata": {},
   "outputs": [],
   "source": [
    "with open(FILE2019_UUS, 'rb') as input_file:\n",
    "    df_2019_UUS = pickle.load(input_file)"
   ]
  },
  {
   "cell_type": "code",
   "execution_count": 12,
   "id": "77cdf11b-9905-4de9-95e7-98833f999e31",
   "metadata": {},
   "outputs": [],
   "source": [
    "with open(FILE2020_UUS, 'rb') as input_file:\n",
    "    df_2020_UUS = pickle.load(input_file)"
   ]
  },
  {
   "cell_type": "markdown",
   "id": "fdb10ee1-cd29-46c6-ba7b-0ccf30f11005",
   "metadata": {},
   "source": [
    "## Gather all years in one single dataframe"
   ]
  },
  {
   "cell_type": "code",
   "execution_count": 13,
   "id": "b101028e-efbd-4a40-9711-bd6ca434e78d",
   "metadata": {},
   "outputs": [],
   "source": [
    "df_UK_USA_SA_all_years = pd.concat([df_2015_UUS, df_2016_UUS, df_2017_UUS, df_2018_UUS, df_2019_UUS, df_2020_UUS])\n",
    "df_list_USS = [df_2015_UUS,df_2016_UUS,df_2017_UUS,df_2018_UUS,df_2019_UUS,df_2020_UUS]"
   ]
  },
  {
   "cell_type": "markdown",
   "id": "946c3b16-e58e-4185-b82f-26fc5dbd2933",
   "metadata": {
    "tags": []
   },
   "source": [
    "## Dig into Age "
   ]
  },
  {
   "cell_type": "code",
   "execution_count": 14,
   "id": "3dda5e2d-1291-4249-bc7e-29b4120d699c",
   "metadata": {},
   "outputs": [],
   "source": [
    "df_2015_age_range = create_df_age_range(df_2015_UUS)\n",
    "df_2016_age_range = create_df_age_range(df_2016_UUS)\n",
    "df_2017_age_range = create_df_age_range(df_2017_UUS)\n",
    "df_2018_age_range = create_df_age_range(df_2018_UUS)\n",
    "df_2019_age_range = create_df_age_range(df_2019_UUS)"
   ]
  },
  {
   "cell_type": "code",
   "execution_count": 16,
   "id": "e355b865-fb94-40b5-ad02-8c2e0e5ccc36",
   "metadata": {},
   "outputs": [
    {
     "data": {
      "image/png": "[encoded data removed]",
      "text/plain": [
       "<Figure size 1440x576 with 2 Axes>"
      ]
     },
     "metadata": {},
     "output_type": "display_data"
    },
    {
     "data": {
      "image/png": "[encoded data removed]",
      "text/plain": [
       "<Figure size 1440x576 with 2 Axes>"
      ]
     },
     "metadata": {},
     "output_type": "display_data"
    },
    {
     "data": {
      "image/png": "[encoded data removed]",
      "text/plain": [
       "<Figure size 1440x576 with 2 Axes>"
      ]
     },
     "metadata": {},
     "output_type": "display_data"
    },
    {
     "data": {
      "image/png": "[encoded data removed]",
      "text/plain": [
       "<Figure size 1440x576 with 2 Axes>"
      ]
     },
     "metadata": {},
     "output_type": "display_data"
    },
    {
     "data": {
      "image/png": "[encoded data removed]",
      "text/plain": [
       "<Figure size 1440x576 with 2 Axes>"
      ]
     },
     "metadata": {},
     "output_type": "display_data"
    }
   ],
   "source": [
    "plot_quotes_age(df_2015_age_range, age_threshold = 100)\n",
    "plot_quotes_age(df_2016_age_range, age_threshold = 100)\n",
    "plot_quotes_age(df_2017_age_range, age_threshold = 100)\n",
    "plot_quotes_age(df_2018_age_range, age_threshold = 100)\n",
    "plot_quotes_age(df_2018_age_range, age_threshold = 100)"
   ]
  },
  {
   "cell_type": "markdown",
   "id": "db6a41ab-89b7-4c18-9666-51b1fea24ef0",
   "metadata": {},
   "source": [
    "### All graphs are quite similar. Consider the average over all years in one single, interactive plot"
   ]
  },
  {
   "cell_type": "code",
   "execution_count": 21,
   "id": "71e85e76-54a3-4d09-89ef-8fd8b2805a7f",
   "metadata": {},
   "outputs": [
    {
     "data": {
      "application/vnd.plotly.v1+json": {
       "config": {
        "plotlyServerURL": "https://plot.ly"
       },
       "data": [
        {
         "alignmentgroup": "True",
         "hovertemplate": "media_country=United Kingdom<br>gender=Female<br>str_age_range=%{x}<br>Proportion=%{y}<extra></extra>",
         "legendgroup": "United Kingdom",
         "marker": {
          "color": "#E5B25D",
          "pattern": {
           "shape": ""
          }
         },
         "name": "United Kingdom",
         "offsetgroup": "United Kingdom",
         "orientation": "v",
         "showlegend": true,
         "textposition": "auto",
         "type": "bar",
         "x": [
          "(0, 10]",
          "(10, 20]",
          "(20, 30]",
          "(30, 40]",
          "(40, 50]",
          "(50, 60]",
          "(60, 70]",
          "(70, 80]",
          "(80, 90]",
          "(90, 100]"
         ],
         "xaxis": "x",
         "y": [
          0.05703572013664302,
          1.948619310838607,
          15.538289777864073,
          25.442481903294116,
          21.38111389547901,
          17.51360665983047,
          11.943825883295208,
          4.037704251588202,
          1.4811084346121874,
          0.6562141630614833
         ],
         "yaxis": "y"
        },
        {
         "alignmentgroup": "True",
         "hovertemplate": "media_country=United Kingdom<br>gender=Male<br>str_age_range=%{x}<br>Proportion=%{y}<extra></extra>",
         "legendgroup": "United Kingdom",
         "marker": {
          "color": "#E5B25D",
          "pattern": {
           "shape": ""
          }
         },
         "name": "United Kingdom",
         "offsetgroup": "United Kingdom",
         "orientation": "v",
         "showlegend": false,
         "textposition": "auto",
         "type": "bar",
         "x": [
          "(0, 10]",
          "(10, 20]",
          "(20, 30]",
          "(30, 40]",
          "(40, 50]",
          "(50, 60]",
          "(60, 70]",
          "(70, 80]",
          "(80, 90]",
          "(90, 100]"
         ],
         "xaxis": "x2",
         "y": [
          0.01492139822945333,
          1.5213215447991373,
          12.958101091528611,
          14.660179321208597,
          19.978524519257103,
          22.180658468082374,
          15.625537123116645,
          8.542500486362032,
          3.423610940595836,
          1.0946451068202123
         ],
         "yaxis": "y2"
        },
        {
         "alignmentgroup": "True",
         "hovertemplate": "media_country=United States of America<br>gender=Female<br>str_age_range=%{x}<br>Proportion=%{y}<extra></extra>",
         "legendgroup": "United States of America",
         "marker": {
          "color": "#c13639",
          "pattern": {
           "shape": ""
          }
         },
         "name": "United States of America",
         "offsetgroup": "United States of America",
         "orientation": "v",
         "showlegend": true,
         "textposition": "auto",
         "type": "bar",
         "x": [
          "(0, 10]",
          "(10, 20]",
          "(20, 30]",
          "(30, 40]",
          "(40, 50]",
          "(50, 60]",
          "(60, 70]",
          "(70, 80]",
          "(80, 90]",
          "(90, 100]"
         ],
         "xaxis": "x",
         "y": [
          0.03345545668338346,
          2.554422516178337,
          12.186707687867148,
          18.624127944162186,
          20.694758317124933,
          17.81339071053486,
          18.341658931458955,
          6.873259578264449,
          2.216456804741491,
          0.6617620529842595
         ],
         "yaxis": "y"
        },
        {
         "alignmentgroup": "True",
         "hovertemplate": "media_country=United States of America<br>gender=Male<br>str_age_range=%{x}<br>Proportion=%{y}<extra></extra>",
         "legendgroup": "United States of America",
         "marker": {
          "color": "#c13639",
          "pattern": {
           "shape": ""
          }
         },
         "name": "United States of America",
         "offsetgroup": "United States of America",
         "orientation": "v",
         "showlegend": false,
         "textposition": "auto",
         "type": "bar",
         "x": [
          "(0, 10]",
          "(10, 20]",
          "(20, 30]",
          "(30, 40]",
          "(40, 50]",
          "(50, 60]",
          "(60, 70]",
          "(70, 80]",
          "(80, 90]",
          "(90, 100]"
         ],
         "xaxis": "x2",
         "y": [
          0.0047607942043451585,
          1.4056955916034926,
          13.378054296796071,
          12.504256891960638,
          17.105298627926743,
          21.69986073749525,
          18.410164307991977,
          11.590221501824065,
          3.0039127545510103,
          0.8977744956464082
         ],
         "yaxis": "y2"
        },
        {
         "alignmentgroup": "True",
         "hovertemplate": "media_country=South Africa<br>gender=Female<br>str_age_range=%{x}<br>Proportion=%{y}<extra></extra>",
         "legendgroup": "South Africa",
         "marker": {
          "color": "#029e73",
          "pattern": {
           "shape": ""
          }
         },
         "name": "South Africa",
         "offsetgroup": "South Africa",
         "orientation": "v",
         "showlegend": true,
         "textposition": "auto",
         "type": "bar",
         "x": [
          "(0, 10]",
          "(10, 20]",
          "(20, 30]",
          "(30, 40]",
          "(40, 50]",
          "(50, 60]",
          "(60, 70]",
          "(70, 80]",
          "(80, 90]",
          "(90, 100]"
         ],
         "xaxis": "x",
         "y": [
          0,
          1.5035109458901281,
          1.8504750103263115,
          8.905410987195374,
          20.00826104915324,
          22.841800908715406,
          37.67864518793887,
          4.791408508880628,
          2.11482858323007,
          0.3056588186699711
         ],
         "yaxis": "y"
        },
        {
         "alignmentgroup": "True",
         "hovertemplate": "media_country=South Africa<br>gender=Male<br>str_age_range=%{x}<br>Proportion=%{y}<extra></extra>",
         "legendgroup": "South Africa",
         "marker": {
          "color": "#029e73",
          "pattern": {
           "shape": ""
          }
         },
         "name": "South Africa",
         "offsetgroup": "South Africa",
         "orientation": "v",
         "showlegend": false,
         "textposition": "auto",
         "type": "bar",
         "x": [
          "(0, 10]",
          "(10, 20]",
          "(20, 30]",
          "(30, 40]",
          "(40, 50]",
          "(50, 60]",
          "(60, 70]",
          "(70, 80]",
          "(80, 90]",
          "(90, 100]"
         ],
         "xaxis": "x2",
         "y": [
          0,
          1.0472719841972618,
          3.862134731966487,
          14.6362645596349,
          13.367618009672366,
          25.059600844629117,
          23.181322798174513,
          13.570260881411347,
          3.511341189292282,
          1.7641850010217286
         ],
         "yaxis": "y2"
        }
       ],
       "layout": {
        "annotations": [
         {
          "font": {
           "size": 20
          },
          "showarrow": false,
          "text": "Female",
          "x": 0.245,
          "xanchor": "center",
          "xref": "paper",
          "y": 1,
          "yanchor": "bottom",
          "yref": "paper"
         },
         {
          "font": {
           "size": 20
          },
          "showarrow": false,
          "text": "Male",
          "x": 0.755,
          "xanchor": "center",
          "xref": "paper",
          "y": 1,
          "yanchor": "bottom",
          "yref": "paper"
         }
        ],
        "barmode": "group",
        "height": 450,
        "legend": {
         "font": {
          "size": 13
         },
         "orientation": "v",
         "title": {
          "text": "Countries of interest"
         },
         "tracegroupgap": 0,
         "x": 1.05,
         "xanchor": "left",
         "y": 0.8,
         "yanchor": "bottom"
        },
        "margin": {
         "t": 60
        },
        "template": {
         "data": {
          "bar": [
           {
            "error_x": {
             "color": "#2a3f5f"
            },
            "error_y": {
             "color": "#2a3f5f"
            },
            "marker": {
             "line": {
              "color": "#E5ECF6",
              "width": 0.5
             },
             "pattern": {
              "fillmode": "overlay",
              "size": 10,
              "solidity": 0.2
             }
            },
            "type": "bar"
           }
          ],
          "barpolar": [
           {
            "marker": {
             "line": {
              "color": "#E5ECF6",
              "width": 0.5
             },
             "pattern": {
              "fillmode": "overlay",
              "size": 10,
              "solidity": 0.2
             }
            },
            "type": "barpolar"
           }
          ],
          "carpet": [
           {
            "aaxis": {
             "endlinecolor": "#2a3f5f",
             "gridcolor": "white",
             "linecolor": "white",
             "minorgridcolor": "white",
             "startlinecolor": "#2a3f5f"
            },
            "baxis": {
             "endlinecolor": "#2a3f5f",
             "gridcolor": "white",
             "linecolor": "white",
             "minorgridcolor": "white",
             "startlinecolor": "#2a3f5f"
            },
            "type": "carpet"
           }
          ],
          "choropleth": [
           {
            "colorbar": {
             "outlinewidth": 0,
             "ticks": ""
            },
            "type": "choropleth"
           }
          ],
          "contour": [
           {
            "colorbar": {
             "outlinewidth": 0,
             "ticks": ""
            },
            "colorscale": [
             [
              0,
              "#0d0887"
             ],
             [
              0.1111111111111111,
              "#46039f"
             ],
             [
              0.2222222222222222,
              "#7201a8"
             ],
             [
              0.3333333333333333,
              "#9c179e"
             ],
             [
              0.4444444444444444,
              "#bd3786"
             ],
             [
              0.5555555555555556,
              "#d8576b"
             ],
             [
              0.6666666666666666,
              "#ed7953"
             ],
             [
              0.7777777777777778,
              "#fb9f3a"
             ],
             [
              0.8888888888888888,
              "#fdca26"
             ],
             [
              1,
              "#f0f921"
             ]
            ],
            "type": "contour"
           }
          ],
          "contourcarpet": [
           {
            "colorbar": {
             "outlinewidth": 0,
             "ticks": ""
            },
            "type": "contourcarpet"
           }
          ],
          "heatmap": [
           {
            "colorbar": {
             "outlinewidth": 0,
             "ticks": ""
            },
            "colorscale": [
             [
              0,
              "#0d0887"
             ],
             [
              0.1111111111111111,
              "#46039f"
             ],
             [
              0.2222222222222222,
              "#7201a8"
             ],
             [
              0.3333333333333333,
              "#9c179e"
             ],
             [
              0.4444444444444444,
              "#bd3786"
             ],
             [
              0.5555555555555556,
              "#d8576b"
             ],
             [
              0.6666666666666666,
              "#ed7953"
             ],
             [
              0.7777777777777778,
              "#fb9f3a"
             ],
             [
              0.8888888888888888,
              "#fdca26"
             ],
             [
              1,
              "#f0f921"
             ]
            ],
            "type": "heatmap"
           }
          ],
          "heatmapgl": [
           {
            "colorbar": {
             "outlinewidth": 0,
             "ticks": ""
            },
            "colorscale": [
             [
              0,
              "#0d0887"
             ],
             [
              0.1111111111111111,
              "#46039f"
             ],
             [
              0.2222222222222222,
              "#7201a8"
             ],
             [
              0.3333333333333333,
              "#9c179e"
             ],
             [
              0.4444444444444444,
              "#bd3786"
             ],
             [
              0.5555555555555556,
              "#d8576b"
             ],
             [
              0.6666666666666666,
              "#ed7953"
             ],
             [
              0.7777777777777778,
              "#fb9f3a"
             ],
             [
              0.8888888888888888,
              "#fdca26"
             ],
             [
              1,
              "#f0f921"
             ]
            ],
            "type": "heatmapgl"
           }
          ],
          "histogram": [
           {
            "marker": {
             "pattern": {
              "fillmode": "overlay",
              "size": 10,
              "solidity": 0.2
             }
            },
            "type": "histogram"
           }
          ],
          "histogram2d": [
           {
            "colorbar": {
             "outlinewidth": 0,
             "ticks": ""
            },
            "colorscale": [
             [
              0,
              "#0d0887"
             ],
             [
              0.1111111111111111,
              "#46039f"
             ],
             [
              0.2222222222222222,
              "#7201a8"
             ],
             [
              0.3333333333333333,
              "#9c179e"
             ],
             [
              0.4444444444444444,
              "#bd3786"
             ],
             [
              0.5555555555555556,
              "#d8576b"
             ],
             [
              0.6666666666666666,
              "#ed7953"
             ],
             [
              0.7777777777777778,
              "#fb9f3a"
             ],
             [
              0.8888888888888888,
              "#fdca26"
             ],
             [
              1,
              "#f0f921"
             ]
            ],
            "type": "histogram2d"
           }
          ],
          "histogram2dcontour": [
           {
            "colorbar": {
             "outlinewidth": 0,
             "ticks": ""
            },
            "colorscale": [
             [
              0,
              "#0d0887"
             ],
             [
              0.1111111111111111,
              "#46039f"
             ],
             [
              0.2222222222222222,
              "#7201a8"
             ],
             [
              0.3333333333333333,
              "#9c179e"
             ],
             [
              0.4444444444444444,
              "#bd3786"
             ],
             [
              0.5555555555555556,
              "#d8576b"
             ],
             [
              0.6666666666666666,
              "#ed7953"
             ],
             [
              0.7777777777777778,
              "#fb9f3a"
             ],
             [
              0.8888888888888888,
              "#fdca26"
             ],
             [
              1,
              "#f0f921"
             ]
            ],
            "type": "histogram2dcontour"
           }
          ],
          "mesh3d": [
           {
            "colorbar": {
             "outlinewidth": 0,
             "ticks": ""
            },
            "type": "mesh3d"
           }
          ],
          "parcoords": [
           {
            "line": {
             "colorbar": {
              "outlinewidth": 0,
              "ticks": ""
             }
            },
            "type": "parcoords"
           }
          ],
          "pie": [
           {
            "automargin": true,
            "type": "pie"
           }
          ],
          "scatter": [
           {
            "marker": {
             "colorbar": {
              "outlinewidth": 0,
              "ticks": ""
             }
            },
            "type": "scatter"
           }
          ],
          "scatter3d": [
           {
            "line": {
             "colorbar": {
              "outlinewidth": 0,
              "ticks": ""
             }
            },
            "marker": {
             "colorbar": {
              "outlinewidth": 0,
              "ticks": ""
             }
            },
            "type": "scatter3d"
           }
          ],
          "scattercarpet": [
           {
            "marker": {
             "colorbar": {
              "outlinewidth": 0,
              "ticks": ""
             }
            },
            "type": "scattercarpet"
           }
          ],
          "scattergeo": [
           {
            "marker": {
             "colorbar": {
              "outlinewidth": 0,
              "ticks": ""
             }
            },
            "type": "scattergeo"
           }
          ],
          "scattergl": [
           {
            "marker": {
             "colorbar": {
              "outlinewidth": 0,
              "ticks": ""
             }
            },
            "type": "scattergl"
           }
          ],
          "scattermapbox": [
           {
            "marker": {
             "colorbar": {
              "outlinewidth": 0,
              "ticks": ""
             }
            },
            "type": "scattermapbox"
           }
          ],
          "scatterpolar": [
           {
            "marker": {
             "colorbar": {
              "outlinewidth": 0,
              "ticks": ""
             }
            },
            "type": "scatterpolar"
           }
          ],
          "scatterpolargl": [
           {
            "marker": {
             "colorbar": {
              "outlinewidth": 0,
              "ticks": ""
             }
            },
            "type": "scatterpolargl"
           }
          ],
          "scatterternary": [
           {
            "marker": {
             "colorbar": {
              "outlinewidth": 0,
              "ticks": ""
             }
            },
            "type": "scatterternary"
           }
          ],
          "surface": [
           {
            "colorbar": {
             "outlinewidth": 0,
             "ticks": ""
            },
            "colorscale": [
             [
              0,
              "#0d0887"
             ],
             [
              0.1111111111111111,
              "#46039f"
             ],
             [
              0.2222222222222222,
              "#7201a8"
             ],
             [
              0.3333333333333333,
              "#9c179e"
             ],
             [
              0.4444444444444444,
              "#bd3786"
             ],
             [
              0.5555555555555556,
              "#d8576b"
             ],
             [
              0.6666666666666666,
              "#ed7953"
             ],
             [
              0.7777777777777778,
              "#fb9f3a"
             ],
             [
              0.8888888888888888,
              "#fdca26"
             ],
             [
              1,
              "#f0f921"
             ]
            ],
            "type": "surface"
           }
          ],
          "table": [
           {
            "cells": {
             "fill": {
              "color": "#EBF0F8"
             },
             "line": {
              "color": "white"
             }
            },
            "header": {
             "fill": {
              "color": "#C8D4E3"
             },
             "line": {
              "color": "white"
             }
            },
            "type": "table"
           }
          ]
         },
         "layout": {
          "annotationdefaults": {
           "arrowcolor": "#2a3f5f",
           "arrowhead": 0,
           "arrowwidth": 1
          },
          "autotypenumbers": "strict",
          "coloraxis": {
           "colorbar": {
            "outlinewidth": 0,
            "ticks": ""
           }
          },
          "colorscale": {
           "diverging": [
            [
             0,
             "#8e0152"
            ],
            [
             0.1,
             "#c51b7d"
            ],
            [
             0.2,
             "#de77ae"
            ],
            [
             0.3,
             "#f1b6da"
            ],
            [
             0.4,
             "#fde0ef"
            ],
            [
             0.5,
             "#f7f7f7"
            ],
            [
             0.6,
             "#e6f5d0"
            ],
            [
             0.7,
             "#b8e186"
            ],
            [
             0.8,
             "#7fbc41"
            ],
            [
             0.9,
             "#4d9221"
            ],
            [
             1,
             "#276419"
            ]
           ],
           "sequential": [
            [
             0,
             "#0d0887"
            ],
            [
             0.1111111111111111,
             "#46039f"
            ],
            [
             0.2222222222222222,
             "#7201a8"
            ],
            [
             0.3333333333333333,
             "#9c179e"
            ],
            [
             0.4444444444444444,
             "#bd3786"
            ],
            [
             0.5555555555555556,
             "#d8576b"
            ],
            [
             0.6666666666666666,
             "#ed7953"
            ],
            [
             0.7777777777777778,
             "#fb9f3a"
            ],
            [
             0.8888888888888888,
             "#fdca26"
            ],
            [
             1,
             "#f0f921"
            ]
           ],
           "sequentialminus": [
            [
             0,
             "#0d0887"
            ],
            [
             0.1111111111111111,
             "#46039f"
            ],
            [
             0.2222222222222222,
             "#7201a8"
            ],
            [
             0.3333333333333333,
             "#9c179e"
            ],
            [
             0.4444444444444444,
             "#bd3786"
            ],
            [
             0.5555555555555556,
             "#d8576b"
            ],
            [
             0.6666666666666666,
             "#ed7953"
            ],
            [
             0.7777777777777778,
             "#fb9f3a"
            ],
            [
             0.8888888888888888,
             "#fdca26"
            ],
            [
             1,
             "#f0f921"
            ]
           ]
          },
          "colorway": [
           "#636efa",
           "#EF553B",
           "#00cc96",
           "#ab63fa",
           "#FFA15A",
           "#19d3f3",
           "#FF6692",
           "#B6E880",
           "#FF97FF",
           "#FECB52"
          ],
          "font": {
           "color": "#2a3f5f"
          },
          "geo": {
           "bgcolor": "white",
           "lakecolor": "white",
           "landcolor": "#E5ECF6",
           "showlakes": true,
           "showland": true,
           "subunitcolor": "white"
          },
          "hoverlabel": {
           "align": "left"
          },
          "hovermode": "closest",
          "mapbox": {
           "style": "light"
          },
          "paper_bgcolor": "white",
          "plot_bgcolor": "#E5ECF6",
          "polar": {
           "angularaxis": {
            "gridcolor": "white",
            "linecolor": "white",
            "ticks": ""
           },
           "bgcolor": "#E5ECF6",
           "radialaxis": {
            "gridcolor": "white",
            "linecolor": "white",
            "ticks": ""
           }
          },
          "scene": {
           "xaxis": {
            "backgroundcolor": "#E5ECF6",
            "gridcolor": "white",
            "gridwidth": 2,
            "linecolor": "white",
            "showbackground": true,
            "ticks": "",
            "zerolinecolor": "white"
           },
           "yaxis": {
            "backgroundcolor": "#E5ECF6",
            "gridcolor": "white",
            "gridwidth": 2,
            "linecolor": "white",
            "showbackground": true,
            "ticks": "",
            "zerolinecolor": "white"
           },
           "zaxis": {
            "backgroundcolor": "#E5ECF6",
            "gridcolor": "white",
            "gridwidth": 2,
            "linecolor": "white",
            "showbackground": true,
            "ticks": "",
            "zerolinecolor": "white"
           }
          },
          "shapedefaults": {
           "line": {
            "color": "#2a3f5f"
           }
          },
          "ternary": {
           "aaxis": {
            "gridcolor": "white",
            "linecolor": "white",
            "ticks": ""
           },
           "baxis": {
            "gridcolor": "white",
            "linecolor": "white",
            "ticks": ""
           },
           "bgcolor": "#E5ECF6",
           "caxis": {
            "gridcolor": "white",
            "linecolor": "white",
            "ticks": ""
           }
          },
          "title": {
           "x": 0.05
          },
          "xaxis": {
           "automargin": true,
           "gridcolor": "white",
           "linecolor": "white",
           "ticks": "",
           "title": {
            "standoff": 15
           },
           "zerolinecolor": "white",
           "zerolinewidth": 2
          },
          "yaxis": {
           "automargin": true,
           "gridcolor": "white",
           "linecolor": "white",
           "ticks": "",
           "title": {
            "standoff": 15
           },
           "zerolinecolor": "white",
           "zerolinewidth": 2
          }
         }
        },
        "title": {
         "font": {
          "size": 25
         },
         "text": "Percentage of quotes per age interval and country for each gender",
         "x": 0.13,
         "xanchor": "left",
         "y": 0.995,
         "yanchor": "top"
        },
        "width": 1400,
        "xaxis": {
         "anchor": "y",
         "autorange": true,
         "domain": [
          0,
          0.49
         ],
         "range": [
          -0.5,
          9.5
         ],
         "showgrid": false,
         "title": {
          "text": "Age intervals"
         },
         "type": "category"
        },
        "xaxis2": {
         "anchor": "y2",
         "autorange": true,
         "domain": [
          0.51,
          1
         ],
         "matches": "x",
         "range": [
          -0.5,
          9.5
         ],
         "showgrid": false,
         "title": {
          "text": "Age intervals"
         },
         "type": "category"
        },
        "yaxis": {
         "anchor": "x",
         "autorange": true,
         "domain": [
          0,
          1
         ],
         "range": [
          0,
          39.661731776777756
         ],
         "showgrid": false,
         "title": {
          "font": {
           "size": 15
          },
          "text": "Percentage of quotes per country"
         },
         "type": "linear"
        },
        "yaxis2": {
         "anchor": "x2",
         "autorange": true,
         "domain": [
          0,
          1
         ],
         "matches": "y",
         "range": [
          0,
          39.661731776777756
         ],
         "showgrid": false,
         "showticklabels": false,
         "type": "linear"
        }
       }
      },
      "image/png": "[encoded data removed]",
      "text/html": [
       "<div>                            <div id=\"d429cc85-2372-4cb9-baa1-ce02578cc6fa\" class=\"plotly-graph-div\" style=\"height:450px; width:1400px;\"></div>            <script type=\"text/javascript\">                require([\"plotly\"], function(Plotly) {                    window.PLOTLYENV=window.PLOTLYENV || {};                                    if (document.getElementById(\"d429cc85-2372-4cb9-baa1-ce02578cc6fa\")) {                    Plotly.newPlot(                        \"d429cc85-2372-4cb9-baa1-ce02578cc6fa\",                        [{\"alignmentgroup\":\"True\",\"hovertemplate\":\"media_country=United Kingdom<br>gender=Female<br>str_age_range=%{x}<br>Proportion=%{y}<extra></extra>\",\"legendgroup\":\"United Kingdom\",\"marker\":{\"color\":\"#E5B25D\",\"pattern\":{\"shape\":\"\"}},\"name\":\"United Kingdom\",\"offsetgroup\":\"United Kingdom\",\"orientation\":\"v\",\"showlegend\":true,\"textposition\":\"auto\",\"x\":[\"(0, 10]\",\"(10, 20]\",\"(20, 30]\",\"(30, 40]\",\"(40, 50]\",\"(50, 60]\",\"(60, 70]\",\"(70, 80]\",\"(80, 90]\",\"(90, 100]\"],\"xaxis\":\"x\",\"y\":[0.05703572013664302,1.948619310838607,15.538289777864073,25.442481903294116,21.38111389547901,17.51360665983047,11.943825883295208,4.037704251588202,1.4811084346121874,0.6562141630614833],\"yaxis\":\"y\",\"type\":\"bar\"},{\"alignmentgroup\":\"True\",\"hovertemplate\":\"media_country=United Kingdom<br>gender=Male<br>str_age_range=%{x}<br>Proportion=%{y}<extra></extra>\",\"legendgroup\":\"United Kingdom\",\"marker\":{\"color\":\"#E5B25D\",\"pattern\":{\"shape\":\"\"}},\"name\":\"United Kingdom\",\"offsetgroup\":\"United Kingdom\",\"orientation\":\"v\",\"showlegend\":false,\"textposition\":\"auto\",\"x\":[\"(0, 10]\",\"(10, 20]\",\"(20, 30]\",\"(30, 40]\",\"(40, 50]\",\"(50, 60]\",\"(60, 70]\",\"(70, 80]\",\"(80, 90]\",\"(90, 100]\"],\"xaxis\":\"x2\",\"y\":[0.01492139822945333,1.5213215447991373,12.958101091528611,14.660179321208597,19.978524519257103,22.180658468082374,15.625537123116645,8.542500486362032,3.423610940595836,1.0946451068202123],\"yaxis\":\"y2\",\"type\":\"bar\"},{\"alignmentgroup\":\"True\",\"hovertemplate\":\"media_country=United States of America<br>gender=Female<br>str_age_range=%{x}<br>Proportion=%{y}<extra></extra>\",\"legendgroup\":\"United States of America\",\"marker\":{\"color\":\"#c13639\",\"pattern\":{\"shape\":\"\"}},\"name\":\"United States of America\",\"offsetgroup\":\"United States of America\",\"orientation\":\"v\",\"showlegend\":true,\"textposition\":\"auto\",\"x\":[\"(0, 10]\",\"(10, 20]\",\"(20, 30]\",\"(30, 40]\",\"(40, 50]\",\"(50, 60]\",\"(60, 70]\",\"(70, 80]\",\"(80, 90]\",\"(90, 100]\"],\"xaxis\":\"x\",\"y\":[0.03345545668338346,2.554422516178337,12.186707687867148,18.624127944162186,20.694758317124933,17.81339071053486,18.341658931458955,6.873259578264449,2.216456804741491,0.6617620529842595],\"yaxis\":\"y\",\"type\":\"bar\"},{\"alignmentgroup\":\"True\",\"hovertemplate\":\"media_country=United States of America<br>gender=Male<br>str_age_range=%{x}<br>Proportion=%{y}<extra></extra>\",\"legendgroup\":\"United States of America\",\"marker\":{\"color\":\"#c13639\",\"pattern\":{\"shape\":\"\"}},\"name\":\"United States of America\",\"offsetgroup\":\"United States of America\",\"orientation\":\"v\",\"showlegend\":false,\"textposition\":\"auto\",\"x\":[\"(0, 10]\",\"(10, 20]\",\"(20, 30]\",\"(30, 40]\",\"(40, 50]\",\"(50, 60]\",\"(60, 70]\",\"(70, 80]\",\"(80, 90]\",\"(90, 100]\"],\"xaxis\":\"x2\",\"y\":[0.0047607942043451585,1.4056955916034926,13.378054296796071,12.504256891960638,17.105298627926743,21.69986073749525,18.410164307991977,11.590221501824065,3.0039127545510103,0.8977744956464082],\"yaxis\":\"y2\",\"type\":\"bar\"},{\"alignmentgroup\":\"True\",\"hovertemplate\":\"media_country=South Africa<br>gender=Female<br>str_age_range=%{x}<br>Proportion=%{y}<extra></extra>\",\"legendgroup\":\"South Africa\",\"marker\":{\"color\":\"#029e73\",\"pattern\":{\"shape\":\"\"}},\"name\":\"South Africa\",\"offsetgroup\":\"South Africa\",\"orientation\":\"v\",\"showlegend\":true,\"textposition\":\"auto\",\"x\":[\"(0, 10]\",\"(10, 20]\",\"(20, 30]\",\"(30, 40]\",\"(40, 50]\",\"(50, 60]\",\"(60, 70]\",\"(70, 80]\",\"(80, 90]\",\"(90, 100]\"],\"xaxis\":\"x\",\"y\":[0.0,1.5035109458901281,1.8504750103263115,8.905410987195374,20.00826104915324,22.841800908715406,37.67864518793887,4.791408508880628,2.11482858323007,0.3056588186699711],\"yaxis\":\"y\",\"type\":\"bar\"},{\"alignmentgroup\":\"True\",\"hovertemplate\":\"media_country=South Africa<br>gender=Male<br>str_age_range=%{x}<br>Proportion=%{y}<extra></extra>\",\"legendgroup\":\"South Africa\",\"marker\":{\"color\":\"#029e73\",\"pattern\":{\"shape\":\"\"}},\"name\":\"South Africa\",\"offsetgroup\":\"South Africa\",\"orientation\":\"v\",\"showlegend\":false,\"textposition\":\"auto\",\"x\":[\"(0, 10]\",\"(10, 20]\",\"(20, 30]\",\"(30, 40]\",\"(40, 50]\",\"(50, 60]\",\"(60, 70]\",\"(70, 80]\",\"(80, 90]\",\"(90, 100]\"],\"xaxis\":\"x2\",\"y\":[0.0,1.0472719841972618,3.862134731966487,14.6362645596349,13.367618009672366,25.059600844629117,23.181322798174513,13.570260881411347,3.511341189292282,1.7641850010217286],\"yaxis\":\"y2\",\"type\":\"bar\"}],                        {\"template\":{\"data\":{\"bar\":[{\"error_x\":{\"color\":\"#2a3f5f\"},\"error_y\":{\"color\":\"#2a3f5f\"},\"marker\":{\"line\":{\"color\":\"#E5ECF6\",\"width\":0.5},\"pattern\":{\"fillmode\":\"overlay\",\"size\":10,\"solidity\":0.2}},\"type\":\"bar\"}],\"barpolar\":[{\"marker\":{\"line\":{\"color\":\"#E5ECF6\",\"width\":0.5},\"pattern\":{\"fillmode\":\"overlay\",\"size\":10,\"solidity\":0.2}},\"type\":\"barpolar\"}],\"carpet\":[{\"aaxis\":{\"endlinecolor\":\"#2a3f5f\",\"gridcolor\":\"white\",\"linecolor\":\"white\",\"minorgridcolor\":\"white\",\"startlinecolor\":\"#2a3f5f\"},\"baxis\":{\"endlinecolor\":\"#2a3f5f\",\"gridcolor\":\"white\",\"linecolor\":\"white\",\"minorgridcolor\":\"white\",\"startlinecolor\":\"#2a3f5f\"},\"type\":\"carpet\"}],\"choropleth\":[{\"colorbar\":{\"outlinewidth\":0,\"ticks\":\"\"},\"type\":\"choropleth\"}],\"contour\":[{\"colorbar\":{\"outlinewidth\":0,\"ticks\":\"\"},\"colorscale\":[[0.0,\"#0d0887\"],[0.1111111111111111,\"#46039f\"],[0.2222222222222222,\"#7201a8\"],[0.3333333333333333,\"#9c179e\"],[0.4444444444444444,\"#bd3786\"],[0.5555555555555556,\"#d8576b\"],[0.6666666666666666,\"#ed7953\"],[0.7777777777777778,\"#fb9f3a\"],[0.8888888888888888,\"#fdca26\"],[1.0,\"#f0f921\"]],\"type\":\"contour\"}],\"contourcarpet\":[{\"colorbar\":{\"outlinewidth\":0,\"ticks\":\"\"},\"type\":\"contourcarpet\"}],\"heatmap\":[{\"colorbar\":{\"outlinewidth\":0,\"ticks\":\"\"},\"colorscale\":[[0.0,\"#0d0887\"],[0.1111111111111111,\"#46039f\"],[0.2222222222222222,\"#7201a8\"],[0.3333333333333333,\"#9c179e\"],[0.4444444444444444,\"#bd3786\"],[0.5555555555555556,\"#d8576b\"],[0.6666666666666666,\"#ed7953\"],[0.7777777777777778,\"#fb9f3a\"],[0.8888888888888888,\"#fdca26\"],[1.0,\"#f0f921\"]],\"type\":\"heatmap\"}],\"heatmapgl\":[{\"colorbar\":{\"outlinewidth\":0,\"ticks\":\"\"},\"colorscale\":[[0.0,\"#0d0887\"],[0.1111111111111111,\"#46039f\"],[0.2222222222222222,\"#7201a8\"],[0.3333333333333333,\"#9c179e\"],[0.4444444444444444,\"#bd3786\"],[0.5555555555555556,\"#d8576b\"],[0.6666666666666666,\"#ed7953\"],[0.7777777777777778,\"#fb9f3a\"],[0.8888888888888888,\"#fdca26\"],[1.0,\"#f0f921\"]],\"type\":\"heatmapgl\"}],\"histogram\":[{\"marker\":{\"pattern\":{\"fillmode\":\"overlay\",\"size\":10,\"solidity\":0.2}},\"type\":\"histogram\"}],\"histogram2d\":[{\"colorbar\":{\"outlinewidth\":0,\"ticks\":\"\"},\"colorscale\":[[0.0,\"#0d0887\"],[0.1111111111111111,\"#46039f\"],[0.2222222222222222,\"#7201a8\"],[0.3333333333333333,\"#9c179e\"],[0.4444444444444444,\"#bd3786\"],[0.5555555555555556,\"#d8576b\"],[0.6666666666666666,\"#ed7953\"],[0.7777777777777778,\"#fb9f3a\"],[0.8888888888888888,\"#fdca26\"],[1.0,\"#f0f921\"]],\"type\":\"histogram2d\"}],\"histogram2dcontour\":[{\"colorbar\":{\"outlinewidth\":0,\"ticks\":\"\"},\"colorscale\":[[0.0,\"#0d0887\"],[0.1111111111111111,\"#46039f\"],[0.2222222222222222,\"#7201a8\"],[0.3333333333333333,\"#9c179e\"],[0.4444444444444444,\"#bd3786\"],[0.5555555555555556,\"#d8576b\"],[0.6666666666666666,\"#ed7953\"],[0.7777777777777778,\"#fb9f3a\"],[0.8888888888888888,\"#fdca26\"],[1.0,\"#f0f921\"]],\"type\":\"histogram2dcontour\"}],\"mesh3d\":[{\"colorbar\":{\"outlinewidth\":0,\"ticks\":\"\"},\"type\":\"mesh3d\"}],\"parcoords\":[{\"line\":{\"colorbar\":{\"outlinewidth\":0,\"ticks\":\"\"}},\"type\":\"parcoords\"}],\"pie\":[{\"automargin\":true,\"type\":\"pie\"}],\"scatter\":[{\"marker\":{\"colorbar\":{\"outlinewidth\":0,\"ticks\":\"\"}},\"type\":\"scatter\"}],\"scatter3d\":[{\"line\":{\"colorbar\":{\"outlinewidth\":0,\"ticks\":\"\"}},\"marker\":{\"colorbar\":{\"outlinewidth\":0,\"ticks\":\"\"}},\"type\":\"scatter3d\"}],\"scattercarpet\":[{\"marker\":{\"colorbar\":{\"outlinewidth\":0,\"ticks\":\"\"}},\"type\":\"scattercarpet\"}],\"scattergeo\":[{\"marker\":{\"colorbar\":{\"outlinewidth\":0,\"ticks\":\"\"}},\"type\":\"scattergeo\"}],\"scattergl\":[{\"marker\":{\"colorbar\":{\"outlinewidth\":0,\"ticks\":\"\"}},\"type\":\"scattergl\"}],\"scattermapbox\":[{\"marker\":{\"colorbar\":{\"outlinewidth\":0,\"ticks\":\"\"}},\"type\":\"scattermapbox\"}],\"scatterpolar\":[{\"marker\":{\"colorbar\":{\"outlinewidth\":0,\"ticks\":\"\"}},\"type\":\"scatterpolar\"}],\"scatterpolargl\":[{\"marker\":{\"colorbar\":{\"outlinewidth\":0,\"ticks\":\"\"}},\"type\":\"scatterpolargl\"}],\"scatterternary\":[{\"marker\":{\"colorbar\":{\"outlinewidth\":0,\"ticks\":\"\"}},\"type\":\"scatterternary\"}],\"surface\":[{\"colorbar\":{\"outlinewidth\":0,\"ticks\":\"\"},\"colorscale\":[[0.0,\"#0d0887\"],[0.1111111111111111,\"#46039f\"],[0.2222222222222222,\"#7201a8\"],[0.3333333333333333,\"#9c179e\"],[0.4444444444444444,\"#bd3786\"],[0.5555555555555556,\"#d8576b\"],[0.6666666666666666,\"#ed7953\"],[0.7777777777777778,\"#fb9f3a\"],[0.8888888888888888,\"#fdca26\"],[1.0,\"#f0f921\"]],\"type\":\"surface\"}],\"table\":[{\"cells\":{\"fill\":{\"color\":\"#EBF0F8\"},\"line\":{\"color\":\"white\"}},\"header\":{\"fill\":{\"color\":\"#C8D4E3\"},\"line\":{\"color\":\"white\"}},\"type\":\"table\"}]},\"layout\":{\"annotationdefaults\":{\"arrowcolor\":\"#2a3f5f\",\"arrowhead\":0,\"arrowwidth\":1},\"autotypenumbers\":\"strict\",\"coloraxis\":{\"colorbar\":{\"outlinewidth\":0,\"ticks\":\"\"}},\"colorscale\":{\"diverging\":[[0,\"#8e0152\"],[0.1,\"#c51b7d\"],[0.2,\"#de77ae\"],[0.3,\"#f1b6da\"],[0.4,\"#fde0ef\"],[0.5,\"#f7f7f7\"],[0.6,\"#e6f5d0\"],[0.7,\"#b8e186\"],[0.8,\"#7fbc41\"],[0.9,\"#4d9221\"],[1,\"#276419\"]],\"sequential\":[[0.0,\"#0d0887\"],[0.1111111111111111,\"#46039f\"],[0.2222222222222222,\"#7201a8\"],[0.3333333333333333,\"#9c179e\"],[0.4444444444444444,\"#bd3786\"],[0.5555555555555556,\"#d8576b\"],[0.6666666666666666,\"#ed7953\"],[0.7777777777777778,\"#fb9f3a\"],[0.8888888888888888,\"#fdca26\"],[1.0,\"#f0f921\"]],\"sequentialminus\":[[0.0,\"#0d0887\"],[0.1111111111111111,\"#46039f\"],[0.2222222222222222,\"#7201a8\"],[0.3333333333333333,\"#9c179e\"],[0.4444444444444444,\"#bd3786\"],[0.5555555555555556,\"#d8576b\"],[0.6666666666666666,\"#ed7953\"],[0.7777777777777778,\"#fb9f3a\"],[0.8888888888888888,\"#fdca26\"],[1.0,\"#f0f921\"]]},\"colorway\":[\"#636efa\",\"#EF553B\",\"#00cc96\",\"#ab63fa\",\"#FFA15A\",\"#19d3f3\",\"#FF6692\",\"#B6E880\",\"#FF97FF\",\"#FECB52\"],\"font\":{\"color\":\"#2a3f5f\"},\"geo\":{\"bgcolor\":\"white\",\"lakecolor\":\"white\",\"landcolor\":\"#E5ECF6\",\"showlakes\":true,\"showland\":true,\"subunitcolor\":\"white\"},\"hoverlabel\":{\"align\":\"left\"},\"hovermode\":\"closest\",\"mapbox\":{\"style\":\"light\"},\"paper_bgcolor\":\"white\",\"plot_bgcolor\":\"#E5ECF6\",\"polar\":{\"angularaxis\":{\"gridcolor\":\"white\",\"linecolor\":\"white\",\"ticks\":\"\"},\"bgcolor\":\"#E5ECF6\",\"radialaxis\":{\"gridcolor\":\"white\",\"linecolor\":\"white\",\"ticks\":\"\"}},\"scene\":{\"xaxis\":{\"backgroundcolor\":\"#E5ECF6\",\"gridcolor\":\"white\",\"gridwidth\":2,\"linecolor\":\"white\",\"showbackground\":true,\"ticks\":\"\",\"zerolinecolor\":\"white\"},\"yaxis\":{\"backgroundcolor\":\"#E5ECF6\",\"gridcolor\":\"white\",\"gridwidth\":2,\"linecolor\":\"white\",\"showbackground\":true,\"ticks\":\"\",\"zerolinecolor\":\"white\"},\"zaxis\":{\"backgroundcolor\":\"#E5ECF6\",\"gridcolor\":\"white\",\"gridwidth\":2,\"linecolor\":\"white\",\"showbackground\":true,\"ticks\":\"\",\"zerolinecolor\":\"white\"}},\"shapedefaults\":{\"line\":{\"color\":\"#2a3f5f\"}},\"ternary\":{\"aaxis\":{\"gridcolor\":\"white\",\"linecolor\":\"white\",\"ticks\":\"\"},\"baxis\":{\"gridcolor\":\"white\",\"linecolor\":\"white\",\"ticks\":\"\"},\"bgcolor\":\"#E5ECF6\",\"caxis\":{\"gridcolor\":\"white\",\"linecolor\":\"white\",\"ticks\":\"\"}},\"title\":{\"x\":0.05},\"xaxis\":{\"automargin\":true,\"gridcolor\":\"white\",\"linecolor\":\"white\",\"ticks\":\"\",\"title\":{\"standoff\":15},\"zerolinecolor\":\"white\",\"zerolinewidth\":2},\"yaxis\":{\"automargin\":true,\"gridcolor\":\"white\",\"linecolor\":\"white\",\"ticks\":\"\",\"title\":{\"standoff\":15},\"zerolinecolor\":\"white\",\"zerolinewidth\":2}}},\"xaxis\":{\"anchor\":\"y\",\"domain\":[0.0,0.49],\"title\":{\"text\":\"Age intervals\"},\"showgrid\":false},\"yaxis\":{\"anchor\":\"x\",\"domain\":[0.0,1.0],\"title\":{\"text\":\"Percentage of quotes per country\",\"font\":{\"size\":15}},\"showgrid\":false},\"xaxis2\":{\"anchor\":\"y2\",\"domain\":[0.51,1.0],\"matches\":\"x\",\"title\":{\"text\":\"Age intervals\"},\"showgrid\":false},\"yaxis2\":{\"anchor\":\"x2\",\"domain\":[0.0,1.0],\"matches\":\"y\",\"showticklabels\":false,\"showgrid\":false},\"annotations\":[{\"font\":{\"size\":20},\"showarrow\":false,\"text\":\"Female\",\"x\":0.245,\"xanchor\":\"center\",\"xref\":\"paper\",\"y\":1.0,\"yanchor\":\"bottom\",\"yref\":\"paper\"},{\"font\":{\"size\":20},\"showarrow\":false,\"text\":\"Male\",\"x\":0.755,\"xanchor\":\"center\",\"xref\":\"paper\",\"y\":1.0,\"yanchor\":\"bottom\",\"yref\":\"paper\"}],\"legend\":{\"title\":{\"text\":\"Countries of interest\"},\"tracegroupgap\":0,\"font\":{\"size\":13},\"orientation\":\"v\",\"yanchor\":\"bottom\",\"y\":0.8,\"xanchor\":\"left\",\"x\":1.05},\"margin\":{\"t\":60},\"barmode\":\"group\",\"height\":450,\"width\":1400,\"title\":{\"font\":{\"size\":25},\"text\":\"Percentage of quotes per age interval and country for each gender\",\"yanchor\":\"top\",\"y\":0.995,\"xanchor\":\"left\",\"x\":0.13}},                        {\"responsive\": true}                    ).then(function(){\n",
       "                            \n",
       "var gd = document.getElementById('d429cc85-2372-4cb9-baa1-ce02578cc6fa');\n",
       "var x = new MutationObserver(function (mutations, observer) {{\n",
       "        var display = window.getComputedStyle(gd).display;\n",
       "        if (!display || display === 'none') {{\n",
       "            console.log([gd, 'removed!']);\n",
       "            Plotly.purge(gd);\n",
       "            observer.disconnect();\n",
       "        }}\n",
       "}});\n",
       "\n",
       "// Listen for the removal of the full notebook cells\n",
       "var notebookContainer = gd.closest('#notebook-container');\n",
       "if (notebookContainer) {{\n",
       "    x.observe(notebookContainer, {childList: true});\n",
       "}}\n",
       "\n",
       "// Listen for the clearing of the current output cell\n",
       "var outputEl = gd.closest('.output');\n",
       "if (outputEl) {{\n",
       "    x.observe(outputEl, {childList: true});\n",
       "}}\n",
       "\n",
       "                        })                };                });            </script>        </div>"
      ]
     },
     "metadata": {},
     "output_type": "display_data"
    }
   ],
   "source": [
    "df_all_years_age_range = create_df_age_range(df_UK_USA_SA_all_years)\n",
    "\n",
    "#to enable x-axis as age_range in plotly, no intervals allowed, transform it to string\n",
    "df_all_years_age_range['str_age_range'] = df_all_years_age_range['age_range'].astype(str)\n",
    "\n",
    "fig = px.bar(df_all_years_age_range ,x='str_age_range',y='Proportion', color = 'media_country', barmode=\"group\",\n",
    "                 facet_col=\"gender\", labels={\"species\": \"countries of interest\"},\n",
    "                 category_orders={\"gender\":[\"Female\", \"Male\"], \n",
    "                                  \"media_country\": [\"United Kingdom\", \"United States of America\", \"South Africa\"]},\n",
    "                 color_discrete_sequence = palette_countries,\n",
    "                 width = 1400, height = 450)\n",
    "\n",
    "fig.update_xaxes(showgrid=False)\n",
    "fig.update_yaxes(showgrid=False)\n",
    "fig.for_each_annotation(lambda a: a.update(text=a.text.split(\"=\")[-1], font_size=20))\n",
    "fig.for_each_xaxis(lambda a: a.update(title= 'Age intervals'))\n",
    "fig.update_layout(title=dict(\n",
    "                            text=\"Percentage of quotes per age interval and country for each gender\",\n",
    "                            font_size=25,\n",
    "                            yanchor=\"top\",\n",
    "                            y=0.995,\n",
    "                            xanchor=\"left\",\n",
    "                            x=0.13),\n",
    "                  yaxis = dict(\n",
    "                            title='Percentage of quotes per country',\n",
    "                            titlefont_size=15),\n",
    "                  legend=dict(\n",
    "                            title=\"Countries of interest\",\n",
    "                            orientation=\"v\",\n",
    "                            yanchor=\"bottom\",\n",
    "                            y=0.8,\n",
    "                            xanchor=\"left\",\n",
    "                            x=1.05,\n",
    "                            font_size = 13))\n",
    "    \n",
    "fig.show()"
   ]
  },
  {
   "cell_type": "code",
   "execution_count": 23,
   "id": "3ce9e1f9-01a2-4668-82b3-bf8a5aac7e39",
   "metadata": {},
   "outputs": [],
   "source": [
    "pio.write_html(fig, file='images_website/Mean_percentage_Female_quotes_age.html', auto_open=False)"
   ]
  },
  {
   "cell_type": "markdown",
   "id": "d0107449-ca84-499e-a1c7-99ebbd100d0e",
   "metadata": {},
   "source": [
    "### 2 main conclusions from this plot:\n",
    "##### High peak at 60-70 years old for Females in South Africa\n",
    "##### Distribution is skewed to the left for female (towards younger age intervals) for UK whereas not for males, neither for american females.\n",
    "- Look into unique speakers to tryy to explain these anomalies"
   ]
  },
  {
   "cell_type": "markdown",
   "id": "0307a990-3556-4708-9f95-bbb635d339a6",
   "metadata": {},
   "source": [
    "# Dig into unique speakers\n",
    "- Show the top speaker per country, age range and gender\n",
    "- Show the top 3 speakers per country and gender"
   ]
  },
  {
   "cell_type": "code",
   "execution_count": 24,
   "id": "44878657-4d21-44f3-a112-dbeca6f0d2e5",
   "metadata": {},
   "outputs": [
    {
     "data": {
      "text/html": [
       "<div>\n",
       "<style scoped>\n",
       "    .dataframe tbody tr th:only-of-type {\n",
       "        vertical-align: middle;\n",
       "    }\n",
       "\n",
       "    .dataframe tbody tr th {\n",
       "        vertical-align: top;\n",
       "    }\n",
       "\n",
       "    .dataframe thead th {\n",
       "        text-align: right;\n",
       "    }\n",
       "</style>\n",
       "<table border=\"1\" class=\"dataframe\">\n",
       "  <thead>\n",
       "    <tr style=\"text-align: right;\">\n",
       "      <th></th>\n",
       "      <th>speaker</th>\n",
       "      <th>media_country</th>\n",
       "      <th>gender</th>\n",
       "      <th>age_range</th>\n",
       "      <th>Count</th>\n",
       "    </tr>\n",
       "  </thead>\n",
       "  <tbody>\n",
       "    <tr>\n",
       "      <th>18</th>\n",
       "      <td>Bana Alabed</td>\n",
       "      <td>United States of America</td>\n",
       "      <td>Female</td>\n",
       "      <td>(0, 10]</td>\n",
       "      <td>115</td>\n",
       "    </tr>\n",
       "    <tr>\n",
       "      <th>39</th>\n",
       "      <td>Princess Charlotte</td>\n",
       "      <td>United Kingdom</td>\n",
       "      <td>Female</td>\n",
       "      <td>(0, 10]</td>\n",
       "      <td>50</td>\n",
       "    </tr>\n",
       "    <tr>\n",
       "      <th>38</th>\n",
       "      <td>Prince George</td>\n",
       "      <td>United Kingdom</td>\n",
       "      <td>Male</td>\n",
       "      <td>(0, 10]</td>\n",
       "      <td>52</td>\n",
       "    </tr>\n",
       "    <tr>\n",
       "      <th>19</th>\n",
       "      <td>Prince George</td>\n",
       "      <td>United States of America</td>\n",
       "      <td>Male</td>\n",
       "      <td>(0, 10]</td>\n",
       "      <td>82</td>\n",
       "    </tr>\n",
       "    <tr>\n",
       "      <th>55</th>\n",
       "      <td>Greta Thunberg</td>\n",
       "      <td>South Africa</td>\n",
       "      <td>Female</td>\n",
       "      <td>(10, 20]</td>\n",
       "      <td>56</td>\n",
       "    </tr>\n",
       "    <tr>\n",
       "      <th>50</th>\n",
       "      <td>Ronald Lamola</td>\n",
       "      <td>South Africa</td>\n",
       "      <td>Male</td>\n",
       "      <td>(10, 20]</td>\n",
       "      <td>197</td>\n",
       "    </tr>\n",
       "    <tr>\n",
       "      <th>15</th>\n",
       "      <td>Greta Thunberg</td>\n",
       "      <td>United States of America</td>\n",
       "      <td>Female</td>\n",
       "      <td>(10, 20]</td>\n",
       "      <td>1693</td>\n",
       "    </tr>\n",
       "    <tr>\n",
       "      <th>34</th>\n",
       "      <td>Kylie Jenner</td>\n",
       "      <td>United Kingdom</td>\n",
       "      <td>Female</td>\n",
       "      <td>(10, 20]</td>\n",
       "      <td>791</td>\n",
       "    </tr>\n",
       "    <tr>\n",
       "      <th>14</th>\n",
       "      <td>David Brown</td>\n",
       "      <td>United States of America</td>\n",
       "      <td>Male</td>\n",
       "      <td>(10, 20]</td>\n",
       "      <td>1693</td>\n",
       "    </tr>\n",
       "    <tr>\n",
       "      <th>31</th>\n",
       "      <td>Brendan Rodgers</td>\n",
       "      <td>United Kingdom</td>\n",
       "      <td>Male</td>\n",
       "      <td>(10, 20]</td>\n",
       "      <td>1344</td>\n",
       "    </tr>\n",
       "    <tr>\n",
       "      <th>30</th>\n",
       "      <td>Andy Murray</td>\n",
       "      <td>United Kingdom</td>\n",
       "      <td>Male</td>\n",
       "      <td>(20, 30]</td>\n",
       "      <td>1892</td>\n",
       "    </tr>\n",
       "    <tr>\n",
       "      <th>10</th>\n",
       "      <td>Draymond Green</td>\n",
       "      <td>United States of America</td>\n",
       "      <td>Male</td>\n",
       "      <td>(20, 30]</td>\n",
       "      <td>7960</td>\n",
       "    </tr>\n",
       "    <tr>\n",
       "      <th>32</th>\n",
       "      <td>Taylor Swift</td>\n",
       "      <td>United Kingdom</td>\n",
       "      <td>Female</td>\n",
       "      <td>(20, 30]</td>\n",
       "      <td>1068</td>\n",
       "    </tr>\n",
       "    <tr>\n",
       "      <th>48</th>\n",
       "      <td>JP Smith</td>\n",
       "      <td>South Africa</td>\n",
       "      <td>Male</td>\n",
       "      <td>(20, 30]</td>\n",
       "      <td>337</td>\n",
       "    </tr>\n",
       "    <tr>\n",
       "      <th>56</th>\n",
       "      <td>Mbali Ntuli</td>\n",
       "      <td>South Africa</td>\n",
       "      <td>Female</td>\n",
       "      <td>(20, 30]</td>\n",
       "      <td>14</td>\n",
       "    </tr>\n",
       "    <tr>\n",
       "      <th>12</th>\n",
       "      <td>Alexandria Ocasio-Cortez</td>\n",
       "      <td>United States of America</td>\n",
       "      <td>Female</td>\n",
       "      <td>(20, 30]</td>\n",
       "      <td>6515</td>\n",
       "    </tr>\n",
       "    <tr>\n",
       "      <th>41</th>\n",
       "      <td>Mmusi Maimane</td>\n",
       "      <td>South Africa</td>\n",
       "      <td>Male</td>\n",
       "      <td>(30, 40]</td>\n",
       "      <td>1657</td>\n",
       "    </tr>\n",
       "    <tr>\n",
       "      <th>52</th>\n",
       "      <td>Natasha Mazzone</td>\n",
       "      <td>South Africa</td>\n",
       "      <td>Female</td>\n",
       "      <td>(30, 40]</td>\n",
       "      <td>160</td>\n",
       "    </tr>\n",
       "    <tr>\n",
       "      <th>25</th>\n",
       "      <td>Katie Price</td>\n",
       "      <td>United Kingdom</td>\n",
       "      <td>Female</td>\n",
       "      <td>(30, 40]</td>\n",
       "      <td>4204</td>\n",
       "    </tr>\n",
       "    <tr>\n",
       "      <th>29</th>\n",
       "      <td>Prince Harry</td>\n",
       "      <td>United Kingdom</td>\n",
       "      <td>Male</td>\n",
       "      <td>(30, 40]</td>\n",
       "      <td>2632</td>\n",
       "    </tr>\n",
       "    <tr>\n",
       "      <th>6</th>\n",
       "      <td>Sarah Huckabee Sanders</td>\n",
       "      <td>United States of America</td>\n",
       "      <td>Female</td>\n",
       "      <td>(30, 40]</td>\n",
       "      <td>17931</td>\n",
       "    </tr>\n",
       "    <tr>\n",
       "      <th>8</th>\n",
       "      <td>Mark Zuckerberg</td>\n",
       "      <td>United States of America</td>\n",
       "      <td>Male</td>\n",
       "      <td>(30, 40]</td>\n",
       "      <td>12815</td>\n",
       "    </tr>\n",
       "    <tr>\n",
       "      <th>44</th>\n",
       "      <td>Fikile Mbalula</td>\n",
       "      <td>South Africa</td>\n",
       "      <td>Male</td>\n",
       "      <td>(40, 50]</td>\n",
       "      <td>669</td>\n",
       "    </tr>\n",
       "    <tr>\n",
       "      <th>24</th>\n",
       "      <td>Mauricio Pochettino</td>\n",
       "      <td>United Kingdom</td>\n",
       "      <td>Male</td>\n",
       "      <td>(40, 50]</td>\n",
       "      <td>4764</td>\n",
       "    </tr>\n",
       "    <tr>\n",
       "      <th>7</th>\n",
       "      <td>Nikki Haley</td>\n",
       "      <td>United States of America</td>\n",
       "      <td>Female</td>\n",
       "      <td>(40, 50]</td>\n",
       "      <td>13976</td>\n",
       "    </tr>\n",
       "    <tr>\n",
       "      <th>28</th>\n",
       "      <td>Nicola Sturgeon</td>\n",
       "      <td>United Kingdom</td>\n",
       "      <td>Female</td>\n",
       "      <td>(40, 50]</td>\n",
       "      <td>3137</td>\n",
       "    </tr>\n",
       "    <tr>\n",
       "      <th>47</th>\n",
       "      <td>Busisiwe Mkhwebane</td>\n",
       "      <td>South Africa</td>\n",
       "      <td>Female</td>\n",
       "      <td>(40, 50]</td>\n",
       "      <td>398</td>\n",
       "    </tr>\n",
       "    <tr>\n",
       "      <th>5</th>\n",
       "      <td>Paul Ryan</td>\n",
       "      <td>United States of America</td>\n",
       "      <td>Male</td>\n",
       "      <td>(40, 50]</td>\n",
       "      <td>23165</td>\n",
       "    </tr>\n",
       "    <tr>\n",
       "      <th>21</th>\n",
       "      <td>Boris Johnson</td>\n",
       "      <td>United Kingdom</td>\n",
       "      <td>Male</td>\n",
       "      <td>(50, 60]</td>\n",
       "      <td>9396</td>\n",
       "    </tr>\n",
       "    <tr>\n",
       "      <th>45</th>\n",
       "      <td>Herman Mashaba</td>\n",
       "      <td>South Africa</td>\n",
       "      <td>Male</td>\n",
       "      <td>(50, 60]</td>\n",
       "      <td>627</td>\n",
       "    </tr>\n",
       "    <tr>\n",
       "      <th>51</th>\n",
       "      <td>Nomvula Mokonyane</td>\n",
       "      <td>South Africa</td>\n",
       "      <td>Female</td>\n",
       "      <td>(50, 60]</td>\n",
       "      <td>185</td>\n",
       "    </tr>\n",
       "    <tr>\n",
       "      <th>13</th>\n",
       "      <td>Michelle Obama</td>\n",
       "      <td>United States of America</td>\n",
       "      <td>Female</td>\n",
       "      <td>(50, 60]</td>\n",
       "      <td>4789</td>\n",
       "    </tr>\n",
       "    <tr>\n",
       "      <th>27</th>\n",
       "      <td>Theresa May</td>\n",
       "      <td>United Kingdom</td>\n",
       "      <td>Female</td>\n",
       "      <td>(50, 60]</td>\n",
       "      <td>3534</td>\n",
       "    </tr>\n",
       "    <tr>\n",
       "      <th>3</th>\n",
       "      <td>President Barack Obama</td>\n",
       "      <td>United States of America</td>\n",
       "      <td>Male</td>\n",
       "      <td>(50, 60]</td>\n",
       "      <td>39016</td>\n",
       "    </tr>\n",
       "    <tr>\n",
       "      <th>43</th>\n",
       "      <td>Bheki Cele</td>\n",
       "      <td>South Africa</td>\n",
       "      <td>Male</td>\n",
       "      <td>(60, 70]</td>\n",
       "      <td>672</td>\n",
       "    </tr>\n",
       "    <tr>\n",
       "      <th>2</th>\n",
       "      <td>Hillary Clinton</td>\n",
       "      <td>United States of America</td>\n",
       "      <td>Female</td>\n",
       "      <td>(60, 70]</td>\n",
       "      <td>39966</td>\n",
       "    </tr>\n",
       "    <tr>\n",
       "      <th>1</th>\n",
       "      <td>Donald Trump</td>\n",
       "      <td>United States of America</td>\n",
       "      <td>Male</td>\n",
       "      <td>(60, 70]</td>\n",
       "      <td>85914</td>\n",
       "    </tr>\n",
       "    <tr>\n",
       "      <th>20</th>\n",
       "      <td>Jeremy Corbyn</td>\n",
       "      <td>United Kingdom</td>\n",
       "      <td>Male</td>\n",
       "      <td>(60, 70]</td>\n",
       "      <td>12487</td>\n",
       "    </tr>\n",
       "    <tr>\n",
       "      <th>23</th>\n",
       "      <td>Theresa May</td>\n",
       "      <td>United Kingdom</td>\n",
       "      <td>Female</td>\n",
       "      <td>(60, 70]</td>\n",
       "      <td>5901</td>\n",
       "    </tr>\n",
       "    <tr>\n",
       "      <th>42</th>\n",
       "      <td>Patricia de Lille</td>\n",
       "      <td>South Africa</td>\n",
       "      <td>Female</td>\n",
       "      <td>(60, 70]</td>\n",
       "      <td>678</td>\n",
       "    </tr>\n",
       "    <tr>\n",
       "      <th>4</th>\n",
       "      <td>Nancy Pelosi</td>\n",
       "      <td>United States of America</td>\n",
       "      <td>Female</td>\n",
       "      <td>(70, 80]</td>\n",
       "      <td>27515</td>\n",
       "    </tr>\n",
       "    <tr>\n",
       "      <th>53</th>\n",
       "      <td>Nancy Pelosi</td>\n",
       "      <td>South Africa</td>\n",
       "      <td>Female</td>\n",
       "      <td>(70, 80]</td>\n",
       "      <td>144</td>\n",
       "    </tr>\n",
       "    <tr>\n",
       "      <th>22</th>\n",
       "      <td>President Donald Trump</td>\n",
       "      <td>United Kingdom</td>\n",
       "      <td>Male</td>\n",
       "      <td>(70, 80]</td>\n",
       "      <td>8976</td>\n",
       "    </tr>\n",
       "    <tr>\n",
       "      <th>40</th>\n",
       "      <td>President Donald Trump</td>\n",
       "      <td>South Africa</td>\n",
       "      <td>Male</td>\n",
       "      <td>(70, 80]</td>\n",
       "      <td>2351</td>\n",
       "    </tr>\n",
       "    <tr>\n",
       "      <th>35</th>\n",
       "      <td>Nancy Pelosi</td>\n",
       "      <td>United Kingdom</td>\n",
       "      <td>Female</td>\n",
       "      <td>(70, 80]</td>\n",
       "      <td>666</td>\n",
       "    </tr>\n",
       "    <tr>\n",
       "      <th>0</th>\n",
       "      <td>President Donald Trump</td>\n",
       "      <td>United States of America</td>\n",
       "      <td>Male</td>\n",
       "      <td>(70, 80]</td>\n",
       "      <td>215570</td>\n",
       "    </tr>\n",
       "    <tr>\n",
       "      <th>36</th>\n",
       "      <td>Mary Berry</td>\n",
       "      <td>United Kingdom</td>\n",
       "      <td>Female</td>\n",
       "      <td>(80, 90]</td>\n",
       "      <td>294</td>\n",
       "    </tr>\n",
       "    <tr>\n",
       "      <th>49</th>\n",
       "      <td>Pope Francis</td>\n",
       "      <td>South Africa</td>\n",
       "      <td>Male</td>\n",
       "      <td>(80, 90]</td>\n",
       "      <td>242</td>\n",
       "    </tr>\n",
       "    <tr>\n",
       "      <th>9</th>\n",
       "      <td>Pope Francis</td>\n",
       "      <td>United States of America</td>\n",
       "      <td>Male</td>\n",
       "      <td>(80, 90]</td>\n",
       "      <td>11135</td>\n",
       "    </tr>\n",
       "    <tr>\n",
       "      <th>11</th>\n",
       "      <td>Dianne Feinstein</td>\n",
       "      <td>United States of America</td>\n",
       "      <td>Female</td>\n",
       "      <td>(80, 90]</td>\n",
       "      <td>7178</td>\n",
       "    </tr>\n",
       "    <tr>\n",
       "      <th>54</th>\n",
       "      <td>Winnie Madikizela-Mandela</td>\n",
       "      <td>South Africa</td>\n",
       "      <td>Female</td>\n",
       "      <td>(80, 90]</td>\n",
       "      <td>100</td>\n",
       "    </tr>\n",
       "    <tr>\n",
       "      <th>26</th>\n",
       "      <td>David Cameron</td>\n",
       "      <td>United Kingdom</td>\n",
       "      <td>Male</td>\n",
       "      <td>(80, 90]</td>\n",
       "      <td>3943</td>\n",
       "    </tr>\n",
       "    <tr>\n",
       "      <th>46</th>\n",
       "      <td>Robert Mugabe</td>\n",
       "      <td>South Africa</td>\n",
       "      <td>Male</td>\n",
       "      <td>(90, 100]</td>\n",
       "      <td>451</td>\n",
       "    </tr>\n",
       "    <tr>\n",
       "      <th>33</th>\n",
       "      <td>David Attenborough</td>\n",
       "      <td>United Kingdom</td>\n",
       "      <td>Male</td>\n",
       "      <td>(90, 100]</td>\n",
       "      <td>812</td>\n",
       "    </tr>\n",
       "    <tr>\n",
       "      <th>16</th>\n",
       "      <td>Gordon Hayward</td>\n",
       "      <td>United States of America</td>\n",
       "      <td>Male</td>\n",
       "      <td>(90, 100]</td>\n",
       "      <td>1445</td>\n",
       "    </tr>\n",
       "    <tr>\n",
       "      <th>17</th>\n",
       "      <td>Queen Elizabeth II</td>\n",
       "      <td>United States of America</td>\n",
       "      <td>Female</td>\n",
       "      <td>(90, 100]</td>\n",
       "      <td>478</td>\n",
       "    </tr>\n",
       "    <tr>\n",
       "      <th>57</th>\n",
       "      <td>Queen Elizabeth II</td>\n",
       "      <td>South Africa</td>\n",
       "      <td>Female</td>\n",
       "      <td>(90, 100]</td>\n",
       "      <td>7</td>\n",
       "    </tr>\n",
       "    <tr>\n",
       "      <th>37</th>\n",
       "      <td>Queen Elizabeth II</td>\n",
       "      <td>United Kingdom</td>\n",
       "      <td>Female</td>\n",
       "      <td>(90, 100]</td>\n",
       "      <td>217</td>\n",
       "    </tr>\n",
       "  </tbody>\n",
       "</table>\n",
       "</div>"
      ],
      "text/plain": [
       "                      speaker             media_country  gender  age_range  \\\n",
       "18                Bana Alabed  United States of America  Female    (0, 10]   \n",
       "39         Princess Charlotte            United Kingdom  Female    (0, 10]   \n",
       "38              Prince George            United Kingdom    Male    (0, 10]   \n",
       "19              Prince George  United States of America    Male    (0, 10]   \n",
       "55             Greta Thunberg              South Africa  Female   (10, 20]   \n",
       "50              Ronald Lamola              South Africa    Male   (10, 20]   \n",
       "15             Greta Thunberg  United States of America  Female   (10, 20]   \n",
       "34               Kylie Jenner            United Kingdom  Female   (10, 20]   \n",
       "14                David Brown  United States of America    Male   (10, 20]   \n",
       "31            Brendan Rodgers            United Kingdom    Male   (10, 20]   \n",
       "30                Andy Murray            United Kingdom    Male   (20, 30]   \n",
       "10             Draymond Green  United States of America    Male   (20, 30]   \n",
       "32               Taylor Swift            United Kingdom  Female   (20, 30]   \n",
       "48                   JP Smith              South Africa    Male   (20, 30]   \n",
       "56                Mbali Ntuli              South Africa  Female   (20, 30]   \n",
       "12   Alexandria Ocasio-Cortez  United States of America  Female   (20, 30]   \n",
       "41              Mmusi Maimane              South Africa    Male   (30, 40]   \n",
       "52            Natasha Mazzone              South Africa  Female   (30, 40]   \n",
       "25                Katie Price            United Kingdom  Female   (30, 40]   \n",
       "29               Prince Harry            United Kingdom    Male   (30, 40]   \n",
       "6      Sarah Huckabee Sanders  United States of America  Female   (30, 40]   \n",
       "8             Mark Zuckerberg  United States of America    Male   (30, 40]   \n",
       "44             Fikile Mbalula              South Africa    Male   (40, 50]   \n",
       "24        Mauricio Pochettino            United Kingdom    Male   (40, 50]   \n",
       "7                 Nikki Haley  United States of America  Female   (40, 50]   \n",
       "28            Nicola Sturgeon            United Kingdom  Female   (40, 50]   \n",
       "47         Busisiwe Mkhwebane              South Africa  Female   (40, 50]   \n",
       "5                   Paul Ryan  United States of America    Male   (40, 50]   \n",
       "21              Boris Johnson            United Kingdom    Male   (50, 60]   \n",
       "45             Herman Mashaba              South Africa    Male   (50, 60]   \n",
       "51          Nomvula Mokonyane              South Africa  Female   (50, 60]   \n",
       "13             Michelle Obama  United States of America  Female   (50, 60]   \n",
       "27                Theresa May            United Kingdom  Female   (50, 60]   \n",
       "3      President Barack Obama  United States of America    Male   (50, 60]   \n",
       "43                 Bheki Cele              South Africa    Male   (60, 70]   \n",
       "2             Hillary Clinton  United States of America  Female   (60, 70]   \n",
       "1                Donald Trump  United States of America    Male   (60, 70]   \n",
       "20              Jeremy Corbyn            United Kingdom    Male   (60, 70]   \n",
       "23                Theresa May            United Kingdom  Female   (60, 70]   \n",
       "42          Patricia de Lille              South Africa  Female   (60, 70]   \n",
       "4                Nancy Pelosi  United States of America  Female   (70, 80]   \n",
       "53               Nancy Pelosi              South Africa  Female   (70, 80]   \n",
       "22     President Donald Trump            United Kingdom    Male   (70, 80]   \n",
       "40     President Donald Trump              South Africa    Male   (70, 80]   \n",
       "35               Nancy Pelosi            United Kingdom  Female   (70, 80]   \n",
       "0      President Donald Trump  United States of America    Male   (70, 80]   \n",
       "36                 Mary Berry            United Kingdom  Female   (80, 90]   \n",
       "49               Pope Francis              South Africa    Male   (80, 90]   \n",
       "9                Pope Francis  United States of America    Male   (80, 90]   \n",
       "11           Dianne Feinstein  United States of America  Female   (80, 90]   \n",
       "54  Winnie Madikizela-Mandela              South Africa  Female   (80, 90]   \n",
       "26              David Cameron            United Kingdom    Male   (80, 90]   \n",
       "46              Robert Mugabe              South Africa    Male  (90, 100]   \n",
       "33         David Attenborough            United Kingdom    Male  (90, 100]   \n",
       "16             Gordon Hayward  United States of America    Male  (90, 100]   \n",
       "17         Queen Elizabeth II  United States of America  Female  (90, 100]   \n",
       "57         Queen Elizabeth II              South Africa  Female  (90, 100]   \n",
       "37         Queen Elizabeth II            United Kingdom  Female  (90, 100]   \n",
       "\n",
       "     Count  \n",
       "18     115  \n",
       "39      50  \n",
       "38      52  \n",
       "19      82  \n",
       "55      56  \n",
       "50     197  \n",
       "15    1693  \n",
       "34     791  \n",
       "14    1693  \n",
       "31    1344  \n",
       "30    1892  \n",
       "10    7960  \n",
       "32    1068  \n",
       "48     337  \n",
       "56      14  \n",
       "12    6515  \n",
       "41    1657  \n",
       "52     160  \n",
       "25    4204  \n",
       "29    2632  \n",
       "6    17931  \n",
       "8    12815  \n",
       "44     669  \n",
       "24    4764  \n",
       "7    13976  \n",
       "28    3137  \n",
       "47     398  \n",
       "5    23165  \n",
       "21    9396  \n",
       "45     627  \n",
       "51     185  \n",
       "13    4789  \n",
       "27    3534  \n",
       "3    39016  \n",
       "43     672  \n",
       "2    39966  \n",
       "1    85914  \n",
       "20   12487  \n",
       "23    5901  \n",
       "42     678  \n",
       "4    27515  \n",
       "53     144  \n",
       "22    8976  \n",
       "40    2351  \n",
       "35     666  \n",
       "0   215570  \n",
       "36     294  \n",
       "49     242  \n",
       "9    11135  \n",
       "11    7178  \n",
       "54     100  \n",
       "26    3943  \n",
       "46     451  \n",
       "33     812  \n",
       "16    1445  \n",
       "17     478  \n",
       "57       7  \n",
       "37     217  "
      ]
     },
     "execution_count": 24,
     "metadata": {},
     "output_type": "execute_result"
    }
   ],
   "source": [
    "# Top speaker \n",
    "\n",
    "df_speaker = df_UK_USA_SA_all_years.groupby([\"speaker\", \"media_country\", \"gender\", \"age_range\"]).quoteID.count().to_frame().reset_index().sort_values([\"media_country\",\"quoteID\"],ascending=False).rename({\"quoteID\":\"Count\"},axis=1)\n",
    "df_top_speaker = df_speaker.groupby([\"media_country\", \"gender\", \"age_range\"]).head(1).reset_index(drop=True)\n",
    "df_top_speaker = df_top_speaker.sort_values(['age_range']).drop(df_top_speaker[df_top_speaker['Count']==0].index)\n",
    "df_top_speaker.head(2)"
   ]
  },
  {
   "cell_type": "markdown",
   "id": "a552687c-2c9c-41b9-9529-1209680976c4",
   "metadata": {},
   "source": [
    "### Do all countries of interest quote about the same amount of female unique speakers relatively to the total of female quotes in that country ?"
   ]
  },
  {
   "cell_type": "code",
   "execution_count": 25,
   "id": "47375eb2-9e33-42bd-8b68-84296aae7b4c",
   "metadata": {
    "tags": []
   },
   "outputs": [
    {
     "name": "stdout",
     "output_type": "stream",
     "text": [
      "UK: 6.27 %, USA: 2.71 %, SA: 12.72 %\n"
     ]
    }
   ],
   "source": [
    "UK_only = df_speaker[(df_speaker['media_country'] == 'United Kingdom') & (df_speaker['gender'] == 'Female') & (df_speaker['Count'] != 0)].drop_duplicates('speaker')\n",
    "USA_only = df_speaker[(df_speaker['media_country'] == 'United States of America') & (df_speaker['gender'] == 'Female') & (df_speaker['Count'] != 0)].drop_duplicates('speaker')\n",
    "SA_only = df_speaker[(df_speaker['media_country'] == 'South Africa') & (df_speaker['gender'] == 'Female') & (df_speaker['Count'] != 0)].drop_duplicates('speaker')\n",
    "print('UK:', round(len(UK_only)/UK_only['Count'].sum()*100, 2),\n",
    "      '%, USA:', round(len(USA_only)/USA_only['Count'].sum()*100, 2),\n",
    "      '%, SA:', round(len(SA_only)/SA_only['Count'].sum()*100,2),'%')"
   ]
  },
  {
   "cell_type": "markdown",
   "id": "c37ab802-cafb-4d7e-9888-f61ac469224d",
   "metadata": {},
   "source": [
    "**Discussion**\n",
    "- No, they don't, South Africa tends to have about two times more female unique speakers than United Kingdom, which again seems to have almost 3 times more female unique speakers than USA\n",
    "- This is however in contradiction with the huge peak for South Africa in the plot for the 'age intevrals', as we would have expected one female in that interval to be very often quoted\n",
    "- USA has the lower percentage and seems to quote some females only and not a diverse speacrtrum. \n",
    "- Since we only looked at an average percentage, this does not say anything about the age of the quoted females, South Africa has simply quoted many different females of the age interval (60-70)."
   ]
  },
  {
   "cell_type": "markdown",
   "id": "e14f2995-cc67-445f-9e39-58ab4e0b2914",
   "metadata": {},
   "source": [
    "### Look at the Top 3 now: per gender and country of media "
   ]
  },
  {
   "cell_type": "code",
   "execution_count": 26,
   "id": "4a453982-699b-4983-91ad-b2949a6e5fb7",
   "metadata": {},
   "outputs": [
    {
     "data": {
      "text/html": [
       "<div>\n",
       "<style scoped>\n",
       "    .dataframe tbody tr th:only-of-type {\n",
       "        vertical-align: middle;\n",
       "    }\n",
       "\n",
       "    .dataframe tbody tr th {\n",
       "        vertical-align: top;\n",
       "    }\n",
       "\n",
       "    .dataframe thead th {\n",
       "        text-align: right;\n",
       "    }\n",
       "</style>\n",
       "<table border=\"1\" class=\"dataframe\">\n",
       "  <thead>\n",
       "    <tr style=\"text-align: right;\">\n",
       "      <th></th>\n",
       "      <th>speaker</th>\n",
       "      <th>media_country</th>\n",
       "      <th>gender</th>\n",
       "      <th>age_range</th>\n",
       "      <th>Count</th>\n",
       "    </tr>\n",
       "  </thead>\n",
       "  <tbody>\n",
       "    <tr>\n",
       "      <th>0</th>\n",
       "      <td>President Donald Trump</td>\n",
       "      <td>United States of America</td>\n",
       "      <td>Male</td>\n",
       "      <td>(70, 80]</td>\n",
       "      <td>215570</td>\n",
       "    </tr>\n",
       "    <tr>\n",
       "      <th>1</th>\n",
       "      <td>Donald Trump</td>\n",
       "      <td>United States of America</td>\n",
       "      <td>Male</td>\n",
       "      <td>(60, 70]</td>\n",
       "      <td>85914</td>\n",
       "    </tr>\n",
       "    <tr>\n",
       "      <th>2</th>\n",
       "      <td>President Trump</td>\n",
       "      <td>United States of America</td>\n",
       "      <td>Male</td>\n",
       "      <td>(70, 80]</td>\n",
       "      <td>54440</td>\n",
       "    </tr>\n",
       "    <tr>\n",
       "      <th>3</th>\n",
       "      <td>Hillary Clinton</td>\n",
       "      <td>United States of America</td>\n",
       "      <td>Female</td>\n",
       "      <td>(60, 70]</td>\n",
       "      <td>39966</td>\n",
       "    </tr>\n",
       "    <tr>\n",
       "      <th>4</th>\n",
       "      <td>Nancy Pelosi</td>\n",
       "      <td>United States of America</td>\n",
       "      <td>Female</td>\n",
       "      <td>(70, 80]</td>\n",
       "      <td>27515</td>\n",
       "    </tr>\n",
       "    <tr>\n",
       "      <th>5</th>\n",
       "      <td>Sarah Huckabee Sanders</td>\n",
       "      <td>United States of America</td>\n",
       "      <td>Female</td>\n",
       "      <td>(30, 40]</td>\n",
       "      <td>17931</td>\n",
       "    </tr>\n",
       "    <tr>\n",
       "      <th>6</th>\n",
       "      <td>Jeremy Corbyn</td>\n",
       "      <td>United Kingdom</td>\n",
       "      <td>Male</td>\n",
       "      <td>(60, 70]</td>\n",
       "      <td>12487</td>\n",
       "    </tr>\n",
       "    <tr>\n",
       "      <th>7</th>\n",
       "      <td>Boris Johnson</td>\n",
       "      <td>United Kingdom</td>\n",
       "      <td>Male</td>\n",
       "      <td>(50, 60]</td>\n",
       "      <td>9396</td>\n",
       "    </tr>\n",
       "    <tr>\n",
       "      <th>8</th>\n",
       "      <td>President Donald Trump</td>\n",
       "      <td>United Kingdom</td>\n",
       "      <td>Male</td>\n",
       "      <td>(70, 80]</td>\n",
       "      <td>8976</td>\n",
       "    </tr>\n",
       "    <tr>\n",
       "      <th>9</th>\n",
       "      <td>Theresa May</td>\n",
       "      <td>United Kingdom</td>\n",
       "      <td>Female</td>\n",
       "      <td>(60, 70]</td>\n",
       "      <td>5901</td>\n",
       "    </tr>\n",
       "    <tr>\n",
       "      <th>10</th>\n",
       "      <td>Katie Price</td>\n",
       "      <td>United Kingdom</td>\n",
       "      <td>Female</td>\n",
       "      <td>(30, 40]</td>\n",
       "      <td>4204</td>\n",
       "    </tr>\n",
       "    <tr>\n",
       "      <th>11</th>\n",
       "      <td>Meghan Markle</td>\n",
       "      <td>United Kingdom</td>\n",
       "      <td>Female</td>\n",
       "      <td>(30, 40]</td>\n",
       "      <td>3774</td>\n",
       "    </tr>\n",
       "    <tr>\n",
       "      <th>12</th>\n",
       "      <td>President Donald Trump</td>\n",
       "      <td>South Africa</td>\n",
       "      <td>Male</td>\n",
       "      <td>(70, 80]</td>\n",
       "      <td>2351</td>\n",
       "    </tr>\n",
       "    <tr>\n",
       "      <th>13</th>\n",
       "      <td>Mmusi Maimane</td>\n",
       "      <td>South Africa</td>\n",
       "      <td>Male</td>\n",
       "      <td>(30, 40]</td>\n",
       "      <td>1657</td>\n",
       "    </tr>\n",
       "    <tr>\n",
       "      <th>14</th>\n",
       "      <td>Julius Malema</td>\n",
       "      <td>South Africa</td>\n",
       "      <td>Male</td>\n",
       "      <td>(30, 40]</td>\n",
       "      <td>1566</td>\n",
       "    </tr>\n",
       "    <tr>\n",
       "      <th>15</th>\n",
       "      <td>Patricia de Lille</td>\n",
       "      <td>South Africa</td>\n",
       "      <td>Female</td>\n",
       "      <td>(60, 70]</td>\n",
       "      <td>678</td>\n",
       "    </tr>\n",
       "    <tr>\n",
       "      <th>16</th>\n",
       "      <td>Helen Zille</td>\n",
       "      <td>South Africa</td>\n",
       "      <td>Female</td>\n",
       "      <td>(60, 70]</td>\n",
       "      <td>422</td>\n",
       "    </tr>\n",
       "    <tr>\n",
       "      <th>17</th>\n",
       "      <td>Busisiwe Mkhwebane</td>\n",
       "      <td>South Africa</td>\n",
       "      <td>Female</td>\n",
       "      <td>(40, 50]</td>\n",
       "      <td>398</td>\n",
       "    </tr>\n",
       "  </tbody>\n",
       "</table>\n",
       "</div>"
      ],
      "text/plain": [
       "                   speaker             media_country  gender age_range   Count\n",
       "0   President Donald Trump  United States of America    Male  (70, 80]  215570\n",
       "1             Donald Trump  United States of America    Male  (60, 70]   85914\n",
       "2          President Trump  United States of America    Male  (70, 80]   54440\n",
       "3          Hillary Clinton  United States of America  Female  (60, 70]   39966\n",
       "4             Nancy Pelosi  United States of America  Female  (70, 80]   27515\n",
       "5   Sarah Huckabee Sanders  United States of America  Female  (30, 40]   17931\n",
       "6            Jeremy Corbyn            United Kingdom    Male  (60, 70]   12487\n",
       "7            Boris Johnson            United Kingdom    Male  (50, 60]    9396\n",
       "8   President Donald Trump            United Kingdom    Male  (70, 80]    8976\n",
       "9              Theresa May            United Kingdom  Female  (60, 70]    5901\n",
       "10             Katie Price            United Kingdom  Female  (30, 40]    4204\n",
       "11           Meghan Markle            United Kingdom  Female  (30, 40]    3774\n",
       "12  President Donald Trump              South Africa    Male  (70, 80]    2351\n",
       "13           Mmusi Maimane              South Africa    Male  (30, 40]    1657\n",
       "14           Julius Malema              South Africa    Male  (30, 40]    1566\n",
       "15       Patricia de Lille              South Africa  Female  (60, 70]     678\n",
       "16             Helen Zille              South Africa  Female  (60, 70]     422\n",
       "17      Busisiwe Mkhwebane              South Africa  Female  (40, 50]     398"
      ]
     },
     "execution_count": 26,
     "metadata": {},
     "output_type": "execute_result"
    }
   ],
   "source": [
    "df_speaker_top_3 = df_speaker.groupby([\"media_country\", \"gender\"]).head(3).reset_index(drop=True)\n",
    "df_speaker_top_3"
   ]
  },
  {
   "cell_type": "markdown",
   "id": "43de11fb-538b-48e0-9555-473c538250b4",
   "metadata": {},
   "source": [
    "#### Donald Trump is on its own the top 3 of USA, with differnet names only, lets take it as one single person to avoid any problems in the future"
   ]
  },
  {
   "cell_type": "code",
   "execution_count": 27,
   "id": "1e3f6347-21cb-415a-a6dc-3c54988d2713",
   "metadata": {},
   "outputs": [
    {
     "data": {
      "text/html": [
       "<div>\n",
       "<style scoped>\n",
       "    .dataframe tbody tr th:only-of-type {\n",
       "        vertical-align: middle;\n",
       "    }\n",
       "\n",
       "    .dataframe tbody tr th {\n",
       "        vertical-align: top;\n",
       "    }\n",
       "\n",
       "    .dataframe thead th {\n",
       "        text-align: right;\n",
       "    }\n",
       "</style>\n",
       "<table border=\"1\" class=\"dataframe\">\n",
       "  <thead>\n",
       "    <tr style=\"text-align: right;\">\n",
       "      <th></th>\n",
       "      <th>speaker</th>\n",
       "      <th>media_country</th>\n",
       "      <th>gender</th>\n",
       "      <th>Count</th>\n",
       "      <th>count_scaled</th>\n",
       "    </tr>\n",
       "  </thead>\n",
       "  <tbody>\n",
       "    <tr>\n",
       "      <th>0</th>\n",
       "      <td>Donald Trump</td>\n",
       "      <td>United States of America</td>\n",
       "      <td>Male</td>\n",
       "      <td>355924</td>\n",
       "      <td>25.035979</td>\n",
       "    </tr>\n",
       "    <tr>\n",
       "      <th>1</th>\n",
       "      <td>Hillary Clinton</td>\n",
       "      <td>United States of America</td>\n",
       "      <td>Female</td>\n",
       "      <td>39966</td>\n",
       "      <td>2.811240</td>\n",
       "    </tr>\n",
       "    <tr>\n",
       "      <th>2</th>\n",
       "      <td>Nancy Pelosi</td>\n",
       "      <td>United States of America</td>\n",
       "      <td>Female</td>\n",
       "      <td>27515</td>\n",
       "      <td>1.935427</td>\n",
       "    </tr>\n",
       "    <tr>\n",
       "      <th>3</th>\n",
       "      <td>Sarah Huckabee Sanders</td>\n",
       "      <td>United States of America</td>\n",
       "      <td>Female</td>\n",
       "      <td>17931</td>\n",
       "      <td>1.261281</td>\n",
       "    </tr>\n",
       "    <tr>\n",
       "      <th>4</th>\n",
       "      <td>Jeremy Corbyn</td>\n",
       "      <td>United Kingdom</td>\n",
       "      <td>Male</td>\n",
       "      <td>12487</td>\n",
       "      <td>4.101508</td>\n",
       "    </tr>\n",
       "    <tr>\n",
       "      <th>5</th>\n",
       "      <td>Boris Johnson</td>\n",
       "      <td>United Kingdom</td>\n",
       "      <td>Male</td>\n",
       "      <td>9396</td>\n",
       "      <td>3.086231</td>\n",
       "    </tr>\n",
       "    <tr>\n",
       "      <th>6</th>\n",
       "      <td>Donald Trump</td>\n",
       "      <td>United Kingdom</td>\n",
       "      <td>Male</td>\n",
       "      <td>8976</td>\n",
       "      <td>2.948277</td>\n",
       "    </tr>\n",
       "    <tr>\n",
       "      <th>7</th>\n",
       "      <td>Theresa May</td>\n",
       "      <td>United Kingdom</td>\n",
       "      <td>Female</td>\n",
       "      <td>5901</td>\n",
       "      <td>1.938256</td>\n",
       "    </tr>\n",
       "    <tr>\n",
       "      <th>8</th>\n",
       "      <td>Katie Price</td>\n",
       "      <td>United Kingdom</td>\n",
       "      <td>Female</td>\n",
       "      <td>4204</td>\n",
       "      <td>1.380855</td>\n",
       "    </tr>\n",
       "    <tr>\n",
       "      <th>9</th>\n",
       "      <td>Meghan Markle</td>\n",
       "      <td>United Kingdom</td>\n",
       "      <td>Female</td>\n",
       "      <td>3774</td>\n",
       "      <td>1.239616</td>\n",
       "    </tr>\n",
       "    <tr>\n",
       "      <th>10</th>\n",
       "      <td>Donald Trump</td>\n",
       "      <td>South Africa</td>\n",
       "      <td>Male</td>\n",
       "      <td>2351</td>\n",
       "      <td>20.298739</td>\n",
       "    </tr>\n",
       "    <tr>\n",
       "      <th>11</th>\n",
       "      <td>Mmusi Maimane</td>\n",
       "      <td>South Africa</td>\n",
       "      <td>Male</td>\n",
       "      <td>1657</td>\n",
       "      <td>14.306683</td>\n",
       "    </tr>\n",
       "    <tr>\n",
       "      <th>12</th>\n",
       "      <td>Julius Malema</td>\n",
       "      <td>South Africa</td>\n",
       "      <td>Male</td>\n",
       "      <td>1566</td>\n",
       "      <td>13.520981</td>\n",
       "    </tr>\n",
       "    <tr>\n",
       "      <th>13</th>\n",
       "      <td>Patricia de Lille</td>\n",
       "      <td>South Africa</td>\n",
       "      <td>Female</td>\n",
       "      <td>678</td>\n",
       "      <td>5.853911</td>\n",
       "    </tr>\n",
       "    <tr>\n",
       "      <th>14</th>\n",
       "      <td>Helen Zille</td>\n",
       "      <td>South Africa</td>\n",
       "      <td>Female</td>\n",
       "      <td>422</td>\n",
       "      <td>3.643585</td>\n",
       "    </tr>\n",
       "    <tr>\n",
       "      <th>15</th>\n",
       "      <td>Busisiwe Mkhwebane</td>\n",
       "      <td>South Africa</td>\n",
       "      <td>Female</td>\n",
       "      <td>398</td>\n",
       "      <td>3.436367</td>\n",
       "    </tr>\n",
       "  </tbody>\n",
       "</table>\n",
       "</div>"
      ],
      "text/plain": [
       "                   speaker             media_country  gender   Count  \\\n",
       "0             Donald Trump  United States of America    Male  355924   \n",
       "1          Hillary Clinton  United States of America  Female   39966   \n",
       "2             Nancy Pelosi  United States of America  Female   27515   \n",
       "3   Sarah Huckabee Sanders  United States of America  Female   17931   \n",
       "4            Jeremy Corbyn            United Kingdom    Male   12487   \n",
       "5            Boris Johnson            United Kingdom    Male    9396   \n",
       "6             Donald Trump            United Kingdom    Male    8976   \n",
       "7              Theresa May            United Kingdom  Female    5901   \n",
       "8              Katie Price            United Kingdom  Female    4204   \n",
       "9            Meghan Markle            United Kingdom  Female    3774   \n",
       "10            Donald Trump              South Africa    Male    2351   \n",
       "11           Mmusi Maimane              South Africa    Male    1657   \n",
       "12           Julius Malema              South Africa    Male    1566   \n",
       "13       Patricia de Lille              South Africa  Female     678   \n",
       "14             Helen Zille              South Africa  Female     422   \n",
       "15      Busisiwe Mkhwebane              South Africa  Female     398   \n",
       "\n",
       "    count_scaled  \n",
       "0      25.035979  \n",
       "1       2.811240  \n",
       "2       1.935427  \n",
       "3       1.261281  \n",
       "4       4.101508  \n",
       "5       3.086231  \n",
       "6       2.948277  \n",
       "7       1.938256  \n",
       "8       1.380855  \n",
       "9       1.239616  \n",
       "10     20.298739  \n",
       "11     14.306683  \n",
       "12     13.520981  \n",
       "13      5.853911  \n",
       "14      3.643585  \n",
       "15      3.436367  "
      ]
     },
     "execution_count": 27,
     "metadata": {},
     "output_type": "execute_result"
    }
   ],
   "source": [
    "renamed = []\n",
    "for speaker in df_speaker_top_3['speaker']:\n",
    "    if 'Trump' in speaker:\n",
    "        renamed.append('Donald Trump')\n",
    "    else:\n",
    "        renamed.append(speaker)\n",
    "df_speaker_top_3['speaker'] = renamed\n",
    "df_speaker_top_3 = df_speaker_top_3.groupby(['speaker','media_country', 'gender']).Count.sum().to_frame().sort_values('Count', ascending=False).reset_index()\n",
    "df_speaker_top_3['count_scaled'] = [df_speaker_top_3.iloc[idx]['Count']/USA_only['Count'].sum()*100 if (df_speaker_top_3.iloc[idx]['media_country'] =='United States of America')\n",
    "                                else df_speaker_top_3.iloc[idx]['Count']/UK_only['Count'].sum()*100 if (df_speaker_top_3.iloc[idx]['media_country'] =='United Kingdom') \n",
    "                                else df_speaker_top_3.iloc[idx]['Count']/SA_only['Count'].sum()*100 \n",
    "                                for idx in range(0,len(df_speaker_top_3))]\n",
    "df_speaker_top_3"
   ]
  },
  {
   "cell_type": "markdown",
   "id": "852e1d86-587e-4d27-9007-f0930ead2701",
   "metadata": {},
   "source": [
    "### Ceate an interactive network to show Top-3 unique speakers per country differentiating the number of quotes for this speaker and the gender.\n",
    "- size is related to the number of quotes in the country where they were mostly quoted\n",
    "- colors are related to the gender"
   ]
  },
  {
   "cell_type": "code",
   "execution_count": 28,
   "id": "ef8a2ae4-351c-4134-918f-640b238edc57",
   "metadata": {},
   "outputs": [],
   "source": [
    "list_countries = ['United Kingdom','United States of America','South Africa']\n",
    "\n",
    "age = df_UK_USA_SA_all_years[df_UK_USA_SA_all_years['speaker'].isin(list(df_speaker_top_3['speaker']))].drop_duplicates('speaker',keep='last')[['speaker','age']]\n",
    "df_speaker_top_3 = df_speaker_top_3.merge(age, on='speaker', how='outer')\n",
    "Top_3 = df_speaker_top_3.drop_duplicates('speaker', keep='last').reset_index(drop=True)"
   ]
  },
  {
   "cell_type": "code",
   "execution_count": 33,
   "id": "ec79f539-0fcd-4df1-b3c2-54b81f57a359",
   "metadata": {},
   "outputs": [
    {
     "data": {
      "text/html": [
       "\n",
       "        <iframe\n",
       "            width=\"100%\"\n",
       "            height=\"750px\"\n",
       "            src=\"images_website/networkx_unique_speakers.html\"\n",
       "            frameborder=\"0\"\n",
       "            allowfullscreen\n",
       "            \n",
       "        ></iframe>\n",
       "        "
      ],
      "text/plain": [
       "<IPython.lib.display.IFrame at 0x7f3b17da3ac0>"
      ]
     },
     "execution_count": 33,
     "metadata": {},
     "output_type": "execute_result"
    }
   ],
   "source": [
    "node_sizes = [int((10*((Top_3.iloc[idx]['count_scaled'])**(3/7)))) for idx in range(0,len(Top_3))]\n",
    "\n",
    "node_colors = [male_color if Top_3.iloc[idx]['gender'] == 'Male' \n",
    "               else female_color if Top_3.iloc[idx]['gender'] == 'Female' \n",
    "               else 'grey' for idx in range(0,len(Top_3))]\n",
    "\n",
    "titles = [str(int(Top_3.iloc[idx]['age']))+' years old and quoted '+ str(int(Top_3.iloc[idx]['Count']))+' times by '+Top_3.iloc[idx]['media_country'] if Top_3.iloc[idx]['speaker'] != 'Donald Trump' \n",
    "                                else str(int(Top_3.iloc[idx]['age']))+' years old and quoted 355924 times by '+list_countries[1]\n",
    "                                                                                         +', 8976 times by '+list_countries[0]\n",
    "                                                                                         +' and 2351 times by '+ list_countries[2]\n",
    "                                for idx in range(0,len(Top_3))]\n",
    "\n",
    "G = Network(height='750px', width='100%', bgcolor='white', notebook=True) #font_color = 'black' if all the same color\n",
    "\n",
    "G.add_node(list_countries[0], shape='image', image=['https://upload.wikimedia.org/wikipedia/en/a/ae/Flag_of_the_United_Kingdom.svg'], title = 'Total of ' + str(int(UK_only['Count'].sum())) +' quotes')\n",
    "G.add_node(list_countries[1], shape='image', image=['https://upload.wikimedia.org/wikipedia/en/a/a4/Flag_of_the_United_States.svg'], title = 'Total of ' + str(int(USA_only['Count'].sum())) +' quotes')\n",
    "G.add_node(list_countries[2], shape='image', image=['https://upload.wikimedia.org/wikipedia/commons/a/af/Flag_of_South_Africa.svg'],title = 'Total of ' + str(int(SA_only['Count'].sum())) +' quotes')\n",
    "G.add_nodes(Top_3['speaker'], size=node_sizes,title=titles,label=Top_3['speaker'],color=node_colors)\n",
    " \n",
    "G.add_edges([(list_countries[0], node) for node in df_speaker_top_3[df_speaker_top_3['media_country'] == list_countries[0]]['speaker']])\n",
    "G.add_edges([(list_countries[1], node) for node in df_speaker_top_3[df_speaker_top_3['media_country'] == list_countries[1]]['speaker']])\n",
    "G.add_edges([(list_countries[2], node) for node in df_speaker_top_3[df_speaker_top_3['media_country'] == list_countries[2]]['speaker']])\n",
    "\n",
    "G.barnes_hut(gravity=-40000, central_gravity=2,spring_length=100,spring_strength=0.0001,damping=0.2,overlap=0)\n",
    "\n",
    "network.Network.show(G,'images_website/networkx_unique_speakers.html')"
   ]
  },
  {
   "cell_type": "markdown",
   "id": "9039f94d-f8be-481f-a5ea-bc2a5b6661b4",
   "metadata": {},
   "source": [
    "### How does the female representation in the media evolve with the years ? "
   ]
  },
  {
   "cell_type": "code",
   "execution_count": 35,
   "id": "26fa6568-d177-452d-87fa-d20f9d4585b2",
   "metadata": {},
   "outputs": [],
   "source": [
    "df_all_years = create_df_prop_year(df_list_USS)\n",
    "df_all_years_females = df_all_years[df_all_years['gender']=='Female']"
   ]
  },
  {
   "cell_type": "code",
   "execution_count": 37,
   "id": "3cc9f171-b37d-4fc4-9c72-be6f74b87c2e",
   "metadata": {},
   "outputs": [
    {
     "data": {
      "application/vnd.plotly.v1+json": {
       "config": {
        "plotlyServerURL": "https://plot.ly"
       },
       "data": [
        {
         "alignmentgroup": "True",
         "hovertemplate": "media_country=United Kingdom<br>year=%{x}<br>Proportion=%{y}<extra></extra>",
         "legendgroup": "United Kingdom",
         "marker": {
          "color": "#E5B25D",
          "pattern": {
           "shape": ""
          }
         },
         "name": "United Kingdom",
         "offsetgroup": "United Kingdom",
         "orientation": "v",
         "showlegend": true,
         "textposition": "auto",
         "type": "bar",
         "x": [
          "2015",
          "2016",
          "2017",
          "2018",
          "2019",
          "2020"
         ],
         "xaxis": "x",
         "y": [
          19.508649126736184,
          22.284424157044164,
          23.357511665480345,
          25.820160728975512,
          26.809570242561463,
          22.79307170948038
         ],
         "yaxis": "y"
        },
        {
         "alignmentgroup": "True",
         "hovertemplate": "media_country=United States of America<br>year=%{x}<br>Proportion=%{y}<extra></extra>",
         "legendgroup": "United States of America",
         "marker": {
          "color": "#c13639",
          "pattern": {
           "shape": ""
          }
         },
         "name": "United States of America",
         "offsetgroup": "United States of America",
         "orientation": "v",
         "showlegend": true,
         "textposition": "auto",
         "type": "bar",
         "x": [
          "2015",
          "2016",
          "2017",
          "2018",
          "2019",
          "2020"
         ],
         "xaxis": "x",
         "y": [
          15.660585929139042,
          17.58556398987881,
          16.39556921933729,
          16.660143523721647,
          16.904104388695007,
          12.031571722717914
         ],
         "yaxis": "y"
        },
        {
         "alignmentgroup": "True",
         "hovertemplate": "media_country=South Africa<br>year=%{x}<br>Proportion=%{y}<extra></extra>",
         "legendgroup": "South Africa",
         "marker": {
          "color": "#029e73",
          "pattern": {
           "shape": ""
          }
         },
         "name": "South Africa",
         "offsetgroup": "South Africa",
         "orientation": "v",
         "showlegend": true,
         "textposition": "auto",
         "type": "bar",
         "x": [
          "2015",
          "2016",
          "2017",
          "2018",
          "2019",
          "2020"
         ],
         "xaxis": "x",
         "y": [
          17.18971974686814,
          15.782275711159738,
          18.212335287339044,
          17.675770334215134,
          18.758256274768826,
          16.365253483545807
         ],
         "yaxis": "y"
        }
       ],
       "layout": {
        "barmode": "group",
        "height": 800,
        "legend": {
         "font": {
          "size": 13
         },
         "orientation": "v",
         "title": {
          "text": "Countries of interest"
         },
         "tracegroupgap": 0,
         "x": 1.05,
         "xanchor": "left",
         "y": 0.87,
         "yanchor": "bottom"
        },
        "margin": {
         "t": 60
        },
        "template": {
         "data": {
          "bar": [
           {
            "error_x": {
             "color": "#2a3f5f"
            },
            "error_y": {
             "color": "#2a3f5f"
            },
            "marker": {
             "line": {
              "color": "#E5ECF6",
              "width": 0.5
             },
             "pattern": {
              "fillmode": "overlay",
              "size": 10,
              "solidity": 0.2
             }
            },
            "type": "bar"
           }
          ],
          "barpolar": [
           {
            "marker": {
             "line": {
              "color": "#E5ECF6",
              "width": 0.5
             },
             "pattern": {
              "fillmode": "overlay",
              "size": 10,
              "solidity": 0.2
             }
            },
            "type": "barpolar"
           }
          ],
          "carpet": [
           {
            "aaxis": {
             "endlinecolor": "#2a3f5f",
             "gridcolor": "white",
             "linecolor": "white",
             "minorgridcolor": "white",
             "startlinecolor": "#2a3f5f"
            },
            "baxis": {
             "endlinecolor": "#2a3f5f",
             "gridcolor": "white",
             "linecolor": "white",
             "minorgridcolor": "white",
             "startlinecolor": "#2a3f5f"
            },
            "type": "carpet"
           }
          ],
          "choropleth": [
           {
            "colorbar": {
             "outlinewidth": 0,
             "ticks": ""
            },
            "type": "choropleth"
           }
          ],
          "contour": [
           {
            "colorbar": {
             "outlinewidth": 0,
             "ticks": ""
            },
            "colorscale": [
             [
              0,
              "#0d0887"
             ],
             [
              0.1111111111111111,
              "#46039f"
             ],
             [
              0.2222222222222222,
              "#7201a8"
             ],
             [
              0.3333333333333333,
              "#9c179e"
             ],
             [
              0.4444444444444444,
              "#bd3786"
             ],
             [
              0.5555555555555556,
              "#d8576b"
             ],
             [
              0.6666666666666666,
              "#ed7953"
             ],
             [
              0.7777777777777778,
              "#fb9f3a"
             ],
             [
              0.8888888888888888,
              "#fdca26"
             ],
             [
              1,
              "#f0f921"
             ]
            ],
            "type": "contour"
           }
          ],
          "contourcarpet": [
           {
            "colorbar": {
             "outlinewidth": 0,
             "ticks": ""
            },
            "type": "contourcarpet"
           }
          ],
          "heatmap": [
           {
            "colorbar": {
             "outlinewidth": 0,
             "ticks": ""
            },
            "colorscale": [
             [
              0,
              "#0d0887"
             ],
             [
              0.1111111111111111,
              "#46039f"
             ],
             [
              0.2222222222222222,
              "#7201a8"
             ],
             [
              0.3333333333333333,
              "#9c179e"
             ],
             [
              0.4444444444444444,
              "#bd3786"
             ],
             [
              0.5555555555555556,
              "#d8576b"
             ],
             [
              0.6666666666666666,
              "#ed7953"
             ],
             [
              0.7777777777777778,
              "#fb9f3a"
             ],
             [
              0.8888888888888888,
              "#fdca26"
             ],
             [
              1,
              "#f0f921"
             ]
            ],
            "type": "heatmap"
           }
          ],
          "heatmapgl": [
           {
            "colorbar": {
             "outlinewidth": 0,
             "ticks": ""
            },
            "colorscale": [
             [
              0,
              "#0d0887"
             ],
             [
              0.1111111111111111,
              "#46039f"
             ],
             [
              0.2222222222222222,
              "#7201a8"
             ],
             [
              0.3333333333333333,
              "#9c179e"
             ],
             [
              0.4444444444444444,
              "#bd3786"
             ],
             [
              0.5555555555555556,
              "#d8576b"
             ],
             [
              0.6666666666666666,
              "#ed7953"
             ],
             [
              0.7777777777777778,
              "#fb9f3a"
             ],
             [
              0.8888888888888888,
              "#fdca26"
             ],
             [
              1,
              "#f0f921"
             ]
            ],
            "type": "heatmapgl"
           }
          ],
          "histogram": [
           {
            "marker": {
             "pattern": {
              "fillmode": "overlay",
              "size": 10,
              "solidity": 0.2
             }
            },
            "type": "histogram"
           }
          ],
          "histogram2d": [
           {
            "colorbar": {
             "outlinewidth": 0,
             "ticks": ""
            },
            "colorscale": [
             [
              0,
              "#0d0887"
             ],
             [
              0.1111111111111111,
              "#46039f"
             ],
             [
              0.2222222222222222,
              "#7201a8"
             ],
             [
              0.3333333333333333,
              "#9c179e"
             ],
             [
              0.4444444444444444,
              "#bd3786"
             ],
             [
              0.5555555555555556,
              "#d8576b"
             ],
             [
              0.6666666666666666,
              "#ed7953"
             ],
             [
              0.7777777777777778,
              "#fb9f3a"
             ],
             [
              0.8888888888888888,
              "#fdca26"
             ],
             [
              1,
              "#f0f921"
             ]
            ],
            "type": "histogram2d"
           }
          ],
          "histogram2dcontour": [
           {
            "colorbar": {
             "outlinewidth": 0,
             "ticks": ""
            },
            "colorscale": [
             [
              0,
              "#0d0887"
             ],
             [
              0.1111111111111111,
              "#46039f"
             ],
             [
              0.2222222222222222,
              "#7201a8"
             ],
             [
              0.3333333333333333,
              "#9c179e"
             ],
             [
              0.4444444444444444,
              "#bd3786"
             ],
             [
              0.5555555555555556,
              "#d8576b"
             ],
             [
              0.6666666666666666,
              "#ed7953"
             ],
             [
              0.7777777777777778,
              "#fb9f3a"
             ],
             [
              0.8888888888888888,
              "#fdca26"
             ],
             [
              1,
              "#f0f921"
             ]
            ],
            "type": "histogram2dcontour"
           }
          ],
          "mesh3d": [
           {
            "colorbar": {
             "outlinewidth": 0,
             "ticks": ""
            },
            "type": "mesh3d"
           }
          ],
          "parcoords": [
           {
            "line": {
             "colorbar": {
              "outlinewidth": 0,
              "ticks": ""
             }
            },
            "type": "parcoords"
           }
          ],
          "pie": [
           {
            "automargin": true,
            "type": "pie"
           }
          ],
          "scatter": [
           {
            "marker": {
             "colorbar": {
              "outlinewidth": 0,
              "ticks": ""
             }
            },
            "type": "scatter"
           }
          ],
          "scatter3d": [
           {
            "line": {
             "colorbar": {
              "outlinewidth": 0,
              "ticks": ""
             }
            },
            "marker": {
             "colorbar": {
              "outlinewidth": 0,
              "ticks": ""
             }
            },
            "type": "scatter3d"
           }
          ],
          "scattercarpet": [
           {
            "marker": {
             "colorbar": {
              "outlinewidth": 0,
              "ticks": ""
             }
            },
            "type": "scattercarpet"
           }
          ],
          "scattergeo": [
           {
            "marker": {
             "colorbar": {
              "outlinewidth": 0,
              "ticks": ""
             }
            },
            "type": "scattergeo"
           }
          ],
          "scattergl": [
           {
            "marker": {
             "colorbar": {
              "outlinewidth": 0,
              "ticks": ""
             }
            },
            "type": "scattergl"
           }
          ],
          "scattermapbox": [
           {
            "marker": {
             "colorbar": {
              "outlinewidth": 0,
              "ticks": ""
             }
            },
            "type": "scattermapbox"
           }
          ],
          "scatterpolar": [
           {
            "marker": {
             "colorbar": {
              "outlinewidth": 0,
              "ticks": ""
             }
            },
            "type": "scatterpolar"
           }
          ],
          "scatterpolargl": [
           {
            "marker": {
             "colorbar": {
              "outlinewidth": 0,
              "ticks": ""
             }
            },
            "type": "scatterpolargl"
           }
          ],
          "scatterternary": [
           {
            "marker": {
             "colorbar": {
              "outlinewidth": 0,
              "ticks": ""
             }
            },
            "type": "scatterternary"
           }
          ],
          "surface": [
           {
            "colorbar": {
             "outlinewidth": 0,
             "ticks": ""
            },
            "colorscale": [
             [
              0,
              "#0d0887"
             ],
             [
              0.1111111111111111,
              "#46039f"
             ],
             [
              0.2222222222222222,
              "#7201a8"
             ],
             [
              0.3333333333333333,
              "#9c179e"
             ],
             [
              0.4444444444444444,
              "#bd3786"
             ],
             [
              0.5555555555555556,
              "#d8576b"
             ],
             [
              0.6666666666666666,
              "#ed7953"
             ],
             [
              0.7777777777777778,
              "#fb9f3a"
             ],
             [
              0.8888888888888888,
              "#fdca26"
             ],
             [
              1,
              "#f0f921"
             ]
            ],
            "type": "surface"
           }
          ],
          "table": [
           {
            "cells": {
             "fill": {
              "color": "#EBF0F8"
             },
             "line": {
              "color": "white"
             }
            },
            "header": {
             "fill": {
              "color": "#C8D4E3"
             },
             "line": {
              "color": "white"
             }
            },
            "type": "table"
           }
          ]
         },
         "layout": {
          "annotationdefaults": {
           "arrowcolor": "#2a3f5f",
           "arrowhead": 0,
           "arrowwidth": 1
          },
          "autotypenumbers": "strict",
          "coloraxis": {
           "colorbar": {
            "outlinewidth": 0,
            "ticks": ""
           }
          },
          "colorscale": {
           "diverging": [
            [
             0,
             "#8e0152"
            ],
            [
             0.1,
             "#c51b7d"
            ],
            [
             0.2,
             "#de77ae"
            ],
            [
             0.3,
             "#f1b6da"
            ],
            [
             0.4,
             "#fde0ef"
            ],
            [
             0.5,
             "#f7f7f7"
            ],
            [
             0.6,
             "#e6f5d0"
            ],
            [
             0.7,
             "#b8e186"
            ],
            [
             0.8,
             "#7fbc41"
            ],
            [
             0.9,
             "#4d9221"
            ],
            [
             1,
             "#276419"
            ]
           ],
           "sequential": [
            [
             0,
             "#0d0887"
            ],
            [
             0.1111111111111111,
             "#46039f"
            ],
            [
             0.2222222222222222,
             "#7201a8"
            ],
            [
             0.3333333333333333,
             "#9c179e"
            ],
            [
             0.4444444444444444,
             "#bd3786"
            ],
            [
             0.5555555555555556,
             "#d8576b"
            ],
            [
             0.6666666666666666,
             "#ed7953"
            ],
            [
             0.7777777777777778,
             "#fb9f3a"
            ],
            [
             0.8888888888888888,
             "#fdca26"
            ],
            [
             1,
             "#f0f921"
            ]
           ],
           "sequentialminus": [
            [
             0,
             "#0d0887"
            ],
            [
             0.1111111111111111,
             "#46039f"
            ],
            [
             0.2222222222222222,
             "#7201a8"
            ],
            [
             0.3333333333333333,
             "#9c179e"
            ],
            [
             0.4444444444444444,
             "#bd3786"
            ],
            [
             0.5555555555555556,
             "#d8576b"
            ],
            [
             0.6666666666666666,
             "#ed7953"
            ],
            [
             0.7777777777777778,
             "#fb9f3a"
            ],
            [
             0.8888888888888888,
             "#fdca26"
            ],
            [
             1,
             "#f0f921"
            ]
           ]
          },
          "colorway": [
           "#636efa",
           "#EF553B",
           "#00cc96",
           "#ab63fa",
           "#FFA15A",
           "#19d3f3",
           "#FF6692",
           "#B6E880",
           "#FF97FF",
           "#FECB52"
          ],
          "font": {
           "color": "#2a3f5f"
          },
          "geo": {
           "bgcolor": "white",
           "lakecolor": "white",
           "landcolor": "#E5ECF6",
           "showlakes": true,
           "showland": true,
           "subunitcolor": "white"
          },
          "hoverlabel": {
           "align": "left"
          },
          "hovermode": "closest",
          "mapbox": {
           "style": "light"
          },
          "paper_bgcolor": "white",
          "plot_bgcolor": "#E5ECF6",
          "polar": {
           "angularaxis": {
            "gridcolor": "white",
            "linecolor": "white",
            "ticks": ""
           },
           "bgcolor": "#E5ECF6",
           "radialaxis": {
            "gridcolor": "white",
            "linecolor": "white",
            "ticks": ""
           }
          },
          "scene": {
           "xaxis": {
            "backgroundcolor": "#E5ECF6",
            "gridcolor": "white",
            "gridwidth": 2,
            "linecolor": "white",
            "showbackground": true,
            "ticks": "",
            "zerolinecolor": "white"
           },
           "yaxis": {
            "backgroundcolor": "#E5ECF6",
            "gridcolor": "white",
            "gridwidth": 2,
            "linecolor": "white",
            "showbackground": true,
            "ticks": "",
            "zerolinecolor": "white"
           },
           "zaxis": {
            "backgroundcolor": "#E5ECF6",
            "gridcolor": "white",
            "gridwidth": 2,
            "linecolor": "white",
            "showbackground": true,
            "ticks": "",
            "zerolinecolor": "white"
           }
          },
          "shapedefaults": {
           "line": {
            "color": "#2a3f5f"
           }
          },
          "ternary": {
           "aaxis": {
            "gridcolor": "white",
            "linecolor": "white",
            "ticks": ""
           },
           "baxis": {
            "gridcolor": "white",
            "linecolor": "white",
            "ticks": ""
           },
           "bgcolor": "#E5ECF6",
           "caxis": {
            "gridcolor": "white",
            "linecolor": "white",
            "ticks": ""
           }
          },
          "title": {
           "x": 0.05
          },
          "xaxis": {
           "automargin": true,
           "gridcolor": "white",
           "linecolor": "white",
           "ticks": "",
           "title": {
            "standoff": 15
           },
           "zerolinecolor": "white",
           "zerolinewidth": 2
          },
          "yaxis": {
           "automargin": true,
           "gridcolor": "white",
           "linecolor": "white",
           "ticks": "",
           "title": {
            "standoff": 15
           },
           "zerolinecolor": "white",
           "zerolinewidth": 2
          }
         }
        },
        "title": {
         "font": {
          "size": 25
         },
         "text": "Percentage of female quotes per year and per country",
         "x": 0.07,
         "xanchor": "left",
         "y": 0.995,
         "yanchor": "top"
        },
        "width": 1000,
        "xaxis": {
         "anchor": "y",
         "autorange": true,
         "domain": [
          0,
          1
         ],
         "range": [
          -0.5,
          5.5
         ],
         "showgrid": false,
         "title": {
          "font": {
           "size": 20
          },
          "text": "Year"
         },
         "type": "category"
        },
        "yaxis": {
         "anchor": "x",
         "autorange": true,
         "domain": [
          0,
          1
         ],
         "range": [
          0,
          28.220600255327856
         ],
         "showgrid": false,
         "title": {
          "font": {
           "size": 20
          },
          "text": "Percentage of female quotes per year"
         },
         "type": "linear"
        }
       }
      },
      "image/png": "[encoded data removed]",
      "text/html": [
       "<div>                            <div id=\"d1a17579-e511-4961-aa4f-926b387c9eb2\" class=\"plotly-graph-div\" style=\"height:800px; width:1000px;\"></div>            <script type=\"text/javascript\">                require([\"plotly\"], function(Plotly) {                    window.PLOTLYENV=window.PLOTLYENV || {};                                    if (document.getElementById(\"d1a17579-e511-4961-aa4f-926b387c9eb2\")) {                    Plotly.newPlot(                        \"d1a17579-e511-4961-aa4f-926b387c9eb2\",                        [{\"alignmentgroup\":\"True\",\"hovertemplate\":\"media_country=United Kingdom<br>year=%{x}<br>Proportion=%{y}<extra></extra>\",\"legendgroup\":\"United Kingdom\",\"marker\":{\"color\":\"#E5B25D\",\"pattern\":{\"shape\":\"\"}},\"name\":\"United Kingdom\",\"offsetgroup\":\"United Kingdom\",\"orientation\":\"v\",\"showlegend\":true,\"textposition\":\"auto\",\"x\":[\"2015\",\"2016\",\"2017\",\"2018\",\"2019\",\"2020\"],\"xaxis\":\"x\",\"y\":[19.508649126736184,22.284424157044164,23.357511665480345,25.820160728975512,26.809570242561463,22.79307170948038],\"yaxis\":\"y\",\"type\":\"bar\"},{\"alignmentgroup\":\"True\",\"hovertemplate\":\"media_country=United States of America<br>year=%{x}<br>Proportion=%{y}<extra></extra>\",\"legendgroup\":\"United States of America\",\"marker\":{\"color\":\"#c13639\",\"pattern\":{\"shape\":\"\"}},\"name\":\"United States of America\",\"offsetgroup\":\"United States of America\",\"orientation\":\"v\",\"showlegend\":true,\"textposition\":\"auto\",\"x\":[\"2015\",\"2016\",\"2017\",\"2018\",\"2019\",\"2020\"],\"xaxis\":\"x\",\"y\":[15.660585929139042,17.58556398987881,16.39556921933729,16.660143523721647,16.904104388695007,12.031571722717914],\"yaxis\":\"y\",\"type\":\"bar\"},{\"alignmentgroup\":\"True\",\"hovertemplate\":\"media_country=South Africa<br>year=%{x}<br>Proportion=%{y}<extra></extra>\",\"legendgroup\":\"South Africa\",\"marker\":{\"color\":\"#029e73\",\"pattern\":{\"shape\":\"\"}},\"name\":\"South Africa\",\"offsetgroup\":\"South Africa\",\"orientation\":\"v\",\"showlegend\":true,\"textposition\":\"auto\",\"x\":[\"2015\",\"2016\",\"2017\",\"2018\",\"2019\",\"2020\"],\"xaxis\":\"x\",\"y\":[17.18971974686814,15.782275711159738,18.212335287339044,17.675770334215134,18.758256274768826,16.365253483545807],\"yaxis\":\"y\",\"type\":\"bar\"}],                        {\"template\":{\"data\":{\"bar\":[{\"error_x\":{\"color\":\"#2a3f5f\"},\"error_y\":{\"color\":\"#2a3f5f\"},\"marker\":{\"line\":{\"color\":\"#E5ECF6\",\"width\":0.5},\"pattern\":{\"fillmode\":\"overlay\",\"size\":10,\"solidity\":0.2}},\"type\":\"bar\"}],\"barpolar\":[{\"marker\":{\"line\":{\"color\":\"#E5ECF6\",\"width\":0.5},\"pattern\":{\"fillmode\":\"overlay\",\"size\":10,\"solidity\":0.2}},\"type\":\"barpolar\"}],\"carpet\":[{\"aaxis\":{\"endlinecolor\":\"#2a3f5f\",\"gridcolor\":\"white\",\"linecolor\":\"white\",\"minorgridcolor\":\"white\",\"startlinecolor\":\"#2a3f5f\"},\"baxis\":{\"endlinecolor\":\"#2a3f5f\",\"gridcolor\":\"white\",\"linecolor\":\"white\",\"minorgridcolor\":\"white\",\"startlinecolor\":\"#2a3f5f\"},\"type\":\"carpet\"}],\"choropleth\":[{\"colorbar\":{\"outlinewidth\":0,\"ticks\":\"\"},\"type\":\"choropleth\"}],\"contour\":[{\"colorbar\":{\"outlinewidth\":0,\"ticks\":\"\"},\"colorscale\":[[0.0,\"#0d0887\"],[0.1111111111111111,\"#46039f\"],[0.2222222222222222,\"#7201a8\"],[0.3333333333333333,\"#9c179e\"],[0.4444444444444444,\"#bd3786\"],[0.5555555555555556,\"#d8576b\"],[0.6666666666666666,\"#ed7953\"],[0.7777777777777778,\"#fb9f3a\"],[0.8888888888888888,\"#fdca26\"],[1.0,\"#f0f921\"]],\"type\":\"contour\"}],\"contourcarpet\":[{\"colorbar\":{\"outlinewidth\":0,\"ticks\":\"\"},\"type\":\"contourcarpet\"}],\"heatmap\":[{\"colorbar\":{\"outlinewidth\":0,\"ticks\":\"\"},\"colorscale\":[[0.0,\"#0d0887\"],[0.1111111111111111,\"#46039f\"],[0.2222222222222222,\"#7201a8\"],[0.3333333333333333,\"#9c179e\"],[0.4444444444444444,\"#bd3786\"],[0.5555555555555556,\"#d8576b\"],[0.6666666666666666,\"#ed7953\"],[0.7777777777777778,\"#fb9f3a\"],[0.8888888888888888,\"#fdca26\"],[1.0,\"#f0f921\"]],\"type\":\"heatmap\"}],\"heatmapgl\":[{\"colorbar\":{\"outlinewidth\":0,\"ticks\":\"\"},\"colorscale\":[[0.0,\"#0d0887\"],[0.1111111111111111,\"#46039f\"],[0.2222222222222222,\"#7201a8\"],[0.3333333333333333,\"#9c179e\"],[0.4444444444444444,\"#bd3786\"],[0.5555555555555556,\"#d8576b\"],[0.6666666666666666,\"#ed7953\"],[0.7777777777777778,\"#fb9f3a\"],[0.8888888888888888,\"#fdca26\"],[1.0,\"#f0f921\"]],\"type\":\"heatmapgl\"}],\"histogram\":[{\"marker\":{\"pattern\":{\"fillmode\":\"overlay\",\"size\":10,\"solidity\":0.2}},\"type\":\"histogram\"}],\"histogram2d\":[{\"colorbar\":{\"outlinewidth\":0,\"ticks\":\"\"},\"colorscale\":[[0.0,\"#0d0887\"],[0.1111111111111111,\"#46039f\"],[0.2222222222222222,\"#7201a8\"],[0.3333333333333333,\"#9c179e\"],[0.4444444444444444,\"#bd3786\"],[0.5555555555555556,\"#d8576b\"],[0.6666666666666666,\"#ed7953\"],[0.7777777777777778,\"#fb9f3a\"],[0.8888888888888888,\"#fdca26\"],[1.0,\"#f0f921\"]],\"type\":\"histogram2d\"}],\"histogram2dcontour\":[{\"colorbar\":{\"outlinewidth\":0,\"ticks\":\"\"},\"colorscale\":[[0.0,\"#0d0887\"],[0.1111111111111111,\"#46039f\"],[0.2222222222222222,\"#7201a8\"],[0.3333333333333333,\"#9c179e\"],[0.4444444444444444,\"#bd3786\"],[0.5555555555555556,\"#d8576b\"],[0.6666666666666666,\"#ed7953\"],[0.7777777777777778,\"#fb9f3a\"],[0.8888888888888888,\"#fdca26\"],[1.0,\"#f0f921\"]],\"type\":\"histogram2dcontour\"}],\"mesh3d\":[{\"colorbar\":{\"outlinewidth\":0,\"ticks\":\"\"},\"type\":\"mesh3d\"}],\"parcoords\":[{\"line\":{\"colorbar\":{\"outlinewidth\":0,\"ticks\":\"\"}},\"type\":\"parcoords\"}],\"pie\":[{\"automargin\":true,\"type\":\"pie\"}],\"scatter\":[{\"marker\":{\"colorbar\":{\"outlinewidth\":0,\"ticks\":\"\"}},\"type\":\"scatter\"}],\"scatter3d\":[{\"line\":{\"colorbar\":{\"outlinewidth\":0,\"ticks\":\"\"}},\"marker\":{\"colorbar\":{\"outlinewidth\":0,\"ticks\":\"\"}},\"type\":\"scatter3d\"}],\"scattercarpet\":[{\"marker\":{\"colorbar\":{\"outlinewidth\":0,\"ticks\":\"\"}},\"type\":\"scattercarpet\"}],\"scattergeo\":[{\"marker\":{\"colorbar\":{\"outlinewidth\":0,\"ticks\":\"\"}},\"type\":\"scattergeo\"}],\"scattergl\":[{\"marker\":{\"colorbar\":{\"outlinewidth\":0,\"ticks\":\"\"}},\"type\":\"scattergl\"}],\"scattermapbox\":[{\"marker\":{\"colorbar\":{\"outlinewidth\":0,\"ticks\":\"\"}},\"type\":\"scattermapbox\"}],\"scatterpolar\":[{\"marker\":{\"colorbar\":{\"outlinewidth\":0,\"ticks\":\"\"}},\"type\":\"scatterpolar\"}],\"scatterpolargl\":[{\"marker\":{\"colorbar\":{\"outlinewidth\":0,\"ticks\":\"\"}},\"type\":\"scatterpolargl\"}],\"scatterternary\":[{\"marker\":{\"colorbar\":{\"outlinewidth\":0,\"ticks\":\"\"}},\"type\":\"scatterternary\"}],\"surface\":[{\"colorbar\":{\"outlinewidth\":0,\"ticks\":\"\"},\"colorscale\":[[0.0,\"#0d0887\"],[0.1111111111111111,\"#46039f\"],[0.2222222222222222,\"#7201a8\"],[0.3333333333333333,\"#9c179e\"],[0.4444444444444444,\"#bd3786\"],[0.5555555555555556,\"#d8576b\"],[0.6666666666666666,\"#ed7953\"],[0.7777777777777778,\"#fb9f3a\"],[0.8888888888888888,\"#fdca26\"],[1.0,\"#f0f921\"]],\"type\":\"surface\"}],\"table\":[{\"cells\":{\"fill\":{\"color\":\"#EBF0F8\"},\"line\":{\"color\":\"white\"}},\"header\":{\"fill\":{\"color\":\"#C8D4E3\"},\"line\":{\"color\":\"white\"}},\"type\":\"table\"}]},\"layout\":{\"annotationdefaults\":{\"arrowcolor\":\"#2a3f5f\",\"arrowhead\":0,\"arrowwidth\":1},\"autotypenumbers\":\"strict\",\"coloraxis\":{\"colorbar\":{\"outlinewidth\":0,\"ticks\":\"\"}},\"colorscale\":{\"diverging\":[[0,\"#8e0152\"],[0.1,\"#c51b7d\"],[0.2,\"#de77ae\"],[0.3,\"#f1b6da\"],[0.4,\"#fde0ef\"],[0.5,\"#f7f7f7\"],[0.6,\"#e6f5d0\"],[0.7,\"#b8e186\"],[0.8,\"#7fbc41\"],[0.9,\"#4d9221\"],[1,\"#276419\"]],\"sequential\":[[0.0,\"#0d0887\"],[0.1111111111111111,\"#46039f\"],[0.2222222222222222,\"#7201a8\"],[0.3333333333333333,\"#9c179e\"],[0.4444444444444444,\"#bd3786\"],[0.5555555555555556,\"#d8576b\"],[0.6666666666666666,\"#ed7953\"],[0.7777777777777778,\"#fb9f3a\"],[0.8888888888888888,\"#fdca26\"],[1.0,\"#f0f921\"]],\"sequentialminus\":[[0.0,\"#0d0887\"],[0.1111111111111111,\"#46039f\"],[0.2222222222222222,\"#7201a8\"],[0.3333333333333333,\"#9c179e\"],[0.4444444444444444,\"#bd3786\"],[0.5555555555555556,\"#d8576b\"],[0.6666666666666666,\"#ed7953\"],[0.7777777777777778,\"#fb9f3a\"],[0.8888888888888888,\"#fdca26\"],[1.0,\"#f0f921\"]]},\"colorway\":[\"#636efa\",\"#EF553B\",\"#00cc96\",\"#ab63fa\",\"#FFA15A\",\"#19d3f3\",\"#FF6692\",\"#B6E880\",\"#FF97FF\",\"#FECB52\"],\"font\":{\"color\":\"#2a3f5f\"},\"geo\":{\"bgcolor\":\"white\",\"lakecolor\":\"white\",\"landcolor\":\"#E5ECF6\",\"showlakes\":true,\"showland\":true,\"subunitcolor\":\"white\"},\"hoverlabel\":{\"align\":\"left\"},\"hovermode\":\"closest\",\"mapbox\":{\"style\":\"light\"},\"paper_bgcolor\":\"white\",\"plot_bgcolor\":\"#E5ECF6\",\"polar\":{\"angularaxis\":{\"gridcolor\":\"white\",\"linecolor\":\"white\",\"ticks\":\"\"},\"bgcolor\":\"#E5ECF6\",\"radialaxis\":{\"gridcolor\":\"white\",\"linecolor\":\"white\",\"ticks\":\"\"}},\"scene\":{\"xaxis\":{\"backgroundcolor\":\"#E5ECF6\",\"gridcolor\":\"white\",\"gridwidth\":2,\"linecolor\":\"white\",\"showbackground\":true,\"ticks\":\"\",\"zerolinecolor\":\"white\"},\"yaxis\":{\"backgroundcolor\":\"#E5ECF6\",\"gridcolor\":\"white\",\"gridwidth\":2,\"linecolor\":\"white\",\"showbackground\":true,\"ticks\":\"\",\"zerolinecolor\":\"white\"},\"zaxis\":{\"backgroundcolor\":\"#E5ECF6\",\"gridcolor\":\"white\",\"gridwidth\":2,\"linecolor\":\"white\",\"showbackground\":true,\"ticks\":\"\",\"zerolinecolor\":\"white\"}},\"shapedefaults\":{\"line\":{\"color\":\"#2a3f5f\"}},\"ternary\":{\"aaxis\":{\"gridcolor\":\"white\",\"linecolor\":\"white\",\"ticks\":\"\"},\"baxis\":{\"gridcolor\":\"white\",\"linecolor\":\"white\",\"ticks\":\"\"},\"bgcolor\":\"#E5ECF6\",\"caxis\":{\"gridcolor\":\"white\",\"linecolor\":\"white\",\"ticks\":\"\"}},\"title\":{\"x\":0.05},\"xaxis\":{\"automargin\":true,\"gridcolor\":\"white\",\"linecolor\":\"white\",\"ticks\":\"\",\"title\":{\"standoff\":15},\"zerolinecolor\":\"white\",\"zerolinewidth\":2},\"yaxis\":{\"automargin\":true,\"gridcolor\":\"white\",\"linecolor\":\"white\",\"ticks\":\"\",\"title\":{\"standoff\":15},\"zerolinecolor\":\"white\",\"zerolinewidth\":2}}},\"xaxis\":{\"anchor\":\"y\",\"domain\":[0.0,1.0],\"title\":{\"text\":\"Year\",\"font\":{\"size\":20}},\"showgrid\":false},\"yaxis\":{\"anchor\":\"x\",\"domain\":[0.0,1.0],\"title\":{\"text\":\"Percentage of female quotes per year\",\"font\":{\"size\":20}},\"showgrid\":false},\"legend\":{\"title\":{\"text\":\"Countries of interest\"},\"tracegroupgap\":0,\"font\":{\"size\":13},\"orientation\":\"v\",\"yanchor\":\"bottom\",\"y\":0.87,\"xanchor\":\"left\",\"x\":1.05},\"margin\":{\"t\":60},\"barmode\":\"group\",\"height\":800,\"width\":1000,\"title\":{\"font\":{\"size\":25},\"text\":\"Percentage of female quotes per year and per country\",\"yanchor\":\"top\",\"y\":0.995,\"xanchor\":\"left\",\"x\":0.07}},                        {\"responsive\": true}                    ).then(function(){\n",
       "                            \n",
       "var gd = document.getElementById('d1a17579-e511-4961-aa4f-926b387c9eb2');\n",
       "var x = new MutationObserver(function (mutations, observer) {{\n",
       "        var display = window.getComputedStyle(gd).display;\n",
       "        if (!display || display === 'none') {{\n",
       "            console.log([gd, 'removed!']);\n",
       "            Plotly.purge(gd);\n",
       "            observer.disconnect();\n",
       "        }}\n",
       "}});\n",
       "\n",
       "// Listen for the removal of the full notebook cells\n",
       "var notebookContainer = gd.closest('#notebook-container');\n",
       "if (notebookContainer) {{\n",
       "    x.observe(notebookContainer, {childList: true});\n",
       "}}\n",
       "\n",
       "// Listen for the clearing of the current output cell\n",
       "var outputEl = gd.closest('.output');\n",
       "if (outputEl) {{\n",
       "    x.observe(outputEl, {childList: true});\n",
       "}}\n",
       "\n",
       "                        })                };                });            </script>        </div>"
      ]
     },
     "metadata": {},
     "output_type": "display_data"
    }
   ],
   "source": [
    "fig = px.bar(df_all_years_females ,x='year',y='Proportion', color = 'media_country', barmode=\"group\",\n",
    "             labels={\"species\": \"countries of interest\"},\n",
    "             category_orders={\"media_country\": [\"United Kingdom\", \"United States of America\", \"South Africa\"]},\n",
    "             color_discrete_sequence = palette_countries,\n",
    "             width = 1000, height = 800)\n",
    "\n",
    "fig.update_xaxes(showgrid=False)\n",
    "fig.update_yaxes(showgrid=False)\n",
    "fig.update_layout(title=dict(\n",
    "                            text=\"Percentage of female quotes per year and per country\",\n",
    "                            font_size=25,\n",
    "                            yanchor=\"top\",\n",
    "                            y=0.995,\n",
    "                            xanchor=\"left\",\n",
    "                            x=0.07),\n",
    "                  yaxis = dict(\n",
    "                           title='Percentage of female quotes per year',\n",
    "                           titlefont_size=20),\n",
    "                  xaxis = dict(\n",
    "                           title='Year',\n",
    "                           titlefont_size=20),\n",
    "                  legend=dict(\n",
    "                           title=\"Countries of interest\",\n",
    "                           orientation=\"v\",\n",
    "                           yanchor=\"bottom\",\n",
    "                           y=0.87,\n",
    "                           xanchor=\"left\",\n",
    "                           x=1.05,\n",
    "                           font_size = 13))\n",
    "    \n",
    "fig.show()\n",
    "fig.write_html(\"images_website/evolution_years.html\")"
   ]
  },
  {
   "cell_type": "markdown",
   "id": "297b5eb8-945e-44d0-945a-da6c381855bc",
   "metadata": {},
   "source": [
    "# Part 2 of the  data story\n",
    "\n",
    "Welcome, glad you're curious for more ! \n",
    "\n",
    "#### This notebook aims at analysing the respected media and the most popular ones \n",
    "\n",
    "The list of most respected media is taken from the Top 10 Forbes: \n",
    "\n",
    "https://www.forbes.com/sites/berlinschoolofcreativeleadership/2017/02/01/10-journalism-brands-where-you-will-find-real-facts-rather-than-alternative-facts/?sh=1c18e04de9b5\n",
    "\n",
    "The list of most popular/read media is taken from: https://www.similarweb.com/top-websites/category/news-and-media/\n",
    "\n",
    "*Note*: We take 5 in order which appear in at least 3 years \n",
    "\n",
    "**Good to know**:\n",
    "- Type of media represents the group of either respected or popular\n"
   ]
  },
  {
   "cell_type": "code",
   "execution_count": 9,
   "id": "3f393271",
   "metadata": {},
   "outputs": [],
   "source": [
    "# This boolean is used in order to not waste time running files that are already present \n",
    "RUN_PREPROCESSING = False\n",
    "\n",
    "FILE2015 = DATA_PATH2015 + 'M3_df_2015_complete.pkl'\n",
    "FILE2016 = DATA_PATH2016 + 'M3_df_2016_complete.pkl'\n",
    "FILE2017 = DATA_PATH2017 + 'M3_df_2017_complete.pkl'\n",
    "FILE2018 = DATA_PATH2018 + 'M3_df_2018_complete.pkl'\n",
    "FILE2019 = DATA_PATH2019 + 'M3_df_2019_complete.pkl'\n",
    "FILE2020 = DATA_PATH2020 + 'M3_df_2020_complete.pkl'\n",
    "\n",
    "FILES = [FILE2015, FILE2016, FILE2017, FILE2018, FILE2019, FILE2020]"
   ]
  },
  {
   "cell_type": "code",
   "execution_count": 10,
   "id": "91697ce7-1423-4077-8630-5b8f97566374",
   "metadata": {},
   "outputs": [],
   "source": [
    "# The top 5 selected media \n",
    "top5_respected_media = [\"nytimes\", \"washingtonpost\", \"bbc\", \"reuters\", \"politico\"]\n",
    "top5_popular_media = [\"yahoo\", \"msn\",\"bbc\", \"cnn\", \"nytimes\"]"
   ]
  },
  {
   "cell_type": "code",
   "execution_count": 11,
   "id": "2d111762-b215-414a-952e-271747eb33d9",
   "metadata": {
    "tags": []
   },
   "outputs": [],
   "source": [
    "\n",
    "if RUN_PREPROCESSING:\n",
    "\n",
    "    # For extracting respected media\n",
    "    df_2015_respected_media = extract_media_interest(df_2015, DATA_PATH2015, FILE2015, top5_respected_media, respected = True)\n",
    "    df_2016_respected_media = extract_media_interest(df_2016, DATA_PATH2016, FILE2016, top5_respected_media, respected = True)\n",
    "    df_2017_respected_media = extract_media_interest(df_2017, DATA_PATH2017, FILE2017, top5_respected_media, respected = True)\n",
    "    df_2018_respected_media = extract_media_interest(df_2018, DATA_PATH2018, FILE2018, top5_respected_media, respected = True)\n",
    "    df_2019_respected_media = extract_media_interest(df_2019, DATA_PATH2019, FILE2019, top5_respected_media, respected = True)\n",
    "    df_2020_respected_media = extract_media_interest(df_2020, DATA_PATH2020, FILE2020, top5_respected_media, respected = True)\n",
    "\n",
    "    # For extracting popular media\n",
    "    df_2015_popular_media = extract_media_interest(df_2015, DATA_PATH2015, FILE2015, top5_popular_media, respected = False)\n",
    "    df_2016_popular_media = extract_media_interest(df_2016, DATA_PATH2016, FILE2016, top5_popular_media, respected = False)\n",
    "    df_2017_popular_media = extract_media_interest(df_2017, DATA_PATH2017, FILE2017, top5_popular_media, respected = False)\n",
    "    df_2018_popular_media = extract_media_interest(df_2018, DATA_PATH2018, FILE2018, top5_popular_media, respected = False)\n",
    "    df_2019_popular_media = extract_media_interest(df_2019, DATA_PATH2019, FILE2019, top5_popular_media, respected = False)\n",
    "    df_2020_popular_media = extract_media_interest(df_2020, DATA_PATH2020, FILE2020, top5_popular_media, respected = False)"
   ]
  },
  {
   "cell_type": "code",
   "execution_count": 16,
   "id": "20ce834a-5032-4ed0-939d-69f15fa0c509",
   "metadata": {},
   "outputs": [],
   "source": [
    "# Respected media \n",
    "with open(DATA_PATH2015 + f'M3_df_{FILE2015[12:16]}_respected_media.pkl', 'rb') as input_file:\n",
    "    df_2015_respected_media = pickle.load(input_file)\n",
    "with open(DATA_PATH2016 + f'M3_df_{FILE2016[12:16]}_respected_media.pkl', 'rb') as input_file:\n",
    "    df_2016_respected_media = pickle.load(input_file)\n",
    "with open(DATA_PATH2017 + f'M3_df_{FILE2017[12:16]}_respected_media.pkl', 'rb') as input_file:\n",
    "    df_2017_respected_media = pickle.load(input_file)\n",
    "with open(DATA_PATH2018 + f'M3_df_{FILE2018[12:16]}_respected_media.pkl', 'rb') as input_file:\n",
    "    df_2018_respected_media = pickle.load(input_file)\n",
    "with open(DATA_PATH2019 + f'M3_df_{FILE2019[12:16]}_respected_media.pkl', 'rb') as input_file:\n",
    "    df_2019_respected_media = pickle.load(input_file)\n",
    "with open(DATA_PATH2020 + f'M3_df_{FILE2020[12:16]}_respected_media.pkl', 'rb') as input_file:\n",
    "    df_2020_respected_media =  pickle.load(input_file)"
   ]
  },
  {
   "cell_type": "code",
   "execution_count": 17,
   "id": "fe8ef7ca-cfb9-47ed-b7fa-358fbca30dfb",
   "metadata": {},
   "outputs": [],
   "source": [
    "# Popular media \n",
    "with open(DATA_PATH2015 + f'M3_df_{FILE2015[12:16]}_popular_media.pkl', 'rb') as input_file:\n",
    "    df_2015_popular_media = pickle.load(input_file)\n",
    "with open(DATA_PATH2016 + f'M3_df_{FILE2016[12:16]}_popular_media.pkl', 'rb') as input_file:\n",
    "    df_2016_popular_media = pickle.load(input_file)\n",
    "with open(DATA_PATH2017 + f'M3_df_{FILE2017[12:16]}_popular_media.pkl', 'rb') as input_file:\n",
    "    df_2017_popular_media = pickle.load(input_file)\n",
    "with open(DATA_PATH2018 + f'M3_df_{FILE2018[12:16]}_popular_media.pkl', 'rb') as input_file:\n",
    "    df_2018_popular_media = pickle.load(input_file)\n",
    "with open(DATA_PATH2019 + f'M3_df_{FILE2019[12:16]}_popular_media.pkl', 'rb') as input_file:\n",
    "    df_2019_popular_media = pickle.load(input_file)\n",
    "with open(DATA_PATH2020 + f'M3_df_{FILE2020[12:16]}_popular_media.pkl', 'rb') as input_file:\n",
    "    df_2020_popular_media =  pickle.load(input_file)"
   ]
  },
  {
   "cell_type": "code",
   "execution_count": 18,
   "id": "d1e5049a-44e9-4b49-a983-3d3e603b2cb2",
   "metadata": {},
   "outputs": [],
   "source": [
    "# Make list of the respective medias to allow cleaner code\n",
    "\n",
    "df_list_respect = [df_2015_respected_media, df_2016_respected_media, df_2017_respected_media, df_2018_respected_media, df_2019_respected_media,\n",
    "                  df_2020_respected_media]\n",
    "\n",
    "df_list_popular = [df_2015_popular_media, df_2016_popular_media, df_2017_popular_media, df_2018_popular_media, df_2019_popular_media,\n",
    "                  df_2020_popular_media]"
   ]
  },
  {
   "cell_type": "code",
   "execution_count": 19,
   "id": "4e012e90-2cc1-4ae7-9b3b-7cebb86f1e36",
   "metadata": {},
   "outputs": [],
   "source": [
    "# This function is used in order to add some transparency to the colors \n",
    "white = [1, 1, 1]\n",
    "alpha = 0.3\n",
    "popular_color_alpha = make_rgb_transparent(popular_color, white, alpha)\n",
    "respect_color_alpha = make_rgb_transparent(respect_color, white, alpha)\n",
    "female_color_alpha = make_rgb_transparent(female_color, white, alpha -0.2)\n",
    "male_color_alpha = make_rgb_transparent(male_color, white, alpha -0.2)"
   ]
  },
  {
   "cell_type": "markdown",
   "id": "c735b7e6",
   "metadata": {
    "tags": []
   },
   "source": [
    "### Proportion of quotes depending on gender and type of media\n",
    "\n",
    "Here we are looking at possible differences in terms of proportion of males/females being quoted depending on the type of media (popular or respected)"
   ]
  },
  {
   "cell_type": "code",
   "execution_count": 20,
   "id": "9cb4fd75-ca3f-48a9-bd91-83ead4d77e47",
   "metadata": {},
   "outputs": [],
   "source": [
    "# Combine all years with the columns of interest\n",
    "gender_all_years_extended_res = gender_all_years_extension(df_list_respect)\n",
    "gender_all_years_extended_res[\"Respected\"] = True\n",
    "\n",
    "gender_all_years_extended_pop = gender_all_years_extension(df_list_popular)\n",
    "gender_all_years_extended_pop[\"Respected\"] = False\n"
   ]
  },
  {
   "cell_type": "code",
   "execution_count": 21,
   "id": "519c0a35-83b8-4293-9fe5-0bec16bd5314",
   "metadata": {},
   "outputs": [],
   "source": [
    "# Combine both the popular and the respected dataframe\n",
    "df_pop_res_all = gender_all_years_extended_res.append(gender_all_years_extended_pop)"
   ]
  },
  {
   "cell_type": "code",
   "execution_count": 22,
   "id": "35dff4df-26da-487b-85d6-da2a25047e33",
   "metadata": {},
   "outputs": [
    {
     "data": {
      "image/png": "[encoded data removed]",
      "text/plain": [
       "<Figure size 504x360 with 1 Axes>"
      ]
     },
     "metadata": {},
     "output_type": "display_data"
    }
   ],
   "source": [
    "# Line plot\n",
    "fig = plt.figure(figsize=(7,5))\n",
    "labels = [\"Popular\", \"Respected\"]\n",
    "g= sns.lineplot(data = df_pop_res_all.reset_index(), x = \"year\", y = \"percentage_female\", hue = \"Respected\" , marker = \"o\",palette=[popular_color,respect_color], linewidth = 3.5)\n",
    "h, l = g.get_legend_handles_labels()\n",
    "g.legend(h, labels, title=\"Type of media\")\n",
    "g.set(xlabel='Year', ylabel='Proportion of females')\n",
    "plt.title(\"Proportion of females throughout the years\", pad=20)\n",
    "plt.grid(False)\n",
    "plt.ylim([0.12,0.25])\n",
    "plt.show(g)\n",
    "fig.savefig('images_website/prop_type_media_females_lineplot.svg', format='svg', dpi=1200)"
   ]
  },
  {
   "cell_type": "markdown",
   "id": "404f2fb3-af65-4196-a870-995860464ee9",
   "metadata": {},
   "source": [
    "**Interpretation**\n",
    "It seems that the proportion of women in both the respected and the popular media is increasing.\n",
    "\n",
    "It is interesting to note that it tends to be higher for popular media than respected; we shall analyse this further"
   ]
  },
  {
   "cell_type": "markdown",
   "id": "be0fcb71-13ca-46fc-b302-53e9fe482212",
   "metadata": {},
   "source": [
    "### Sitenames proportion and plot\n",
    "\n",
    "The sitenames are the different media belonging to the two \"types_of_media\", the popular and the respected\n",
    "\n",
    "The list of the respective media is given in cell #5"
   ]
  },
  {
   "cell_type": "code",
   "execution_count": 23,
   "id": "7ecb93bb-91fd-43e5-ab15-1c1005b2c2c2",
   "metadata": {
    "tags": []
   },
   "outputs": [],
   "source": [
    "\n",
    "df_all_sites_respect = loop_all_sitenames_proportion(df_list_respect)\n",
    "df_all_sites_popular = loop_all_sitenames_proportion(df_list_popular)\n",
    "df_all_sites_respect[\"Type_of_media\"] = \"Respected\"\n",
    "df_all_sites_popular[\"Type_of_media\"] = \"Popular\""
   ]
  },
  {
   "cell_type": "code",
   "execution_count": 24,
   "id": "c45a80de-fd0f-4b25-be0b-3f65adb703b7",
   "metadata": {
    "tags": []
   },
   "outputs": [],
   "source": [
    "# Separate by gender\n",
    "df_all_sites_male_res = df_all_sites_respect[df_all_sites_respect.gender == \"Male\"]\n",
    "df_all_sites_male_pop = df_all_sites_popular[df_all_sites_popular.gender == \"Male\"]\n",
    "\n",
    "df_all_sites_female_res = df_all_sites_respect[df_all_sites_respect.gender == \"Female\"]\n",
    "df_all_sites_female_pop = df_all_sites_popular[df_all_sites_popular.gender == \"Female\"]"
   ]
  },
  {
   "cell_type": "code",
   "execution_count": 25,
   "id": "858f4aea-58ae-417b-a76c-6d610af0b805",
   "metadata": {},
   "outputs": [],
   "source": [
    "df_all_sites_female_combined = df_all_sites_female_res.append(df_all_sites_female_pop)"
   ]
  },
  {
   "cell_type": "markdown",
   "id": "ec9e548f-0791-4281-912a-82c890dc053a",
   "metadata": {},
   "source": [
    "#### We make plot showing the percentage of female speakers in the different media "
   ]
  },
  {
   "cell_type": "code",
   "execution_count": null,
   "id": "a0a04e6a-9a80-4358-929d-cba97dd09d98",
   "metadata": {},
   "outputs": [],
   "source": [
    "fig = plt.figure(figsize=(20,20))\n",
    "fig  = px.line( x=df_all_sites_female_combined[\"Year\"],\n",
    "               y = df_all_sites_female_combined[\"Proportion\"], \n",
    "               color = df_all_sites_female_combined[\"sitenames\"], \n",
    "               markers='x',\n",
    "               labels={\n",
    "                     \"color\": \"Media\",\n",
    "                     \"y\": \"Percentage of females\",\n",
    "                     \"x\": \"Year\"\n",
    "                   \n",
    "                 },\n",
    "               color_discrete_sequence = px.colors.qualitative.Safe,\n",
    "               facet_col=df_all_sites_female_combined[\"Type_of_media\"])\n",
    "fig.for_each_annotation(lambda a: a.update(text=a.text.split(\"=\")[-1]))\n",
    "fig.update_xaxes(showgrid=False)\n",
    "fig.update_yaxes(showgrid=False)\n",
    "fig.update_layout(title_text='Percentage of quotes from females based on the media', title_x=0.25)\n"
   ]
  },
  {
   "cell_type": "code",
   "execution_count": null,
   "id": "47256eab-b6fa-45cf-9219-ec4cf929bbc2",
   "metadata": {},
   "outputs": [],
   "source": [
    "# Save plot for website\n",
    "pio.write_html(fig, file='images_website/percentage_quotes_females_media.html', auto_open=False)"
   ]
  },
  {
   "cell_type": "markdown",
   "id": "732fcca9-d353-45f4-964c-31eab404da3d",
   "metadata": {},
   "source": [
    "**Intepretation**\n",
    "\n",
    "From this plot, we note that their is more disparity between the media within a same \"type of media\" (respected vs popular) than between the type of media."
   ]
  },
  {
   "cell_type": "markdown",
   "id": "077a9446",
   "metadata": {},
   "source": [
    "## Proportion of quotes per age\n",
    "\n",
    "In this part, we are looking to see at the distribution of age depending on the type of media and the gender of the quoted speaker"
   ]
  },
  {
   "cell_type": "code",
   "execution_count": null,
   "id": "78474c81-82a1-424e-bcb9-752f40d16b5e",
   "metadata": {},
   "outputs": [],
   "source": [
    "# Access columns of interest\n",
    "df_all_age_range_appended_popular = append_all_df(df_list_popular, columns = [\"gender\", \"sitenames\", \"age_range\"])\n",
    "df_all_age_range_appended_respect = append_all_df(df_list_respect, columns = [\"gender\", \"sitenames\", \"age_range\"])"
   ]
  },
  {
   "cell_type": "code",
   "execution_count": null,
   "id": "e43f8e03-88b3-42ab-805d-bf83c9cf0ece",
   "metadata": {},
   "outputs": [],
   "source": [
    "# Make proportions for the distribution of age ranges\n",
    "df_all_age_proportion_popular = create_df_age_proportion(df_all_age_range_appended_popular, threshold_tot = 1000)\n",
    "df_all_age_proportion_respect = create_df_age_proportion(df_all_age_range_appended_respect, threshold_tot = 1000)"
   ]
  },
  {
   "cell_type": "code",
   "execution_count": null,
   "id": "41ef3fb7-c24f-4667-9f8a-8d0ca3204293",
   "metadata": {},
   "outputs": [],
   "source": [
    "# We separate by gender\n",
    "df_all_age_proportion_popular_female = df_all_age_proportion_popular[df_all_age_proportion_popular[\"gender\"] == \"Female\"]\n",
    "df_all_age_proportion_popular_male = df_all_age_proportion_popular[df_all_age_proportion_popular[\"gender\"] == \"Male\"]"
   ]
  },
  {
   "cell_type": "code",
   "execution_count": null,
   "id": "5015dc76-9eda-493f-9dc4-ef232029b202",
   "metadata": {},
   "outputs": [],
   "source": [
    "df_all_age_proportion_respect_female = df_all_age_proportion_respect[df_all_age_proportion_respect[\"gender\"] == \"Female\"]\n",
    "df_all_age_proportion_respect_male = df_all_age_proportion_respect[df_all_age_proportion_respect[\"gender\"] == \"Male\"]"
   ]
  },
  {
   "cell_type": "code",
   "execution_count": null,
   "id": "ecb1c184-71cf-443c-90ea-42f9800a2210",
   "metadata": {},
   "outputs": [],
   "source": [
    "df_all_age_proportion_respect_female[\"type_of_media\"] = \"Respected\"\n",
    "df_all_age_proportion_popular_female[\"type_of_media\"] = \"Popular\"\n",
    "df_all_age_proportion_respect_male[\"type_of_media\"] = \"Respected\"\n",
    "df_all_age_proportion_popular_male[\"type_of_media\"] = \"Popular\""
   ]
  },
  {
   "cell_type": "code",
   "execution_count": null,
   "id": "2a78a886-d485-477a-9bc9-9e68c4dab778",
   "metadata": {},
   "outputs": [],
   "source": [
    "# Combining respected and popular for the genders\n",
    "df_all_age_proportion_respect_combined_female = df_all_age_proportion_respect_female.append(df_all_age_proportion_popular_female)\n",
    "df_all_age_proportion_respect_combined_male = df_all_age_proportion_respect_male.append(df_all_age_proportion_popular_male)"
   ]
  },
  {
   "cell_type": "code",
   "execution_count": null,
   "id": "5960142e-fae8-4cc6-a10e-ea13a6413371",
   "metadata": {},
   "outputs": [],
   "source": [
    "f, axs = plt.subplots(2, 1, sharex=True, figsize = (16,10))\n",
    "\n",
    "\n",
    "\n",
    "sns.pointplot(data=df_all_age_proportion_respect_combined_female, x='age_range',y='Proportion', hue = \"type_of_media\",ax=axs[0], palette=[respect_color, popular_color], alpha = 0.7,dodge=False)\n",
    "sns.pointplot(data=df_all_age_proportion_respect_combined_male, x='age_range',y='Proportion',ax=axs[1],hue = \"type_of_media\",palette=[respect_color,popular_color], alpha = 0.7, dodge = False, legend = False)\n",
    "plt.suptitle(\"Age distribution depending on type of media and gender\", fontsize = 15)\n",
    "axs[0].set_title('Females', pad = 20)\n",
    "axs[1].set(xlabel='Age range', ylabel='Percentage of male quotes')\n",
    "axs[0].set(xlabel='', ylabel='Percentage of female quotes')\n",
    "axs[1].set_title('Males', pad = 20)\n",
    "\n",
    "axs[0].tick_params(axis = 'x',labelrotation=45)\n",
    "axs[1].tick_params(labelrotation=45)\n",
    "axs[1].legend_.set_title(\"Type of media\")\n",
    "plt.legend(bbox_to_anchor=(1.05, 1), loc='upper left', borderaxespad=0)\n",
    "axs[0].legend_.remove()\n",
    "f.tight_layout()\n",
    "f.savefig('images_website/age_distribution_combined_by_gender.svg', format='svg', dpi=1200)"
   ]
  },
  {
   "cell_type": "markdown",
   "id": "ef1a1877-861e-4727-8429-21550ce95261",
   "metadata": {},
   "source": [
    "**Interpretation**\n",
    "\n",
    "Super interesting to see that the trend is a normal distribution for males in both the respected and the popular type of media. In the females, the trend is somehoe different.\n",
    "For the respected media, the peak lies to the right of the males average and for the popular it lies to the left (that is younger females are more quoted in popular media)\n",
    "\n",
    "While it may seem good that the proportion of females quoted is younger (it could indeed indicate that we are listening now more than before to females) the fact that it is only the fact popular might be discouraging. \n"
   ]
  },
  {
   "cell_type": "markdown",
   "id": "4880f8ed",
   "metadata": {},
   "source": [
    "## Proportion of quotes depending on length of quotes\n",
    "\n",
    "In this part we are looking to see whether the gender has an impact on the length of the quote for either popular and respected"
   ]
  },
  {
   "cell_type": "code",
   "execution_count": null,
   "id": "f398bca2-943e-4e68-912a-ae8a437b1192",
   "metadata": {},
   "outputs": [],
   "source": [
    "# Append all years with the columns of interest\n",
    "df_popular_quote_length = append_all_df(df_list_popular, columns = ['gender','quotation_length', 'Year'], with_year = True)\n",
    "df_respect_quote_length = append_all_df(df_list_respect, columns = ['gender','quotation_length', 'Year'], with_year = True)"
   ]
  },
  {
   "cell_type": "code",
   "execution_count": null,
   "id": "5d0ea2f7-46f4-4da5-9a9a-7e2e363f3668",
   "metadata": {},
   "outputs": [],
   "source": [
    "# Append all years with the columns of interest\n",
    "stats_length_popular= CI_95_percent(df_popular_quote_length).reset_index()\n",
    "stats_length_respect= CI_95_percent(df_respect_quote_length).reset_index()"
   ]
  },
  {
   "cell_type": "code",
   "execution_count": null,
   "id": "bf47c90c-720a-43bb-9711-a9f468de3f3a",
   "metadata": {},
   "outputs": [],
   "source": [
    "# Separate statistics by gender\n",
    "stats_length_popular_female = stats_length_popular[stats_length_popular[\"gender\"] == \"Female\"]\n",
    "stats_length_popular_male = stats_length_popular[stats_length_popular[\"gender\"] == \"Male\"]\n",
    "\n",
    "stats_length_respect_female = stats_length_respect[stats_length_respect[\"gender\"] == \"Female\"]\n",
    "stats_length_respect_male = stats_length_respect[stats_length_respect[\"gender\"] == \"Male\"]"
   ]
  },
  {
   "cell_type": "code",
   "execution_count": null,
   "id": "fea8a56f-70d4-49ee-8200-f3bbae2300db",
   "metadata": {},
   "outputs": [],
   "source": [
    "plt.figure(figsize = (12,8))\n",
    "plt.title(\"Length of quotes for both type of medias with CI = 95%\")\n",
    "plt.plot(stats_length_popular_female.Year,stats_length_popular_female[\"mean\"], marker='$\\u2640$', label = \"Female popular\",linestyle='--', markersize=14, color = popular_color)\n",
    "plt.fill_between(stats_length_popular_female[\"Year\"], stats_length_popular_female[\"ci95_lo\"],stats_length_popular_female[\"ci95_hi\"], alpha = 0.2, color = popular_color)\n",
    "\n",
    "plt.plot(stats_length_popular_male.Year,stats_length_popular_male[\"mean\"],label = \"Male popular\",  linestyle='dotted',  marker='$\\u2642$', markersize=14, color =popular_color)\n",
    "plt.fill_between(stats_length_popular_male[\"Year\"], stats_length_popular_male[\"ci95_lo\"], stats_length_popular_male[\"ci95_hi\"], alpha = 0.2, color =popular_color)\n",
    "plt.plot(stats_length_respect_female.Year,stats_length_respect_female[\"mean\"], label = \"Female respected\", marker='$\\u2640$', linestyle='--', markersize=14, color = respect_color)\n",
    "plt.fill_between(stats_length_respect_female[\"Year\"], stats_length_respect_female[\"ci95_lo\"], stats_length_respect_female[\"ci95_hi\"], alpha = 0.2, color = respect_color)\n",
    "plt.plot(stats_length_respect_male.Year,stats_length_respect_male[\"mean\"],  linestyle='dotted', label = \"Male respected\",marker='$\\u2642$', markersize=14, color =respect_color)\n",
    "plt.fill_between(stats_length_respect_male[\"Year\"], stats_length_respect_male[\"ci95_lo\"], stats_length_respect_male[\"ci95_hi\"], alpha = 0.2, color =respect_color)\n",
    "plt.legend()\n",
    "plt.ylabel(\"Mean length quote\");\n",
    "plt.ylabel(\"Mean length quote\");\n",
    "plt.savefig('images_website/length_quote_combined_with_sex_symbol.svg', format='svg', dpi=1200)"
   ]
  },
  {
   "cell_type": "markdown",
   "id": "9067e61d-e84c-4fdd-96a6-1720bd75e6cf",
   "metadata": {},
   "source": [
    "**Interpretation**\n",
    "\n",
    "We note that for the respected media, women throughout the years have a lower mean of words compared to males. \n",
    "\n",
    "However, when looking at the popular media between 2016/2017, the quotes for females became longer than for males. We shall dig further into this.\n"
   ]
  },
  {
   "cell_type": "markdown",
   "id": "aaea6602-62fb-48a4-8de3-5297983de22e",
   "metadata": {},
   "source": [
    "### Look at the number of quotes per gender for each sitenames\n",
    "\n",
    "The goal of this part is compare the number of quotes for each gender depending on the sitename (the media)"
   ]
  },
  {
   "cell_type": "code",
   "execution_count": null,
   "id": "b56b083f",
   "metadata": {
    "tags": []
   },
   "outputs": [],
   "source": [
    "# Takes 15 seconds to run\n",
    "loop_media_gender(df_list_respect)\n",
    "\n",
    "loop_media_gender(df_list_popular)"
   ]
  },
  {
   "cell_type": "markdown",
   "id": "ea938d92-c683-417a-9ea6-46bb7fc82879",
   "metadata": {},
   "source": [
    "**Interpretation**\n",
    "\n",
    "We do not find this plot brings any value to the study"
   ]
  },
  {
   "cell_type": "markdown",
   "id": "f76f7ea5-7fb9-4bea-bce2-27c8ade33f2f",
   "metadata": {
    "tags": []
   },
   "source": [
    "### Dig into citizenship\n",
    "\n",
    "In this part we want to look at the citizenship of each gender that are quoted for each type of media. \n",
    "\n",
    "It is important to note that the media we are seeing comes from english speaking countries (for the respected ones). \n",
    "We thus expect a bias for english speaking countries but are more interested in none english speaking  ones"
   ]
  },
  {
   "cell_type": "code",
   "execution_count": null,
   "id": "6cacefdb-6cf5-4308-ab8e-f75b05cc7aea",
   "metadata": {},
   "outputs": [],
   "source": [
    "# Collect info interesting for citizenship\n",
    "df_citizen_all_popular = append_all_df(df_list_popular, columns = [\"gender\", \"speaker\", \"tags\", \"Year\", \"sitenames\", \"citizenship\", \"Continent\"]).explode(\"tags\")\n",
    "df_citizen_all_respect = append_all_df(df_list_respect, columns = [\"gender\", \"speaker\", \"tags\", \"Year\", \"sitenames\", \"citizenship\", \"Continent\"]).explode(\"tags\")"
   ]
  },
  {
   "cell_type": "code",
   "execution_count": null,
   "id": "91f0c163-5f3b-4998-894d-6af8fb294f70",
   "metadata": {},
   "outputs": [],
   "source": [
    "# Drop rows where citizenship is unknown\n",
    "df_citizen_popular = df_citizen_all_popular.dropna(subset = ['citizenship'])\n",
    "df_citizen_respect = df_citizen_all_respect.dropna(subset = ['citizenship'])\n",
    "\n",
    "print(f\"The popular has {len(df_citizen_all_popular) - len(df_citizen_popular)} rows removed and the respected  {len(df_citizen_all_respect) - len(df_citizen_respect)} rows\")"
   ]
  },
  {
   "cell_type": "code",
   "execution_count": null,
   "id": "02156f82-7283-48c7-8550-3ab7af47e4bb",
   "metadata": {},
   "outputs": [],
   "source": []
  },
  {
   "cell_type": "code",
   "execution_count": null,
   "id": "1e18045b-faf0-4105-b922-832cb429b9b4",
   "metadata": {},
   "outputs": [],
   "source": [
    "# This list was made by hand in order to clean the data\n",
    "\n",
    "df_list_code_words = [\"america\", \"australia\", \"engl\", \"ireland\", \"netherlands\", \"italy\", \"india\", \"german\", \"japan\", \"portugal\",\n",
    "                      \"france\", \"china\", \"brazil\", \"russia\", \"iran\", \"austria\", \"malaysia\", \"pakistan\", \"greece\", \"nigeria\", \"scotland\",\n",
    "                     \"egypt\", \"romania\", \"lebanon\", \"wales\", \"bulgaria\", \"syria\", \"peru\", \"iraq\", \"hong\", \"congo\",\n",
    "                     \"mongolia\", \"hungary\", \"libya\", \"Afghanistan\", \"Palestin\", \"Armeni\"]\n",
    "df_list_names = [\"United States of America\", \"Australia\", \"United Kingdom\", \"United Kingdom\", \"Netherlands\", \"Italy\", \"India\", \"Germany\",\n",
    "                \"Japan\", \"Portugal\", \"France\", \"China\", \"Brazil\", \"Russia\", \"Iran\", \"Portugal\", \"Malaysia\", \"Pakistan\", \"Greece\",\n",
    "                \"Nigeria\", \"United Kingdom\", \"Egypt\", \"Romania\", \"Lebanon\", \"United Kingdom\", \"Bulgaria\", \"Syria\", \"Peru\", \"Iraq\",\n",
    "                \"Hong Kong\", \"Congo\", \"Mongolia\", \"Hungary\", \"Libya\", \"Afghanistan\", \"Palestine, State of\", \"Armenia\"]"
   ]
  },
  {
   "cell_type": "code",
   "execution_count": null,
   "id": "d2833327-8a20-4030-94b9-7fd1d8e3f599",
   "metadata": {},
   "outputs": [],
   "source": [
    "# Sanity check for equal length between the lists\n",
    "print(len(df_list_code_words),len(df_list_names))"
   ]
  },
  {
   "cell_type": "code",
   "execution_count": null,
   "id": "ae7d5487-4d1a-47be-9645-18fbe70e2220",
   "metadata": {},
   "outputs": [],
   "source": [
    "# Careful this takes at least 2 min\n",
    "# Replace the faulty names with real countries for homogeneity \n",
    "df_citizen_popular = clean_citizenship(df_citizen_popular, df_list_code_words, df_list_names)\n",
    "\n",
    "df_citizen_respect = clean_citizenship(df_citizen_respect, df_list_code_words, df_list_names)"
   ]
  },
  {
   "cell_type": "code",
   "execution_count": null,
   "id": "fc7ebd9a-d59f-47af-815b-14fd13901062",
   "metadata": {},
   "outputs": [],
   "source": [
    "# Now we need to filter out the countries which are not listed as current countries based on the dataset\n",
    "# https://datahub.io/core/country-list#data\n",
    "# Using only column A which stands for the name of the country \n",
    "country_list = pd.read_excel(DATA_PATH + \"country_list.ods\", engine=\"odf\", usecols = \"A\")"
   ]
  },
  {
   "cell_type": "markdown",
   "id": "1fdf6eda-658d-48bd-aabc-ac1605a694d9",
   "metadata": {},
   "source": [
    "We decided to keep only countries that are to date in the list. This is done in order to neglect periods such as the ying dynasty and others."
   ]
  },
  {
   "cell_type": "code",
   "execution_count": null,
   "id": "da696a77-936b-4d54-b6d8-f32d225307b6",
   "metadata": {},
   "outputs": [],
   "source": [
    "# Keep df with citizenship belonging to the list of \"current countries\"\n",
    "\n",
    "df_citizen_popular_clean = df_citizen_popular[df_citizen_popular['citizenship'].isin(country_list[\"Name\"])]\n",
    "df_citizen_respect_clean = df_citizen_respect[df_citizen_respect['citizenship'].isin(country_list[\"Name\"])]"
   ]
  },
  {
   "cell_type": "code",
   "execution_count": null,
   "id": "268f6f87-43a4-4414-a8c3-5c8897a7f7e2",
   "metadata": {},
   "outputs": [],
   "source": [
    "print(f\"We have {df_citizen_popular_clean.citizenship.nunique()} different countries for the popular media and {df_citizen_respect_clean.citizenship.nunique()} for the respected\")"
   ]
  },
  {
   "cell_type": "code",
   "execution_count": null,
   "id": "aa93e264-8041-4be1-8aae-563960cf9a4e",
   "metadata": {},
   "outputs": [],
   "source": [
    "df_citizen_proportion_popular = create_df_citizenship_proportion(df_citizen_popular_clean, with_year = True)\n",
    "df_citizen_proportion_respect = create_df_citizenship_proportion(df_citizen_respect_clean, with_year = True)"
   ]
  },
  {
   "cell_type": "code",
   "execution_count": null,
   "id": "1d3968b1-c4ff-4bce-ad3e-254e95311048",
   "metadata": {},
   "outputs": [],
   "source": [
    "df_citizen_proportion_respect_females =df_citizen_proportion_respect[df_citizen_proportion_respect[\"gender\"] == \"Female\"] \n",
    "df_citizen_proportion_popular_females =df_citizen_proportion_popular[df_citizen_proportion_popular[\"gender\"] == \"Female\"] "
   ]
  },
  {
   "cell_type": "code",
   "execution_count": null,
   "id": "ad546e25-f85e-44c8-9253-9e93db1692cd",
   "metadata": {},
   "outputs": [],
   "source": [
    "fig_prop_respect = px.bar(\n",
    "    data_frame=df_citizen_proportion_respect_females.sort_values(by = [\"Year\", \"Proportion\"], ascending = [True,False]), \n",
    "    y=\"citizenship\", \n",
    "    x=\"Proportion\", \n",
    "    animation_frame=\"Year\", \n",
    "    hover_name=\"citizenship\", \n",
    "    category_orders={'Year':list(range(2015,2020))},\n",
    "     labels={\n",
    "                     \"Proportion\": \"Proportion of females\",\n",
    "                     \"citizenship\": \"Citizenship\"\n",
    "                 },\n",
    "    \n",
    "    range_x =[0, 55],\n",
    "                 width=900, height=1000\n",
    ")\n",
    "\n",
    "fig_prop_respect.add_vline(x=50, line_dash=\"dot\")\n",
    "fig_prop_respect.layout.updatemenus[0].buttons[0].args[1][\"frame\"][\"duration\"] = 1400\n",
    "fig_prop_respect.update_layout(title_text='Proportion of female citizens quoted for respected media through the years', title_x=0.5,  plot_bgcolor=f'rgb{respect_color_alpha}', yaxis = dict(autorange=\"reversed\"))\n",
    "\n",
    "fig_prop_respect.show()\n",
    "pio.write_html(fig_prop_respect, file='images_website/fig_prop_respected_female.html', auto_open=False)"
   ]
  },
  {
   "cell_type": "code",
   "execution_count": null,
   "id": "fc747eba-4e46-41aa-beb5-5a5618e5fdfe",
   "metadata": {},
   "outputs": [],
   "source": [
    "fig_prop_respect = px.bar(\n",
    "    data_frame=df_citizen_proportion_popular_females.sort_values(by = [\"Year\", \"Proportion\"], ascending = [True,False]), \n",
    "    y=\"citizenship\", \n",
    "    x=\"Proportion\", \n",
    "    animation_frame=\"Year\", \n",
    "    hover_name=\"citizenship\", \n",
    "    category_orders={'Year':list(range(2015,2020))},\n",
    "     labels={\n",
    "                     \"Proportion\": \"Proportion of females\",\n",
    "                     \"citizenship\": \"Citizenship\"\n",
    "                 },\n",
    "    \n",
    "    range_x =[0, 100],\n",
    "                 width=900, height=1000\n",
    ")\n",
    "\n",
    "fig_prop_respect.add_vline(x=50, line_dash=\"dot\")\n",
    "fig_prop_respect.layout.updatemenus[0].buttons[0].args[1][\"frame\"][\"duration\"] = 1400\n",
    "fig_prop_respect.update_layout(title_text='Proportion of female citizens quoted for popular media through the years', title_x=0.5,  plot_bgcolor=f'rgb{popular_color_alpha}', yaxis = dict(autorange=\"reversed\"))\n",
    "\n",
    "fig_prop_respect.show()\n",
    "pio.write_html(fig_prop_respect, file='images_website/fig_prop_popular_female.html', auto_open=False)"
   ]
  },
  {
   "cell_type": "markdown",
   "id": "0dd6033c-d5e0-47a1-a376-55b0b50467ae",
   "metadata": {},
   "source": [
    "### Clearer plots\n",
    "\n",
    "In order to better visuaize the plot, we use bar chart race, which enables horizontal movement of the countries \n",
    "We also limit the number of countries we plot by keeping only the ones which have values for years 2015-2019\n",
    "Considering the fact that 2020 has little data and only 5 citizenships, we decided to not plot it --> It could mislead the reader into thinking that some countries went from high levels to low from 2019-2020\n",
    "\n",
    "\n",
    "We are left with 15 citizenships"
   ]
  },
  {
   "cell_type": "code",
   "execution_count": null,
   "id": "43ef2ba1-985a-4dd4-a60a-fbb58a9f4bac",
   "metadata": {},
   "outputs": [],
   "source": [
    "df_citizen_respect_females_brc = df_citizen_proportion_respect_females[[\"citizenship\", \"Year\", \"Proportion\"]]\n",
    "df_citizen_popular_females_brc = df_citizen_proportion_popular_females[[\"citizenship\", \"Year\", \"Proportion\"]]\n"
   ]
  },
  {
   "cell_type": "code",
   "execution_count": null,
   "id": "40d29a98-79fc-44fc-b42d-b014c15b16d9",
   "metadata": {},
   "outputs": [],
   "source": [
    "# The year must be made into time stamp according to docs\n",
    "df_citizen_respect_females_brc.dtypes\n",
    "df_citizen_respect_females_brc[\"Year\"] = pd.to_datetime(df_citizen_respect_females_brc[\"Year\"])\n",
    "df_citizen_popular_females_brc[\"Year\"] = pd.to_datetime(df_citizen_popular_females_brc[\"Year\"])"
   ]
  },
  {
   "cell_type": "code",
   "execution_count": null,
   "id": "2d1f7bb2-21b6-468c-8496-9379739f1e97",
   "metadata": {},
   "outputs": [],
   "source": [
    "# Reformat dataframe according to docs\n",
    "df_citizen_respect_females_brc = pd.pivot_table(df_citizen_respect_females_brc, index=[\"Year\"], columns = [\"citizenship\"], values = [\"Proportion\"])\n",
    "\n",
    "df_citizen_popular_females_brc = pd.pivot_table(df_citizen_popular_females_brc, index=[\"Year\"], columns = [\"citizenship\"], values = [\"Proportion\"])"
   ]
  },
  {
   "cell_type": "code",
   "execution_count": null,
   "id": "a1880d60-c7b7-4cab-8b3a-5ca726de5ed5",
   "metadata": {},
   "outputs": [],
   "source": [
    "# Remove index name\n",
    "df_citizen_respect_females_brc.index.name = None\n",
    "df_citizen_respect_females_brc.columns = [col[1] for col in df_citizen_respect_females_brc.columns]\n",
    "df_citizen_popular_females_brc.index.name = None\n",
    "df_citizen_popular_females_brc.columns = [col[1] for col in df_citizen_popular_females_brc.columns]"
   ]
  },
  {
   "cell_type": "code",
   "execution_count": null,
   "id": "582c39b3-40c8-4e87-afaf-2b148fc20acf",
   "metadata": {},
   "outputs": [],
   "source": [
    "col_before_nan_filter_respect = len(df_citizen_respect_females_brc.columns)\n",
    "col_before_nan_filter_popular = len(df_citizen_popular_females_brc.columns)"
   ]
  },
  {
   "cell_type": "markdown",
   "id": "ba925e83-67ee-4e04-9183-cca5355f4231",
   "metadata": {},
   "source": [
    "Note: Here we still have 2020"
   ]
  },
  {
   "cell_type": "code",
   "execution_count": null,
   "id": "980db367-0190-4e3b-9423-7d768d155f5c",
   "metadata": {},
   "outputs": [],
   "source": [
    "# we only keep countries where the number of nans is at  most one. \n",
    "# This means that we have at least 5 years of data --> 2020 has little data which explains the choice of being lenient on the last year\n",
    "\n",
    "df_citizen_respect_females_brc = df_citizen_respect_females_brc[df_citizen_respect_females_brc.columns[df_citizen_respect_females_brc.isnull().sum() < 2]]\n",
    "df_citizen_popular_females_brc = df_citizen_popular_females_brc[df_citizen_popular_females_brc.columns[df_citizen_popular_females_brc.isnull().sum() < 2]]"
   ]
  },
  {
   "cell_type": "code",
   "execution_count": null,
   "id": "00686e86-388d-474c-89ef-e6c8a5f15160",
   "metadata": {},
   "outputs": [],
   "source": [
    "print(f\"We removed {col_before_nan_filter_respect - len(df_citizen_respect_females_brc.columns)} citizenships for respected media\")\n",
    "print(f\"We removed {col_before_nan_filter_popular - len(df_citizen_popular_females_brc.columns)} citizenships for popular media\")"
   ]
  },
  {
   "cell_type": "code",
   "execution_count": null,
   "id": "4c2e03c2-8f18-49c5-a2d6-86121546bd11",
   "metadata": {},
   "outputs": [],
   "source": [
    "# Fill Nan with zeros\n",
    "df_citizen_respect_females_brc = df_citizen_respect_females_brc.fillna(0)\n",
    "df_citizen_respect_females_brc.head(2)"
   ]
  },
  {
   "cell_type": "code",
   "execution_count": null,
   "id": "5c317890-1224-46b3-8d7e-016612820f19",
   "metadata": {},
   "outputs": [],
   "source": [
    "\n",
    "bcr.bar_chart_race(title = \"Proportion of female speakers for respected media\",df=df_citizen_respect_females_brc, period_fmt='%Y',n_bars=15,filename=None,steps_per_period = 50, figsize = (5,3),period_length=2000,fixed_max=True,bar_kwargs={'alpha': .7}, title_size = 12)"
   ]
  },
  {
   "cell_type": "code",
   "execution_count": null,
   "id": "ab5ccd2c-6b76-4bb7-82e5-f2e7285d7462",
   "metadata": {},
   "outputs": [],
   "source": [
    "\n",
    "bcr.bar_chart_race(title = \"Proportion of female speakers for Popular media\",df=df_citizen_popular_females_brc, period_fmt='%Y',n_bars=15,filename=None,steps_per_period = 50, figsize = (5,3),period_length=2000,fixed_max=True,bar_kwargs={'alpha': .7}, title_size = 12)"
   ]
  },
  {
   "cell_type": "code",
   "execution_count": null,
   "id": "f017c3d2-bb39-4696-9e72-48934e3af63c",
   "metadata": {},
   "outputs": [],
   "source": [
    "# Because of its few data, 2020 is misleading as is removed\n",
    "df_citizen_respect_females_brc_without2020 = df_citizen_respect_females_brc.drop(df_citizen_respect_females_brc.index[-1])\n",
    "df_citizen_popular_females_brc_without2020 = df_citizen_popular_females_brc.drop(df_citizen_respect_females_brc.index[-1])\n"
   ]
  },
  {
   "cell_type": "code",
   "execution_count": null,
   "id": "2495ad90-ec4a-4c02-b239-4bcf367b5a79",
   "metadata": {},
   "outputs": [],
   "source": [
    "bcr.bar_chart_race(title = \"Proportion of female speakers for respected media without 2020\", df=df_citizen_respect_females_brc_without2020, period_fmt='%Y',n_bars=15,filename=None,steps_per_period = 50, figsize = (6,4),period_length=2400,fixed_max=50,bar_kwargs={'alpha': .7}, perpendicular_bar_func='median',cmap='dark24', title_size = 12)"
   ]
  },
  {
   "cell_type": "code",
   "execution_count": null,
   "id": "66f8548b-4e7a-4553-b77b-1f46afa355cd",
   "metadata": {},
   "outputs": [],
   "source": [
    "bcr.bar_chart_race(title = \"Proportion of female speakers for popular media without 2020\", df=df_citizen_popular_females_brc_without2020, period_fmt='%Y',n_bars=15,filename=None,steps_per_period = 40, figsize = (6,4),period_length=2800,fixed_max=True,bar_kwargs={'alpha': .7}, perpendicular_bar_func='median',cmap='dark24', title_size = 12)"
   ]
  },
  {
   "cell_type": "code",
   "execution_count": null,
   "id": "9f704837-0138-4c60-b1c4-39d3c5e60bda",
   "metadata": {},
   "outputs": [],
   "source": [
    "# This is code to use if one wants to safe the html \n",
    "\"\"\"\n",
    "data_html = html.data\n",
    "Html_file= open(\"bar_char_race_female_respected.html\",\"w\")\n",
    "Html_file.write(data_html)\n",
    "Html_file.close()\n",
    "\"\"\""
   ]
  },
  {
   "cell_type": "markdown",
   "id": "f485d953",
   "metadata": {
    "tags": []
   },
   "source": [
    "# Dig into categories\n",
    "## Proportion of quotes per category"
   ]
  },
  {
   "cell_type": "code",
   "execution_count": null,
   "id": "6e928c4e-0019-4777-96d1-7876a93f7d21",
   "metadata": {},
   "outputs": [],
   "source": [
    "# Take 30-40 seconds to run\n",
    "df_category_all_popular = loop_all_categories_proportion(df_list_popular)\n",
    "df_category_all_respected = loop_all_categories_proportion(df_list_respect)"
   ]
  },
  {
   "cell_type": "code",
   "execution_count": null,
   "id": "db2f1263-1b72-4fb4-9948-cb2bedfc76b5",
   "metadata": {},
   "outputs": [],
   "source": [
    "df_category_all_popular[\"Type_of_media\"] = \"Popular\"\n",
    "df_category_all_respected[\"Type_of_media\"] = \"Respected\""
   ]
  },
  {
   "cell_type": "code",
   "execution_count": null,
   "id": "936a2ff4-3e5b-4182-b888-8fdfbe029b6a",
   "metadata": {},
   "outputs": [],
   "source": [
    "df_category_female_all_combined = df_category_all_popular[df_category_all_popular[\"gender\"] == \"Female\"].append(df_category_all_respected[df_category_all_respected[\"gender\"] == \"Female\"])"
   ]
  },
  {
   "cell_type": "code",
   "execution_count": null,
   "id": "d7fe3405-1c9c-4d29-ae56-c2041340bb85",
   "metadata": {},
   "outputs": [],
   "source": [
    "fig  = px.line(df_category_female_all_combined, x=\"Year\",\n",
    "               y =\"Proportion\", \n",
    "               color = \"tags\", \n",
    "               markers='x',\n",
    "               labels={\n",
    "                     \"color\": \"Categories\",\n",
    "                     \"y\": \"Percentage of females\",\n",
    "                     \"x\": \"Year\",\n",
    "                   \"tags\" : \"Categories\"\n",
    "                   \n",
    "                 },\n",
    "              \n",
    "               color_discrete_sequence = palette_cat,\n",
    "               facet_col=df_category_female_all_combined[\"Type_of_media\"],\n",
    "               category_orders={ \"Type_of_media\": [\"Respected\", \"Popular\"]})\n",
    "fig.for_each_annotation(lambda a: a.update(text=a.text.split(\"=\")[-1]))\n",
    "fig.update_xaxes(showgrid=False)\n",
    "fig.update_yaxes(showgrid=False)\n",
    "fig.update_layout(title_text='Percentage of quotes from females based on category and type of media', title_x=0.2)"
   ]
  },
  {
   "cell_type": "markdown",
   "id": "5cce026c-9abd-49ce-80c0-6229c3f38518",
   "metadata": {},
   "source": [
    "**Interpretation**\n",
    "\n",
    "In this plot we note that in both respected and popular media, the percentage of women quoted in the least in sports, buisiness, science and politics.\n",
    "This is not surprising and even though we have a long way to go, it seems to be slightly increasing through the years\n",
    "\n",
    "\n",
    "In the respected media the categories with the highest percentage of females quoted is in culture and entertainment; it is however still below the bar of 50%. As for the popular the tendency is the same for all categories but entertainment which in 2018 had more females quotes than male.\n",
    "\n",
    "Let us dig further into this"
   ]
  },
  {
   "cell_type": "code",
   "execution_count": null,
   "id": "29fd37e6-1d2e-4b2c-8eeb-10cfd9f81756",
   "metadata": {},
   "outputs": [],
   "source": [
    "# Save the html\n",
    "pio.write_html(fig, file='images_website/percentage_quotes_females_category.html', auto_open=False)"
   ]
  },
  {
   "cell_type": "markdown",
   "id": "f38620c3-290d-4671-87f9-9c02a3039ca0",
   "metadata": {},
   "source": [
    "#### We also tried plotting with an interactive tree map"
   ]
  },
  {
   "cell_type": "code",
   "execution_count": null,
   "id": "03c1df1e-742d-42b2-b667-43ffcd3ecc4a",
   "metadata": {},
   "outputs": [],
   "source": [
    "\n",
    "df_category_all_combined = df_category_all_popular.append(df_category_all_respected)"
   ]
  },
  {
   "cell_type": "code",
   "execution_count": null,
   "id": "75786a6d-4f76-4167-a629-113a68c9174a",
   "metadata": {},
   "outputs": [],
   "source": [
    "\n",
    "\n",
    "fig = px.treemap(df_category_all_combined, path=[\"gender\", \"tags\",\"Year\", \"Type_of_media\"], \n",
    "                 values='Proportion')\n",
    "fig.update_layout(margin = dict(t=50, l=25, r=25, b=25),width=800,\n",
    "    height=1000)\n",
    "\n",
    "fig.show()"
   ]
  },
  {
   "cell_type": "markdown",
   "id": "aaf1ae11-1ee2-49ce-9009-0acd6dc3da1c",
   "metadata": {},
   "source": [
    "### Let's dig deeper: \n",
    "\n",
    "The only time and topic where more females were quoted than males (proportionally) was in 2018 for the category of enteirtainment \n"
   ]
  },
  {
   "cell_type": "code",
   "execution_count": null,
   "id": "5ee27938-c3ec-4eef-a236-eb7870a6482f",
   "metadata": {},
   "outputs": [],
   "source": [
    "df_2018_popular_media_tags_exploded = df_2018_popular_media.explode(\"tags\")\n",
    "df_2018_entertainment_popular = df_2018_popular_media_tags_exploded[df_2018_popular_media_tags_exploded[\"tags\"] == \"entertainment\"]"
   ]
  },
  {
   "cell_type": "code",
   "execution_count": null,
   "id": "1735540a-d8c1-48b7-9210-5c753bd2cd4f",
   "metadata": {},
   "outputs": [],
   "source": [
    "df_2018_respect_media_tags_exploded = df_2018_respected_media.explode(\"tags\")\n",
    "df_2018_culture_respect = df_2018_respect_media_tags_exploded[df_2018_respect_media_tags_exploded[\"tags\"] == \"culture\"]"
   ]
  },
  {
   "cell_type": "code",
   "execution_count": null,
   "id": "2659038f-11f0-4d27-9664-a743da3307b2",
   "metadata": {},
   "outputs": [],
   "source": [
    "# Sanity check\n",
    "df_2018_entertainment_popular[\"gender\"].value_counts()\n",
    "\n",
    "# We do have indeed more female occurences than males"
   ]
  },
  {
   "cell_type": "code",
   "execution_count": null,
   "id": "d131d829-bd52-42e3-95a8-b30e4c205a10",
   "metadata": {},
   "outputs": [],
   "source": [
    "# Separate the dataframe by gender\n",
    "df_2018_entertainment_popular_female = df_2018_entertainment_popular[df_2018_entertainment_popular[\"gender\"] == \"Female\"]\n",
    "df_2018_entertainment_popular_male = df_2018_entertainment_popular[df_2018_entertainment_popular[\"gender\"] == \"Male\"]\n",
    "\n",
    "df_2018_culture_respect_female = df_2018_culture_respect[df_2018_culture_respect[\"gender\"] == \"Female\"]\n",
    "df_2018_culture_respect_male = df_2018_culture_respect[df_2018_culture_respect[\"gender\"] == \"Male\"]"
   ]
  },
  {
   "cell_type": "code",
   "execution_count": null,
   "id": "5f2ab554-6d21-4c8b-a2ba-a31ce68c017a",
   "metadata": {},
   "outputs": [],
   "source": [
    "# Count the number of unique female speakers\n",
    "print(f\" We find {df_2018_entertainment_popular_female.speaker.nunique()} unique female speakers and {df_2018_entertainment_popular_male.speaker.nunique()} unique men for popular media with entairtenainment in 2018\")\n",
    "print(f\" We find {df_2018_culture_respect_female.speaker.nunique()} unique female speakers and {df_2018_culture_respect_male.speaker.nunique()} unique men for respect media with culture theme in 2018\")"
   ]
  },
  {
   "cell_type": "markdown",
   "id": "384f7623-ab35-4eb1-9f80-f5fa147ef252",
   "metadata": {},
   "source": [
    "**Intepretation**\n",
    "\n",
    "It is interesting to note that even though the number of quotes is higher, the number of speakers for females is much smaller than that of men. "
   ]
  },
  {
   "cell_type": "code",
   "execution_count": null,
   "id": "d21ad436-fee0-469b-a8a8-95eab4302090",
   "metadata": {},
   "outputs": [],
   "source": [
    "# Top 3 female speakers in entairtnement in terms of number quotes\n",
    "df_2018_entertainment_popular_female[[\"speaker\", \"qids\"]].value_counts()[:3]"
   ]
  },
  {
   "cell_type": "code",
   "execution_count": null,
   "id": "be847fcd-4642-40ab-90b6-81bed4202eca",
   "metadata": {},
   "outputs": [],
   "source": [
    "top_female_speaker_2018_entertainement_qid = df_2018_entertainment_popular_female[[\"speaker\", \"qids\"]].value_counts()[:1].index.get_level_values('qids').to_list()"
   ]
  },
  {
   "cell_type": "code",
   "execution_count": null,
   "id": "cddef026-6252-4b6e-800f-e1a171758991",
   "metadata": {},
   "outputs": [],
   "source": [
    "# Top 3 male speakers in entairtnement in terms of number quotes\n",
    "df_2018_entertainment_popular_male[[\"speaker\", \"qids\"]].value_counts()[:3]"
   ]
  },
  {
   "cell_type": "code",
   "execution_count": null,
   "id": "f13c2ae8-25c3-4342-963b-9cd52f838951",
   "metadata": {},
   "outputs": [],
   "source": [
    "\n",
    "top_male_speaker_2018_entertainement_qid = df_2018_entertainment_popular_male[[\"speaker\", \"qids\"]].value_counts()[:1].index.get_level_values('qids').to_list()"
   ]
  },
  {
   "cell_type": "code",
   "execution_count": null,
   "id": "2334e467-9994-4fd1-a7ab-84c182c23bd7",
   "metadata": {},
   "outputs": [],
   "source": [
    "top_female_speaker_2018_culture_qid = df_2018_culture_respect_female[[\"speaker\", \"qids\"]].value_counts()[:1].index.get_level_values('qids').to_list()\n",
    "df_2018_culture_respect_female[[\"speaker\", \"qids\"]].value_counts()[:3]"
   ]
  },
  {
   "cell_type": "code",
   "execution_count": null,
   "id": "1071fe85-71e0-462b-bea8-ae4d466e2bd9",
   "metadata": {},
   "outputs": [],
   "source": [
    "top_male_speaker_2018_culture_qid = df_2018_culture_respect_male[[\"speaker\", \"qids\"]].value_counts()[:1].index.get_level_values('qids').to_list()\n",
    "df_2018_culture_respect_male[[\"speaker\", \"qids\"]].value_counts()[:3]"
   ]
  },
  {
   "cell_type": "code",
   "execution_count": null,
   "id": "41143ecb-1a07-4a61-98b5-912febce35da",
   "metadata": {},
   "outputs": [],
   "source": [
    "# Fetch the most cited quote from the top female, top male for entairtanement and culture 2018\n",
    "quote_entertain_2018_male = df_2018_entertainment_popular_male[df_2018_entertainment_popular_male[\"qids\"] == top_male_speaker_2018_entertainement_qid[0]].groupby([\"quoteID\", \"quotation\"]).count().index.get_level_values(\"quotation\")[0]\n",
    "quote_entertain_2018_female = df_2018_entertainment_popular_female[df_2018_entertainment_popular_female[\"qids\"] == top_female_speaker_2018_entertainement_qid[0]].groupby([\"quoteID\", \"quotation\"]).count().index.get_level_values(\"quotation\")[0]\n",
    "\n",
    "quote_culture_2018_female = df_2018_culture_respect_female[df_2018_culture_respect_female[\"qids\"] == top_female_speaker_2018_culture_qid[0]].groupby([\"quoteID\", \"quotation\"]).count().index.get_level_values(\"quotation\")[0]\n",
    "quote_culture_2018_male = df_2018_culture_respect_male[df_2018_culture_respect_male[\"qids\"] == top_male_speaker_2018_culture_qid[0]].groupby([\"quoteID\", \"quotation\"]).count().index.get_level_values(\"quotation\")[0]"
   ]
  },
  {
   "cell_type": "markdown",
   "id": "0817a2ef-fdf4-48d2-9bdf-16f073825289",
   "metadata": {},
   "source": [
    "## Let us dig again, instead of number of quotes, we may look at the unique number of speakers \n",
    "\n",
    "Indeed, we may have a higher proportion of quotes from a certain gender but it may be just a handful of people from that gender we deem important.\n",
    "It is also interesting to see the spread of females/males that are quoted"
   ]
  },
  {
   "cell_type": "code",
   "execution_count": null,
   "id": "df871d7c-3ee1-4275-b684-b3300b5cb55e",
   "metadata": {},
   "outputs": [],
   "source": [
    "# Takes 30 seconds\n",
    "df_speakers_all_popular = append_all_df(df_list_popular, columns = [\"gender\", \"speaker\", \"tags\", \"age_range\", \"Year\", \"sitenames\"]).explode(\"tags\")\n",
    "df_speakers_all_respect = append_all_df(df_list_respect, columns = [\"gender\", \"speaker\", \"tags\", \"age_range\", \"Year\", \"sitenames\"]).explode(\"tags\")"
   ]
  },
  {
   "cell_type": "code",
   "execution_count": null,
   "id": "c6f8a156-0922-4b3d-8cce-72267dbb9641",
   "metadata": {},
   "outputs": [],
   "source": [
    "df_nunique_popular = df_speakers_all_popular.groupby(\"gender\").speaker.nunique()\n",
    "df_nunique_respect = df_speakers_all_respect.groupby(\"gender\").speaker.nunique()"
   ]
  },
  {
   "cell_type": "code",
   "execution_count": null,
   "id": "ddf592a4-de40-40a0-8b9a-6213c70f3d93",
   "metadata": {},
   "outputs": [],
   "source": [
    "\n",
    "print(f\"For the popular media we find {df_nunique_popular.Male} unique male speakers and {df_nunique_popular.Female} female speakers\")\n",
    "print(f\"This represents {df_nunique_popular.Female/(df_nunique_popular.Male + df_nunique_popular.Female)*100} percent of female speaker\")\n",
    "\n",
    "print(f\"For the respected media we find {df_nunique_respect.Male} unique male speakers and {df_nunique_respect.Female} female speakers\")\n",
    "print(f\"This represents {df_nunique_respect.Female/(df_nunique_respect.Male + df_nunique_respect.Female)*100} percent of female speaker\")"
   ]
  },
  {
   "cell_type": "code",
   "execution_count": null,
   "id": "0e49791e-de9d-49b4-9d44-5186b3c71b5f",
   "metadata": {},
   "outputs": [],
   "source": [
    "df_tags_nunique_respect = df_speakers_all_respect.groupby([\"tags\", \"gender\"]).speaker.nunique().to_frame(name = \"unique_speaker_per_tag\").reset_index()\n",
    "df_tags_nunique_popular = df_speakers_all_popular.groupby([\"tags\", \"gender\"]).speaker.nunique().to_frame(name = \"unique_speaker_per_tag\").reset_index()"
   ]
  },
  {
   "cell_type": "code",
   "execution_count": null,
   "id": "eede1ed1-8524-45a0-b51b-808fd530b575",
   "metadata": {},
   "outputs": [],
   "source": [
    "plt.figure(figsize = (11,6))\n",
    "plt.title(\"Number of unique speakers for respected media for all years combined\")\n",
    "ax = sns.barplot(data = df_tags_nunique_respect, x = \"tags\", y = \"unique_speaker_per_tag\", hue = \"gender\")\n",
    "ax.set(xlabel='Tags', ylabel='Number of unique speakers')\n",
    "ax.tick_params(axis = 'x',labelrotation=45)"
   ]
  },
  {
   "cell_type": "code",
   "execution_count": null,
   "id": "6d7e82ba-3f41-4b59-871b-64ec137a1232",
   "metadata": {},
   "outputs": [],
   "source": [
    "plt.figure(figsize = (11,6))\n",
    "plt.title(\"Number of unique speakers for popular media for all years combined\")\n",
    "ax = sns.barplot(data = df_tags_nunique_popular, x = \"tags\", y = \"unique_speaker_per_tag\", hue = \"gender\")\n",
    "ax.set(xlabel='Tags', ylabel='Number of unique speakers')\n",
    "ax.tick_params(axis = 'x',labelrotation=45)"
   ]
  },
  {
   "cell_type": "code",
   "execution_count": null,
   "id": "7bb9da82-2acd-4575-9ae3-81a9283a6588",
   "metadata": {},
   "outputs": [],
   "source": [
    "# Compute the number of males speaking as one female is speaking for the respected/popular media\n",
    "df_tags_nunique_respect_males_for_female = males_for_female_factor(df_tags_nunique_respect, \"Respected\")\n",
    "df_tags_nunique_popular_males_for_female = males_for_female_factor(df_tags_nunique_popular, \"Popular\")\n",
    "\n"
   ]
  },
  {
   "cell_type": "code",
   "execution_count": null,
   "id": "5af4d8a4-1362-46f7-805b-886622a89be3",
   "metadata": {},
   "outputs": [],
   "source": [
    "# Append the popular and the respected media with the factors for each category/tag\n",
    "df_tags_nunique_males_for_female = df_tags_nunique_respect_males_for_female.append(df_tags_nunique_popular_males_for_female)"
   ]
  },
  {
   "cell_type": "code",
   "execution_count": null,
   "id": "06fb592b-1e1b-466f-9a45-e910ccc0072d",
   "metadata": {},
   "outputs": [],
   "source": [
    "\n",
    "fig = px.bar(df_tags_nunique_males_for_female.sort_values(by = [\"Factor\"], ascending =False), x=\"tags\", y=\"Factor\", color=\"type_of_media\"\n",
    "            ,labels={\n",
    "                     \"type_of_media\": \"Type of media\",\n",
    "                     \"y\": \"Percentage of females\",\n",
    "                     \"Factor\": \"Number of males\",\n",
    "                   \"tags\" : \"Categories\"\n",
    "                   \n",
    "                 },\n",
    "              \n",
    "               color_discrete_sequence = palette_media\n",
    "            \n",
    "             ,barmode='group')\n",
    "fig.update_layout(title_text='Number of males quoted for a single female depending on categories', title_x=0.25)\n",
    "fig.show()\n"
   ]
  },
  {
   "cell_type": "code",
   "execution_count": null,
   "id": "2d2cf0aa-ec35-4cbc-9103-f6873c1d01cb",
   "metadata": {},
   "outputs": [],
   "source": [
    "\n",
    "pio.write_html(fig, file='images_website/factor_male_for_female_interactive.html', auto_open=False)"
   ]
  },
  {
   "cell_type": "code",
   "execution_count": null,
   "id": "5e7d18c1-91d4-4736-8367-bb934cc55374",
   "metadata": {},
   "outputs": [],
   "source": [
    "# Append all years with the columns of interest\n",
    "df_popular_quote_length_tags = append_all_df(df_list_popular, columns = ['gender', 'tags', 'quotation_length', 'Year'], with_year = True)\n",
    "df_respect_quote_length_tags = append_all_df(df_list_respect, columns = ['gender','tags', 'quotation_length', 'Year'], with_year = True)\n"
   ]
  },
  {
   "cell_type": "markdown",
   "id": "d9809ebf-63e9-4389-b27b-9dc1a09f05c0",
   "metadata": {},
   "source": [
    "### Once again, let us look the quotation length but only for culture and entertainment"
   ]
  },
  {
   "cell_type": "code",
   "execution_count": null,
   "id": "5946c034-7a4a-44ff-bc4b-0eaaf25c44bd",
   "metadata": {},
   "outputs": [],
   "source": [
    "df_popular_entertainment = df_popular_quote_length_tags.explode(\"tags\")[df_popular_quote_length_tags.explode(\"tags\").tags ==  \"entertainment\"]\n",
    "\n",
    "df_respect_culture = df_respect_quote_length_tags.explode(\"tags\")[df_respect_quote_length_tags.explode(\"tags\").tags ==  \"culture\"]"
   ]
  },
  {
   "cell_type": "code",
   "execution_count": null,
   "id": "7df96ca0-c0e5-4209-8187-9a2615d6ed22",
   "metadata": {},
   "outputs": [],
   "source": [
    "stats_length_popular_entertainment = CI_95_percent(df_popular_entertainment.drop(columns =\"tags\")).reset_index()\n",
    "stats_length_respect_culture = CI_95_percent(df_respect_culture.drop(columns =\"tags\")).reset_index()"
   ]
  },
  {
   "cell_type": "code",
   "execution_count": null,
   "id": "acc39f40-e476-4fff-852e-534ca6f531fc",
   "metadata": {},
   "outputs": [],
   "source": [
    "# Separate statistics by gender\n",
    "stats_length_popular_entertainment_female = stats_length_popular_entertainment[stats_length_popular_entertainment[\"gender\"] == \"Female\"]\n",
    "stats_length_popular_entertainment_male = stats_length_popular_entertainment[stats_length_popular_entertainment[\"gender\"] == \"Male\"]\n",
    "\n",
    "stats_length_respect_culture_female = stats_length_respect_culture[stats_length_respect_culture[\"gender\"] == \"Female\"]\n",
    "stats_length_respect_culture_male = stats_length_respect_culture[stats_length_respect_culture[\"gender\"] == \"Male\"]"
   ]
  },
  {
   "cell_type": "code",
   "execution_count": null,
   "id": "4b98ffc4-2b0a-4c61-87cc-7196ddd87271",
   "metadata": {},
   "outputs": [],
   "source": [
    "plt.figure(figsize = (10,7))\n",
    "plt.title(\"Average length of quotes for the year 2018 in culture and entertainment with CI = 95%\", pad = 20)\n",
    "plt.plot(stats_length_popular_entertainment_female.Year,stats_length_popular_entertainment_female[\"mean\"], marker='$\\u2640$', label = \"Female popular (entertainment)\",linestyle='--', markersize=14, color = popular_color)\n",
    "plt.fill_between(stats_length_popular_entertainment_female[\"Year\"], stats_length_popular_entertainment_female[\"ci95_lo\"],stats_length_popular_entertainment_female[\"ci95_hi\"], alpha = 0.2, color = popular_color)\n",
    "\n",
    "plt.plot(stats_length_popular_entertainment_male.Year,stats_length_popular_entertainment_male[\"mean\"],label = \"Male popular (entertainment)\",  linestyle='dotted',  marker='$\\u2642$', markersize=14, color =popular_color)\n",
    "plt.fill_between(stats_length_popular_entertainment_male[\"Year\"], stats_length_popular_entertainment_male[\"ci95_lo\"], stats_length_popular_entertainment_male[\"ci95_hi\"], alpha = 0.2, color =popular_color)\n",
    "plt.plot(stats_length_respect_culture_female.Year,stats_length_respect_culture_female[\"mean\"], label = \"Female respected (culture)\", marker='$\\u2640$', linestyle='--', markersize=14, color = respect_color)\n",
    "plt.fill_between(stats_length_respect_culture_female[\"Year\"], stats_length_respect_culture_female[\"ci95_lo\"], stats_length_respect_culture_female[\"ci95_hi\"], alpha = 0.2, color = respect_color)\n",
    "plt.plot(stats_length_respect_culture_male.Year,stats_length_respect_culture_male[\"mean\"],  linestyle='dotted', label = \"Male respected (culture)\",marker='$\\u2642$', markersize=14, color =respect_color)\n",
    "plt.fill_between(stats_length_respect_culture_male[\"Year\"], stats_length_respect_culture_male[\"ci95_lo\"], stats_length_respect_culture_male[\"ci95_hi\"], alpha = 0.2, color =respect_color)\n",
    "plt.legend()\n",
    "plt.ylabel(\"Mean Quote Length\");\n",
    "plt.grid(False)\n",
    "plt.tight_layout()\n",
    "plt.savefig('images_website/length_quote_combined_with_sex_symbol_culture_entairtainment.svg', format='svg', dpi=1200)"
   ]
  },
  {
   "cell_type": "code",
   "execution_count": null,
   "id": "15b87007-54eb-4bf3-be7c-c3d2a49af1e3",
   "metadata": {},
   "outputs": [],
   "source": []
  },
  {
   "cell_type": "markdown",
   "id": "1276a224-a568-4356-92cc-2336099a810d",
   "metadata": {},
   "source": [
    "## Let us look in proportions  instead of absolute\n",
    "\n"
   ]
  },
  {
   "cell_type": "code",
   "execution_count": null,
   "id": "f7360103-8810-4ad0-83dc-93aff68a0997",
   "metadata": {},
   "outputs": [],
   "source": [
    "df_proportion_category_popular = df_proportion_category_unique_speaker(df_tags_nunique_popular)\n",
    "df_proportion_category_respect = df_proportion_category_unique_speaker(df_tags_nunique_respect)"
   ]
  },
  {
   "cell_type": "code",
   "execution_count": null,
   "id": "44f17598-9acd-429e-8f94-04c39fd0cd71",
   "metadata": {},
   "outputs": [],
   "source": [
    "plt.figure(figsize = (11,6))\n",
    "plt.title(\"Proportion of unique speakers for popular media for all years combined\")\n",
    "ax = sns.barplot(data = df_proportion_category_popular, x = \"tags\", y = \"Proportion\", hue = \"gender\")\n",
    "ax.set(xlabel='Tags', ylabel='Proportion of unique speakers')\n",
    "ax.tick_params(axis = 'x',labelrotation=45)"
   ]
  },
  {
   "cell_type": "code",
   "execution_count": null,
   "id": "810185a1-7959-415d-b2b6-0097780cd3c3",
   "metadata": {},
   "outputs": [],
   "source": [
    "plt.figure(figsize = (11,6))\n",
    "plt.title(\"Proportion of unique speakers for respected media for all years combined\")\n",
    "ax = sns.barplot(data = df_proportion_category_respect, x = \"tags\", y = \"Proportion\", hue = \"gender\")\n",
    "ax.set(xlabel='Tags', ylabel='Proportion of unique speakers')\n",
    "ax.tick_params(axis = 'x',labelrotation=45)"
   ]
  },
  {
   "cell_type": "markdown",
   "id": "754e207f-b785-4f25-9323-2769a7035f9f",
   "metadata": {},
   "source": [
    "## This is quite interesting, let us see if we find a trend throughout the years"
   ]
  },
  {
   "cell_type": "code",
   "execution_count": null,
   "id": "937527c6-d4a2-48fe-a6d3-837a3cb19382",
   "metadata": {},
   "outputs": [],
   "source": [
    "df_nunique_popular_years = df_speakers_all_popular.groupby([\"tags\", \"gender\", \"Year\"]).speaker.nunique().to_frame(name = \"unique_speaker_per_tag\").reset_index()\n",
    "df_nunique_respect_years = df_speakers_all_respect.groupby([\"tags\", \"gender\", \"Year\"]).speaker.nunique().to_frame(name = \"unique_speaker_per_tag\").reset_index()"
   ]
  },
  {
   "cell_type": "code",
   "execution_count": null,
   "id": "1725e0cf-a72f-42a1-b508-0bb28c1a3b67",
   "metadata": {},
   "outputs": [],
   "source": [
    "df_nunique_popular_years[\"Type_of_media\"] = \"Popular\"\n",
    "df_nunique_respect_years[\"Type_of_media\"] = \"Respect\""
   ]
  },
  {
   "cell_type": "code",
   "execution_count": null,
   "id": "29a0137e-dfb1-4318-b697-0726102cbdad",
   "metadata": {},
   "outputs": [],
   "source": [
    "df_prop_popular_category = df_proportion_category_unique_speaker(df_nunique_popular_years, with_year = True)\n",
    "df_prop_respect_category = df_proportion_category_unique_speaker(df_nunique_respect_years, with_year = True)"
   ]
  },
  {
   "cell_type": "code",
   "execution_count": null,
   "id": "4deab040-ad81-43a6-9fa1-02056a25d066",
   "metadata": {},
   "outputs": [],
   "source": [
    "df_nunique_category_all_combined = df_nunique_popular_years.append(df_nunique_respect_years)"
   ]
  },
  {
   "cell_type": "code",
   "execution_count": null,
   "id": "c976abe8-46f3-4cfd-b058-a454c1c54942",
   "metadata": {},
   "outputs": [],
   "source": [
    "figure = px.bar(\n",
    "    data_frame=df_nunique_popular_years, \n",
    "    x=\"tags\", \n",
    "    y=\"unique_speaker_per_tag\", \n",
    "    color = \"gender\",\n",
    "    color_discrete_map={\n",
    "        'Female': f'rgb{female_color}',\n",
    "        'Male': f'rgb{male_color}'\n",
    "    },\n",
    "    animation_frame=\"Year\", \n",
    "    hover_name=\"tags\", \n",
    "    barmode='group',\n",
    "    category_orders={'Year':list(range(2015,2020))},\n",
    "     labels={\n",
    "                     \"unique_speaker_per_tag\": \"Number of unique speakers\",\n",
    "                     \"gender\": \"Gender\",\n",
    "                     \"tags\": \"Categories\"\n",
    "                 },\n",
    "    \n",
    "    range_y =[0, 30000],\n",
    "                 width=800, height=500\n",
    ")\n",
    "figure.layout.updatemenus[0].buttons[0].args[1][\"frame\"][\"duration\"] = 1500\n",
    "figure.update_layout(title_text='Number of unique speakers for popular media through the years', title_x=0.5, plot_bgcolor=f'rgb{popular_color_alpha}')\n",
    "\n",
    "figure.show()"
   ]
  },
  {
   "cell_type": "code",
   "execution_count": null,
   "id": "ca11fda2-02df-40cc-b005-7f2c36a5d962",
   "metadata": {},
   "outputs": [],
   "source": [
    "fig_number_respected = px.bar(\n",
    "    data_frame=df_nunique_respect_years, \n",
    "    x=\"tags\", \n",
    "    y=\"unique_speaker_per_tag\", \n",
    "    color = \"gender\",\n",
    "    color_discrete_map={\n",
    "        'Female': f'rgb{female_color}',\n",
    "        'Male': f'rgb{male_color}'\n",
    "    },\n",
    "    animation_frame=\"Year\", \n",
    "    hover_name=\"tags\", \n",
    "    barmode='group',\n",
    "    category_orders={'Year':list(range(2015,2020))},\n",
    "     labels={\n",
    "                     \"unique_speaker_per_tag\": \"Number of unique speakers\",\n",
    "                     \"gender\": \"Gender\",\n",
    "                     \"tags\": \"Categories\"\n",
    "                 },\n",
    "    \n",
    "    range_y =[0, 14000],\n",
    "                 width=800, height=500\n",
    ")\n",
    "fig_number_respected.layout.updatemenus[0].buttons[0].args[1][\"frame\"][\"duration\"] = 1500\n",
    "fig_number_respected.update_layout(title_text='Number of unique speakers for respected media through the years', title_x=0.5,  plot_bgcolor=f'rgb{respect_color_alpha}')\n",
    "\n",
    "fig_number_respected.show()"
   ]
  },
  {
   "cell_type": "markdown",
   "id": "6c2e8f97-5461-4649-a820-6106ed8e8252",
   "metadata": {},
   "source": [
    "### Here again we will give the results when looking  at proportions"
   ]
  },
  {
   "cell_type": "code",
   "execution_count": null,
   "id": "0fea6bf4-e649-475c-bdb1-3749d6d14a49",
   "metadata": {},
   "outputs": [],
   "source": [
    "fig_prop_popular = px.bar(\n",
    "    data_frame=df_prop_popular_category, \n",
    "    x=\"tags\", \n",
    "    y=\"Proportion\", \n",
    "    color = \"gender\",\n",
    "    color_discrete_map={\n",
    "        'Female': f'rgb{(colors_palette[0])}',\n",
    "        'Male': f'rgb{(colors_palette[1])}'\n",
    "    },\n",
    "    animation_frame=\"Year\", \n",
    "    hover_name=\"tags\", \n",
    "    barmode='group',\n",
    "    category_orders={'Year':list(range(2015,2020))},\n",
    "     labels={\n",
    "                     \"Proportion\": \"Proportion of unique speakers\",\n",
    "                     \"gender\": \"Gender\",\n",
    "                     \"tags\": \"Categories\"\n",
    "                 },\n",
    "    \n",
    "    range_y =[0, 100],\n",
    "                 width=800, height=500\n",
    ")\n",
    "fig_prop_popular.layout.updatemenus[0].buttons[0].args[1][\"frame\"][\"duration\"] = 1500\n",
    "fig_prop_popular.update_layout(title_text='Proportion of unique speakers for popular media through the years', title_x=0.5, plot_bgcolor=f'rgb{popular_color_alpha}')\n",
    "\n",
    "fig_prop_popular.show()\n",
    "pio.write_html(fig_prop_popular, file='images_website/fig_prop_unique_male_female_popular.html', auto_open=False)"
   ]
  },
  {
   "cell_type": "code",
   "execution_count": null,
   "id": "116e049a-09f8-4f0d-92b6-c47a5976fbd2",
   "metadata": {
    "tags": []
   },
   "outputs": [],
   "source": [
    "fig_prop_respect = px.bar(\n",
    "    data_frame=df_prop_respect_category, \n",
    "    x=\"tags\", \n",
    "    y=\"Proportion\", \n",
    "    color = \"gender\",\n",
    "    color_discrete_sequence = [f\"rgb{colors_palette[0]}\",f\"rgb{colors_palette[1]}\"],\n",
    "    animation_frame=\"Year\", \n",
    "    hover_name=\"tags\", \n",
    "    barmode='group',\n",
    "    category_orders={'Year':list(range(2015,2020))},\n",
    "     labels={\n",
    "                     \"Proportion\": \"Proportion of unique speakers\",\n",
    "                     \"gender\": \"Gender\",\n",
    "                     \"tags\": \"Categories\"\n",
    "                 },\n",
    "    \n",
    "    range_y =[0, 100],\n",
    "                 width=800, height=500\n",
    ")\n",
    "fig_prop_respect.layout.updatemenus[0].buttons[0].args[1][\"frame\"][\"duration\"] = 1500\n",
    "fig_prop_respect.update_layout(title_text='Proportion of unique speakers for respected media through the years', title_x=0.5,  plot_bgcolor=f'rgb{respect_color_alpha}')\n",
    "\n",
    "fig_prop_respect.show()\n",
    "pio.write_html(fig_prop_respect, file='images_website/fig_prop_unique_male_female_respect.html', auto_open=False)"
   ]
  },
  {
   "cell_type": "code",
   "execution_count": null,
   "id": "8911e0ff-6920-4c0b-bbec-3577e37c77d7",
   "metadata": {},
   "outputs": [],
   "source": [
    "color_discrete_sequence={\n",
    "        'Female': f'rgb{(colors_palette[0])}',\n",
    "        'Male': f'rgb{(colors_palette[1])}'\n",
    "    }"
   ]
  },
  {
   "cell_type": "code",
   "execution_count": null,
   "id": "950f1cbc-8734-4639-b1f0-ca6ffe0e73f8",
   "metadata": {},
   "outputs": [],
   "source": [
    "df_prop_popular_category_female = df_prop_popular_category[df_prop_popular_category[\"gender\"] == \"Female\"]\n",
    "df_prop_respect_category_female = df_prop_respect_category[df_prop_respect_category[\"gender\"] == \"Female\"]"
   ]
  },
  {
   "cell_type": "code",
   "execution_count": null,
   "id": "3af26075-89f2-4fcd-a032-e262b82f203a",
   "metadata": {},
   "outputs": [],
   "source": [
    "df_prop_category_female_combined = df_prop_respect_category_female.append(df_prop_popular_category_female)"
   ]
  },
  {
   "cell_type": "code",
   "execution_count": null,
   "id": "9fcd60c0-fe69-4da7-b398-322bd684b62a",
   "metadata": {},
   "outputs": [],
   "source": [
    "df_prop_female_combined = px.bar(\n",
    "    data_frame=df_prop_category_female_combined, \n",
    "    x=\"tags\", \n",
    "    y=\"Proportion\", \n",
    "    color = \"Type_of_media\",\n",
    "    color_discrete_map={\n",
    "        'Popular': f'rgb{popular_color}',\n",
    "        'Respect': f'rgb{respect_color}'\n",
    "    },\n",
    "    animation_frame=\"Year\", \n",
    "    hover_name=\"tags\", \n",
    "    barmode='group',\n",
    "    category_orders={'Year':list(range(2015,2020))},\n",
    "     labels={\n",
    "                     \"Proportion\": \"Percentage of unique female speakers\",\n",
    "                     \"gender\": \"Gender\",\n",
    "                     \"tags\": \"Categories\"\n",
    "                 },\n",
    "    \n",
    "    range_y =[0, 40],\n",
    "                 width=800, height=500\n",
    ")\n",
    "df_prop_female_combined.layout.updatemenus[0].buttons[0].args[1][\"frame\"][\"duration\"] = 1500\n",
    "#(colors_palette[0])\n",
    "df_prop_female_combined.update_layout(title_text='Percentage of unique female speakers depending on type of media', title_x=0.5,plot_bgcolor=f'rgb{female_color_alpha}')\n",
    "\n",
    "df_prop_female_combined.show()\n",
    "pio.write_html(df_prop_female_combined, file='images_website/fig_prop_unique_female_combine.html', auto_open=False)"
   ]
  },
  {
   "cell_type": "markdown",
   "id": "da7795f3-90fa-4fe8-bff2-8812c3260def",
   "metadata": {
    "tags": []
   },
   "source": [
    "### Let us take a look at the citizenship again but this time with the number of unique speakers"
   ]
  },
  {
   "cell_type": "code",
   "execution_count": null,
   "id": "60662b45-ff72-4e1e-a017-546946304f21",
   "metadata": {},
   "outputs": [],
   "source": [
    "df_nunique_popular_years_citizen = df_citizen_popular_clean.groupby([\"citizenship\", \"gender\", \"Year\"]).speaker.nunique().to_frame(name = \"unique_speaker_per_citiz\").reset_index()\n",
    "df_nunique_respect_years_citizen = df_citizen_respect_clean.groupby([\"citizenship\", \"gender\", \"Year\"]).speaker.nunique().to_frame(name = \"unique_speaker_per_citiz\").reset_index()"
   ]
  },
  {
   "cell_type": "code",
   "execution_count": null,
   "id": "1aafa585-321c-4f21-a740-e30135251114",
   "metadata": {},
   "outputs": [],
   "source": [
    "figure = px.bar(\n",
    "    data_frame=df_nunique_popular_years_citizen.sort_values(by = [\"Year\", \"citizenship\"], ascending = [True,False]), \n",
    "    x=\"unique_speaker_per_citiz\",\n",
    "    y=\"citizenship\", \n",
    "     \n",
    "    color = \"gender\",\n",
    "    animation_frame=\"Year\", \n",
    "    hover_name=\"citizenship\", \n",
    "    barmode='group',\n",
    "    category_orders={'Year':list(range(2015,2020))},\n",
    "     labels={\n",
    "                     \"unique_speaker_per_tag\": \"Number of unique speakers\",\n",
    "                     \"gender\": \"Gender\",\n",
    "                     \"tags\": \"Categories\"\n",
    "                 },\n",
    "    \n",
    "    \n",
    "                 width=900, height=1000\n",
    ")\n",
    "figure.layout.updatemenus[0].buttons[0].args[1][\"frame\"][\"duration\"] = 1500\n",
    "figure.update_layout(title_text='Number of unique speakers for popular media through the years', title_x=0.5, plot_bgcolor=f'rgb{popular_color_alpha}')\n",
    "\n",
    "figure.show()"
   ]
  },
  {
   "cell_type": "markdown",
   "id": "6cc4f0bf-1497-4a79-a80a-63b692cc60d6",
   "metadata": {
    "tags": []
   },
   "source": [
    "### Let us now do with proportions for the unique speakers and not absolute numbers "
   ]
  },
  {
   "cell_type": "code",
   "execution_count": null,
   "id": "c6f9f9ea-d86a-43cb-be2c-0c201fd72ddc",
   "metadata": {},
   "outputs": [],
   "source": [
    "df_proportion_citizen_popular_nunique = df_proportion_citiz_unique_speaker(df_nunique_popular_years_citizen, with_year = True)\n",
    "df_proportion_citizen_respect_nunique = df_proportion_citiz_unique_speaker(df_nunique_respect_years_citizen, with_year = True)"
   ]
  },
  {
   "cell_type": "code",
   "execution_count": null,
   "id": "29cedf30-f303-41ef-94a1-584bd88b4548",
   "metadata": {},
   "outputs": [],
   "source": [
    "fig_prop_respect = px.bar(\n",
    "    data_frame=df_proportion_citizen_respect_nunique.sort_values(by = [\"Year\", \"citizenship\"], ascending = [True,False]), \n",
    "    y=\"citizenship\", \n",
    "    x=\"Proportion\", \n",
    "    color = \"gender\",\n",
    "    animation_frame=\"Year\", \n",
    "    hover_name=\"citizenship\", \n",
    "    barmode=\"group\",\n",
    "    category_orders={'Year':list(range(2015,2020))},\n",
    "     labels={\n",
    "                     \"Proportion\": \"Proportion of citizens\",\n",
    "                     \"tags\": \"Categories\"\n",
    "                 },\n",
    "    \n",
    "    \n",
    "                 width=900, height=1800\n",
    ")\n",
    "fig_prop_respect.add_vline(x=50, line_dash=\"dot\")\n",
    "fig_prop_respect.layout.updatemenus[0].buttons[0].args[1][\"frame\"][\"duration\"] = 1200\n",
    "fig_prop_respect.update_layout(title_text='Proportion of female citizens quoted for respected media through the years', title_x=0.5,  plot_bgcolor=f'rgb{respect_color_alpha}')\n",
    "\n",
    "fig_prop_respect.show()"
   ]
  },
  {
   "cell_type": "markdown",
   "id": "52a02cb1-f451-41ec-b5e8-626fdc1599a2",
   "metadata": {},
   "source": [
    "### This graph is not clear, let us do with the proportion of unique speakers and not just proportion of quotes\n",
    "\n",
    "Here we will for each citizenship and year analyse the proportion of female vs male speakers"
   ]
  },
  {
   "cell_type": "code",
   "execution_count": null,
   "id": "562c19e7-452f-40b2-a4e2-c4af888a45cd",
   "metadata": {},
   "outputs": [],
   "source": []
  },
  {
   "cell_type": "code",
   "execution_count": null,
   "id": "e749cd50-3db4-4e18-96a6-d9e096b9b942",
   "metadata": {},
   "outputs": [],
   "source": [
    "# df_proportion_citizen_respect_nunique\n",
    "\n",
    "df_prop_citiz_popular_unique = df_proportion_citiz_unique_speaker_gender(df_nunique_popular_years_citizen, with_year = True)\n",
    "df_prop_citiz_respect_unique = df_proportion_citiz_unique_speaker_gender(df_nunique_respect_years_citizen, with_year = True)"
   ]
  },
  {
   "cell_type": "code",
   "execution_count": null,
   "id": "9ae350bc-7ce6-4ec8-a61a-b3e494c6507e",
   "metadata": {},
   "outputs": [],
   "source": [
    "df_proportion_citizen_respect_nunique_female = df_prop_citiz_respect_unique[df_prop_citiz_respect_unique.gender == \"Female\"]\n",
    "df_proportion_citizen_popular_nunique_female = df_prop_citiz_popular_unique[df_prop_citiz_popular_unique.gender == \"Female\"]\n"
   ]
  },
  {
   "cell_type": "code",
   "execution_count": null,
   "id": "a93473dd-7967-43e0-85c3-53b5a074c15b",
   "metadata": {},
   "outputs": [],
   "source": [
    "df_citizen_nunique_respect_females_brc = df_proportion_citizen_respect_nunique_female[[\"citizenship\", \"Year\", \"Proportion\"]]\n",
    "df_citizen_nunique_popular_females_brc = df_proportion_citizen_popular_nunique_female[[\"citizenship\", \"Year\", \"Proportion\"]]\n"
   ]
  },
  {
   "cell_type": "code",
   "execution_count": null,
   "id": "ec5d68b1-5631-4084-877e-3e820390e4f8",
   "metadata": {},
   "outputs": [],
   "source": [
    "# The year must be made into time stamp according to docs\n",
    "df_citizen_nunique_respect_females_brc.dtypes\n",
    "df_citizen_nunique_respect_females_brc[\"Year\"] = pd.to_datetime(df_citizen_nunique_respect_females_brc[\"Year\"])\n",
    "df_citizen_nunique_popular_females_brc[\"Year\"] = pd.to_datetime(df_citizen_nunique_popular_females_brc[\"Year\"])"
   ]
  },
  {
   "cell_type": "code",
   "execution_count": null,
   "id": "510cf935-578d-4e8e-9d91-a8e0874dc0df",
   "metadata": {},
   "outputs": [],
   "source": [
    "df_citizen_nunique_respect_females_brc = pd.pivot_table(df_citizen_nunique_respect_females_brc, index=[\"Year\"], columns = [\"citizenship\"], values = [\"Proportion\"])\n",
    "\n",
    "df_citizen_nunique_popular_females_brc = pd.pivot_table(df_citizen_nunique_popular_females_brc, index=[\"Year\"], columns = [\"citizenship\"], values = [\"Proportion\"])"
   ]
  },
  {
   "cell_type": "code",
   "execution_count": null,
   "id": "843f24a2-2cbd-474f-b9dc-aa746a8ff021",
   "metadata": {},
   "outputs": [],
   "source": [
    "# Remove 2020\n",
    "df_citizen_nunique_popular_females_brc = df_citizen_nunique_popular_females_brc.drop(index = df_citizen_nunique_popular_females_brc.index[-1])\n",
    "df_citizen_nunique_respect_females_brc = df_citizen_nunique_respect_females_brc.drop(index = df_citizen_nunique_respect_females_brc.index[-1])"
   ]
  },
  {
   "cell_type": "code",
   "execution_count": null,
   "id": "140bd661-0732-4447-88cf-bf1bda59f30f",
   "metadata": {},
   "outputs": [],
   "source": [
    "# remove index name\n",
    "df_citizen_nunique_respect_females_brc.index.name = None\n",
    "df_citizen_nunique_respect_females_brc.columns = [col[1] for col in df_citizen_nunique_respect_females_brc.columns]\n",
    "df_citizen_nunique_popular_females_brc.index.name = None\n",
    "df_citizen_nunique_popular_females_brc.columns = [col[1] for col in df_citizen_nunique_popular_females_brc.columns]"
   ]
  },
  {
   "cell_type": "code",
   "execution_count": null,
   "id": "4455f42f-1ade-4d60-8d77-45e0b7fb0580",
   "metadata": {},
   "outputs": [],
   "source": [
    "col_before_nan_filter_respect = len(df_citizen_nunique_respect_females_brc.columns)\n",
    "col_before_nan_filter_popular = len(df_citizen_nunique_popular_females_brc.columns)"
   ]
  },
  {
   "cell_type": "code",
   "execution_count": null,
   "id": "6b876367-0211-4618-9adc-cf1dce1f6215",
   "metadata": {},
   "outputs": [],
   "source": [
    "# We removed 2020, and we only keep citizenships with all years available\n",
    "\n",
    "df_citizen_nunique_respect_females_brc = df_citizen_nunique_respect_females_brc[df_citizen_nunique_respect_females_brc.columns[df_citizen_nunique_respect_females_brc.isnull().sum() < 1]]\n",
    "df_citizen_nunique_popular_females_brc = df_citizen_nunique_popular_females_brc[df_citizen_nunique_popular_females_brc.columns[df_citizen_nunique_popular_females_brc.isnull().sum() < 1]]"
   ]
  },
  {
   "cell_type": "code",
   "execution_count": null,
   "id": "34a04238-162d-4116-87d1-a50220069cf5",
   "metadata": {},
   "outputs": [],
   "source": [
    "print(f\"We removed {col_before_nan_filter_respect - len(df_citizen_nunique_respect_females_brc.columns)} citizenships for respected media\")\n",
    "print(f\"We removed {col_before_nan_filter_popular - len(df_citizen_nunique_popular_females_brc.columns)} citizenships for popular media\")"
   ]
  },
  {
   "cell_type": "code",
   "execution_count": null,
   "id": "24bf5df3-434f-4673-8fc3-ad70b15a4ce1",
   "metadata": {},
   "outputs": [],
   "source": [
    "\n",
    "bcr.bar_chart_race(title = \"Proportion of unique female speakers for respected media\",df=df_citizen_nunique_respect_females_brc, period_fmt='%Y',n_bars=15,filename=None,steps_per_period = 40, figsize = (5,3),period_length=2800,fixed_max=True,bar_kwargs={'alpha': .7}, title_size = 12)"
   ]
  },
  {
   "cell_type": "code",
   "execution_count": null,
   "id": "a10c986a-fc24-424c-8ec3-10a420d50049",
   "metadata": {},
   "outputs": [],
   "source": [
    "bcr.bar_chart_race(title = \"Proportion of unique female speakers for popular media\",df=df_citizen_nunique_popular_females_brc, period_fmt='%Y',n_bars=15,filename=None,steps_per_period = 40, figsize = (5,3),period_length=2800,fixed_max=True,bar_kwargs={'alpha': .7}, title_size = 12)"
   ]
  },
  {
   "cell_type": "markdown",
   "id": "55656743-f21d-4e47-a815-80dd572b2b27",
   "metadata": {},
   "source": [
    "### Looking at entertainment and culture again let us now analyse the evolution of site names and female proportion over the year"
   ]
  },
  {
   "cell_type": "code",
   "execution_count": null,
   "id": "dd498fd1-1a49-4430-b7ae-d1b94b83abfb",
   "metadata": {},
   "outputs": [],
   "source": [
    "df_sitenames_enter_culture_popular = df_speakers_all_popular[((df_speakers_all_popular.tags == \"entertainment\") + (df_speakers_all_popular.tags == \"culture\"))]\n",
    "df_sitenames_enter_culture_respect = df_speakers_all_respect[((df_speakers_all_respect.tags == \"entertainment\") + (df_speakers_all_respect.tags == \"culture\"))]"
   ]
  },
  {
   "cell_type": "code",
   "execution_count": null,
   "id": "efdd2d0b-f252-489a-98b6-de1465f4ac19",
   "metadata": {},
   "outputs": [],
   "source": [
    "\n",
    "df_sitenames_enter_culture_popular_prop = create_df_sitename_category_proportion(df_sitenames_enter_culture_popular, with_year = True)\n",
    "df_sitenames_enter_culture_respect_prop = create_df_sitename_category_proportion(df_sitenames_enter_culture_respect, with_year = True)"
   ]
  },
  {
   "cell_type": "code",
   "execution_count": null,
   "id": "3f13f777-5020-4ce1-bc95-590bb36e45bb",
   "metadata": {},
   "outputs": [],
   "source": [
    "df_sitenames_enter_culture_popular_prop[\"Type_of_media\"] = \"Popular\"\n",
    "df_sitenames_enter_culture_respect_prop[\"Type_of_media\"] = \"Respected\""
   ]
  },
  {
   "cell_type": "code",
   "execution_count": null,
   "id": "993df42f-784f-4648-8442-7dcb335744f0",
   "metadata": {},
   "outputs": [],
   "source": [
    "df_sitenames_enter_culture_combined = df_sitenames_enter_culture_popular_prop.append(df_sitenames_enter_culture_respect_prop)"
   ]
  },
  {
   "cell_type": "code",
   "execution_count": null,
   "id": "946a3fca-5640-4fce-b1ab-2f7e0f948fcf",
   "metadata": {},
   "outputs": [],
   "source": [
    "df_sitenames_enter_culture_combined_female = df_sitenames_enter_culture_combined[df_sitenames_enter_culture_combined.gender == \"Female\"]"
   ]
  },
  {
   "cell_type": "code",
   "execution_count": null,
   "id": "6059dec6-0508-415d-a0fe-b2dda4d9e3be",
   "metadata": {},
   "outputs": [],
   "source": [
    "df_culture = df_sitenames_enter_culture_combined_female[df_sitenames_enter_culture_combined_female.tags == \"culture\"]\n",
    "df_entertain = df_sitenames_enter_culture_combined_female[df_sitenames_enter_culture_combined_female.tags == \"entertainment\"]"
   ]
  },
  {
   "cell_type": "code",
   "execution_count": null,
   "id": "61a741e9-2598-493f-8ba8-d303862dbed0",
   "metadata": {},
   "outputs": [],
   "source": [
    "fig  = px.line(df_culture.sort_values(by = [\"Type_of_media\", \"Year\"]),\n",
    "               x=\"Year\",\n",
    "               y = \"Proportion\", \n",
    "               color = \"sitenames\", \n",
    "               markers='x',\n",
    "               labels={\n",
    "                     \"Proportion\": \"Percentage of females\",\n",
    "                     \"sitenames\": \"Name of site\",\n",
    "                     \"x\": \"Year\"\n",
    "                   \n",
    "                 },\n",
    "               color_discrete_sequence = px.colors.qualitative.Safe,\n",
    "               facet_col=\"Type_of_media\")\n",
    "fig.for_each_annotation(lambda a: a.update(text=a.text.split(\"=\")[-1]))\n",
    "fig.update_xaxes(showgrid=False)\n",
    "fig.update_yaxes(showgrid=False)\n",
    "fig.update_layout(title_text='Percentage of quotes from females for culture based on the media', title_x=0.25)\n"
   ]
  },
  {
   "cell_type": "code",
   "execution_count": null,
   "id": "4acb4d32-1590-4798-97c0-3c480d810cc0",
   "metadata": {},
   "outputs": [],
   "source": [
    "pio.write_html(fig, file='images_website/percentage_quotes_culture_interactive_media.html', auto_open=False)"
   ]
  },
  {
   "cell_type": "code",
   "execution_count": null,
   "id": "8b45ada1-9c4e-493c-9c36-b0c4e9198220",
   "metadata": {},
   "outputs": [],
   "source": [
    "fig  = px.line(df_entertain.sort_values(by = [\"Type_of_media\", \"Year\"]),\n",
    "               x=\"Year\",\n",
    "               y = \"Proportion\", \n",
    "               color = \"sitenames\", \n",
    "               markers='x',\n",
    "               labels={\n",
    "                     \"Proportion\": \"Percentage of Females\",\n",
    "                     \"sitenames\": \"Name of Sites\",\n",
    "                     \"x\": \"Year\"\n",
    "                   \n",
    "                 },\n",
    "               color_discrete_sequence = px.colors.qualitative.Safe,\n",
    "               facet_col=\"Type_of_media\")\n",
    "fig.for_each_annotation(lambda a: a.update(text=a.text.split(\"=\")[-1]))\n",
    "fig.update_xaxes(showgrid=False)\n",
    "fig.update_yaxes(showgrid=False)\n",
    "fig.update_layout(title_text='Percentage of quotes from females for entertainment based on the media', title_x=0.2)\n"
   ]
  },
  {
   "cell_type": "code",
   "execution_count": null,
   "id": "6b34088f-d4ea-4809-b06e-9f9179491a2d",
   "metadata": {},
   "outputs": [],
   "source": [
    "pio.write_html(fig, file='images_website/percentage_quotes_entertainment_interactive_media.html', auto_open=False)"
   ]
  },
  {
   "cell_type": "markdown",
   "id": "e2391daa-9058-4d3f-a13a-11349cc0ae0d",
   "metadata": {},
   "source": [
    "##### Thanks for keeping up with our story and may gender equality be a near future\n"
   ]
  },
  {
   "cell_type": "code",
   "execution_count": null,
   "id": "ab714b41-6cbf-4c0c-98d6-9f805d071991",
   "metadata": {},
   "outputs": [],
   "source": []
  }
 ],
 "metadata": {
  "kernelspec": {
   "display_name": "Python (ada_project)",
   "language": "python",
   "name": "ada_project"
  },
  "language_info": {
   "codemirror_mode": {
    "name": "ipython",
    "version": 3
   },
   "file_extension": ".py",
   "mimetype": "text/x-python",
   "name": "python",
   "nbconvert_exporter": "python",
   "pygments_lexer": "ipython3",
   "version": "3.9.7"
  }
 },
 "nbformat": 4,
 "nbformat_minor": 5
}

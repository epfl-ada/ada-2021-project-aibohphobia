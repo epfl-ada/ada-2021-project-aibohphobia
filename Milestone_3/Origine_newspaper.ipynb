{
 "cells": [
  {
   "cell_type": "code",
   "execution_count": 1,
   "id": "b0489acb-0779-467f-afc2-21b9209922eb",
   "metadata": {},
   "outputs": [],
   "source": [
    "# Libraries to import\n",
    "import pandas as pd\n",
    "import numpy as np\n",
    "import matplotlib.pyplot as plt\n",
    "import seaborn as sns\n",
    "import scipy.stats as stats\n",
    "import pickle\n",
    "from scipy.stats import ttest_ind"
   ]
  },
  {
   "cell_type": "code",
   "execution_count": 2,
   "id": "1fa5ef86-76a2-4a3f-881d-67cd84d0072c",
   "metadata": {},
   "outputs": [],
   "source": [
    "#Settings for the plots \n",
    "sns.set_style(\"ticks\")\n",
    "colors= sns.color_palette('colorblind')\n",
    "plt.rc('xtick', labelsize=14) \n",
    "plt.rc('ytick', labelsize=14) \n",
    "plt.rc('axes', titlesize=20)\n",
    "plt.rc('axes', labelsize=18)\n",
    "plt.rcParams['ytick.major.size'] = 7\n",
    "plt.rcParams['ytick.minor.size'] = 6\n",
    "\n",
    "sns.set_style(\"darkgrid\", {'axes.grid' : False, 'ytick.left': True, 'xtick.bottom': True})"
   ]
  },
  {
   "cell_type": "code",
   "execution_count": 3,
   "id": "08101bad-3906-409c-ad92-fd52d8bb9b79",
   "metadata": {},
   "outputs": [],
   "source": [
    "DATA_PATH = './data/'\n",
    "DATA_PATH2020 = DATA_PATH + 'data_2020/'\n",
    "FILE2020 = DATA_PATH2020 + 'M3_df_2020_final.pkl'\n",
    "\n",
    "\n",
    "DATA_PATH = 'data/'\n",
    "\n",
    "DATA_PATH2015 = DATA_PATH + 'data2015/'\n",
    "DATA_PATH2016 = DATA_PATH + 'data2016/'\n",
    "DATA_PATH2017 = DATA_PATH + 'data2017/'\n",
    "DATA_PATH2018 = DATA_PATH + 'data2018/'\n",
    "DATA_PATH2019 = DATA_PATH + 'data2019/'\n",
    "DATA_PATH2020 = DATA_PATH + 'data2020/'\n",
    "\n",
    "FILE2015 = DATA_PATH2015 + 'origine_media_2015.pickle'\n",
    "FILE2016 = DATA_PATH2016 + 'origine_media_2016.pickle'\n",
    "FILE2017 = DATA_PATH2017 + 'origine_media_2017.pickle'\n",
    "FILE2018 = DATA_PATH2018 + 'origine_media_2018.pickle'\n",
    "FILE2019 = DATA_PATH2019 + 'origine_media_2019.pickle'\n",
    "FILE2020 = DATA_PATH2020 + 'origine_media_2020.pickle'\n",
    "\n",
    "FILES = [FILE2015, FILE2016, FILE2017, FILE2018, FILE2019, FILE2020]"
   ]
  },
  {
   "cell_type": "code",
   "execution_count": 4,
   "id": "40608871-fdb2-4c79-8e1c-01aeab3802ae",
   "metadata": {},
   "outputs": [],
   "source": [
    "with open(FILE2015, 'rb') as input_file:\n",
    "    df_2015_base = pickle.load(input_file)"
   ]
  },
  {
   "cell_type": "code",
   "execution_count": 5,
   "id": "82f810fd-a703-4c5a-875d-f8b79eab4dec",
   "metadata": {},
   "outputs": [],
   "source": [
    "with open(FILE2016, 'rb') as input_file:\n",
    "    df_2016_base = pickle.load(input_file)"
   ]
  },
  {
   "cell_type": "code",
   "execution_count": 6,
   "id": "733bd955-e6ab-4250-87f6-5299d88e6812",
   "metadata": {},
   "outputs": [],
   "source": [
    "with open(FILE2017, 'rb') as input_file:\n",
    "    df_2017_base = pickle.load(input_file)"
   ]
  },
  {
   "cell_type": "code",
   "execution_count": 7,
   "id": "5ccb39f1-b51e-4b95-961f-35758a751a65",
   "metadata": {},
   "outputs": [],
   "source": [
    "with open(FILE2018, 'rb') as input_file:\n",
    "    df_2018_base = pickle.load(input_file)"
   ]
  },
  {
   "cell_type": "code",
   "execution_count": 8,
   "id": "d2e0d8c4-2b53-4c75-86e2-374766a9ec2f",
   "metadata": {},
   "outputs": [],
   "source": [
    "with open(FILE2019, 'rb') as input_file:\n",
    "    df_2019_base = pickle.load(input_file)"
   ]
  },
  {
   "cell_type": "code",
   "execution_count": 9,
   "id": "a76eafc7-66b3-44f0-8ffc-baa43799444e",
   "metadata": {},
   "outputs": [],
   "source": [
    "with open(FILE2020, 'rb') as input_file:\n",
    "    df_2020_base = pickle.load(input_file)"
   ]
  },
  {
   "cell_type": "code",
   "execution_count": 10,
   "id": "e156be06-ad40-465b-9ade-3947ff9a64b9",
   "metadata": {},
   "outputs": [],
   "source": [
    "df_origine_media = df_2015_base.append(df_2016_base.append(df_2017_base.append(df_2018_base.append(df_2019_base.append(df_2020_base)))))"
   ]
  },
  {
   "cell_type": "code",
   "execution_count": 11,
   "id": "e0f5a866-226a-4000-bdde-0653c76db38e",
   "metadata": {},
   "outputs": [
    {
     "data": {
      "text/html": [
       "<div>\n",
       "<style scoped>\n",
       "    .dataframe tbody tr th:only-of-type {\n",
       "        vertical-align: middle;\n",
       "    }\n",
       "\n",
       "    .dataframe tbody tr th {\n",
       "        vertical-align: top;\n",
       "    }\n",
       "\n",
       "    .dataframe thead th {\n",
       "        text-align: right;\n",
       "    }\n",
       "</style>\n",
       "<table border=\"1\" class=\"dataframe\">\n",
       "  <thead>\n",
       "    <tr style=\"text-align: right;\">\n",
       "      <th></th>\n",
       "      <th>media_country</th>\n",
       "      <th>gender</th>\n",
       "      <th>age_range</th>\n",
       "      <th>quotation_length</th>\n",
       "      <th>count</th>\n",
       "      <th>year</th>\n",
       "    </tr>\n",
       "  </thead>\n",
       "  <tbody>\n",
       "    <tr>\n",
       "      <th>0</th>\n",
       "      <td>United States of America</td>\n",
       "      <td>Male</td>\n",
       "      <td>(50, 60]</td>\n",
       "      <td>44</td>\n",
       "      <td>2411</td>\n",
       "      <td>2015</td>\n",
       "    </tr>\n",
       "    <tr>\n",
       "      <th>1</th>\n",
       "      <td>United States of America</td>\n",
       "      <td>Male</td>\n",
       "      <td>(50, 60]</td>\n",
       "      <td>34</td>\n",
       "      <td>2317</td>\n",
       "      <td>2015</td>\n",
       "    </tr>\n",
       "    <tr>\n",
       "      <th>2</th>\n",
       "      <td>United States of America</td>\n",
       "      <td>Male</td>\n",
       "      <td>(50, 60]</td>\n",
       "      <td>57</td>\n",
       "      <td>2315</td>\n",
       "      <td>2015</td>\n",
       "    </tr>\n",
       "    <tr>\n",
       "      <th>3</th>\n",
       "      <td>United States of America</td>\n",
       "      <td>Male</td>\n",
       "      <td>(50, 60]</td>\n",
       "      <td>36</td>\n",
       "      <td>2289</td>\n",
       "      <td>2015</td>\n",
       "    </tr>\n",
       "    <tr>\n",
       "      <th>4</th>\n",
       "      <td>United States of America</td>\n",
       "      <td>Male</td>\n",
       "      <td>(50, 60]</td>\n",
       "      <td>38</td>\n",
       "      <td>2275</td>\n",
       "      <td>2015</td>\n",
       "    </tr>\n",
       "  </tbody>\n",
       "</table>\n",
       "</div>"
      ],
      "text/plain": [
       "              media_country gender age_range  quotation_length  count  year\n",
       "0  United States of America   Male  (50, 60]                44   2411  2015\n",
       "1  United States of America   Male  (50, 60]                34   2317  2015\n",
       "2  United States of America   Male  (50, 60]                57   2315  2015\n",
       "3  United States of America   Male  (50, 60]                36   2289  2015\n",
       "4  United States of America   Male  (50, 60]                38   2275  2015"
      ]
     },
     "execution_count": 11,
     "metadata": {},
     "output_type": "execute_result"
    }
   ],
   "source": [
    "df_origine_media.head()"
   ]
  },
  {
   "cell_type": "code",
   "execution_count": 12,
   "id": "a31d6e23-258c-45c9-9b67-92700cc9006d",
   "metadata": {},
   "outputs": [],
   "source": [
    "all_newspaper_countries = df_origine_media.groupby(['media_country'])['count'].sum().to_frame(name=\"count\").sort_values(['count'],ascending=False).reset_index()"
   ]
  },
  {
   "cell_type": "code",
   "execution_count": 13,
   "id": "b9fcdcf3-fa9f-4359-bfac-5a94413ceda4",
   "metadata": {},
   "outputs": [
    {
     "data": {
      "text/html": [
       "<div>\n",
       "<style scoped>\n",
       "    .dataframe tbody tr th:only-of-type {\n",
       "        vertical-align: middle;\n",
       "    }\n",
       "\n",
       "    .dataframe tbody tr th {\n",
       "        vertical-align: top;\n",
       "    }\n",
       "\n",
       "    .dataframe thead th {\n",
       "        text-align: right;\n",
       "    }\n",
       "</style>\n",
       "<table border=\"1\" class=\"dataframe\">\n",
       "  <thead>\n",
       "    <tr style=\"text-align: right;\">\n",
       "      <th></th>\n",
       "      <th>media_country</th>\n",
       "      <th>count</th>\n",
       "    </tr>\n",
       "  </thead>\n",
       "  <tbody>\n",
       "    <tr>\n",
       "      <th>0</th>\n",
       "      <td>United States of America</td>\n",
       "      <td>9611301</td>\n",
       "    </tr>\n",
       "    <tr>\n",
       "      <th>1</th>\n",
       "      <td>Australia</td>\n",
       "      <td>1936196</td>\n",
       "    </tr>\n",
       "    <tr>\n",
       "      <th>2</th>\n",
       "      <td>United Kingdom</td>\n",
       "      <td>1388500</td>\n",
       "    </tr>\n",
       "    <tr>\n",
       "      <th>3</th>\n",
       "      <td>New Zealand</td>\n",
       "      <td>1145499</td>\n",
       "    </tr>\n",
       "    <tr>\n",
       "      <th>4</th>\n",
       "      <td>Canada</td>\n",
       "      <td>976898</td>\n",
       "    </tr>\n",
       "    <tr>\n",
       "      <th>5</th>\n",
       "      <td>India</td>\n",
       "      <td>635837</td>\n",
       "    </tr>\n",
       "    <tr>\n",
       "      <th>6</th>\n",
       "      <td>Singapore</td>\n",
       "      <td>472837</td>\n",
       "    </tr>\n",
       "    <tr>\n",
       "      <th>7</th>\n",
       "      <td>Nigeria</td>\n",
       "      <td>278051</td>\n",
       "    </tr>\n",
       "    <tr>\n",
       "      <th>8</th>\n",
       "      <td>France</td>\n",
       "      <td>275659</td>\n",
       "    </tr>\n",
       "    <tr>\n",
       "      <th>9</th>\n",
       "      <td>Israel</td>\n",
       "      <td>260740</td>\n",
       "    </tr>\n",
       "    <tr>\n",
       "      <th>10</th>\n",
       "      <td>United Arab Emirates</td>\n",
       "      <td>237943</td>\n",
       "    </tr>\n",
       "    <tr>\n",
       "      <th>11</th>\n",
       "      <td>Ghana</td>\n",
       "      <td>196340</td>\n",
       "    </tr>\n",
       "    <tr>\n",
       "      <th>12</th>\n",
       "      <td>Ireland</td>\n",
       "      <td>193199</td>\n",
       "    </tr>\n",
       "    <tr>\n",
       "      <th>13</th>\n",
       "      <td>Germany</td>\n",
       "      <td>100274</td>\n",
       "    </tr>\n",
       "    <tr>\n",
       "      <th>14</th>\n",
       "      <td>South Africa</td>\n",
       "      <td>70829</td>\n",
       "    </tr>\n",
       "    <tr>\n",
       "      <th>15</th>\n",
       "      <td>Indonesia</td>\n",
       "      <td>69744</td>\n",
       "    </tr>\n",
       "    <tr>\n",
       "      <th>16</th>\n",
       "      <td>Kenya</td>\n",
       "      <td>64650</td>\n",
       "    </tr>\n",
       "    <tr>\n",
       "      <th>17</th>\n",
       "      <td>Philippines</td>\n",
       "      <td>18021</td>\n",
       "    </tr>\n",
       "    <tr>\n",
       "      <th>18</th>\n",
       "      <td>Qatar</td>\n",
       "      <td>14244</td>\n",
       "    </tr>\n",
       "    <tr>\n",
       "      <th>19</th>\n",
       "      <td>Brazil</td>\n",
       "      <td>2414</td>\n",
       "    </tr>\n",
       "    <tr>\n",
       "      <th>20</th>\n",
       "      <td>Latvia</td>\n",
       "      <td>232</td>\n",
       "    </tr>\n",
       "  </tbody>\n",
       "</table>\n",
       "</div>"
      ],
      "text/plain": [
       "               media_country    count\n",
       "0   United States of America  9611301\n",
       "1                  Australia  1936196\n",
       "2             United Kingdom  1388500\n",
       "3                New Zealand  1145499\n",
       "4                     Canada   976898\n",
       "5                      India   635837\n",
       "6                  Singapore   472837\n",
       "7                    Nigeria   278051\n",
       "8                     France   275659\n",
       "9                     Israel   260740\n",
       "10      United Arab Emirates   237943\n",
       "11                     Ghana   196340\n",
       "12                   Ireland   193199\n",
       "13                   Germany   100274\n",
       "14              South Africa    70829\n",
       "15                 Indonesia    69744\n",
       "16                     Kenya    64650\n",
       "17               Philippines    18021\n",
       "18                     Qatar    14244\n",
       "19                    Brazil     2414\n",
       "20                    Latvia      232"
      ]
     },
     "execution_count": 13,
     "metadata": {},
     "output_type": "execute_result"
    }
   ],
   "source": [
    "all_newspaper_countries"
   ]
  },
  {
   "cell_type": "code",
   "execution_count": 14,
   "id": "93068eab-9769-4c8e-971b-53cce00d3e23",
   "metadata": {},
   "outputs": [],
   "source": [
    "df_origine_media_gender = df_origine_media.groupby([\"media_country\",\"gender\"])['count'].sum().to_frame(name=\"count\").reset_index()"
   ]
  },
  {
   "cell_type": "code",
   "execution_count": 15,
   "id": "c2391185-4863-4811-ab02-dfa2558cb719",
   "metadata": {},
   "outputs": [
    {
     "data": {
      "text/html": [
       "<div>\n",
       "<style scoped>\n",
       "    .dataframe tbody tr th:only-of-type {\n",
       "        vertical-align: middle;\n",
       "    }\n",
       "\n",
       "    .dataframe tbody tr th {\n",
       "        vertical-align: top;\n",
       "    }\n",
       "\n",
       "    .dataframe thead th {\n",
       "        text-align: right;\n",
       "    }\n",
       "</style>\n",
       "<table border=\"1\" class=\"dataframe\">\n",
       "  <thead>\n",
       "    <tr style=\"text-align: right;\">\n",
       "      <th></th>\n",
       "      <th>media_country</th>\n",
       "      <th>gender</th>\n",
       "      <th>count</th>\n",
       "    </tr>\n",
       "  </thead>\n",
       "  <tbody>\n",
       "    <tr>\n",
       "      <th>0</th>\n",
       "      <td>Australia</td>\n",
       "      <td>Female</td>\n",
       "      <td>342415</td>\n",
       "    </tr>\n",
       "    <tr>\n",
       "      <th>1</th>\n",
       "      <td>Australia</td>\n",
       "      <td>Male</td>\n",
       "      <td>1593781</td>\n",
       "    </tr>\n",
       "    <tr>\n",
       "      <th>2</th>\n",
       "      <td>Brazil</td>\n",
       "      <td>Female</td>\n",
       "      <td>380</td>\n",
       "    </tr>\n",
       "    <tr>\n",
       "      <th>3</th>\n",
       "      <td>Brazil</td>\n",
       "      <td>Male</td>\n",
       "      <td>2034</td>\n",
       "    </tr>\n",
       "    <tr>\n",
       "      <th>4</th>\n",
       "      <td>Canada</td>\n",
       "      <td>Female</td>\n",
       "      <td>171031</td>\n",
       "    </tr>\n",
       "    <tr>\n",
       "      <th>5</th>\n",
       "      <td>Canada</td>\n",
       "      <td>Male</td>\n",
       "      <td>805867</td>\n",
       "    </tr>\n",
       "    <tr>\n",
       "      <th>6</th>\n",
       "      <td>France</td>\n",
       "      <td>Female</td>\n",
       "      <td>26219</td>\n",
       "    </tr>\n",
       "    <tr>\n",
       "      <th>7</th>\n",
       "      <td>France</td>\n",
       "      <td>Male</td>\n",
       "      <td>249440</td>\n",
       "    </tr>\n",
       "    <tr>\n",
       "      <th>8</th>\n",
       "      <td>Germany</td>\n",
       "      <td>Female</td>\n",
       "      <td>17622</td>\n",
       "    </tr>\n",
       "    <tr>\n",
       "      <th>9</th>\n",
       "      <td>Germany</td>\n",
       "      <td>Male</td>\n",
       "      <td>82652</td>\n",
       "    </tr>\n",
       "    <tr>\n",
       "      <th>10</th>\n",
       "      <td>Ghana</td>\n",
       "      <td>Female</td>\n",
       "      <td>32772</td>\n",
       "    </tr>\n",
       "    <tr>\n",
       "      <th>11</th>\n",
       "      <td>Ghana</td>\n",
       "      <td>Male</td>\n",
       "      <td>163568</td>\n",
       "    </tr>\n",
       "    <tr>\n",
       "      <th>12</th>\n",
       "      <td>India</td>\n",
       "      <td>Female</td>\n",
       "      <td>85632</td>\n",
       "    </tr>\n",
       "    <tr>\n",
       "      <th>13</th>\n",
       "      <td>India</td>\n",
       "      <td>Male</td>\n",
       "      <td>550205</td>\n",
       "    </tr>\n",
       "    <tr>\n",
       "      <th>14</th>\n",
       "      <td>Indonesia</td>\n",
       "      <td>Female</td>\n",
       "      <td>12038</td>\n",
       "    </tr>\n",
       "    <tr>\n",
       "      <th>15</th>\n",
       "      <td>Indonesia</td>\n",
       "      <td>Male</td>\n",
       "      <td>57706</td>\n",
       "    </tr>\n",
       "    <tr>\n",
       "      <th>16</th>\n",
       "      <td>Ireland</td>\n",
       "      <td>Female</td>\n",
       "      <td>39718</td>\n",
       "    </tr>\n",
       "    <tr>\n",
       "      <th>17</th>\n",
       "      <td>Ireland</td>\n",
       "      <td>Male</td>\n",
       "      <td>153481</td>\n",
       "    </tr>\n",
       "    <tr>\n",
       "      <th>18</th>\n",
       "      <td>Israel</td>\n",
       "      <td>Female</td>\n",
       "      <td>32450</td>\n",
       "    </tr>\n",
       "    <tr>\n",
       "      <th>19</th>\n",
       "      <td>Israel</td>\n",
       "      <td>Male</td>\n",
       "      <td>228290</td>\n",
       "    </tr>\n",
       "    <tr>\n",
       "      <th>20</th>\n",
       "      <td>Kenya</td>\n",
       "      <td>Female</td>\n",
       "      <td>6037</td>\n",
       "    </tr>\n",
       "    <tr>\n",
       "      <th>21</th>\n",
       "      <td>Kenya</td>\n",
       "      <td>Male</td>\n",
       "      <td>58613</td>\n",
       "    </tr>\n",
       "    <tr>\n",
       "      <th>22</th>\n",
       "      <td>Latvia</td>\n",
       "      <td>Female</td>\n",
       "      <td>30</td>\n",
       "    </tr>\n",
       "    <tr>\n",
       "      <th>23</th>\n",
       "      <td>Latvia</td>\n",
       "      <td>Male</td>\n",
       "      <td>202</td>\n",
       "    </tr>\n",
       "    <tr>\n",
       "      <th>24</th>\n",
       "      <td>New Zealand</td>\n",
       "      <td>Female</td>\n",
       "      <td>215743</td>\n",
       "    </tr>\n",
       "    <tr>\n",
       "      <th>25</th>\n",
       "      <td>New Zealand</td>\n",
       "      <td>Male</td>\n",
       "      <td>929756</td>\n",
       "    </tr>\n",
       "    <tr>\n",
       "      <th>26</th>\n",
       "      <td>Nigeria</td>\n",
       "      <td>Female</td>\n",
       "      <td>40856</td>\n",
       "    </tr>\n",
       "    <tr>\n",
       "      <th>27</th>\n",
       "      <td>Nigeria</td>\n",
       "      <td>Male</td>\n",
       "      <td>237195</td>\n",
       "    </tr>\n",
       "    <tr>\n",
       "      <th>28</th>\n",
       "      <td>Philippines</td>\n",
       "      <td>Female</td>\n",
       "      <td>2778</td>\n",
       "    </tr>\n",
       "    <tr>\n",
       "      <th>29</th>\n",
       "      <td>Philippines</td>\n",
       "      <td>Male</td>\n",
       "      <td>15243</td>\n",
       "    </tr>\n",
       "    <tr>\n",
       "      <th>30</th>\n",
       "      <td>Qatar</td>\n",
       "      <td>Female</td>\n",
       "      <td>2067</td>\n",
       "    </tr>\n",
       "    <tr>\n",
       "      <th>31</th>\n",
       "      <td>Qatar</td>\n",
       "      <td>Male</td>\n",
       "      <td>12177</td>\n",
       "    </tr>\n",
       "    <tr>\n",
       "      <th>32</th>\n",
       "      <td>Singapore</td>\n",
       "      <td>Female</td>\n",
       "      <td>62178</td>\n",
       "    </tr>\n",
       "    <tr>\n",
       "      <th>33</th>\n",
       "      <td>Singapore</td>\n",
       "      <td>Male</td>\n",
       "      <td>410659</td>\n",
       "    </tr>\n",
       "    <tr>\n",
       "      <th>34</th>\n",
       "      <td>South Africa</td>\n",
       "      <td>Female</td>\n",
       "      <td>12105</td>\n",
       "    </tr>\n",
       "    <tr>\n",
       "      <th>35</th>\n",
       "      <td>South Africa</td>\n",
       "      <td>Male</td>\n",
       "      <td>58724</td>\n",
       "    </tr>\n",
       "    <tr>\n",
       "      <th>36</th>\n",
       "      <td>United Arab Emirates</td>\n",
       "      <td>Female</td>\n",
       "      <td>38436</td>\n",
       "    </tr>\n",
       "    <tr>\n",
       "      <th>37</th>\n",
       "      <td>United Arab Emirates</td>\n",
       "      <td>Male</td>\n",
       "      <td>199507</td>\n",
       "    </tr>\n",
       "    <tr>\n",
       "      <th>38</th>\n",
       "      <td>United Kingdom</td>\n",
       "      <td>Female</td>\n",
       "      <td>329618</td>\n",
       "    </tr>\n",
       "    <tr>\n",
       "      <th>39</th>\n",
       "      <td>United Kingdom</td>\n",
       "      <td>Male</td>\n",
       "      <td>1058882</td>\n",
       "    </tr>\n",
       "    <tr>\n",
       "      <th>40</th>\n",
       "      <td>United States of America</td>\n",
       "      <td>Female</td>\n",
       "      <td>1524415</td>\n",
       "    </tr>\n",
       "    <tr>\n",
       "      <th>41</th>\n",
       "      <td>United States of America</td>\n",
       "      <td>Male</td>\n",
       "      <td>8086886</td>\n",
       "    </tr>\n",
       "  </tbody>\n",
       "</table>\n",
       "</div>"
      ],
      "text/plain": [
       "               media_country  gender    count\n",
       "0                  Australia  Female   342415\n",
       "1                  Australia    Male  1593781\n",
       "2                     Brazil  Female      380\n",
       "3                     Brazil    Male     2034\n",
       "4                     Canada  Female   171031\n",
       "5                     Canada    Male   805867\n",
       "6                     France  Female    26219\n",
       "7                     France    Male   249440\n",
       "8                    Germany  Female    17622\n",
       "9                    Germany    Male    82652\n",
       "10                     Ghana  Female    32772\n",
       "11                     Ghana    Male   163568\n",
       "12                     India  Female    85632\n",
       "13                     India    Male   550205\n",
       "14                 Indonesia  Female    12038\n",
       "15                 Indonesia    Male    57706\n",
       "16                   Ireland  Female    39718\n",
       "17                   Ireland    Male   153481\n",
       "18                    Israel  Female    32450\n",
       "19                    Israel    Male   228290\n",
       "20                     Kenya  Female     6037\n",
       "21                     Kenya    Male    58613\n",
       "22                    Latvia  Female       30\n",
       "23                    Latvia    Male      202\n",
       "24               New Zealand  Female   215743\n",
       "25               New Zealand    Male   929756\n",
       "26                   Nigeria  Female    40856\n",
       "27                   Nigeria    Male   237195\n",
       "28               Philippines  Female     2778\n",
       "29               Philippines    Male    15243\n",
       "30                     Qatar  Female     2067\n",
       "31                     Qatar    Male    12177\n",
       "32                 Singapore  Female    62178\n",
       "33                 Singapore    Male   410659\n",
       "34              South Africa  Female    12105\n",
       "35              South Africa    Male    58724\n",
       "36      United Arab Emirates  Female    38436\n",
       "37      United Arab Emirates    Male   199507\n",
       "38            United Kingdom  Female   329618\n",
       "39            United Kingdom    Male  1058882\n",
       "40  United States of America  Female  1524415\n",
       "41  United States of America    Male  8086886"
      ]
     },
     "execution_count": 15,
     "metadata": {},
     "output_type": "execute_result"
    }
   ],
   "source": [
    "df_origine_media_gender"
   ]
  },
  {
   "cell_type": "code",
   "execution_count": 16,
   "id": "4e64c637-d17e-40ac-a2a2-5a32cefac92d",
   "metadata": {},
   "outputs": [],
   "source": [
    "def plot_quotes_media_country(df_media_country):\n",
    "    \"\"\"\n",
    "        Function to plot the number of quotes depending on `gender` and `media_country`\n",
    "    :param df: dataframe \n",
    "    \"\"\"    \n",
    "    f = plt.figure(figsize=(12,6))\n",
    "    ax = sns.barplot(data=df_media_country.sort_values(['count'],ascending=False), x='media_country',y='count', hue='gender')\n",
    "    plt.xlabel(\"Top media's country\")\n",
    "    plt.ylabel('Number of quotes')\n",
    "    plt.yscale('log')\n",
    "    #year = df['quoteID'][0][0:4]\n",
    "    #plt.title(\"Number of quotes depending on gender and media's country for the year \"+year)\n",
    "    locs, labels = plt.xticks()\n",
    "    plt.setp(labels, rotation=45,  horizontalalignment='right')"
   ]
  },
  {
   "cell_type": "code",
   "execution_count": 17,
   "id": "6d817f8b-78ff-48a4-bfcb-3984000a334c",
   "metadata": {},
   "outputs": [
    {
     "data": {
      "image/png": "[encoded data removed]",
      "text/plain": [
       "<Figure size 864x432 with 1 Axes>"
      ]
     },
     "metadata": {},
     "output_type": "display_data"
    }
   ],
   "source": [
    "plot_quotes_media_country(df_origine_media_gender)"
   ]
  },
  {
   "cell_type": "markdown",
   "id": "076a8a62-befb-47c0-9f8f-65381cbf91f3",
   "metadata": {},
   "source": [
    "## Why not consider the difference between countries. Females are in general less quoted okay, but does it seem better for occidental countries ?"
   ]
  },
  {
   "cell_type": "code",
   "execution_count": 18,
   "id": "4c73a02b-94fd-4b66-9ac9-f155ef59e025",
   "metadata": {},
   "outputs": [],
   "source": [
    "df_female = df_origine_media_gender[df_origine_media_gender['gender'] == 'Female'].reset_index(drop=True)\n",
    "df_country = df_origine_media_gender.groupby(['media_country'])['count'].sum().to_frame(name=\"total\").reset_index(drop=True)"
   ]
  },
  {
   "cell_type": "code",
   "execution_count": 19,
   "id": "7cc0840d-9904-4383-8d2c-8c8f93030c97",
   "metadata": {},
   "outputs": [],
   "source": [
    "df_female_prop = df_female.merge(df_country,left_index = True, right_index=True).drop(['gender'], axis = 1)"
   ]
  },
  {
   "cell_type": "code",
   "execution_count": 21,
   "id": "21fb7c4b-9b47-4c6d-a7d5-a2bdbd3bf5fe",
   "metadata": {},
   "outputs": [],
   "source": [
    "df_female_prop['Female %'] = df_female_prop['count']/df_female_prop['total']*100"
   ]
  },
  {
   "cell_type": "code",
   "execution_count": 22,
   "id": "382958ce-cead-4ec8-926b-a6a8423111f5",
   "metadata": {},
   "outputs": [
    {
     "data": {
      "text/html": [
       "<div>\n",
       "<style scoped>\n",
       "    .dataframe tbody tr th:only-of-type {\n",
       "        vertical-align: middle;\n",
       "    }\n",
       "\n",
       "    .dataframe tbody tr th {\n",
       "        vertical-align: top;\n",
       "    }\n",
       "\n",
       "    .dataframe thead th {\n",
       "        text-align: right;\n",
       "    }\n",
       "</style>\n",
       "<table border=\"1\" class=\"dataframe\">\n",
       "  <thead>\n",
       "    <tr style=\"text-align: right;\">\n",
       "      <th></th>\n",
       "      <th>media_country</th>\n",
       "      <th>count</th>\n",
       "      <th>total</th>\n",
       "      <th>Female %</th>\n",
       "    </tr>\n",
       "  </thead>\n",
       "  <tbody>\n",
       "    <tr>\n",
       "      <th>0</th>\n",
       "      <td>Australia</td>\n",
       "      <td>342415</td>\n",
       "      <td>1936196</td>\n",
       "      <td>17.684935</td>\n",
       "    </tr>\n",
       "    <tr>\n",
       "      <th>1</th>\n",
       "      <td>Brazil</td>\n",
       "      <td>380</td>\n",
       "      <td>2414</td>\n",
       "      <td>15.741508</td>\n",
       "    </tr>\n",
       "    <tr>\n",
       "      <th>2</th>\n",
       "      <td>Canada</td>\n",
       "      <td>171031</td>\n",
       "      <td>976898</td>\n",
       "      <td>17.507560</td>\n",
       "    </tr>\n",
       "    <tr>\n",
       "      <th>3</th>\n",
       "      <td>France</td>\n",
       "      <td>26219</td>\n",
       "      <td>275659</td>\n",
       "      <td>9.511389</td>\n",
       "    </tr>\n",
       "    <tr>\n",
       "      <th>4</th>\n",
       "      <td>Germany</td>\n",
       "      <td>17622</td>\n",
       "      <td>100274</td>\n",
       "      <td>17.573848</td>\n",
       "    </tr>\n",
       "    <tr>\n",
       "      <th>5</th>\n",
       "      <td>Ghana</td>\n",
       "      <td>32772</td>\n",
       "      <td>196340</td>\n",
       "      <td>16.691454</td>\n",
       "    </tr>\n",
       "    <tr>\n",
       "      <th>6</th>\n",
       "      <td>India</td>\n",
       "      <td>85632</td>\n",
       "      <td>635837</td>\n",
       "      <td>13.467603</td>\n",
       "    </tr>\n",
       "    <tr>\n",
       "      <th>7</th>\n",
       "      <td>Indonesia</td>\n",
       "      <td>12038</td>\n",
       "      <td>69744</td>\n",
       "      <td>17.260266</td>\n",
       "    </tr>\n",
       "    <tr>\n",
       "      <th>8</th>\n",
       "      <td>Ireland</td>\n",
       "      <td>39718</td>\n",
       "      <td>193199</td>\n",
       "      <td>20.558077</td>\n",
       "    </tr>\n",
       "    <tr>\n",
       "      <th>9</th>\n",
       "      <td>Israel</td>\n",
       "      <td>32450</td>\n",
       "      <td>260740</td>\n",
       "      <td>12.445348</td>\n",
       "    </tr>\n",
       "    <tr>\n",
       "      <th>10</th>\n",
       "      <td>Kenya</td>\n",
       "      <td>6037</td>\n",
       "      <td>64650</td>\n",
       "      <td>9.337974</td>\n",
       "    </tr>\n",
       "    <tr>\n",
       "      <th>11</th>\n",
       "      <td>Latvia</td>\n",
       "      <td>30</td>\n",
       "      <td>232</td>\n",
       "      <td>12.931034</td>\n",
       "    </tr>\n",
       "    <tr>\n",
       "      <th>12</th>\n",
       "      <td>New Zealand</td>\n",
       "      <td>215743</td>\n",
       "      <td>1145499</td>\n",
       "      <td>18.833975</td>\n",
       "    </tr>\n",
       "    <tr>\n",
       "      <th>13</th>\n",
       "      <td>Nigeria</td>\n",
       "      <td>40856</td>\n",
       "      <td>278051</td>\n",
       "      <td>14.693707</td>\n",
       "    </tr>\n",
       "    <tr>\n",
       "      <th>14</th>\n",
       "      <td>Philippines</td>\n",
       "      <td>2778</td>\n",
       "      <td>18021</td>\n",
       "      <td>15.415349</td>\n",
       "    </tr>\n",
       "    <tr>\n",
       "      <th>15</th>\n",
       "      <td>Qatar</td>\n",
       "      <td>2067</td>\n",
       "      <td>14244</td>\n",
       "      <td>14.511373</td>\n",
       "    </tr>\n",
       "    <tr>\n",
       "      <th>16</th>\n",
       "      <td>Singapore</td>\n",
       "      <td>62178</td>\n",
       "      <td>472837</td>\n",
       "      <td>13.149986</td>\n",
       "    </tr>\n",
       "    <tr>\n",
       "      <th>17</th>\n",
       "      <td>South Africa</td>\n",
       "      <td>12105</td>\n",
       "      <td>70829</td>\n",
       "      <td>17.090457</td>\n",
       "    </tr>\n",
       "    <tr>\n",
       "      <th>18</th>\n",
       "      <td>United Arab Emirates</td>\n",
       "      <td>38436</td>\n",
       "      <td>237943</td>\n",
       "      <td>16.153449</td>\n",
       "    </tr>\n",
       "    <tr>\n",
       "      <th>19</th>\n",
       "      <td>United Kingdom</td>\n",
       "      <td>329618</td>\n",
       "      <td>1388500</td>\n",
       "      <td>23.739143</td>\n",
       "    </tr>\n",
       "    <tr>\n",
       "      <th>20</th>\n",
       "      <td>United States of America</td>\n",
       "      <td>1524415</td>\n",
       "      <td>9611301</td>\n",
       "      <td>15.860652</td>\n",
       "    </tr>\n",
       "  </tbody>\n",
       "</table>\n",
       "</div>"
      ],
      "text/plain": [
       "               media_country    count    total   Female %\n",
       "0                  Australia   342415  1936196  17.684935\n",
       "1                     Brazil      380     2414  15.741508\n",
       "2                     Canada   171031   976898  17.507560\n",
       "3                     France    26219   275659   9.511389\n",
       "4                    Germany    17622   100274  17.573848\n",
       "5                      Ghana    32772   196340  16.691454\n",
       "6                      India    85632   635837  13.467603\n",
       "7                  Indonesia    12038    69744  17.260266\n",
       "8                    Ireland    39718   193199  20.558077\n",
       "9                     Israel    32450   260740  12.445348\n",
       "10                     Kenya     6037    64650   9.337974\n",
       "11                    Latvia       30      232  12.931034\n",
       "12               New Zealand   215743  1145499  18.833975\n",
       "13                   Nigeria    40856   278051  14.693707\n",
       "14               Philippines     2778    18021  15.415349\n",
       "15                     Qatar     2067    14244  14.511373\n",
       "16                 Singapore    62178   472837  13.149986\n",
       "17              South Africa    12105    70829  17.090457\n",
       "18      United Arab Emirates    38436   237943  16.153449\n",
       "19            United Kingdom   329618  1388500  23.739143\n",
       "20  United States of America  1524415  9611301  15.860652"
      ]
     },
     "execution_count": 22,
     "metadata": {},
     "output_type": "execute_result"
    }
   ],
   "source": [
    "df_female_prop"
   ]
  },
  {
   "cell_type": "code",
   "execution_count": 23,
   "id": "58f5ab6e-3a65-47c8-9890-7c659b201d00",
   "metadata": {},
   "outputs": [],
   "source": [
    "def barplot(df, x, y, hue, log='lin'):\n",
    "    f = plt.figure(figsize=(12,6))\n",
    "    ax = sns.barplot(data=df, x=x,y=y, hue=hue)\n",
    "    if log=='log':\n",
    "        plt.yscale('log')\n",
    "    locs, labels = plt.xticks()\n",
    "    plt.setp(labels, rotation=45,  horizontalalignment='right')"
   ]
  },
  {
   "cell_type": "code",
   "execution_count": 25,
   "id": "cfb7f097-0e7e-40be-8490-1f7398fd2c1e",
   "metadata": {},
   "outputs": [
    {
     "data": {
      "image/png": "[encoded data removed]",
      "text/plain": [
       "<Figure size 864x432 with 1 Axes>"
      ]
     },
     "metadata": {},
     "output_type": "display_data"
    }
   ],
   "source": [
    "barplot(df_female_prop.sort_values(['Female %'],ascending=False),'media_country','Female %', None)"
   ]
  },
  {
   "cell_type": "markdown",
   "id": "f524a739-1b26-499a-b74d-2a31217c68b0",
   "metadata": {},
   "source": [
    "### Interesting France is very low (less than 10% of quotes are from women...) Compare it with Germany (also a non english speaking country, that has about the same education level) that has 17.57% ..."
   ]
  },
  {
   "cell_type": "markdown",
   "id": "8ff58381-4e1d-4c5d-b636-76abe10015f8",
   "metadata": {},
   "source": [
    "We could even try to find out why an english speaking country would tend to quote more women (should the language really have an impact?)"
   ]
  },
  {
   "cell_type": "markdown",
   "id": "b8e409bf-3d14-430a-9f22-e4ef609c0d71",
   "metadata": {},
   "source": [
    "Why not also consider United Arab emirates, which we would have expected, as occidentals at least, to quote less women than France!"
   ]
  },
  {
   "cell_type": "markdown",
   "id": "7f9ea224-0322-49ee-a54c-883177fd583c",
   "metadata": {},
   "source": [
    "#### Comparison FRANCE vs GERMANY (ça fait un peu 2nd WW hahahah), les français prennent de nouveau cher, c'est pas coool :("
   ]
  },
  {
   "cell_type": "code",
   "execution_count": 26,
   "id": "41abf1aa-02b7-48ff-aac2-8429d3f65191",
   "metadata": {},
   "outputs": [],
   "source": [
    "df_France = df_origine_media[df_origine_media['media_country'] == 'France']\n",
    "df_Germany = df_origine_media[df_origine_media['media_country'] == 'Germany']\n",
    "df_UAE = df_origine_media[df_origine_media['media_country'] == 'United Arab Emirates']"
   ]
  },
  {
   "cell_type": "markdown",
   "id": "9843ea92-a350-40b0-9904-69180e5e7c01",
   "metadata": {},
   "source": [
    "Separate by gender F = Female, M = Male"
   ]
  },
  {
   "cell_type": "code",
   "execution_count": 27,
   "id": "b0fa6bc0-45b9-4df6-bb20-c2d6fa928770",
   "metadata": {},
   "outputs": [],
   "source": [
    "df_France_F = df_France[df_France['gender'] == 'Female'].reset_index(drop=True)\n",
    "df_France_M = df_France[df_France['gender'] == 'Male'].reset_index(drop=True)\n",
    "df_Germany_F = df_Germany[df_Germany['gender'] == 'Female'].reset_index(drop=True)\n",
    "df_Germany_M = df_Germany[df_Germany['gender'] == 'Male'].reset_index(drop=True)\n",
    "df_UAE_F = df_UAE[df_UAE['gender'] == 'Female'].reset_index(drop=True)\n",
    "df_UAE_M = df_UAE[df_UAE['gender'] == 'Male'].reset_index(drop=True)"
   ]
  },
  {
   "cell_type": "code",
   "execution_count": 28,
   "id": "6eed3a08-b3eb-4e28-9e71-17741d03ae35",
   "metadata": {},
   "outputs": [
    {
     "name": "stdout",
     "output_type": "stream",
     "text": [
      "From newspapers located in France a total of 275659 quotations are identified in the Quote database, whereas from newspaper located in United Arab Emirates: 237943 and in Germany only 100274\n"
     ]
    }
   ],
   "source": [
    "#number of quotes in total --> see if statistically big enough\n",
    "tot_France = df_France['count'].sum()\n",
    "tot_Germany = df_Germany['count'].sum()\n",
    "tot_UAE = df_UAE['count'].sum()\n",
    "print('From newspapers located in France a total of',tot_France,'quotations are identified in the Quote database, whereas from newspaper located in United Arab Emirates:', tot_UAE, 'and in Germany only', tot_Germany)"
   ]
  },
  {
   "cell_type": "markdown",
   "id": "e37d5061-4442-4d7b-a51e-d059e289efa2",
   "metadata": {},
   "source": [
    "## Age range Analysis"
   ]
  },
  {
   "cell_type": "code",
   "execution_count": 29,
   "id": "020bd101-d6d4-4612-9a77-19342e795a8d",
   "metadata": {},
   "outputs": [],
   "source": [
    "df_France_age_F = df_France_F.groupby(['age_range'])['count'].sum().to_frame(name=\"France\")/(df_France_F['count'].sum())*100\n",
    "df_Germany_age_F = df_Germany_F.groupby(['age_range'])['count'].sum().to_frame(name=\"Germany\")/(df_Germany_F['count'].sum())*100\n",
    "df_UAE_age_F = df_UAE_F.groupby(['age_range'])['count'].sum().to_frame(name=\"United Arab Emirates\")/(df_UAE_F['count'].sum())*100\n",
    "\n",
    "df_France_age_M = df_France_M.groupby(['age_range'])['count'].sum().to_frame(name=\"France\")/(df_France_M['count'].sum())*100\n",
    "df_Germany_age_M = df_Germany_M.groupby(['age_range'])['count'].sum().to_frame(name=\"Germany\")/(df_Germany_M['count'].sum())*100\n",
    "df_UAE_age_M = df_UAE_M.groupby(['age_range'])['count'].sum().to_frame(name=\"United Arab Emirates\")/(df_UAE_M['count'].sum())*100"
   ]
  },
  {
   "cell_type": "code",
   "execution_count": 34,
   "id": "cbdef8cf-b4ef-46dc-af9d-c80389deae5f",
   "metadata": {},
   "outputs": [
    {
     "data": {
      "text/plain": [
       "100.0"
      ]
     },
     "execution_count": 34,
     "metadata": {},
     "output_type": "execute_result"
    }
   ],
   "source": [
    "df_France_age_F['France'].sum()"
   ]
  },
  {
   "cell_type": "code",
   "execution_count": 36,
   "id": "791dfdf6-b6d0-4b8e-8003-def7802a435b",
   "metadata": {
    "tags": []
   },
   "outputs": [
    {
     "data": {
      "text/plain": [
       "Text(0.5, 1.0, 'Male quoted classified by age')"
      ]
     },
     "execution_count": 36,
     "metadata": {},
     "output_type": "execute_result"
    },
    {
     "data": {
      "image/png": "[encoded data removed]",
      "text/plain": [
       "<Figure size 720x432 with 1 Axes>"
      ]
     },
     "metadata": {},
     "output_type": "display_data"
    },
    {
     "data": {
      "image/png": "[encoded data removed]",
      "text/plain": [
       "<Figure size 720x432 with 1 Axes>"
      ]
     },
     "metadata": {},
     "output_type": "display_data"
    }
   ],
   "source": [
    "df_all_age_F = pd.concat([df_France_age_F, df_Germany_age_F, df_UAE_age_F], axis=1)\n",
    "df_all_age_M = pd.concat([df_France_age_M, df_Germany_age_M, df_UAE_age_M], axis=1)\n",
    "df_all_age_F.plot.bar(figsize=(10,6))\n",
    "plt.ylabel('Percentage over all Females')\n",
    "plt.title('Female quoted classified by age')\n",
    "df_all_age_M.plot.bar(figsize=(10,6))\n",
    "plt.ylabel('Percentage over all quoted Males')\n",
    "plt.title('Male quoted classified by age')"
   ]
  },
  {
   "cell_type": "markdown",
   "id": "1ce03e57-03e9-48ca-a7f7-be4c796ce491",
   "metadata": {},
   "source": [
    "## Quotation length Analysis"
   ]
  },
  {
   "cell_type": "code",
   "execution_count": 37,
   "id": "2ad3d724-4e15-463d-941f-aca9904980f3",
   "metadata": {},
   "outputs": [
    {
     "data": {
      "text/html": [
       "<div>\n",
       "<style scoped>\n",
       "    .dataframe tbody tr th:only-of-type {\n",
       "        vertical-align: middle;\n",
       "    }\n",
       "\n",
       "    .dataframe tbody tr th {\n",
       "        vertical-align: top;\n",
       "    }\n",
       "\n",
       "    .dataframe thead th {\n",
       "        text-align: right;\n",
       "    }\n",
       "</style>\n",
       "<table border=\"1\" class=\"dataframe\">\n",
       "  <thead>\n",
       "    <tr style=\"text-align: right;\">\n",
       "      <th></th>\n",
       "      <th>media_country</th>\n",
       "      <th>gender</th>\n",
       "      <th>age_range</th>\n",
       "      <th>quotation_length</th>\n",
       "      <th>count</th>\n",
       "      <th>year</th>\n",
       "    </tr>\n",
       "  </thead>\n",
       "  <tbody>\n",
       "    <tr>\n",
       "      <th>0</th>\n",
       "      <td>France</td>\n",
       "      <td>Male</td>\n",
       "      <td>(20, 30]</td>\n",
       "      <td>9</td>\n",
       "      <td>1</td>\n",
       "      <td>2016</td>\n",
       "    </tr>\n",
       "    <tr>\n",
       "      <th>1</th>\n",
       "      <td>France</td>\n",
       "      <td>Male</td>\n",
       "      <td>(50, 60]</td>\n",
       "      <td>11</td>\n",
       "      <td>1</td>\n",
       "      <td>2015</td>\n",
       "    </tr>\n",
       "    <tr>\n",
       "      <th>2</th>\n",
       "      <td>France</td>\n",
       "      <td>Male</td>\n",
       "      <td>(60, 70]</td>\n",
       "      <td>12</td>\n",
       "      <td>1</td>\n",
       "      <td>2019</td>\n",
       "    </tr>\n",
       "    <tr>\n",
       "      <th>3</th>\n",
       "      <td>France</td>\n",
       "      <td>Male</td>\n",
       "      <td>(50, 60]</td>\n",
       "      <td>12</td>\n",
       "      <td>1</td>\n",
       "      <td>2018</td>\n",
       "    </tr>\n",
       "    <tr>\n",
       "      <th>4</th>\n",
       "      <td>France</td>\n",
       "      <td>Male</td>\n",
       "      <td>(40, 50]</td>\n",
       "      <td>14</td>\n",
       "      <td>1</td>\n",
       "      <td>2017</td>\n",
       "    </tr>\n",
       "    <tr>\n",
       "      <th>...</th>\n",
       "      <td>...</td>\n",
       "      <td>...</td>\n",
       "      <td>...</td>\n",
       "      <td>...</td>\n",
       "      <td>...</td>\n",
       "      <td>...</td>\n",
       "    </tr>\n",
       "    <tr>\n",
       "      <th>13816</th>\n",
       "      <td>France</td>\n",
       "      <td>Male</td>\n",
       "      <td>(50, 60]</td>\n",
       "      <td>1704</td>\n",
       "      <td>1</td>\n",
       "      <td>2018</td>\n",
       "    </tr>\n",
       "    <tr>\n",
       "      <th>13817</th>\n",
       "      <td>France</td>\n",
       "      <td>Male</td>\n",
       "      <td>(50, 60]</td>\n",
       "      <td>1724</td>\n",
       "      <td>1</td>\n",
       "      <td>2018</td>\n",
       "    </tr>\n",
       "    <tr>\n",
       "      <th>13818</th>\n",
       "      <td>France</td>\n",
       "      <td>Male</td>\n",
       "      <td>(50, 60]</td>\n",
       "      <td>1755</td>\n",
       "      <td>1</td>\n",
       "      <td>2018</td>\n",
       "    </tr>\n",
       "    <tr>\n",
       "      <th>13819</th>\n",
       "      <td>France</td>\n",
       "      <td>Male</td>\n",
       "      <td>(30, 40]</td>\n",
       "      <td>1852</td>\n",
       "      <td>1</td>\n",
       "      <td>2019</td>\n",
       "    </tr>\n",
       "    <tr>\n",
       "      <th>13820</th>\n",
       "      <td>France</td>\n",
       "      <td>Male</td>\n",
       "      <td>(50, 60]</td>\n",
       "      <td>1973</td>\n",
       "      <td>1</td>\n",
       "      <td>2018</td>\n",
       "    </tr>\n",
       "  </tbody>\n",
       "</table>\n",
       "<p>13821 rows × 6 columns</p>\n",
       "</div>"
      ],
      "text/plain": [
       "      media_country gender age_range  quotation_length  count  year\n",
       "0            France   Male  (20, 30]                 9      1  2016\n",
       "1            France   Male  (50, 60]                11      1  2015\n",
       "2            France   Male  (60, 70]                12      1  2019\n",
       "3            France   Male  (50, 60]                12      1  2018\n",
       "4            France   Male  (40, 50]                14      1  2017\n",
       "...             ...    ...       ...               ...    ...   ...\n",
       "13816        France   Male  (50, 60]              1704      1  2018\n",
       "13817        France   Male  (50, 60]              1724      1  2018\n",
       "13818        France   Male  (50, 60]              1755      1  2018\n",
       "13819        France   Male  (30, 40]              1852      1  2019\n",
       "13820        France   Male  (50, 60]              1973      1  2018\n",
       "\n",
       "[13821 rows x 6 columns]"
      ]
     },
     "execution_count": 37,
     "metadata": {},
     "output_type": "execute_result"
    }
   ],
   "source": [
    "df_France_M[df_France_M['count']>0].sort_values('quotation_length').reset_index(drop=True)"
   ]
  },
  {
   "cell_type": "code",
   "execution_count": 38,
   "id": "82ddf37e-01d3-4eeb-a3d3-3d52c57836e6",
   "metadata": {
    "tags": []
   },
   "outputs": [],
   "source": [
    "def UNgroupby(df, to_ungroup):\n",
    "    final_list = []\n",
    "    for i in range (len(df)):\n",
    "        to_append = [df[to_ungroup][i]]*df['count'][i]\n",
    "        final_list.append(to_append)\n",
    "    return pd.Series(final_list).explode().dropna().sort_values(ascending=True).reset_index(drop=True)"
   ]
  },
  {
   "cell_type": "code",
   "execution_count": 39,
   "id": "ffa0bb63-5628-4626-9cbd-09ba4cb9a9ec",
   "metadata": {},
   "outputs": [],
   "source": [
    "Qlength_France_F = UNgroupby(df_France_F, 'quotation_length')\n",
    "Qlength_France_M = UNgroupby(df_France_M, 'quotation_length')\n",
    "\n",
    "Qlength_Germany_F = UNgroupby(df_Germany_F, 'quotation_length')\n",
    "Qlength_Germany_M = UNgroupby(df_Germany_M, 'quotation_length')\n",
    "\n",
    "Qlength_UAE_F = UNgroupby(df_UAE_F, 'quotation_length')\n",
    "Qlength_UAE_M = UNgroupby(df_UAE_M, 'quotation_length')\n",
    "\n",
    "Qlength_all = pd.concat([Qlength_France_F,Qlength_France_M,Qlength_Germany_F,Qlength_Germany_M,Qlength_UAE_F, Qlength_UAE_M], axis=1)"
   ]
  },
  {
   "cell_type": "code",
   "execution_count": 40,
   "id": "439610cd-de10-4a71-94dc-cc87e1bcf9f9",
   "metadata": {},
   "outputs": [],
   "source": [
    "Qlength_all = Qlength_all.rename(columns={0: \"France - Female\", 1: \"France - Male\", 2: \"Germany - Female\", 3: \"Germany - Male\", 4: \"UAE - Female\", 5: \"UAE - Male\"})"
   ]
  },
  {
   "cell_type": "code",
   "execution_count": 41,
   "id": "03998eca-9016-45d2-a6d1-a0ab88d5c677",
   "metadata": {
    "tags": []
   },
   "outputs": [
    {
     "data": {
      "text/html": [
       "<div>\n",
       "<style scoped>\n",
       "    .dataframe tbody tr th:only-of-type {\n",
       "        vertical-align: middle;\n",
       "    }\n",
       "\n",
       "    .dataframe tbody tr th {\n",
       "        vertical-align: top;\n",
       "    }\n",
       "\n",
       "    .dataframe thead th {\n",
       "        text-align: right;\n",
       "    }\n",
       "</style>\n",
       "<table border=\"1\" class=\"dataframe\">\n",
       "  <thead>\n",
       "    <tr style=\"text-align: right;\">\n",
       "      <th></th>\n",
       "      <th>France - Female</th>\n",
       "      <th>France - Male</th>\n",
       "      <th>Germany - Female</th>\n",
       "      <th>Germany - Male</th>\n",
       "      <th>UAE - Female</th>\n",
       "      <th>UAE - Male</th>\n",
       "    </tr>\n",
       "  </thead>\n",
       "  <tbody>\n",
       "    <tr>\n",
       "      <th>mean</th>\n",
       "      <td>122.994279</td>\n",
       "      <td>119.600277</td>\n",
       "      <td>100.972875</td>\n",
       "      <td>102.428665</td>\n",
       "      <td>129.399417</td>\n",
       "      <td>128.0549</td>\n",
       "    </tr>\n",
       "    <tr>\n",
       "      <th>median</th>\n",
       "      <td>108.000000</td>\n",
       "      <td>107.000000</td>\n",
       "      <td>85.000000</td>\n",
       "      <td>88.000000</td>\n",
       "      <td>108.000000</td>\n",
       "      <td>108.0000</td>\n",
       "    </tr>\n",
       "    <tr>\n",
       "      <th>min</th>\n",
       "      <td>11.000000</td>\n",
       "      <td>9.000000</td>\n",
       "      <td>15.000000</td>\n",
       "      <td>13.000000</td>\n",
       "      <td>11.000000</td>\n",
       "      <td>12.0000</td>\n",
       "    </tr>\n",
       "    <tr>\n",
       "      <th>max</th>\n",
       "      <td>1402.000000</td>\n",
       "      <td>1973.000000</td>\n",
       "      <td>964.000000</td>\n",
       "      <td>2195.000000</td>\n",
       "      <td>2028.000000</td>\n",
       "      <td>2349.0000</td>\n",
       "    </tr>\n",
       "  </tbody>\n",
       "</table>\n",
       "</div>"
      ],
      "text/plain": [
       "        France - Female  France - Male  Germany - Female  Germany - Male  \\\n",
       "mean         122.994279     119.600277        100.972875      102.428665   \n",
       "median       108.000000     107.000000         85.000000       88.000000   \n",
       "min           11.000000       9.000000         15.000000       13.000000   \n",
       "max         1402.000000    1973.000000        964.000000     2195.000000   \n",
       "\n",
       "        UAE - Female  UAE - Male  \n",
       "mean      129.399417    128.0549  \n",
       "median    108.000000    108.0000  \n",
       "min        11.000000     12.0000  \n",
       "max      2028.000000   2349.0000  "
      ]
     },
     "execution_count": 41,
     "metadata": {},
     "output_type": "execute_result"
    }
   ],
   "source": [
    "Qlength_all.agg([\"mean\", \"median\", \"min\", \"max\"])"
   ]
  },
  {
   "cell_type": "code",
   "execution_count": 42,
   "id": "ff712307-8d05-4345-a819-a7239c32a194",
   "metadata": {
    "jupyter": {
     "source_hidden": true
    },
    "tags": []
   },
   "outputs": [],
   "source": [
    "def plot_avg_quotes_length(df, conf_int=0.95):\n",
    "    \"\"\"\n",
    "        Function to plot average length of quotes and confidence intervals depending on `gender`\n",
    "    :param df: dataframe \n",
    "    :param conf_int: confidence interval for the plot\n",
    "    \"\"\"\n",
    "    f = plt.figure(figsize=(12,8))\n",
    "    sns.catplot(data = df, height=5, aspect=0.8)#, ci=conf_int)\n",
    "    #plt.title('Average quotation length depending on gender for the year)\n",
    "    plt.ylabel('Quotation length')\n",
    "    #plt.tight_layout()\n",
    "    #plt.ylim(113,126)\n",
    "    plt.show()\n",
    "    "
   ]
  },
  {
   "cell_type": "code",
   "execution_count": 43,
   "id": "296f5fb6-52d4-408b-862e-9e78b3966283",
   "metadata": {},
   "outputs": [],
   "source": [
    "def T_test(Series1, Series2, alpha = 0.05):\n",
    "    print('Statistical test with H0: The two samples follow the same distributions and have the same mean')\n",
    "    t_stat, p_val = ttest_ind(Series1, Series2, nan_policy='omit')\n",
    "    print('der T-Test hat einen p-Wert von:', round(p_val,5))\n",
    "    # interpret\n",
    "    if p_val > alpha:\n",
    "        print('The two distributions have the same mean: (fail to reject H0)')\n",
    "    else:\n",
    "        print('The two distributions have significantly different means (reject H0)')\n",
    "    return p_val"
   ]
  },
  {
   "cell_type": "code",
   "execution_count": 44,
   "id": "176859ab-29ab-400c-abb6-c1d0e61c651a",
   "metadata": {},
   "outputs": [
    {
     "name": "stdout",
     "output_type": "stream",
     "text": [
      "Statistical test with H0: The two samples follow the same distributions and have the same mean\n",
      "der T-Test hat einen p-Wert von: 0.0\n",
      "The two distributions have significantly different means (reject H0)\n"
     ]
    }
   ],
   "source": [
    "pval_FR_FR = T_test(Qlength_France_F,Qlength_France_M)"
   ]
  },
  {
   "cell_type": "code",
   "execution_count": 45,
   "id": "026a534c-b421-42d5-9e6a-814a3958660d",
   "metadata": {},
   "outputs": [
    {
     "name": "stdout",
     "output_type": "stream",
     "text": [
      "Statistical test with H0: The two samples follow the same distributions and have the same mean\n",
      "der T-Test hat einen p-Wert von: 0.00019\n",
      "The two distributions have significantly different means (reject H0)\n"
     ]
    }
   ],
   "source": [
    "pval_GE_GE = T_test(Qlength_Germany_F,Qlength_Germany_M)"
   ]
  },
  {
   "cell_type": "code",
   "execution_count": 46,
   "id": "6035a9e2-6690-4496-ab0d-5b6b1d20e47c",
   "metadata": {},
   "outputs": [
    {
     "name": "stdout",
     "output_type": "stream",
     "text": [
      "Statistical test with H0: The two samples follow the same distributions and have the same mean\n",
      "der T-Test hat einen p-Wert von: 0.04329\n",
      "The two distributions have significantly different means (reject H0)\n"
     ]
    }
   ],
   "source": [
    "pval_UAE_UAE = T_test(Qlength_UAE_F,Qlength_UAE_M)"
   ]
  },
  {
   "cell_type": "markdown",
   "id": "8e87e16f-51ec-4cbc-a28d-86c704604d4a",
   "metadata": {},
   "source": [
    "**Discussion**\n",
    "- Would tend to go against our predictions ! \n",
    "- Females quoted in Newspaper from Frace or UAE have in general longer quotes than Males --> explanation?\n",
    "- Opposite for Germany, which was better in representation of women... \n"
   ]
  },
  {
   "cell_type": "code",
   "execution_count": 47,
   "id": "874953dc-6c7e-414c-8f6c-075e449078cd",
   "metadata": {},
   "outputs": [
    {
     "name": "stdout",
     "output_type": "stream",
     "text": [
      "Statistical test with H0: The two samples follow the same distributions and have the same mean\n",
      "der T-Test hat einen p-Wert von: 0.0\n",
      "The two distributions have significantly different means (reject H0)\n"
     ]
    }
   ],
   "source": [
    "pval_FR_GE = T_test(Qlength_France_F,Qlength_Germany_F)"
   ]
  },
  {
   "cell_type": "code",
   "execution_count": 48,
   "id": "8f2f89de-6912-4e2a-80c4-e8acf7c12e1c",
   "metadata": {},
   "outputs": [
    {
     "name": "stdout",
     "output_type": "stream",
     "text": [
      "Statistical test with H0: The two samples follow the same distributions and have the same mean\n",
      "der T-Test hat einen p-Wert von: 0.0\n",
      "The two distributions have significantly different means (reject H0)\n"
     ]
    }
   ],
   "source": [
    "pval_FR_UAE = T_test(Qlength_France_F,Qlength_UAE_F)"
   ]
  },
  {
   "cell_type": "code",
   "execution_count": 49,
   "id": "35a10708-5f24-4233-ad1c-efc2c9738b2e",
   "metadata": {},
   "outputs": [
    {
     "name": "stdout",
     "output_type": "stream",
     "text": [
      "Statistical test with H0: The two samples follow the same distributions and have the same mean\n",
      "der T-Test hat einen p-Wert von: 0.0\n",
      "The two distributions have significantly different means (reject H0)\n"
     ]
    }
   ],
   "source": [
    "pval_GE_UAE = T_test(Qlength_Germany_F,Qlength_UAE_F)"
   ]
  },
  {
   "cell_type": "markdown",
   "id": "6ea9007c-2b22-4cd9-850b-7fe7827f2a97",
   "metadata": {},
   "source": [
    "**Discussion**\n",
    "- The quote length seems to differ more from country to country than  from gender. \n",
    "- None of the countries has a comparable mean, even without considering the genders --> field of research? not really, I would not pay to much attention to the quotes .."
   ]
  },
  {
   "cell_type": "markdown",
   "id": "062f65e6-fad3-4065-871a-87da0d8f7533",
   "metadata": {},
   "source": [
    "## Year based approach "
   ]
  },
  {
   "cell_type": "code",
   "execution_count": 50,
   "id": "b9913891-aa7b-44d4-a1fb-78596f0483c2",
   "metadata": {},
   "outputs": [],
   "source": [
    "df_France_years = df_France.groupby(['year','gender'])['count'].sum().to_frame(name=\"count\")\n",
    "df_Germany_years = df_Germany.groupby(['year','gender'])['count'].sum().to_frame(name=\"count\")\n",
    "df_UAE_years = df_UAE.groupby(['year','gender'])['count'].sum().to_frame(name=\"count\")"
   ]
  },
  {
   "cell_type": "code",
   "execution_count": 51,
   "id": "c6b20a4f-d512-4a21-bb72-7ec1e3225bcc",
   "metadata": {},
   "outputs": [],
   "source": [
    "prop_list_FR = []\n",
    "prop_list_GE = []\n",
    "prop_list_UAE = []\n",
    "for i in range (0,len(df_France_years),2):\n",
    "    prop_female_FR = df_France_years.iloc[i,0]/(df_France_years.iloc[i,0] + df_France_years.iloc[i+1,0])\n",
    "    prop_male_FR = df_France_years.iloc[i+1,0]/(df_France_years.iloc[i,0] + df_France_years.iloc[i+1,0])\n",
    "    prop_list_FR.append(prop_female_FR)\n",
    "    prop_list_FR.append(prop_male_FR)\n",
    "    \n",
    "    prop_female_GE = df_Germany_years.iloc[i,0]/(df_Germany_years.iloc[i,0] + df_Germany_years.iloc[i+1,0])\n",
    "    prop_male_GE = df_Germany_years.iloc[i+1,0]/(df_Germany_years.iloc[i,0] + df_Germany_years.iloc[i+1,0])\n",
    "    prop_list_GE.append(prop_female_GE)\n",
    "    prop_list_GE.append(prop_male_GE)\n",
    "    \n",
    "    prop_female_UAE = df_UAE_years.iloc[i,0]/(df_UAE_years.iloc[i,0] + df_UAE_years.iloc[i+1,0])\n",
    "    prop_male_UAE = df_UAE_years.iloc[i+1,0]/(df_UAE_years.iloc[i,0] + df_UAE_years.iloc[i+1,0])\n",
    "    prop_list_UAE.append(prop_female_UAE)\n",
    "    prop_list_UAE.append(prop_male_UAE)\n",
    "    "
   ]
  },
  {
   "cell_type": "code",
   "execution_count": 52,
   "id": "52cf092a-58e6-41fc-af4b-bed43a02009f",
   "metadata": {},
   "outputs": [],
   "source": [
    "df_France_years['France'] = prop_list_FR\n",
    "df_Germany_years['Germany'] = prop_list_GE\n",
    "df_UAE_years['UAE'] = prop_list_UAE"
   ]
  },
  {
   "cell_type": "code",
   "execution_count": 53,
   "id": "afc20b69-2d1c-4e88-a1c0-a9581239afe0",
   "metadata": {},
   "outputs": [],
   "source": [
    "df_France_years_F = df_France_years.groupby('year')['France'].head(1)\n",
    "df_Germany_years_F = df_Germany_years.groupby('year')['Germany'].head(1)\n",
    "df_UAE_years_F = df_UAE_years.groupby('year')['UAE'].head(1)"
   ]
  },
  {
   "cell_type": "code",
   "execution_count": 54,
   "id": "6e6bd700-2153-4f01-bd9a-9fe69dcf919e",
   "metadata": {},
   "outputs": [],
   "source": [
    "df_all_years = pd.concat([df_France_years_F, df_Germany_years_F, df_UAE_years_F], axis=1)"
   ]
  },
  {
   "cell_type": "code",
   "execution_count": 55,
   "id": "37de096e-a928-4312-b5b9-a4a967cc4a6a",
   "metadata": {},
   "outputs": [
    {
     "data": {
      "text/html": [
       "<div>\n",
       "<style scoped>\n",
       "    .dataframe tbody tr th:only-of-type {\n",
       "        vertical-align: middle;\n",
       "    }\n",
       "\n",
       "    .dataframe tbody tr th {\n",
       "        vertical-align: top;\n",
       "    }\n",
       "\n",
       "    .dataframe thead th {\n",
       "        text-align: right;\n",
       "    }\n",
       "</style>\n",
       "<table border=\"1\" class=\"dataframe\">\n",
       "  <thead>\n",
       "    <tr style=\"text-align: right;\">\n",
       "      <th></th>\n",
       "      <th>France</th>\n",
       "      <th>Germany</th>\n",
       "      <th>UAE</th>\n",
       "    </tr>\n",
       "    <tr>\n",
       "      <th>year</th>\n",
       "      <th></th>\n",
       "      <th></th>\n",
       "      <th></th>\n",
       "    </tr>\n",
       "  </thead>\n",
       "  <tbody>\n",
       "    <tr>\n",
       "      <th>2015</th>\n",
       "      <td>0.058790</td>\n",
       "      <td>0.144291</td>\n",
       "      <td>0.132836</td>\n",
       "    </tr>\n",
       "    <tr>\n",
       "      <th>2016</th>\n",
       "      <td>0.092710</td>\n",
       "      <td>0.160273</td>\n",
       "      <td>0.167535</td>\n",
       "    </tr>\n",
       "    <tr>\n",
       "      <th>2017</th>\n",
       "      <td>0.088993</td>\n",
       "      <td>0.190586</td>\n",
       "      <td>0.160957</td>\n",
       "    </tr>\n",
       "    <tr>\n",
       "      <th>2018</th>\n",
       "      <td>0.086875</td>\n",
       "      <td>0.169531</td>\n",
       "      <td>0.173576</td>\n",
       "    </tr>\n",
       "    <tr>\n",
       "      <th>2019</th>\n",
       "      <td>0.125150</td>\n",
       "      <td>0.191027</td>\n",
       "      <td>0.167135</td>\n",
       "    </tr>\n",
       "  </tbody>\n",
       "</table>\n",
       "</div>"
      ],
      "text/plain": [
       "        France   Germany       UAE\n",
       "year                              \n",
       "2015  0.058790  0.144291  0.132836\n",
       "2016  0.092710  0.160273  0.167535\n",
       "2017  0.088993  0.190586  0.160957\n",
       "2018  0.086875  0.169531  0.173576\n",
       "2019  0.125150  0.191027  0.167135"
      ]
     },
     "execution_count": 55,
     "metadata": {},
     "output_type": "execute_result"
    }
   ],
   "source": [
    "df_all_years.index = df_all_years.index.droplevel(1)\n",
    "df_all_years"
   ]
  },
  {
   "cell_type": "code",
   "execution_count": 56,
   "id": "a7c24d17-6566-4181-a1d2-b341c4988bd2",
   "metadata": {},
   "outputs": [
    {
     "data": {
      "image/png": "[encoded data removed]",
      "text/plain": [
       "<Figure size 720x576 with 1 Axes>"
      ]
     },
     "metadata": {},
     "output_type": "display_data"
    }
   ],
   "source": [
    "\n",
    "fig1 = df_all_years.plot(kind='bar', title='Proportion of female quotations depending on the country of the newspaper for each year', rot=0, xlabel='years', ylabel='percentage',figsize=(10,8))\n"
   ]
  },
  {
   "cell_type": "code",
   "execution_count": 57,
   "id": "e06ec1a6-5f88-41a1-b752-f3c4d3fb0881",
   "metadata": {},
   "outputs": [],
   "source": [
    "def linear_regression(outcome, pred, df, print_sum = False):\n",
    "    \"\"\"\n",
    "        Function to compute the linear regression using the formula: outcome ~ pred\n",
    "        param outcome: outcome of the linear model\n",
    "        param pred: predictor of the linear model\n",
    "        return: results (df containing coefficients, standard deviations and pvalues)\n",
    "    \"\"\"\n",
    "    # Declares the model\n",
    "    mod = smf.ols(formula=outcome+'~'+pred, data=df)\n",
    "    np.random.seed(2) # Fits the model (find the optimal coefficients, adding a random seed ensures consistency)\n",
    "    res = mod.fit()\n",
    "    if print_sum :\n",
    "        print(res.summary())\n",
    "\n",
    "    # coefficient(s)\n",
    "    coeffs = pd.Series(res.params.values)\n",
    "\n",
    "    # p-values\n",
    "    p_values = res.pvalues\n",
    "    stds = pd.Series(res.bse.values)\n",
    "    \n",
    "    # r-squared of the model\n",
    "    r_squared = res.rsquared\n",
    "\n",
    "    return coeffs, stds, p_values, r_squared"
   ]
  },
  {
   "cell_type": "code",
   "execution_count": 58,
   "id": "fdb7b79b-adc2-4f49-94cf-f6bf0110d048",
   "metadata": {},
   "outputs": [],
   "source": [
    "df_all_years['year'] = df_all_years.index"
   ]
  },
  {
   "cell_type": "code",
   "execution_count": 61,
   "id": "f3d8cc79-dc6f-4a9c-8c6e-48d8e5a1a66d",
   "metadata": {},
   "outputs": [
    {
     "name": "stdout",
     "output_type": "stream",
     "text": [
      "\n",
      "\n",
      "*********************** LINEAR REGRESSION FOR FRANCE ************************\n",
      "\n",
      "\n",
      "                            OLS Regression Results                            \n",
      "==============================================================================\n",
      "Dep. Variable:                 France   R-squared:                       0.723\n",
      "Model:                            OLS   Adj. R-squared:                  0.631\n",
      "Method:                 Least Squares   F-statistic:                     7.835\n",
      "Date:                Thu, 02 Dec 2021   Prob (F-statistic):             0.0679\n",
      "Time:                        12:44:40   Log-Likelihood:                 15.408\n",
      "No. Observations:                   5   AIC:                            -26.82\n",
      "Df Residuals:                       3   BIC:                            -27.60\n",
      "Df Model:                           1                                         \n",
      "Covariance Type:            nonrobust                                         \n",
      "==============================================================================\n",
      "                 coef    std err          t      P>|t|      [0.025      0.975]\n",
      "------------------------------------------------------------------------------\n",
      "Intercept    -25.5020      9.143     -2.789      0.068     -54.600       3.596\n",
      "year           0.0127      0.005      2.799      0.068      -0.002       0.027\n",
      "==============================================================================\n",
      "Omnibus:                          nan   Durbin-Watson:                   2.585\n",
      "Prob(Omnibus):                    nan   Jarque-Bera (JB):                0.357\n",
      "Skew:                          -0.073   Prob(JB):                        0.836\n",
      "Kurtosis:                       1.699   Cond. No.                     2.88e+06\n",
      "==============================================================================\n",
      "\n",
      "Notes:\n",
      "[1] Standard Errors assume that the covariance matrix of the errors is correctly specified.\n",
      "[2] The condition number is large, 2.88e+06. This might indicate that there are\n",
      "strong multicollinearity or other numerical problems.\n",
      "\n",
      "\n",
      "*********************** LINEAR REGRESSION FOR GERMANY ************************\n",
      "\n",
      "\n",
      "                            OLS Regression Results                            \n",
      "==============================================================================\n",
      "Dep. Variable:                Germany   R-squared:                       0.653\n",
      "Model:                            OLS   Adj. R-squared:                  0.538\n",
      "Method:                 Least Squares   F-statistic:                     5.655\n",
      "Date:                Thu, 02 Dec 2021   Prob (F-statistic):             0.0978\n",
      "Time:                        12:44:40   Log-Likelihood:                 15.649\n",
      "No. Observations:                   5   AIC:                            -27.30\n",
      "Df Residuals:                       3   BIC:                            -28.08\n",
      "Df Model:                           1                                         \n",
      "Covariance Type:            nonrobust                                         \n",
      "==============================================================================\n",
      "                 coef    std err          t      P>|t|      [0.025      0.975]\n",
      "------------------------------------------------------------------------------\n",
      "Intercept    -20.5495      8.713     -2.358      0.100     -48.279       7.180\n",
      "year           0.0103      0.004      2.378      0.098      -0.003       0.024\n",
      "==============================================================================\n",
      "Omnibus:                          nan   Durbin-Watson:                   2.754\n",
      "Prob(Omnibus):                    nan   Jarque-Bera (JB):                0.728\n",
      "Skew:                           0.915   Prob(JB):                        0.695\n",
      "Kurtosis:                       2.624   Cond. No.                     2.88e+06\n",
      "==============================================================================\n",
      "\n",
      "Notes:\n",
      "[1] Standard Errors assume that the covariance matrix of the errors is correctly specified.\n",
      "[2] The condition number is large, 2.88e+06. This might indicate that there are\n",
      "strong multicollinearity or other numerical problems.\n",
      "\n",
      "\n",
      "*********************** LINEAR REGRESSION FOR UNITED ARAB EMIRATES ******************\n",
      "\n",
      "\n",
      "                            OLS Regression Results                            \n",
      "==============================================================================\n",
      "Dep. Variable:                    UAE   R-squared:                       0.541\n",
      "Model:                            OLS   Adj. R-squared:                  0.388\n",
      "Method:                 Least Squares   F-statistic:                     3.534\n",
      "Date:                Thu, 02 Dec 2021   Prob (F-statistic):              0.157\n",
      "Time:                        12:44:40   Log-Likelihood:                 16.071\n",
      "No. Observations:                   5   AIC:                            -28.14\n",
      "Df Residuals:                       3   BIC:                            -28.92\n",
      "Df Model:                           1                                         \n",
      "Covariance Type:            nonrobust                                         \n",
      "==============================================================================\n",
      "                 coef    std err          t      P>|t|      [0.025      0.975]\n",
      "------------------------------------------------------------------------------\n",
      "Intercept    -14.8945      8.008     -1.860      0.160     -40.379      10.590\n",
      "year           0.0075      0.004      1.880      0.157      -0.005       0.020\n",
      "==============================================================================\n",
      "Omnibus:                          nan   Durbin-Watson:                   2.451\n",
      "Prob(Omnibus):                    nan   Jarque-Bera (JB):                0.367\n",
      "Skew:                           0.156   Prob(JB):                        0.832\n",
      "Kurtosis:                       1.710   Cond. No.                     2.88e+06\n",
      "==============================================================================\n",
      "\n",
      "Notes:\n",
      "[1] Standard Errors assume that the covariance matrix of the errors is correctly specified.\n",
      "[2] The condition number is large, 2.88e+06. This might indicate that there are\n",
      "strong multicollinearity or other numerical problems.\n"
     ]
    },
    {
     "name": "stderr",
     "output_type": "stream",
     "text": [
      "/opt/anaconda3/lib/python3.8/site-packages/statsmodels/stats/stattools.py:74: ValueWarning: omni_normtest is not valid with less than 8 observations; 5 samples were given.\n",
      "  warn(\"omni_normtest is not valid with less than 8 observations; %i \"\n",
      "/opt/anaconda3/lib/python3.8/site-packages/statsmodels/stats/stattools.py:74: ValueWarning: omni_normtest is not valid with less than 8 observations; 5 samples were given.\n",
      "  warn(\"omni_normtest is not valid with less than 8 observations; %i \"\n",
      "/opt/anaconda3/lib/python3.8/site-packages/statsmodels/stats/stattools.py:74: ValueWarning: omni_normtest is not valid with less than 8 observations; 5 samples were given.\n",
      "  warn(\"omni_normtest is not valid with less than 8 observations; %i \"\n"
     ]
    }
   ],
   "source": [
    "# linear fit using statsmodels\n",
    "from statsmodels.stats import diagnostic\n",
    "from scipy import stats\n",
    "import statsmodels.api as sm\n",
    "import statsmodels.formula.api as smf\n",
    "print('\\n\\n*********************** LINEAR REGRESSION FOR FRANCE ************************\\n\\n')\n",
    "coeffs, stds, p_values_FR, r_squared = linear_regression('France', 'year', df_all_years,True)\n",
    "print('\\n\\n*********************** LINEAR REGRESSION FOR GERMANY ************************\\n\\n')\n",
    "coeffs, stds, p_values_GE, r_squared = linear_regression('Germany', 'year', df_all_years,True)\n",
    "print('\\n\\n*********************** LINEAR REGRESSION FOR UNITED ARAB EMIRATES ******************\\n\\n')\n",
    "coeffs, stds, p_values_UAE, r_squared = linear_regression('UAE', 'year', df_all_years,True)"
   ]
  },
  {
   "cell_type": "code",
   "execution_count": 64,
   "id": "53b2e3b9-2f71-4122-b16f-8d6a48cc411c",
   "metadata": {},
   "outputs": [
    {
     "name": "stdout",
     "output_type": "stream",
     "text": [
      "With a pvalue of 0.068 for France, of 0.098 for Germany and of 0.157 for the United Arab Emirates, one cannot reject the null Hypothesis that there is no real relation between the year and the % Female in the quotes.\n"
     ]
    }
   ],
   "source": [
    "print('With a pvalue of', round(p_values_FR[1],3), 'for France, of', round(p_values_GE[1],3), 'for Germany and of', round(p_values_UAE[1],3),'for the United Arab Emirates, one cannot reject the null Hypothesis that there is no real relation between the year and the % Female in the quotes.')"
   ]
  },
  {
   "cell_type": "markdown",
   "id": "a35c3cff-b0a6-4c26-9c27-e942ba5f904e",
   "metadata": {},
   "source": [
    "**Discuss**\n",
    "- One cannot say that thereis an evolution over the years, even if in the graph it does seem that France \"improved\" ove rthe years.\n",
    "- The lack of points does not allow us to draw ro ust conclusions on the evolution.. Would have been interesting though..\n",
    "- however France's p_value i quite low (about 5%) we could.. \n",
    "- WHy the hell are Germany and France so different ??\n",
    "\n"
   ]
  },
  {
   "cell_type": "code",
   "execution_count": null,
   "id": "b91d31d0-a2af-42be-a43b-eb6ac46fe9ee",
   "metadata": {},
   "outputs": [],
   "source": []
  }
 ],
 "metadata": {
  "kernelspec": {
   "display_name": "Python 3",
   "language": "python",
   "name": "python3"
  },
  "language_info": {
   "codemirror_mode": {
    "name": "ipython",
    "version": 3
   },
   "file_extension": ".py",
   "mimetype": "text/x-python",
   "name": "python",
   "nbconvert_exporter": "python",
   "pygments_lexer": "ipython3",
   "version": "3.9.7"
  }
 },
 "nbformat": 4,
 "nbformat_minor": 5
}

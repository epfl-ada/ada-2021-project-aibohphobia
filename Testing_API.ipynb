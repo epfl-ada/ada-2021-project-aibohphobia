{
 "cells": [
  {
   "cell_type": "markdown",
   "id": "coordinated-director",
   "metadata": {},
   "source": [
    "## Goal of this notebook\n",
    "\n",
    "We use the wikidata API in order to given a name retrieve the QID of interest.\n",
    "After we can use it to extract:\n",
    "- Country of origin\n",
    "\n",
    "We also verify that it work for the large dataset"
   ]
  },
  {
   "cell_type": "markdown",
   "id": "described-penetration",
   "metadata": {},
   "source": [
    "import pandas as pd\n",
    "########## Takes a while to run\n",
    "df = pd.read_parquet(\"speaker_attributes.parquet/\")\n",
    "df"
   ]
  },
  {
   "cell_type": "code",
   "execution_count": 1,
   "id": "artistic-think",
   "metadata": {},
   "outputs": [],
   "source": [
    "from journal_API_wikidata import extract_country_wiki"
   ]
  },
  {
   "cell_type": "code",
   "execution_count": 2,
   "id": "metallic-carry",
   "metadata": {},
   "outputs": [],
   "source": [
    "# You can pass a list of journals\n",
    "# This will be the list passed by Souche\n",
    "ok = extract_country_wiki([\"koimoi\", \"nytimes\"])"
   ]
  },
  {
   "cell_type": "code",
   "execution_count": 3,
   "id": "experimental-pharmacology",
   "metadata": {},
   "outputs": [],
   "source": [
    "import pandas as pd\n",
    "import json\n",
    "df = pd.DataFrame()\n",
    "def process_chunk(chunk):\n",
    "        print(f'Processing chunk with {len(chunk)} rows')\n",
    "        print(chunk.columns)\n",
    "        \"\"\"\n",
    "            Here you can add the stuff you want to do for each chunk, I am not using because I just want to test out some things \n",
    "        \n",
    "        \"\"\"\n",
    "        \n",
    "        \n",
    "\n",
    "        \n",
    "        \n",
    "with pd.read_json('Data/quotes-2020.json.bz2', lines=True, compression='bz2', chunksize=100) as df_reader:\n",
    "\n",
    "    for chunk in df_reader:\n",
    "        break\n"
   ]
  },
  {
   "cell_type": "code",
   "execution_count": 4,
   "id": "sensitive-animation",
   "metadata": {},
   "outputs": [],
   "source": [
    "df = pd.DataFrame(chunk, columns = [\"speaker\", \"qids\", \"probas\", \"urls\"])"
   ]
  },
  {
   "cell_type": "code",
   "execution_count": 5,
   "id": "political-indication",
   "metadata": {},
   "outputs": [
    {
     "name": "stdout",
     "output_type": "stream",
     "text": [
      "No country information available for the given journal\n"
     ]
    },
    {
     "data": {
      "text/plain": [
       "[]"
      ]
     },
     "execution_count": 5,
     "metadata": {},
     "output_type": "execute_result"
    }
   ],
   "source": [
    "extract_country_wiki([\"The malay mail\"])"
   ]
  }
 ],
 "metadata": {
  "kernelspec": {
   "display_name": "Python 3",
   "language": "python",
   "name": "python3"
  },
  "language_info": {
   "codemirror_mode": {
    "name": "ipython",
    "version": 3
   },
   "file_extension": ".py",
   "mimetype": "text/x-python",
   "name": "python",
   "nbconvert_exporter": "python",
   "pygments_lexer": "ipython3",
   "version": "3.8.8"
  }
 },
 "nbformat": 4,
 "nbformat_minor": 5
}

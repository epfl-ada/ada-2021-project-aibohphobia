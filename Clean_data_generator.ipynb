{
 "cells": [
  {
   "cell_type": "code",
   "execution_count": 1,
   "id": "e12ef860",
   "metadata": {},
   "outputs": [
    {
     "name": "stderr",
     "output_type": "stream",
     "text": [
      "[nltk_data] Downloading package stopwords to\n",
      "[nltk_data]     /Users/lisalaurent/nltk_data...\n",
      "[nltk_data]   Package stopwords is already up-to-date!\n",
      "[nltk_data] Downloading package punkt to\n",
      "[nltk_data]     /Users/lisalaurent/nltk_data...\n",
      "[nltk_data]   Package punkt is already up-to-date!\n"
     ]
    },
    {
     "data": {
      "text/plain": [
       "True"
      ]
     },
     "execution_count": 1,
     "metadata": {},
     "output_type": "execute_result"
    }
   ],
   "source": [
    "import numpy as np\n",
    "import pandas as pd\n",
    "import datetime as dt\n",
    "import bz2\n",
    "import json\n",
    "from tld import get_tld\n",
    "import nltk\n",
    "from nltk.stem import PorterStemmer, WordNetLemmatizer\n",
    "from nltk.corpus import stopwords\n",
    "from sklearn.feature_extraction.text import CountVectorizer, TfidfVectorizer\n",
    "from sklearn.metrics.pairwise import linear_kernel\n",
    "import string\n",
    "import math\n",
    "from collections import Counter\n",
    "from operator import itemgetter\n",
    "import re\n",
    "nltk.download('stopwords')\n",
    "nltk.download('punkt')"
   ]
  },
  {
   "cell_type": "code",
   "execution_count": 2,
   "id": "854b391a",
   "metadata": {},
   "outputs": [
    {
     "name": "stderr",
     "output_type": "stream",
     "text": [
      "[nltk_data] Downloading package stopwords to\n",
      "[nltk_data]     /Users/lisalaurent/nltk_data...\n",
      "[nltk_data]   Package stopwords is already up-to-date!\n",
      "[nltk_data] Downloading package punkt to\n",
      "[nltk_data]     /Users/lisalaurent/nltk_data...\n",
      "[nltk_data]   Package punkt is already up-to-date!\n"
     ]
    }
   ],
   "source": [
    "from Data_clean_functions import *"
   ]
  },
  {
   "cell_type": "markdown",
   "id": "e003d69a",
   "metadata": {},
   "source": [
    "### CREATE PATHS"
   ]
  },
  {
   "cell_type": "code",
   "execution_count": 3,
   "id": "b40cb920",
   "metadata": {},
   "outputs": [],
   "source": [
    "DATA_PATH = './Data/'\n",
    "FILE2016 = DATA_PATH + 'quotes-2016.json.bz2'\n",
    "PATH_OUT = DATA_PATH + 'clean-quotes-2016.json.bz2'\n",
    "#FILE2020 = DATA_PATH + 'quotes-2020.json.bz2'\n",
    "#df_base = pd.read_json(FILE2016, lines=True, compression='bz2', nrows=10000)"
   ]
  },
  {
   "cell_type": "code",
   "execution_count": 4,
   "id": "8fe79fc8",
   "metadata": {
    "scrolled": true
   },
   "outputs": [
    {
     "data": {
      "text/html": [
       "<div>\n",
       "<style scoped>\n",
       "    .dataframe tbody tr th:only-of-type {\n",
       "        vertical-align: middle;\n",
       "    }\n",
       "\n",
       "    .dataframe tbody tr th {\n",
       "        vertical-align: top;\n",
       "    }\n",
       "\n",
       "    .dataframe thead th {\n",
       "        text-align: right;\n",
       "    }\n",
       "</style>\n",
       "<table border=\"1\" class=\"dataframe\">\n",
       "  <thead>\n",
       "    <tr style=\"text-align: right;\">\n",
       "      <th></th>\n",
       "      <th>quoteID</th>\n",
       "      <th>quotation</th>\n",
       "      <th>speaker</th>\n",
       "      <th>qids</th>\n",
       "      <th>date</th>\n",
       "      <th>numOccurrences</th>\n",
       "      <th>probas</th>\n",
       "      <th>urls</th>\n",
       "      <th>phase</th>\n",
       "    </tr>\n",
       "  </thead>\n",
       "  <tbody>\n",
       "    <tr>\n",
       "      <th>0</th>\n",
       "      <td>2016-12-26-000040</td>\n",
       "      <td>[ ] and Chris [ Jones ] were in there a lot an...</td>\n",
       "      <td>Andy Reid</td>\n",
       "      <td>[Q2622812, Q27830815, Q470738, Q4761219]</td>\n",
       "      <td>2016-12-26 20:05:00</td>\n",
       "      <td>1</td>\n",
       "      <td>[[Andy Reid, 0.9432], [None, 0.0541], [Trevor ...</td>\n",
       "      <td>[http://www.kcchiefs.com/news/article-2/How-a-...</td>\n",
       "      <td>E</td>\n",
       "    </tr>\n",
       "    <tr>\n",
       "      <th>1</th>\n",
       "      <td>2016-07-31-000006</td>\n",
       "      <td>[ And ] I don't know if we have enough time to...</td>\n",
       "      <td>Mike Howe</td>\n",
       "      <td>[Q6847325]</td>\n",
       "      <td>2016-07-31 08:22:12</td>\n",
       "      <td>2</td>\n",
       "      <td>[[Mike Howe, 0.7118], [None, 0.2882]]</td>\n",
       "      <td>[http://www.peninsuladailynews.com/apps/pbcs.d...</td>\n",
       "      <td>E</td>\n",
       "    </tr>\n",
       "    <tr>\n",
       "      <th>2</th>\n",
       "      <td>2016-09-06-000292</td>\n",
       "      <td>... I feel like I was champion long before I l...</td>\n",
       "      <td>None</td>\n",
       "      <td>[]</td>\n",
       "      <td>2016-09-06 20:54:45</td>\n",
       "      <td>2</td>\n",
       "      <td>[[None, 0.6877], [John Waters, 0.3123]]</td>\n",
       "      <td>[http://onlineathens.com/breaking-news/2016-09...</td>\n",
       "      <td>E</td>\n",
       "    </tr>\n",
       "    <tr>\n",
       "      <th>3</th>\n",
       "      <td>2016-07-11-000226</td>\n",
       "      <td>[ I ] mmigration has been and continues to be ...</td>\n",
       "      <td>Hillary Clinton</td>\n",
       "      <td>[Q6294]</td>\n",
       "      <td>2016-07-11 17:26:06</td>\n",
       "      <td>1</td>\n",
       "      <td>[[Hillary Clinton, 0.9025], [None, 0.0975]]</td>\n",
       "      <td>[http://www.breitbart.com/tech/2016/07/11/hill...</td>\n",
       "      <td>E</td>\n",
       "    </tr>\n",
       "    <tr>\n",
       "      <th>4</th>\n",
       "      <td>2016-05-26-000371</td>\n",
       "      <td>[ It is ] the process of understanding what ki...</td>\n",
       "      <td>Bruce Maxwell</td>\n",
       "      <td>[Q26129591]</td>\n",
       "      <td>2016-05-26 15:21:37</td>\n",
       "      <td>1</td>\n",
       "      <td>[[Bruce Maxwell, 0.8178], [None, 0.1822]]</td>\n",
       "      <td>[http://www.scout.com/mlb/athletics/story/1673...</td>\n",
       "      <td>E</td>\n",
       "    </tr>\n",
       "    <tr>\n",
       "      <th>...</th>\n",
       "      <td>...</td>\n",
       "      <td>...</td>\n",
       "      <td>...</td>\n",
       "      <td>...</td>\n",
       "      <td>...</td>\n",
       "      <td>...</td>\n",
       "      <td>...</td>\n",
       "      <td>...</td>\n",
       "      <td>...</td>\n",
       "    </tr>\n",
       "    <tr>\n",
       "      <th>95</th>\n",
       "      <td>2016-08-23-002448</td>\n",
       "      <td>a revolver with one chamber empty and a black ...</td>\n",
       "      <td>William Quinn</td>\n",
       "      <td>[Q27789027]</td>\n",
       "      <td>2016-08-23 11:32:37</td>\n",
       "      <td>1</td>\n",
       "      <td>[[William Quinn, 0.7352], [None, 0.2648]]</td>\n",
       "      <td>[http://m.spokesman.com/stories/2016/aug/24/10...</td>\n",
       "      <td>E</td>\n",
       "    </tr>\n",
       "    <tr>\n",
       "      <th>96</th>\n",
       "      <td>2016-12-24-001062</td>\n",
       "      <td>A Savior Born for Us.</td>\n",
       "      <td>None</td>\n",
       "      <td>[]</td>\n",
       "      <td>2016-12-24 00:00:00</td>\n",
       "      <td>1</td>\n",
       "      <td>[[None, 0.9235], [John Roberts, 0.0765]]</td>\n",
       "      <td>[http://www.journal-news.net/life/faith/2016/1...</td>\n",
       "      <td>E</td>\n",
       "    </tr>\n",
       "    <tr>\n",
       "      <th>97</th>\n",
       "      <td>2016-05-19-002696</td>\n",
       "      <td>a sheer stroke of luck</td>\n",
       "      <td>Hayley Squires</td>\n",
       "      <td>[Q27050132]</td>\n",
       "      <td>2016-05-19 02:49:27</td>\n",
       "      <td>4</td>\n",
       "      <td>[[Hayley Squires, 0.662], [None, 0.338]]</td>\n",
       "      <td>[http://www.themalaymailonline.com/showbiz/art...</td>\n",
       "      <td>E</td>\n",
       "    </tr>\n",
       "    <tr>\n",
       "      <th>98</th>\n",
       "      <td>2016-05-26-002760</td>\n",
       "      <td>a significant gap between the rhetoric and rea...</td>\n",
       "      <td>None</td>\n",
       "      <td>[]</td>\n",
       "      <td>2016-05-26 15:27:42</td>\n",
       "      <td>1</td>\n",
       "      <td>[[None, 0.5965], [David J, 0.32], [David Camer...</td>\n",
       "      <td>[https://www.rt.com/uk/344486-eu-army-brexit-m...</td>\n",
       "      <td>E</td>\n",
       "    </tr>\n",
       "    <tr>\n",
       "      <th>99</th>\n",
       "      <td>2016-04-26-002630</td>\n",
       "      <td>a sort of SB Nation for car nuts,</td>\n",
       "      <td>None</td>\n",
       "      <td>[]</td>\n",
       "      <td>2016-04-26 00:11:00</td>\n",
       "      <td>2</td>\n",
       "      <td>[[None, 0.5738], [Richard Hammond, 0.2213], [J...</td>\n",
       "      <td>[http://jalopnik.com/the-old-top-gear-trio-are...</td>\n",
       "      <td>E</td>\n",
       "    </tr>\n",
       "  </tbody>\n",
       "</table>\n",
       "<p>100 rows × 9 columns</p>\n",
       "</div>"
      ],
      "text/plain": [
       "              quoteID                                          quotation  \\\n",
       "0   2016-12-26-000040  [ ] and Chris [ Jones ] were in there a lot an...   \n",
       "1   2016-07-31-000006  [ And ] I don't know if we have enough time to...   \n",
       "2   2016-09-06-000292  ... I feel like I was champion long before I l...   \n",
       "3   2016-07-11-000226  [ I ] mmigration has been and continues to be ...   \n",
       "4   2016-05-26-000371  [ It is ] the process of understanding what ki...   \n",
       "..                ...                                                ...   \n",
       "95  2016-08-23-002448  a revolver with one chamber empty and a black ...   \n",
       "96  2016-12-24-001062                              A Savior Born for Us.   \n",
       "97  2016-05-19-002696                             a sheer stroke of luck   \n",
       "98  2016-05-26-002760  a significant gap between the rhetoric and rea...   \n",
       "99  2016-04-26-002630                  a sort of SB Nation for car nuts,   \n",
       "\n",
       "            speaker                                      qids  \\\n",
       "0         Andy Reid  [Q2622812, Q27830815, Q470738, Q4761219]   \n",
       "1         Mike Howe                                [Q6847325]   \n",
       "2              None                                        []   \n",
       "3   Hillary Clinton                                   [Q6294]   \n",
       "4     Bruce Maxwell                               [Q26129591]   \n",
       "..              ...                                       ...   \n",
       "95    William Quinn                               [Q27789027]   \n",
       "96             None                                        []   \n",
       "97   Hayley Squires                               [Q27050132]   \n",
       "98             None                                        []   \n",
       "99             None                                        []   \n",
       "\n",
       "                  date  numOccurrences  \\\n",
       "0  2016-12-26 20:05:00               1   \n",
       "1  2016-07-31 08:22:12               2   \n",
       "2  2016-09-06 20:54:45               2   \n",
       "3  2016-07-11 17:26:06               1   \n",
       "4  2016-05-26 15:21:37               1   \n",
       "..                 ...             ...   \n",
       "95 2016-08-23 11:32:37               1   \n",
       "96 2016-12-24 00:00:00               1   \n",
       "97 2016-05-19 02:49:27               4   \n",
       "98 2016-05-26 15:27:42               1   \n",
       "99 2016-04-26 00:11:00               2   \n",
       "\n",
       "                                               probas  \\\n",
       "0   [[Andy Reid, 0.9432], [None, 0.0541], [Trevor ...   \n",
       "1               [[Mike Howe, 0.7118], [None, 0.2882]]   \n",
       "2             [[None, 0.6877], [John Waters, 0.3123]]   \n",
       "3         [[Hillary Clinton, 0.9025], [None, 0.0975]]   \n",
       "4           [[Bruce Maxwell, 0.8178], [None, 0.1822]]   \n",
       "..                                                ...   \n",
       "95          [[William Quinn, 0.7352], [None, 0.2648]]   \n",
       "96           [[None, 0.9235], [John Roberts, 0.0765]]   \n",
       "97           [[Hayley Squires, 0.662], [None, 0.338]]   \n",
       "98  [[None, 0.5965], [David J, 0.32], [David Camer...   \n",
       "99  [[None, 0.5738], [Richard Hammond, 0.2213], [J...   \n",
       "\n",
       "                                                 urls phase  \n",
       "0   [http://www.kcchiefs.com/news/article-2/How-a-...     E  \n",
       "1   [http://www.peninsuladailynews.com/apps/pbcs.d...     E  \n",
       "2   [http://onlineathens.com/breaking-news/2016-09...     E  \n",
       "3   [http://www.breitbart.com/tech/2016/07/11/hill...     E  \n",
       "4   [http://www.scout.com/mlb/athletics/story/1673...     E  \n",
       "..                                                ...   ...  \n",
       "95  [http://m.spokesman.com/stories/2016/aug/24/10...     E  \n",
       "96  [http://www.journal-news.net/life/faith/2016/1...     E  \n",
       "97  [http://www.themalaymailonline.com/showbiz/art...     E  \n",
       "98  [https://www.rt.com/uk/344486-eu-army-brexit-m...     E  \n",
       "99  [http://jalopnik.com/the-old-top-gear-trio-are...     E  \n",
       "\n",
       "[100 rows x 9 columns]"
      ]
     },
     "execution_count": 4,
     "metadata": {},
     "output_type": "execute_result"
    }
   ],
   "source": [
    "df_base = pd.read_json(FILE2016, lines=True, compression='bz2', nrows=100)\n",
    "df_base"
   ]
  },
  {
   "cell_type": "markdown",
   "id": "c3687579",
   "metadata": {},
   "source": [
    "## Create a dictionnary of categories and associated synonyms"
   ]
  },
  {
   "cell_type": "code",
   "execution_count": null,
   "id": "f8cd50c6",
   "metadata": {},
   "outputs": [],
   "source": [
    "import nltk\n",
    "nltk.download()\n",
    "from nltk.corpus import wordnet\n",
    "\n",
    "synonyms = []\n",
    "antonyms = []\n",
    "\n",
    "for syn in wordnet.synsets(\"business\"):\n",
    "    for l in syn.lemmas():\n",
    "        synonyms.append(l.name())\n",
    "        if l.antonyms():\n",
    "            antonyms.append(l.antonyms()[0].name())\n",
    "\n",
    "print(set(synonyms))\n",
    "\n",
    "# Creating a list of synonyms for the dicitionary\n",
    "\n",
    "matchers = {\"art\": [\"art\", \"paint\", \"draw\"], \"business\": [\"business\", \"finance\", \"economy\"], \"sport\": [\"sport\", \"football\"]}\n",
    "\n",
    "for category in matchers:\n",
    "    synonyms = []\n",
    "    for i in range(len(matchers[category])):\n",
    "        word = matchers[category][i]\n",
    "        for syn in wordnet.synsets(word):\n",
    "            for l in syn.lemmas():\n",
    "                synonyms.append(l.name())\n",
    "        matchers[category] = synonyms\n",
    "\n"
   ]
  },
  {
   "cell_type": "code",
   "execution_count": 5,
   "id": "148d8c43",
   "metadata": {},
   "outputs": [],
   "source": [
    "stemmer = PorterStemmer()\n",
    "matchers = {\"art\": [\"art\", \"paint\", \"draw\"], \"business\": [\"business\", \"finance\", \"economy\"], \"sport\": [\"sport\", \"football\"]}\n",
    "generalizeDictionary(matchers)"
   ]
  },
  {
   "cell_type": "markdown",
   "id": "a6c065f4",
   "metadata": {},
   "source": [
    "### PROCESSING DATA"
   ]
  },
  {
   "cell_type": "code",
   "execution_count": 6,
   "id": "63c58b44",
   "metadata": {},
   "outputs": [],
   "source": [
    "def process_chunk_complete(chunk, threshold_proba, matchers):\n",
    "    print(f'Processing chunk with {len(chunk)} rows')\n",
    "    #DATA CLEANING\n",
    "    #Remove None speakers\n",
    "    chunk = Remove_none_speakers(chunk)\n",
    "    \n",
    "    #Remove none unique ids and keep the first one\n",
    "    chunk = Remove_none_unique_ids(chunk)\n",
    "        \n",
    "    #Remove nan or empty quotes \n",
    "    chunk = Remove_empty_quotes(chunk)\n",
    "\n",
    "    #Remove speakers for which probability is lower than a threshold\n",
    "    chunk = Remove_low_proba(chunk, threshold_proba)\n",
    "    \n",
    "    #URLS DATA EXTRACTION\n",
    "    chunk = Chunk_url_extract(chunk, matchers)\n",
    "    \n",
    "    tot_length = len(chunk)\n",
    "    return chunk, tot_length"
   ]
  },
  {
   "cell_type": "code",
   "execution_count": 45,
   "id": "7d8b85ae",
   "metadata": {},
   "outputs": [
    {
     "name": "stdout",
     "output_type": "stream",
     "text": [
      "Processing chunk with 1000 rows\n",
      "Processing chunk with 1000 rows\n"
     ]
    },
    {
     "ename": "KeyboardInterrupt",
     "evalue": "",
     "output_type": "error",
     "traceback": [
      "\u001b[0;31m---------------------------------------------------------------------------\u001b[0m",
      "\u001b[0;31mKeyboardInterrupt\u001b[0m                         Traceback (most recent call last)",
      "\u001b[0;32m/var/folders/j9/h2f8ljxj1q15x5vkfkkmdz_80000gn/T/ipykernel_27773/113520487.py\u001b[0m in \u001b[0;36m<module>\u001b[0;34m\u001b[0m\n\u001b[1;32m      2\u001b[0m     \u001b[0;32mwith\u001b[0m \u001b[0mbz2\u001b[0m\u001b[0;34m.\u001b[0m\u001b[0mopen\u001b[0m\u001b[0;34m(\u001b[0m\u001b[0mPATH_OUT\u001b[0m\u001b[0;34m,\u001b[0m \u001b[0;34m'wb'\u001b[0m\u001b[0;34m)\u001b[0m \u001b[0;32mas\u001b[0m \u001b[0md_file\u001b[0m\u001b[0;34m:\u001b[0m\u001b[0;34m\u001b[0m\u001b[0;34m\u001b[0m\u001b[0m\n\u001b[1;32m      3\u001b[0m         \u001b[0;32mfor\u001b[0m \u001b[0mchunk\u001b[0m \u001b[0;32min\u001b[0m \u001b[0mdf_reader\u001b[0m\u001b[0;34m:\u001b[0m\u001b[0;34m\u001b[0m\u001b[0;34m\u001b[0m\u001b[0m\n\u001b[0;32m----> 4\u001b[0;31m             \u001b[0mchunk_cleaned\u001b[0m\u001b[0;34m,\u001b[0m \u001b[0mchunk_length\u001b[0m \u001b[0;34m=\u001b[0m \u001b[0mprocess_chunk_complete\u001b[0m\u001b[0;34m(\u001b[0m\u001b[0mchunk\u001b[0m\u001b[0;34m,\u001b[0m \u001b[0;36m0.5\u001b[0m\u001b[0;34m,\u001b[0m \u001b[0mmatchers\u001b[0m\u001b[0;34m)\u001b[0m\u001b[0;34m\u001b[0m\u001b[0;34m\u001b[0m\u001b[0m\n\u001b[0m\u001b[1;32m      5\u001b[0m             \u001b[0mchunk_json\u001b[0m \u001b[0;34m=\u001b[0m \u001b[0mchunk_cleaned\u001b[0m\u001b[0;34m.\u001b[0m\u001b[0mto_json\u001b[0m\u001b[0;34m(\u001b[0m\u001b[0morient\u001b[0m\u001b[0;34m=\u001b[0m\u001b[0;34m'columns'\u001b[0m\u001b[0;34m)\u001b[0m\u001b[0;31m#, index=False)\u001b[0m\u001b[0;34m\u001b[0m\u001b[0;34m\u001b[0m\u001b[0m\n\u001b[1;32m      6\u001b[0m             \u001b[0md_file\u001b[0m\u001b[0;34m.\u001b[0m\u001b[0mwrite\u001b[0m\u001b[0;34m(\u001b[0m\u001b[0;34m(\u001b[0m\u001b[0mchunk_json\u001b[0m\u001b[0;34m+\u001b[0m\u001b[0;34m'\\n'\u001b[0m\u001b[0;34m)\u001b[0m\u001b[0;34m.\u001b[0m\u001b[0mencode\u001b[0m\u001b[0;34m(\u001b[0m\u001b[0;34m'utf-8'\u001b[0m\u001b[0;34m)\u001b[0m\u001b[0;34m)\u001b[0m\u001b[0;34m\u001b[0m\u001b[0;34m\u001b[0m\u001b[0m\n",
      "\u001b[0;32m/var/folders/j9/h2f8ljxj1q15x5vkfkkmdz_80000gn/T/ipykernel_27773/3131748880.py\u001b[0m in \u001b[0;36mprocess_chunk_complete\u001b[0;34m(chunk, threshold_proba, matchers)\u001b[0m\n\u001b[1;32m     15\u001b[0m \u001b[0;34m\u001b[0m\u001b[0m\n\u001b[1;32m     16\u001b[0m     \u001b[0;31m#URLS DATA EXTRACTION\u001b[0m\u001b[0;34m\u001b[0m\u001b[0;34m\u001b[0m\u001b[0m\n\u001b[0;32m---> 17\u001b[0;31m     \u001b[0mchunk\u001b[0m \u001b[0;34m=\u001b[0m \u001b[0mChunk_url_extract\u001b[0m\u001b[0;34m(\u001b[0m\u001b[0mchunk\u001b[0m\u001b[0;34m,\u001b[0m \u001b[0mmatchers\u001b[0m\u001b[0;34m)\u001b[0m\u001b[0;34m\u001b[0m\u001b[0;34m\u001b[0m\u001b[0m\n\u001b[0m\u001b[1;32m     18\u001b[0m \u001b[0;34m\u001b[0m\u001b[0m\n\u001b[1;32m     19\u001b[0m     \u001b[0mtot_length\u001b[0m \u001b[0;34m=\u001b[0m \u001b[0mlen\u001b[0m\u001b[0;34m(\u001b[0m\u001b[0mchunk\u001b[0m\u001b[0;34m)\u001b[0m\u001b[0;34m\u001b[0m\u001b[0;34m\u001b[0m\u001b[0m\n",
      "\u001b[0;32m~/Document/EPFL/MA3/ADA/Project/M2/Data_clean_functions.py\u001b[0m in \u001b[0;36mChunk_url_extract\u001b[0;34m(chunk, matchers)\u001b[0m\n\u001b[1;32m    102\u001b[0m                 \u001b[0mtld\u001b[0m \u001b[0;34m=\u001b[0m \u001b[0mget_domain\u001b[0m\u001b[0;34m(\u001b[0m\u001b[0murl\u001b[0m\u001b[0;34m)\u001b[0m\u001b[0;34m\u001b[0m\u001b[0;34m\u001b[0m\u001b[0m\n\u001b[1;32m    103\u001b[0m                 \u001b[0mname\u001b[0m \u001b[0;34m=\u001b[0m \u001b[0mget_sitename\u001b[0m\u001b[0;34m(\u001b[0m\u001b[0murl\u001b[0m\u001b[0;34m)\u001b[0m\u001b[0;34m\u001b[0m\u001b[0;34m\u001b[0m\u001b[0m\n\u001b[0;32m--> 104\u001b[0;31m                 \u001b[0mcategories\u001b[0m \u001b[0;34m=\u001b[0m \u001b[0mclassify\u001b[0m\u001b[0;34m(\u001b[0m\u001b[0mmatchers\u001b[0m\u001b[0;34m,\u001b[0m \u001b[0murl\u001b[0m\u001b[0;34m)\u001b[0m\u001b[0;34m\u001b[0m\u001b[0;34m\u001b[0m\u001b[0m\n\u001b[0m\u001b[1;32m    105\u001b[0m                 \u001b[0;31m#Append data\u001b[0m\u001b[0;34m\u001b[0m\u001b[0;34m\u001b[0m\u001b[0m\n\u001b[1;32m    106\u001b[0m                 \u001b[0mdomains\u001b[0m\u001b[0;34m.\u001b[0m\u001b[0mappend\u001b[0m\u001b[0;34m(\u001b[0m\u001b[0mtld\u001b[0m\u001b[0;34m)\u001b[0m\u001b[0;34m\u001b[0m\u001b[0;34m\u001b[0m\u001b[0m\n",
      "\u001b[0;32m~/Document/EPFL/MA3/ADA/Project/M2/Data_clean_functions.py\u001b[0m in \u001b[0;36mclassify\u001b[0;34m(matchers, url)\u001b[0m\n\u001b[1;32m     54\u001b[0m     \u001b[0mstemmer\u001b[0m \u001b[0;34m=\u001b[0m \u001b[0mPorterStemmer\u001b[0m\u001b[0;34m(\u001b[0m\u001b[0;34m)\u001b[0m\u001b[0;34m\u001b[0m\u001b[0;34m\u001b[0m\u001b[0m\n\u001b[1;32m     55\u001b[0m     \u001b[0mtag_found\u001b[0m \u001b[0;34m=\u001b[0m \u001b[0;34m[\u001b[0m\u001b[0;34m]\u001b[0m\u001b[0;34m\u001b[0m\u001b[0;34m\u001b[0m\u001b[0m\n\u001b[0;32m---> 56\u001b[0;31m     \u001b[0mgeneral_url\u001b[0m \u001b[0;34m=\u001b[0m \u001b[0;34m[\u001b[0m\u001b[0mtokenize\u001b[0m\u001b[0;34m(\u001b[0m\u001b[0mx\u001b[0m\u001b[0;34m)\u001b[0m \u001b[0;32mfor\u001b[0m \u001b[0mx\u001b[0m \u001b[0;32min\u001b[0m \u001b[0mgetWordsFromURL\u001b[0m\u001b[0;34m(\u001b[0m\u001b[0murl\u001b[0m\u001b[0;34m)\u001b[0m\u001b[0;34m]\u001b[0m\u001b[0;34m\u001b[0m\u001b[0;34m\u001b[0m\u001b[0m\n\u001b[0m\u001b[1;32m     57\u001b[0m     \u001b[0;32mfor\u001b[0m \u001b[0mcategory\u001b[0m \u001b[0;32min\u001b[0m \u001b[0mmatchers\u001b[0m\u001b[0;34m:\u001b[0m\u001b[0;34m\u001b[0m\u001b[0;34m\u001b[0m\u001b[0m\n\u001b[1;32m     58\u001b[0m         \u001b[0;32mfor\u001b[0m \u001b[0mi\u001b[0m \u001b[0;32min\u001b[0m \u001b[0mrange\u001b[0m\u001b[0;34m(\u001b[0m\u001b[0mlen\u001b[0m\u001b[0;34m(\u001b[0m\u001b[0mmatchers\u001b[0m\u001b[0;34m[\u001b[0m\u001b[0mcategory\u001b[0m\u001b[0;34m]\u001b[0m\u001b[0;34m)\u001b[0m\u001b[0;34m)\u001b[0m\u001b[0;34m:\u001b[0m\u001b[0;34m\u001b[0m\u001b[0;34m\u001b[0m\u001b[0m\n",
      "\u001b[0;32m~/Document/EPFL/MA3/ADA/Project/M2/Data_clean_functions.py\u001b[0m in \u001b[0;36m<listcomp>\u001b[0;34m(.0)\u001b[0m\n\u001b[1;32m     54\u001b[0m     \u001b[0mstemmer\u001b[0m \u001b[0;34m=\u001b[0m \u001b[0mPorterStemmer\u001b[0m\u001b[0;34m(\u001b[0m\u001b[0;34m)\u001b[0m\u001b[0;34m\u001b[0m\u001b[0;34m\u001b[0m\u001b[0m\n\u001b[1;32m     55\u001b[0m     \u001b[0mtag_found\u001b[0m \u001b[0;34m=\u001b[0m \u001b[0;34m[\u001b[0m\u001b[0;34m]\u001b[0m\u001b[0;34m\u001b[0m\u001b[0;34m\u001b[0m\u001b[0m\n\u001b[0;32m---> 56\u001b[0;31m     \u001b[0mgeneral_url\u001b[0m \u001b[0;34m=\u001b[0m \u001b[0;34m[\u001b[0m\u001b[0mtokenize\u001b[0m\u001b[0;34m(\u001b[0m\u001b[0mx\u001b[0m\u001b[0;34m)\u001b[0m \u001b[0;32mfor\u001b[0m \u001b[0mx\u001b[0m \u001b[0;32min\u001b[0m \u001b[0mgetWordsFromURL\u001b[0m\u001b[0;34m(\u001b[0m\u001b[0murl\u001b[0m\u001b[0;34m)\u001b[0m\u001b[0;34m]\u001b[0m\u001b[0;34m\u001b[0m\u001b[0;34m\u001b[0m\u001b[0m\n\u001b[0m\u001b[1;32m     57\u001b[0m     \u001b[0;32mfor\u001b[0m \u001b[0mcategory\u001b[0m \u001b[0;32min\u001b[0m \u001b[0mmatchers\u001b[0m\u001b[0;34m:\u001b[0m\u001b[0;34m\u001b[0m\u001b[0;34m\u001b[0m\u001b[0m\n\u001b[1;32m     58\u001b[0m         \u001b[0;32mfor\u001b[0m \u001b[0mi\u001b[0m \u001b[0;32min\u001b[0m \u001b[0mrange\u001b[0m\u001b[0;34m(\u001b[0m\u001b[0mlen\u001b[0m\u001b[0;34m(\u001b[0m\u001b[0mmatchers\u001b[0m\u001b[0;34m[\u001b[0m\u001b[0mcategory\u001b[0m\u001b[0;34m]\u001b[0m\u001b[0;34m)\u001b[0m\u001b[0;34m)\u001b[0m\u001b[0;34m:\u001b[0m\u001b[0;34m\u001b[0m\u001b[0;34m\u001b[0m\u001b[0m\n",
      "\u001b[0;32m~/Document/EPFL/MA3/ADA/Project/M2/Data_clean_functions.py\u001b[0m in \u001b[0;36mtokenize\u001b[0;34m(text)\u001b[0m\n\u001b[1;32m     40\u001b[0m     \u001b[0mtext\u001b[0m \u001b[0;34m=\u001b[0m \u001b[0;34m\"\"\u001b[0m\u001b[0;34m.\u001b[0m\u001b[0mjoin\u001b[0m\u001b[0;34m(\u001b[0m\u001b[0;34m[\u001b[0m\u001b[0mch\u001b[0m \u001b[0;32mfor\u001b[0m \u001b[0mch\u001b[0m \u001b[0;32min\u001b[0m \u001b[0mtext\u001b[0m \u001b[0;32mif\u001b[0m \u001b[0mch\u001b[0m \u001b[0;32mnot\u001b[0m \u001b[0;32min\u001b[0m \u001b[0mstring\u001b[0m\u001b[0;34m.\u001b[0m\u001b[0mpunctuation\u001b[0m\u001b[0;34m]\u001b[0m\u001b[0;34m)\u001b[0m \u001b[0;31m# get the text without punctuation\u001b[0m\u001b[0;34m\u001b[0m\u001b[0;34m\u001b[0m\u001b[0m\n\u001b[1;32m     41\u001b[0m     \u001b[0mtokens\u001b[0m \u001b[0;34m=\u001b[0m \u001b[0mnltk\u001b[0m\u001b[0;34m.\u001b[0m\u001b[0mword_tokenize\u001b[0m\u001b[0;34m(\u001b[0m\u001b[0mtext\u001b[0m\u001b[0;34m)\u001b[0m \u001b[0;31m#Tokenizers divide strings into lists of substrings\u001b[0m\u001b[0;34m\u001b[0m\u001b[0;34m\u001b[0m\u001b[0m\n\u001b[0;32m---> 42\u001b[0;31m     \u001b[0;32mreturn\u001b[0m \u001b[0;34m\" \"\u001b[0m\u001b[0;34m.\u001b[0m\u001b[0mjoin\u001b[0m\u001b[0;34m(\u001b[0m\u001b[0;34m[\u001b[0m\u001b[0mstemmer\u001b[0m\u001b[0;34m.\u001b[0m\u001b[0mstem\u001b[0m\u001b[0;34m(\u001b[0m\u001b[0mword\u001b[0m\u001b[0;34m.\u001b[0m\u001b[0mlower\u001b[0m\u001b[0;34m(\u001b[0m\u001b[0;34m)\u001b[0m\u001b[0;34m)\u001b[0m \u001b[0;32mfor\u001b[0m \u001b[0mword\u001b[0m \u001b[0;32min\u001b[0m \u001b[0mtokens\u001b[0m \u001b[0;32mif\u001b[0m \u001b[0mword\u001b[0m \u001b[0;32mnot\u001b[0m \u001b[0;32min\u001b[0m \u001b[0mstopwords\u001b[0m\u001b[0;34m.\u001b[0m\u001b[0mwords\u001b[0m\u001b[0;34m(\u001b[0m\u001b[0;34m'english'\u001b[0m\u001b[0;34m)\u001b[0m\u001b[0;34m]\u001b[0m\u001b[0;34m)\u001b[0m \u001b[0;31m#stem all words\u001b[0m\u001b[0;34m\u001b[0m\u001b[0;34m\u001b[0m\u001b[0m\n\u001b[0m\u001b[1;32m     43\u001b[0m \u001b[0;34m\u001b[0m\u001b[0m\n\u001b[1;32m     44\u001b[0m \u001b[0;32mdef\u001b[0m \u001b[0mgeneralizeDictionary\u001b[0m\u001b[0;34m(\u001b[0m\u001b[0mmatchers\u001b[0m\u001b[0;34m)\u001b[0m\u001b[0;34m:\u001b[0m\u001b[0;34m\u001b[0m\u001b[0;34m\u001b[0m\u001b[0m\n",
      "\u001b[0;32m~/Document/EPFL/MA3/ADA/Project/M2/Data_clean_functions.py\u001b[0m in \u001b[0;36m<listcomp>\u001b[0;34m(.0)\u001b[0m\n\u001b[1;32m     40\u001b[0m     \u001b[0mtext\u001b[0m \u001b[0;34m=\u001b[0m \u001b[0;34m\"\"\u001b[0m\u001b[0;34m.\u001b[0m\u001b[0mjoin\u001b[0m\u001b[0;34m(\u001b[0m\u001b[0;34m[\u001b[0m\u001b[0mch\u001b[0m \u001b[0;32mfor\u001b[0m \u001b[0mch\u001b[0m \u001b[0;32min\u001b[0m \u001b[0mtext\u001b[0m \u001b[0;32mif\u001b[0m \u001b[0mch\u001b[0m \u001b[0;32mnot\u001b[0m \u001b[0;32min\u001b[0m \u001b[0mstring\u001b[0m\u001b[0;34m.\u001b[0m\u001b[0mpunctuation\u001b[0m\u001b[0;34m]\u001b[0m\u001b[0;34m)\u001b[0m \u001b[0;31m# get the text without punctuation\u001b[0m\u001b[0;34m\u001b[0m\u001b[0;34m\u001b[0m\u001b[0m\n\u001b[1;32m     41\u001b[0m     \u001b[0mtokens\u001b[0m \u001b[0;34m=\u001b[0m \u001b[0mnltk\u001b[0m\u001b[0;34m.\u001b[0m\u001b[0mword_tokenize\u001b[0m\u001b[0;34m(\u001b[0m\u001b[0mtext\u001b[0m\u001b[0;34m)\u001b[0m \u001b[0;31m#Tokenizers divide strings into lists of substrings\u001b[0m\u001b[0;34m\u001b[0m\u001b[0;34m\u001b[0m\u001b[0m\n\u001b[0;32m---> 42\u001b[0;31m     \u001b[0;32mreturn\u001b[0m \u001b[0;34m\" \"\u001b[0m\u001b[0;34m.\u001b[0m\u001b[0mjoin\u001b[0m\u001b[0;34m(\u001b[0m\u001b[0;34m[\u001b[0m\u001b[0mstemmer\u001b[0m\u001b[0;34m.\u001b[0m\u001b[0mstem\u001b[0m\u001b[0;34m(\u001b[0m\u001b[0mword\u001b[0m\u001b[0;34m.\u001b[0m\u001b[0mlower\u001b[0m\u001b[0;34m(\u001b[0m\u001b[0;34m)\u001b[0m\u001b[0;34m)\u001b[0m \u001b[0;32mfor\u001b[0m \u001b[0mword\u001b[0m \u001b[0;32min\u001b[0m \u001b[0mtokens\u001b[0m \u001b[0;32mif\u001b[0m \u001b[0mword\u001b[0m \u001b[0;32mnot\u001b[0m \u001b[0;32min\u001b[0m \u001b[0mstopwords\u001b[0m\u001b[0;34m.\u001b[0m\u001b[0mwords\u001b[0m\u001b[0;34m(\u001b[0m\u001b[0;34m'english'\u001b[0m\u001b[0;34m)\u001b[0m\u001b[0;34m]\u001b[0m\u001b[0;34m)\u001b[0m \u001b[0;31m#stem all words\u001b[0m\u001b[0;34m\u001b[0m\u001b[0;34m\u001b[0m\u001b[0m\n\u001b[0m\u001b[1;32m     43\u001b[0m \u001b[0;34m\u001b[0m\u001b[0m\n\u001b[1;32m     44\u001b[0m \u001b[0;32mdef\u001b[0m \u001b[0mgeneralizeDictionary\u001b[0m\u001b[0;34m(\u001b[0m\u001b[0mmatchers\u001b[0m\u001b[0;34m)\u001b[0m\u001b[0;34m:\u001b[0m\u001b[0;34m\u001b[0m\u001b[0;34m\u001b[0m\u001b[0m\n",
      "\u001b[0;32m/Applications/anaconda3/envs/adaproject/lib/python3.9/site-packages/nltk/corpus/reader/wordlist.py\u001b[0m in \u001b[0;36mwords\u001b[0;34m(self, fileids, ignore_lines_startswith)\u001b[0m\n\u001b[1;32m     19\u001b[0m         return [\n\u001b[1;32m     20\u001b[0m             \u001b[0mline\u001b[0m\u001b[0;34m\u001b[0m\u001b[0;34m\u001b[0m\u001b[0m\n\u001b[0;32m---> 21\u001b[0;31m             \u001b[0;32mfor\u001b[0m \u001b[0mline\u001b[0m \u001b[0;32min\u001b[0m \u001b[0mline_tokenize\u001b[0m\u001b[0;34m(\u001b[0m\u001b[0mself\u001b[0m\u001b[0;34m.\u001b[0m\u001b[0mraw\u001b[0m\u001b[0;34m(\u001b[0m\u001b[0mfileids\u001b[0m\u001b[0;34m)\u001b[0m\u001b[0;34m)\u001b[0m\u001b[0;34m\u001b[0m\u001b[0;34m\u001b[0m\u001b[0m\n\u001b[0m\u001b[1;32m     22\u001b[0m             \u001b[0;32mif\u001b[0m \u001b[0;32mnot\u001b[0m \u001b[0mline\u001b[0m\u001b[0;34m.\u001b[0m\u001b[0mstartswith\u001b[0m\u001b[0;34m(\u001b[0m\u001b[0mignore_lines_startswith\u001b[0m\u001b[0;34m)\u001b[0m\u001b[0;34m\u001b[0m\u001b[0;34m\u001b[0m\u001b[0m\n\u001b[1;32m     23\u001b[0m         ]\n",
      "\u001b[0;32m/Applications/anaconda3/envs/adaproject/lib/python3.9/site-packages/nltk/corpus/reader/api.py\u001b[0m in \u001b[0;36mraw\u001b[0;34m(self, fileids)\u001b[0m\n\u001b[1;32m    215\u001b[0m         \u001b[0mcontents\u001b[0m \u001b[0;34m=\u001b[0m \u001b[0;34m[\u001b[0m\u001b[0;34m]\u001b[0m\u001b[0;34m\u001b[0m\u001b[0;34m\u001b[0m\u001b[0m\n\u001b[1;32m    216\u001b[0m         \u001b[0;32mfor\u001b[0m \u001b[0mf\u001b[0m \u001b[0;32min\u001b[0m \u001b[0mfileids\u001b[0m\u001b[0;34m:\u001b[0m\u001b[0;34m\u001b[0m\u001b[0;34m\u001b[0m\u001b[0m\n\u001b[0;32m--> 217\u001b[0;31m             \u001b[0;32mwith\u001b[0m \u001b[0mself\u001b[0m\u001b[0;34m.\u001b[0m\u001b[0mopen\u001b[0m\u001b[0;34m(\u001b[0m\u001b[0mf\u001b[0m\u001b[0;34m)\u001b[0m \u001b[0;32mas\u001b[0m \u001b[0mfp\u001b[0m\u001b[0;34m:\u001b[0m\u001b[0;34m\u001b[0m\u001b[0;34m\u001b[0m\u001b[0m\n\u001b[0m\u001b[1;32m    218\u001b[0m                 \u001b[0mcontents\u001b[0m\u001b[0;34m.\u001b[0m\u001b[0mappend\u001b[0m\u001b[0;34m(\u001b[0m\u001b[0mfp\u001b[0m\u001b[0;34m.\u001b[0m\u001b[0mread\u001b[0m\u001b[0;34m(\u001b[0m\u001b[0;34m)\u001b[0m\u001b[0;34m)\u001b[0m\u001b[0;34m\u001b[0m\u001b[0;34m\u001b[0m\u001b[0m\n\u001b[1;32m    219\u001b[0m         \u001b[0;32mreturn\u001b[0m \u001b[0mconcat\u001b[0m\u001b[0;34m(\u001b[0m\u001b[0mcontents\u001b[0m\u001b[0;34m)\u001b[0m\u001b[0;34m\u001b[0m\u001b[0;34m\u001b[0m\u001b[0m\n",
      "\u001b[0;32m/Applications/anaconda3/envs/adaproject/lib/python3.9/site-packages/nltk/corpus/reader/api.py\u001b[0m in \u001b[0;36mopen\u001b[0;34m(self, file)\u001b[0m\n\u001b[1;32m    228\u001b[0m         \"\"\"\n\u001b[1;32m    229\u001b[0m         \u001b[0mencoding\u001b[0m \u001b[0;34m=\u001b[0m \u001b[0mself\u001b[0m\u001b[0;34m.\u001b[0m\u001b[0mencoding\u001b[0m\u001b[0;34m(\u001b[0m\u001b[0mfile\u001b[0m\u001b[0;34m)\u001b[0m\u001b[0;34m\u001b[0m\u001b[0;34m\u001b[0m\u001b[0m\n\u001b[0;32m--> 230\u001b[0;31m         \u001b[0mstream\u001b[0m \u001b[0;34m=\u001b[0m \u001b[0mself\u001b[0m\u001b[0;34m.\u001b[0m\u001b[0m_root\u001b[0m\u001b[0;34m.\u001b[0m\u001b[0mjoin\u001b[0m\u001b[0;34m(\u001b[0m\u001b[0mfile\u001b[0m\u001b[0;34m)\u001b[0m\u001b[0;34m.\u001b[0m\u001b[0mopen\u001b[0m\u001b[0;34m(\u001b[0m\u001b[0mencoding\u001b[0m\u001b[0;34m)\u001b[0m\u001b[0;34m\u001b[0m\u001b[0;34m\u001b[0m\u001b[0m\n\u001b[0m\u001b[1;32m    231\u001b[0m         \u001b[0;32mreturn\u001b[0m \u001b[0mstream\u001b[0m\u001b[0;34m\u001b[0m\u001b[0;34m\u001b[0m\u001b[0m\n\u001b[1;32m    232\u001b[0m \u001b[0;34m\u001b[0m\u001b[0m\n",
      "\u001b[0;32m/Applications/anaconda3/envs/adaproject/lib/python3.9/site-packages/nltk/data.py\u001b[0m in \u001b[0;36mjoin\u001b[0;34m(self, fileid)\u001b[0m\n\u001b[1;32m    332\u001b[0m     \u001b[0;32mdef\u001b[0m \u001b[0mjoin\u001b[0m\u001b[0;34m(\u001b[0m\u001b[0mself\u001b[0m\u001b[0;34m,\u001b[0m \u001b[0mfileid\u001b[0m\u001b[0;34m)\u001b[0m\u001b[0;34m:\u001b[0m\u001b[0;34m\u001b[0m\u001b[0;34m\u001b[0m\u001b[0m\n\u001b[1;32m    333\u001b[0m         \u001b[0m_path\u001b[0m \u001b[0;34m=\u001b[0m \u001b[0mos\u001b[0m\u001b[0;34m.\u001b[0m\u001b[0mpath\u001b[0m\u001b[0;34m.\u001b[0m\u001b[0mjoin\u001b[0m\u001b[0;34m(\u001b[0m\u001b[0mself\u001b[0m\u001b[0;34m.\u001b[0m\u001b[0m_path\u001b[0m\u001b[0;34m,\u001b[0m \u001b[0mfileid\u001b[0m\u001b[0;34m)\u001b[0m\u001b[0;34m\u001b[0m\u001b[0;34m\u001b[0m\u001b[0m\n\u001b[0;32m--> 334\u001b[0;31m         \u001b[0;32mreturn\u001b[0m \u001b[0mFileSystemPathPointer\u001b[0m\u001b[0;34m(\u001b[0m\u001b[0m_path\u001b[0m\u001b[0;34m)\u001b[0m\u001b[0;34m\u001b[0m\u001b[0;34m\u001b[0m\u001b[0m\n\u001b[0m\u001b[1;32m    335\u001b[0m \u001b[0;34m\u001b[0m\u001b[0m\n\u001b[1;32m    336\u001b[0m     \u001b[0;32mdef\u001b[0m \u001b[0m__repr__\u001b[0m\u001b[0;34m(\u001b[0m\u001b[0mself\u001b[0m\u001b[0;34m)\u001b[0m\u001b[0;34m:\u001b[0m\u001b[0;34m\u001b[0m\u001b[0;34m\u001b[0m\u001b[0m\n",
      "\u001b[0;32m/Applications/anaconda3/envs/adaproject/lib/python3.9/site-packages/nltk/compat.py\u001b[0m in \u001b[0;36m_decorator\u001b[0;34m(*args, **kwargs)\u001b[0m\n\u001b[1;32m     39\u001b[0m     \u001b[0;32mdef\u001b[0m \u001b[0m_decorator\u001b[0m\u001b[0;34m(\u001b[0m\u001b[0;34m*\u001b[0m\u001b[0margs\u001b[0m\u001b[0;34m,\u001b[0m \u001b[0;34m**\u001b[0m\u001b[0mkwargs\u001b[0m\u001b[0;34m)\u001b[0m\u001b[0;34m:\u001b[0m\u001b[0;34m\u001b[0m\u001b[0;34m\u001b[0m\u001b[0m\n\u001b[1;32m     40\u001b[0m         \u001b[0margs\u001b[0m \u001b[0;34m=\u001b[0m \u001b[0;34m(\u001b[0m\u001b[0margs\u001b[0m\u001b[0;34m[\u001b[0m\u001b[0;36m0\u001b[0m\u001b[0;34m]\u001b[0m\u001b[0;34m,\u001b[0m \u001b[0madd_py3_data\u001b[0m\u001b[0;34m(\u001b[0m\u001b[0margs\u001b[0m\u001b[0;34m[\u001b[0m\u001b[0;36m1\u001b[0m\u001b[0;34m]\u001b[0m\u001b[0;34m)\u001b[0m\u001b[0;34m)\u001b[0m \u001b[0;34m+\u001b[0m \u001b[0margs\u001b[0m\u001b[0;34m[\u001b[0m\u001b[0;36m2\u001b[0m\u001b[0;34m:\u001b[0m\u001b[0;34m]\u001b[0m\u001b[0;34m\u001b[0m\u001b[0;34m\u001b[0m\u001b[0m\n\u001b[0;32m---> 41\u001b[0;31m         \u001b[0;32mreturn\u001b[0m \u001b[0minit_func\u001b[0m\u001b[0;34m(\u001b[0m\u001b[0;34m*\u001b[0m\u001b[0margs\u001b[0m\u001b[0;34m,\u001b[0m \u001b[0;34m**\u001b[0m\u001b[0mkwargs\u001b[0m\u001b[0;34m)\u001b[0m\u001b[0;34m\u001b[0m\u001b[0;34m\u001b[0m\u001b[0m\n\u001b[0m\u001b[1;32m     42\u001b[0m \u001b[0;34m\u001b[0m\u001b[0m\n\u001b[1;32m     43\u001b[0m     \u001b[0;32mreturn\u001b[0m \u001b[0mwraps\u001b[0m\u001b[0;34m(\u001b[0m\u001b[0minit_func\u001b[0m\u001b[0;34m)\u001b[0m\u001b[0;34m(\u001b[0m\u001b[0m_decorator\u001b[0m\u001b[0;34m)\u001b[0m\u001b[0;34m\u001b[0m\u001b[0;34m\u001b[0m\u001b[0m\n",
      "\u001b[0;32m/Applications/anaconda3/envs/adaproject/lib/python3.9/site-packages/nltk/data.py\u001b[0m in \u001b[0;36m__init__\u001b[0;34m(self, _path)\u001b[0m\n\u001b[1;32m    309\u001b[0m \u001b[0;34m\u001b[0m\u001b[0m\n\u001b[1;32m    310\u001b[0m         \u001b[0m_path\u001b[0m \u001b[0;34m=\u001b[0m \u001b[0mos\u001b[0m\u001b[0;34m.\u001b[0m\u001b[0mpath\u001b[0m\u001b[0;34m.\u001b[0m\u001b[0mabspath\u001b[0m\u001b[0;34m(\u001b[0m\u001b[0m_path\u001b[0m\u001b[0;34m)\u001b[0m\u001b[0;34m\u001b[0m\u001b[0;34m\u001b[0m\u001b[0m\n\u001b[0;32m--> 311\u001b[0;31m         \u001b[0;32mif\u001b[0m \u001b[0;32mnot\u001b[0m \u001b[0mos\u001b[0m\u001b[0;34m.\u001b[0m\u001b[0mpath\u001b[0m\u001b[0;34m.\u001b[0m\u001b[0mexists\u001b[0m\u001b[0;34m(\u001b[0m\u001b[0m_path\u001b[0m\u001b[0;34m)\u001b[0m\u001b[0;34m:\u001b[0m\u001b[0;34m\u001b[0m\u001b[0;34m\u001b[0m\u001b[0m\n\u001b[0m\u001b[1;32m    312\u001b[0m             \u001b[0;32mraise\u001b[0m \u001b[0mOSError\u001b[0m\u001b[0;34m(\u001b[0m\u001b[0;34m\"No such file or directory: %r\"\u001b[0m \u001b[0;34m%\u001b[0m \u001b[0m_path\u001b[0m\u001b[0;34m)\u001b[0m\u001b[0;34m\u001b[0m\u001b[0;34m\u001b[0m\u001b[0m\n\u001b[1;32m    313\u001b[0m         \u001b[0mself\u001b[0m\u001b[0;34m.\u001b[0m\u001b[0m_path\u001b[0m \u001b[0;34m=\u001b[0m \u001b[0m_path\u001b[0m\u001b[0;34m\u001b[0m\u001b[0;34m\u001b[0m\u001b[0m\n",
      "\u001b[0;32m/Applications/anaconda3/envs/adaproject/lib/python3.9/genericpath.py\u001b[0m in \u001b[0;36mexists\u001b[0;34m(path)\u001b[0m\n\u001b[1;32m     17\u001b[0m     \u001b[0;34m\"\"\"Test whether a path exists.  Returns False for broken symbolic links\"\"\"\u001b[0m\u001b[0;34m\u001b[0m\u001b[0;34m\u001b[0m\u001b[0m\n\u001b[1;32m     18\u001b[0m     \u001b[0;32mtry\u001b[0m\u001b[0;34m:\u001b[0m\u001b[0;34m\u001b[0m\u001b[0;34m\u001b[0m\u001b[0m\n\u001b[0;32m---> 19\u001b[0;31m         \u001b[0mos\u001b[0m\u001b[0;34m.\u001b[0m\u001b[0mstat\u001b[0m\u001b[0;34m(\u001b[0m\u001b[0mpath\u001b[0m\u001b[0;34m)\u001b[0m\u001b[0;34m\u001b[0m\u001b[0;34m\u001b[0m\u001b[0m\n\u001b[0m\u001b[1;32m     20\u001b[0m     \u001b[0;32mexcept\u001b[0m \u001b[0;34m(\u001b[0m\u001b[0mOSError\u001b[0m\u001b[0;34m,\u001b[0m \u001b[0mValueError\u001b[0m\u001b[0;34m)\u001b[0m\u001b[0;34m:\u001b[0m\u001b[0;34m\u001b[0m\u001b[0;34m\u001b[0m\u001b[0m\n\u001b[1;32m     21\u001b[0m         \u001b[0;32mreturn\u001b[0m \u001b[0;32mFalse\u001b[0m\u001b[0;34m\u001b[0m\u001b[0;34m\u001b[0m\u001b[0m\n",
      "\u001b[0;31mKeyboardInterrupt\u001b[0m: "
     ]
    }
   ],
   "source": [
    "with pd.read_json(FILE2016, lines=True, compression='bz2', chunksize=1000) as df_reader:\n",
    "    with bz2.open(PATH_OUT, 'wb') as d_file:\n",
    "        for chunk in df_reader:\n",
    "            chunk_cleaned, chunk_length = process_chunk_complete(chunk, 0.5, matchers)\n",
    "            chunk_json = chunk_cleaned.to_json(orient='columns')#, index=False)\n",
    "            d_file.write((chunk_json+'\\n').encode('utf-8'))"
   ]
  },
  {
   "cell_type": "code",
   "execution_count": 49,
   "id": "c4571d91",
   "metadata": {
    "scrolled": true
   },
   "outputs": [
    {
     "ename": "ValueError",
     "evalue": "nrows can only be passed if lines=True",
     "output_type": "error",
     "traceback": [
      "\u001b[0;31m---------------------------------------------------------------------------\u001b[0m",
      "\u001b[0;31mValueError\u001b[0m                                Traceback (most recent call last)",
      "\u001b[0;32m/var/folders/j9/h2f8ljxj1q15x5vkfkkmdz_80000gn/T/ipykernel_27773/3133371569.py\u001b[0m in \u001b[0;36m<module>\u001b[0;34m\u001b[0m\n\u001b[0;32m----> 1\u001b[0;31m \u001b[0mdf\u001b[0m \u001b[0;34m=\u001b[0m \u001b[0mpd\u001b[0m\u001b[0;34m.\u001b[0m\u001b[0mread_json\u001b[0m\u001b[0;34m(\u001b[0m\u001b[0mDATA_PATH\u001b[0m \u001b[0;34m+\u001b[0m \u001b[0;34m'clean-quotes-2016.json.bz2'\u001b[0m\u001b[0;34m,\u001b[0m \u001b[0morient\u001b[0m\u001b[0;34m=\u001b[0m\u001b[0;34m'columns'\u001b[0m\u001b[0;34m,\u001b[0m \u001b[0mcompression\u001b[0m\u001b[0;34m=\u001b[0m\u001b[0;34m'bz2'\u001b[0m\u001b[0;34m,\u001b[0m \u001b[0mnrows\u001b[0m\u001b[0;34m=\u001b[0m\u001b[0;36m100\u001b[0m\u001b[0;34m)\u001b[0m\u001b[0;34m\u001b[0m\u001b[0;34m\u001b[0m\u001b[0m\n\u001b[0m\u001b[1;32m      2\u001b[0m \u001b[0mdf\u001b[0m\u001b[0;34m\u001b[0m\u001b[0;34m\u001b[0m\u001b[0m\n",
      "\u001b[0;32m/Applications/anaconda3/envs/adaproject/lib/python3.9/site-packages/pandas/util/_decorators.py\u001b[0m in \u001b[0;36mwrapper\u001b[0;34m(*args, **kwargs)\u001b[0m\n\u001b[1;32m    205\u001b[0m                 \u001b[0;32melse\u001b[0m\u001b[0;34m:\u001b[0m\u001b[0;34m\u001b[0m\u001b[0;34m\u001b[0m\u001b[0m\n\u001b[1;32m    206\u001b[0m                     \u001b[0mkwargs\u001b[0m\u001b[0;34m[\u001b[0m\u001b[0mnew_arg_name\u001b[0m\u001b[0;34m]\u001b[0m \u001b[0;34m=\u001b[0m \u001b[0mnew_arg_value\u001b[0m\u001b[0;34m\u001b[0m\u001b[0;34m\u001b[0m\u001b[0m\n\u001b[0;32m--> 207\u001b[0;31m             \u001b[0;32mreturn\u001b[0m \u001b[0mfunc\u001b[0m\u001b[0;34m(\u001b[0m\u001b[0;34m*\u001b[0m\u001b[0margs\u001b[0m\u001b[0;34m,\u001b[0m \u001b[0;34m**\u001b[0m\u001b[0mkwargs\u001b[0m\u001b[0;34m)\u001b[0m\u001b[0;34m\u001b[0m\u001b[0;34m\u001b[0m\u001b[0m\n\u001b[0m\u001b[1;32m    208\u001b[0m \u001b[0;34m\u001b[0m\u001b[0m\n\u001b[1;32m    209\u001b[0m         \u001b[0;32mreturn\u001b[0m \u001b[0mcast\u001b[0m\u001b[0;34m(\u001b[0m\u001b[0mF\u001b[0m\u001b[0;34m,\u001b[0m \u001b[0mwrapper\u001b[0m\u001b[0;34m)\u001b[0m\u001b[0;34m\u001b[0m\u001b[0;34m\u001b[0m\u001b[0m\n",
      "\u001b[0;32m/Applications/anaconda3/envs/adaproject/lib/python3.9/site-packages/pandas/util/_decorators.py\u001b[0m in \u001b[0;36mwrapper\u001b[0;34m(*args, **kwargs)\u001b[0m\n\u001b[1;32m    309\u001b[0m                     \u001b[0mstacklevel\u001b[0m\u001b[0;34m=\u001b[0m\u001b[0mstacklevel\u001b[0m\u001b[0;34m,\u001b[0m\u001b[0;34m\u001b[0m\u001b[0;34m\u001b[0m\u001b[0m\n\u001b[1;32m    310\u001b[0m                 )\n\u001b[0;32m--> 311\u001b[0;31m             \u001b[0;32mreturn\u001b[0m \u001b[0mfunc\u001b[0m\u001b[0;34m(\u001b[0m\u001b[0;34m*\u001b[0m\u001b[0margs\u001b[0m\u001b[0;34m,\u001b[0m \u001b[0;34m**\u001b[0m\u001b[0mkwargs\u001b[0m\u001b[0;34m)\u001b[0m\u001b[0;34m\u001b[0m\u001b[0;34m\u001b[0m\u001b[0m\n\u001b[0m\u001b[1;32m    312\u001b[0m \u001b[0;34m\u001b[0m\u001b[0m\n\u001b[1;32m    313\u001b[0m         \u001b[0;32mreturn\u001b[0m \u001b[0mwrapper\u001b[0m\u001b[0;34m\u001b[0m\u001b[0;34m\u001b[0m\u001b[0m\n",
      "\u001b[0;32m/Applications/anaconda3/envs/adaproject/lib/python3.9/site-packages/pandas/io/json/_json.py\u001b[0m in \u001b[0;36mread_json\u001b[0;34m(path_or_buf, orient, typ, dtype, convert_axes, convert_dates, keep_default_dates, numpy, precise_float, date_unit, encoding, encoding_errors, lines, chunksize, compression, nrows, storage_options)\u001b[0m\n\u001b[1;32m    588\u001b[0m         \u001b[0mconvert_axes\u001b[0m \u001b[0;34m=\u001b[0m \u001b[0;32mTrue\u001b[0m\u001b[0;34m\u001b[0m\u001b[0;34m\u001b[0m\u001b[0m\n\u001b[1;32m    589\u001b[0m \u001b[0;34m\u001b[0m\u001b[0m\n\u001b[0;32m--> 590\u001b[0;31m     json_reader = JsonReader(\n\u001b[0m\u001b[1;32m    591\u001b[0m         \u001b[0mpath_or_buf\u001b[0m\u001b[0;34m,\u001b[0m\u001b[0;34m\u001b[0m\u001b[0;34m\u001b[0m\u001b[0m\n\u001b[1;32m    592\u001b[0m         \u001b[0morient\u001b[0m\u001b[0;34m=\u001b[0m\u001b[0morient\u001b[0m\u001b[0;34m,\u001b[0m\u001b[0;34m\u001b[0m\u001b[0;34m\u001b[0m\u001b[0m\n",
      "\u001b[0;32m/Applications/anaconda3/envs/adaproject/lib/python3.9/site-packages/pandas/io/json/_json.py\u001b[0m in \u001b[0;36m__init__\u001b[0;34m(self, filepath_or_buffer, orient, typ, dtype, convert_axes, convert_dates, keep_default_dates, numpy, precise_float, date_unit, encoding, lines, chunksize, compression, nrows, storage_options, encoding_errors)\u001b[0m\n\u001b[1;32m    671\u001b[0m             \u001b[0mself\u001b[0m\u001b[0;34m.\u001b[0m\u001b[0mnrows\u001b[0m \u001b[0;34m=\u001b[0m \u001b[0mvalidate_integer\u001b[0m\u001b[0;34m(\u001b[0m\u001b[0;34m\"nrows\"\u001b[0m\u001b[0;34m,\u001b[0m \u001b[0mself\u001b[0m\u001b[0;34m.\u001b[0m\u001b[0mnrows\u001b[0m\u001b[0;34m,\u001b[0m \u001b[0;36m0\u001b[0m\u001b[0;34m)\u001b[0m\u001b[0;34m\u001b[0m\u001b[0;34m\u001b[0m\u001b[0m\n\u001b[1;32m    672\u001b[0m             \u001b[0;32mif\u001b[0m \u001b[0;32mnot\u001b[0m \u001b[0mself\u001b[0m\u001b[0;34m.\u001b[0m\u001b[0mlines\u001b[0m\u001b[0;34m:\u001b[0m\u001b[0;34m\u001b[0m\u001b[0;34m\u001b[0m\u001b[0m\n\u001b[0;32m--> 673\u001b[0;31m                 \u001b[0;32mraise\u001b[0m \u001b[0mValueError\u001b[0m\u001b[0;34m(\u001b[0m\u001b[0;34m\"nrows can only be passed if lines=True\"\u001b[0m\u001b[0;34m)\u001b[0m\u001b[0;34m\u001b[0m\u001b[0;34m\u001b[0m\u001b[0m\n\u001b[0m\u001b[1;32m    674\u001b[0m \u001b[0;34m\u001b[0m\u001b[0m\n\u001b[1;32m    675\u001b[0m         \u001b[0mdata\u001b[0m \u001b[0;34m=\u001b[0m \u001b[0mself\u001b[0m\u001b[0;34m.\u001b[0m\u001b[0m_get_data_from_filepath\u001b[0m\u001b[0;34m(\u001b[0m\u001b[0mfilepath_or_buffer\u001b[0m\u001b[0;34m)\u001b[0m\u001b[0;34m\u001b[0m\u001b[0;34m\u001b[0m\u001b[0m\n",
      "\u001b[0;31mValueError\u001b[0m: nrows can only be passed if lines=True"
     ]
    }
   ],
   "source": [
    "df = pd.read_json(DATA_PATH + 'clean-quotes-2016.json.bz2', orient='columns', compression='bz2', nrows=100)\n",
    "df"
   ]
  },
  {
   "cell_type": "code",
   "execution_count": 44,
   "id": "a35531c4",
   "metadata": {},
   "outputs": [],
   "source": [
    "chunk_cleaned.to_json(PATH_OUT, orient='columns')"
   ]
  },
  {
   "cell_type": "code",
   "execution_count": 39,
   "id": "e2eaabc0",
   "metadata": {},
   "outputs": [
    {
     "data": {
      "text/plain": [
       "'{\"quoteID\":{\"0\":\"2016-05-07-001235\",\"1\":\"2016-08-08-002329\",\"2\":\"2016-08-27-001626\",\"3\":\"2016-09-22-003425\",\"4\":\"2016-08-18-003029\",\"5\":\"2016-08-23-002854\",\"6\":\"2016-09-10-002328\",\"7\":\"2016-08-06-001539\",\"8\":\"2016-02-23-004029\",\"9\":\"2016-08-12-002637\",\"10\":\"2016-12-14-003438\",\"11\":\"2016-05-16-002768\",\"12\":\"2016-09-09-003474\",\"13\":\"2016-05-29-001858\",\"14\":\"2016-12-20-002636\",\"15\":\"2016-05-11-003699\",\"16\":\"2016-08-26-003274\",\"17\":\"2016-07-05-002877\",\"18\":\"2016-04-26-003315\",\"19\":\"2016-05-24-003322\",\"20\":\"2016-05-08-001562\",\"21\":\"2016-09-07-003863\",\"22\":\"2016-04-19-004141\",\"23\":\"2016-05-25-003916\",\"24\":\"2016-06-18-000030\",\"25\":\"2016-12-05-003551\",\"26\":\"2016-12-18-001852\",\"27\":\"2016-09-06-003607\",\"28\":\"2016-12-08-004143\",\"29\":\"2016-09-08-004394\",\"30\":\"2016-07-20-004257\",\"31\":\"2016-09-19-003730\",\"32\":\"2016-12-12-003463\",\"33\":\"2016-07-21-004845\",\"34\":\"2016-12-15-004149\",\"35\":\"2016-02-15-003808\",\"36\":\"2016-07-24-002454\",\"37\":\"2016-05-21-002592\",\"38\":\"2016-05-17-003842\",\"39\":\"2016-09-22-004827\",\"40\":\"2016-12-16-003779\",\"41\":\"2016-02-23-005294\",\"42\":\"2016-12-01-005446\",\"43\":\"2016-05-31-003752\",\"44\":\"2016-09-15-004751\",\"45\":\"2016-08-01-004385\",\"46\":\"2016-08-16-005247\",\"47\":\"2016-08-10-003981\",\"48\":\"2016-05-08-002026\",\"49\":\"2016-08-03-004402\",\"50\":\"2016-09-08-005086\",\"51\":\"2016-05-09-003816\",\"52\":\"2016-09-11-002899\",\"53\":\"2016-09-21-005469\",\"54\":\"2016-09-20-005382\",\"55\":\"2016-09-17-002604\",\"56\":\"2016-07-21-005544\",\"57\":\"2016-08-12-003932\",\"58\":\"2016-09-14-005414\",\"59\":\"2016-09-01-005274\",\"60\":\"2016-12-29-003356\",\"61\":\"2016-02-15-004460\",\"62\":\"2016-05-20-004983\",\"63\":\"2016-05-30-003020\",\"64\":\"2016-08-11-004364\"},\"quotation\":{\"0\":\"A special task force team led by inspector K G Tyagi got a vital clue when the victim claimed to have identified the scooter on which the abductors had gone to collect the ransom money,\",\"1\":\"A statue for Benny is long overdue and I will do everything I can to make it happen.\",\"2\":\"A vote for Clinton is a vote for open borders.\",\"3\":\"A weapon, like myself, you don\\'t want to have it on the bench,\",\"4\":\"A wise teacher from India shared this insight: The elephant keeps walking as the dogs keep barking. The sad fact is that we all have to navigate our way around the dogs in our career: external critics, competitors, horrible bosses, or colleagues who undermine. Based on my experience, I would advise you to prepare for the yapping to increase along with your success.\",\"5\":\"a young man who learned to love early on in life, learned to love really well, for 24 years that\\'s the remarkable part of that. He made an indelible mark on many people.\",\"6\":\"about community, family, the state, the collective and love.\",\"7\":\"About halfway through the final it became clear to me that I was in contention for a medal, but... I focused on breathing and taking it one shot at a time.\",\"8\":\"about health and loving what I do. I love it. I love playing baseball and doing this. I\\'m going to be 39 (in April), but I don\\'t feel 39, even though I am.\",\"9\":\"about the culture of mass shooting that happens in America mixed with narcissistic social media.\",\"10\":\"Absolutely, I couldn\\'t think of anything better.\",\"11\":\"Absolutely, it\\'s affecting people\\'s lives,\",\"12\":\"Absolutely not, you\\'ve got to be joking...\",\"13\":\"AC Milan are prisoners of an era that no longer exists,\",\"14\":\"accelerating its war on working families.\",\"15\":\"According to our station commander, Colonel Andrew Lesch, the vehicle of suspects had been hijacked in Pretoria West,\",\"16\":\"Across the market as a whole, company earnings for the financial year 30 June 2016, are down on the previous year by around 8 percent, but this reflects the major impact of resource companies where average earnings fell 48 percent,\",\"17\":\"acting in a grossly negligent manner.\",\"18\":\"Actually at the time we didn\\'t (know) but later on, I think a few weeks later, we thought, `I wonder if that\\'s going to qualify us?\",\"19\":\"Additionally, all sorts of `horrors\\' had been taking place that effectively ruined the beautiful ambiance of the space which everyone loves so much.\",\"20\":\"addressing the root causes of violent extremism and the underlying ideology,\",\"21\":\"Adjust the formula on your roots to a level darker. That will keep the ends lighter and add more dimension -- remember, the ends should always be lighter.\",\"22\":\"Africa is on a quest now to take care of herself.\",\"23\":\"After discussing with Governor Walker, I have decided to join my colleagues from across the country in challenging the Obama Administration\\'s latest power grab, which will have a significant impact on Wisconsin, particularly at the University of Wisconsin and Department of Public Instruction.\",\"24\":\"After impact the Toyota spun out in the road, the Dodge van continued off the road to the right over correcting back left and overturning approximately five to six times,\",\"25\":\"After looking at the tape, I don\\'t think we played great yesterday,\",\"26\":\"After my experience with Pete on `Lone Survivor\\' and `Deepwater,\\' I couldn\\'t imagine making this movie with anybody else,\",\"27\":\"After signing Bradford to a two-year deal at a salary many people around the league thought was too much, Roseman ended up getting the last laugh,\",\"28\":\"After that game on Monday we were pretty down, but we have to keep it in perspective that we\\'re still in a playoff spot,\",\"29\":\"After the incident, our team first helped the other devotees immerse their idols. This delayed the filing of an FIR,\",\"30\":\"After the incident, the girls are scared of going to school as they have to travel to the neighbouring village to attend the secondary level school.\",\"31\":\"After this the Singleton Council has agreed to put on a Civic reception at the Charbonnier.\",\"32\":\"agonizing couple of months,\",\"33\":\"Agree or disagree with (Trump),\",\"34\":\"Agriculture was a more relaxed subject and gave me a break from other subjects,\",\"35\":\"Aiming the point of a sword back at us and splitting us up are things that must not take place.\",\"36\":\"Ajlafs (the lower community).\",\"37\":\"@akaworldwide should not be bullied for exercising his right, one that the Giants whose shoulders we stand on today fought for.\",\"38\":\"Alan can take his pick,\",\"39\":\"Albeit a sire line descendant of the legendary Sadler\\'s Wells, he fulfills the outcross role so seriously needed here,\",\"40\":\"Albertans told us they want lower interest rates, longer payback periods and better alternatives,\",\"41\":\"Aleph Objects supports the Odoo Community Association (OCA) because their efforts are vital to the continued advancement of Free ERP software that respects user freedom and enables companies to avoid costly, obsolete vendor lock-in.\",\"42\":\"Alithya\\'s record-setting expansion in the last five years has been very exciting. Our organic growth, major client projects and acquisitions have led to a surge in our search for IT experts and we have no intention of slowing down in 2017. We currently need to fill over 150 positions. New permanent employees are also eligible to be sharehlders of the company. This is great news that needs to be shared on a larger scale and will help to attract the top talents to our growing teams. This in turn will enable us to take our client service to the next level,\",\"43\":\"All diversities that are not of Christ\\'s own prior creation must unquestionably disappear.\",\"44\":\"all governmental records... which reference, or pertaining to, the Dartmouth-Hitchcock three-year, $36 million contract to run state psychiatric facilities that was passed by the Executive Council on Sept. 7 of this year, including, but not limited, to all internal and external emails, phone records, meeting minutes, and contract records.\",\"45\":\"All I needed was a tiny bit of care and support,\",\"46\":\"All motorists, not only for the students on the bus and driver.\",\"47\":\"All of a sudden, you realize the person next to you is in this piece,\",\"48\":\"All of my pitches, all of my mechanics, everything feels ready to go,\",\"49\":\"All of these traits are just an incredible resource.\",\"50\":\"All of this has always been wrapped up in the high-flown ideas of democracy and human liberty,\",\"51\":\"All over the world, dictatorships were swept away,\",\"52\":\"All spots are still open,\",\"53\":\"all the crazy people around her\",\"54\":\"All the indicators are pointing to the fact that when the tourism engine is fully turned on, then we will indeed become unstoppable. That is also the assurance I have received from my minister,\",\"55\":\"all the noise involving me\",\"56\":\"All the police officers that we work with, we know them, we trust them. So today this is like a nightmare to me,\",\"57\":\"All the values we have, they could not exist if someone, somewhere wasn\\'t making money,\",\"58\":\"All these things I\\'m talking about are to augment. It\\'s an augmentation, not a transformation for us.\",\"59\":\"All through the World TeamTennis season I had fun with it. I played at a really high level the whole time.\",\"60\":\"All we know is that Jamie had been seeing a psychiatrist, he went to the hospital on his own free will saying he needed help, he was admitted to the hospital, for whatever reason he was allowed to be taken from the hospital when they could have just parked someone outside his door and not let him leave.\",\"61\":\"Allah the Almighty said: [ And prepare against them whatever you are able of power ]. So, where is that power? It is a critical situation and Egypt is facing grave circumstances...\",\"62\":\"allows nonprofit entities, including universities, to work more closely with the Department of Homeland Security to address cybersecurity risks and incidents at the state and local level.\",\"63\":\"almost ready to come home.\",\"64\":\"Along with giving my fans a front row seat to the show, I really wanted to celebrate the incredible backstage team. They\\'re the `unsung\\' heroes who bring this show to a new city every night. I could not have done it without them,\"},\"speaker\":{\"0\":\"Rishi Pal\",\"1\":\"Jim Watt\",\"2\":\"Donald Trump\",\"3\":\"Terrell Sinkfield\",\"4\":\"Suze Orman\",\"5\":\"Mark Riley\",\"6\":\"Colin Barrett\",\"7\":\"Virginia Thrasher\",\"8\":\"Carlos Beltran\",\"9\":\"Billie Joe Armstrong\",\"10\":\"Matt Terry\",\"11\":\"Kevin Phillips\",\"12\":\"Clive Palmer\",\"13\":\"Edgar Davids\",\"14\":\"Keith Rothfus\",\"15\":\"Dave Miller\",\"16\":\"David Bryant\",\"17\":\"Randy Seiler\",\"18\":\"Krista McCarville\",\"19\":\"Donald Trump\",\"20\":\"Jan Kubis\",\"21\":\"Ben Stewart\",\"22\":\"Pat Porter\",\"23\":\"Brad Schimel\",\"24\":\"Steve Vick\",\"25\":\"Dirk Koetter\",\"26\":\"Mark Wahlberg\",\"27\":\"John Clayton\",\"28\":\"Tyler Robertson\",\"29\":\"Shweta Shalini\",\"30\":\"Vijaya Rahatkar\",\"31\":\"John Bourke\",\"32\":\"Catherine Hill\",\"33\":\"Gilbert Gottfried\",\"34\":\"Jessica Chen\",\"35\":\"Park Geun-hye\",\"36\":\"Mohammed Khan\",\"37\":\"Fikile Mbalula\",\"38\":\"Rodrigo Duterte\",\"39\":\"Kirsten Rausing\",\"40\":\"Stephanie McLean\",\"41\":\"Jeff Moe\",\"42\":\"Paul Raymond\",\"43\":\"Hugh Martin\",\"44\":\"Jennifer Horn\",\"45\":\"Martin Narey\",\"46\":\"Carrie Johnson\",\"47\":\"David Lang\",\"48\":\"Eduardo Rodriguez\",\"49\":\"John Jenner\",\"50\":\"Andrei Konchalovsky\",\"51\":\"Peter Frankopan\",\"52\":\"Bob Stoops\",\"53\":\"Billy Bob Thornton\",\"54\":\"Andrew Holness\",\"55\":\"Dean Nalder\",\"56\":\"Frederica Wilson\",\"57\":\"Mark Hamilton\",\"58\":\"Martin Gero\",\"59\":\"Ryan Harrison\",\"60\":\"Rick Mann\",\"61\":\"Gamal Abdel Nasser\",\"62\":\"Joaquin Castro\",\"63\":\"Charlie Davies\",\"64\":\"Michael Bubl\\\\u00e9\"},\"qids\":{\"0\":[\"Q28672383\"],\"1\":[\"Q3178965\",\"Q7257611\"],\"2\":[\"Q22686\",\"Q27947481\"],\"3\":[\"Q16233569\"],\"4\":[\"Q465633\"],\"5\":[\"Q6769437\",\"Q6769438\",\"Q6769440\",\"Q6769441\"],\"6\":[\"Q1108339\",\"Q55828256\"],\"7\":[\"Q26224845\"],\"8\":[\"Q1042743\",\"Q5041829\"],\"9\":[\"Q712592\"],\"10\":[\"Q27994925\"],\"11\":[\"Q1631152\",\"Q18387917\",\"Q256875\",\"Q3195786\",\"Q6397239\",\"Q6397240\",\"Q6397242\"],\"12\":[\"Q5134643\",\"Q550879\"],\"13\":[\"Q185115\"],\"14\":[\"Q5978897\"],\"15\":[\"Q21063439\",\"Q5229391\",\"Q5229392\"],\"16\":[\"Q22946466\",\"Q37764783\",\"Q5231857\"],\"17\":[\"Q28136678\"],\"18\":[\"Q6437685\"],\"19\":[\"Q22686\",\"Q27947481\"],\"20\":[\"Q701722\"],\"21\":[\"Q4886520\"],\"22\":[\"Q21462092\",\"Q7143927\"],\"23\":[\"Q18739884\"],\"24\":[\"Q3973408\",\"Q7614202\"],\"25\":[\"Q5280837\"],\"26\":[\"Q164119\"],\"27\":[\"Q10469527\",\"Q21165681\",\"Q253285\",\"Q32461633\",\"Q55829991\",\"Q6226297\"],\"28\":[\"Q3546032\"],\"29\":[\"Q29860750\"],\"30\":[\"Q17627805\"],\"31\":[\"Q6222599\"],\"32\":[\"Q43400522\",\"Q45731238\"],\"33\":[\"Q221464\"],\"34\":[\"Q57009210\"],\"35\":[\"Q138048\"],\"36\":[\"Q26254303\"],\"37\":[\"Q1412305\"],\"38\":[\"Q457786\"],\"39\":[\"Q6416110\"],\"40\":[\"Q19880392\",\"Q7608336\"],\"41\":[\"Q3807788\"],\"42\":[\"Q2005020\",\"Q7153115\",\"Q965801\"],\"43\":[\"Q28147606\",\"Q51950353\",\"Q5931668\"],\"44\":[\"Q13562406\"],\"45\":[\"Q6776254\"],\"46\":[\"Q30612227\",\"Q5046243\"],\"47\":[\"Q23727546\",\"Q3018260\",\"Q53106342\"],\"48\":[\"Q18637920\",\"Q312761\",\"Q5340751\",\"Q5819640\"],\"49\":[\"Q6241803\"],\"50\":[\"Q55208\"],\"51\":[\"Q26856932\"],\"52\":[\"Q4934107\"],\"53\":[\"Q202735\"],\"54\":[\"Q505200\"],\"55\":[\"Q16196617\"],\"56\":[\"Q461504\"],\"57\":[\"Q3294098\",\"Q59346300\",\"Q6767893\",\"Q6767894\",\"Q6767895\"],\"58\":[\"Q3295442\"],\"59\":[\"Q16223656\",\"Q53563\",\"Q7384128\"],\"60\":[\"Q55219326\"],\"61\":[\"Q12205892\"],\"62\":[\"Q1167934\"],\"63\":[\"Q386737\",\"Q5084761\"],\"64\":[\"Q153694\"]},\"date\":{\"0\":1462599927000,\"1\":1470614400000,\"2\":1472340671000,\"3\":1474506884000,\"4\":1471485240000,\"5\":1471953600000,\"6\":1473512288000,\"7\":1470508865000,\"8\":1456267481000,\"9\":1470989935000,\"10\":1481726870000,\"11\":1463441276000,\"12\":1473419822000,\"13\":1464504708000,\"14\":1482192050000,\"15\":1462966200000,\"16\":1472194031000,\"17\":1467759552000,\"18\":1461703994000,\"19\":1464080378000,\"20\":1462724146000,\"21\":1473207300000,\"22\":1461060316000,\"23\":1464201960000,\"24\":1466228004000,\"25\":1480982317000,\"26\":1482048000000,\"27\":1473157500000,\"28\":1481197740000,\"29\":1473300905000,\"30\":1469038605000,\"31\":1474260360000,\"32\":1481513400000,\"33\":1469095225000,\"34\":1481772180000,\"35\":1455571020000,\"36\":1469352486000,\"37\":1463816566000,\"38\":1463450239000,\"39\":1474532220000,\"40\":1481932721000,\"41\":1456221420000,\"42\":1480597228000,\"43\":1464716734000,\"44\":1473922632000,\"45\":1470029490000,\"46\":1471316277000,\"47\":1470871740000,\"48\":1462749465000,\"49\":1470182400000,\"50\":1473360032000,\"51\":1462783595000,\"52\":1473596100000,\"53\":1474416000000,\"54\":1474385421000,\"55\":1474152504000,\"56\":1469120460000,\"57\":1470970800000,\"58\":1473866845000,\"59\":1472701993000,\"60\":1483044160000,\"61\":1455546914000,\"62\":1463767121000,\"63\":1464626641000,\"64\":1470873600000},\"numOccurrences\":{\"0\":1,\"1\":3,\"2\":1,\"3\":1,\"4\":2,\"5\":1,\"6\":1,\"7\":1,\"8\":3,\"9\":5,\"10\":2,\"11\":3,\"12\":3,\"13\":1,\"14\":1,\"15\":1,\"16\":1,\"17\":1,\"18\":1,\"19\":1,\"20\":1,\"21\":1,\"22\":1,\"23\":18,\"24\":1,\"25\":1,\"26\":8,\"27\":1,\"28\":1,\"29\":1,\"30\":1,\"31\":1,\"32\":1,\"33\":1,\"34\":10,\"35\":50,\"36\":3,\"37\":2,\"38\":1,\"39\":1,\"40\":1,\"41\":1,\"42\":1,\"43\":1,\"44\":1,\"45\":1,\"46\":1,\"47\":1,\"48\":3,\"49\":2,\"50\":2,\"51\":1,\"52\":1,\"53\":12,\"54\":2,\"55\":1,\"56\":1,\"57\":5,\"58\":12,\"59\":1,\"60\":1,\"61\":1,\"62\":1,\"63\":4,\"64\":7},\"probas\":{\"0\":[[\"Rishi Pal\",\"0.7809\"],[\"None\",\"0.2191\"]],\"1\":[[\"Jim Watt\",\"0.9048\"],[\"None\",\"0.0952\"]],\"2\":[[\"Donald Trump\",\"0.8488\"],[\"None\",\"0.1176\"],[\"Hillary Clinton\",\"0.0115\"],[\"Sarah Root\",\"0.0092\"],[\"Dave Price\",\"0.008\"],[\"Joni Ernst\",\"0.0049\"]],\"3\":[[\"Terrell Sinkfield\",\"0.7642\"],[\"None\",\"0.2229\"],[\"Jonathon Jennings\",\"0.0129\"]],\"4\":[[\"Suze Orman\",\"0.7853\"],[\"None\",\"0.1125\"],[\"Arianna Huffington\",\"0.1022\"]],\"5\":[[\"Mark Riley\",\"0.7587\"],[\"None\",\"0.2413\"]],\"6\":[[\"Colin Barrett\",\"0.772\"],[\"None\",\"0.228\"]],\"7\":[[\"Virginia Thrasher\",\"0.9135\"],[\"None\",\"0.0681\"],[\"Du Li\",\"0.0184\"]],\"8\":[[\"Carlos Beltran\",\"0.733\"],[\"None\",\"0.267\"]],\"9\":[[\"Billie Joe Armstrong\",\"0.9028\"],[\"None\",\"0.055\"],[\"Andy Greene\",\"0.0403\"],[\"George W. Bush\",\"0.0011\"],[\"Michael Brown\",\"8.0E-4\"]],\"10\":[[\"Matt Terry\",\"0.8435\"],[\"James Arthur\",\"0.1088\"],[\"None\",\"0.0407\"],[\"Sam Smith\",\"0.0045\"],[\"Nicole Scherzinger\",\"0.0025\"]],\"11\":[[\"Kevin Phillips\",\"0.8191\"],[\"None\",\"0.1809\"]],\"12\":[[\"Clive Palmer\",\"0.8694\"],[\"None\",\"0.128\"],[\"Tom Sullivan\",\"0.0026\"]],\"13\":[[\"Edgar Davids\",\"0.8752\"],[\"None\",\"0.1248\"]],\"14\":[[\"Keith Rothfus\",\"0.8669\"],[\"None\",\"0.0976\"],[\"Rob Bishop\",\"0.0211\"],[\"President Obama\",\"0.0144\"]],\"15\":[[\"Dave Miller\",\"0.7925\"],[\"None\",\"0.2075\"]],\"16\":[[\"David Bryant\",\"0.9528\"],[\"None\",\"0.0472\"]],\"17\":[[\"Randy Seiler\",\"0.8934\"],[\"None\",\"0.1066\"]],\"18\":[[\"Krista McCarville\",\"0.8294\"],[\"None\",\"0.1449\"],[\"Rick Lang\",\"0.0241\"],[\"Kendra Lilly\",\"0.0016\"]],\"19\":[[\"Donald Trump\",\"0.6887\"],[\"None\",\"0.2613\"],[\"Matt Henderson\",\"0.05\"]],\"20\":[[\"Jan Kubis\",\"0.8884\"],[\"None\",\"0.1116\"]],\"21\":[[\"Ben Stewart\",\"0.7376\"],[\"None\",\"0.2624\"]],\"22\":[[\"Pat Porter\",\"0.811\"],[\"None\",\"0.189\"]],\"23\":[[\"Brad Schimel\",\"0.8225\"],[\"None\",\"0.1764\"],[\"President Barack Obama\",\"0.0011\"]],\"24\":[[\"Steve Vick\",\"0.8487\"],[\"None\",\"0.1513\"]],\"25\":[[\"Dirk Koetter\",\"0.7321\"],[\"None\",\"0.2526\"],[\"Jameis Winston\",\"0.0081\"],[\"Keith Tandy\",\"0.0048\"],[\"Cameron Brate\",\"0.0024\"]],\"26\":[[\"Mark Wahlberg\",\"0.7937\"],[\"None\",\"0.1727\"],[\"Peter Berg\",\"0.0336\"]],\"27\":[[\"John Clayton\",\"0.6615\"],[\"None\",\"0.3066\"],[\"Howie Roseman\",\"0.0171\"],[\"Mike Mayock\",\"0.0088\"],[\"Sam Bradford\",\"0.006\"]],\"28\":[[\"Tyler Robertson\",\"0.6465\"],[\"None\",\"0.3535\"]],\"29\":[[\"Shweta Shalini\",\"0.8985\"],[\"None\",\"0.0906\"],[\"Ganpat Gaikwad\",\"0.0109\"]],\"30\":[[\"Vijaya Rahatkar\",\"0.9326\"],[\"None\",\"0.0674\"]],\"31\":[[\"John Bourke\",\"0.8223\"],[\"None\",\"0.1777\"]],\"32\":[[\"Catherine Hill\",\"0.79\"],[\"None\",\"0.21\"]],\"33\":[[\"Gilbert Gottfried\",\"0.6654\"],[\"None\",\"0.2767\"],[\"Donald Trump\",\"0.0284\"],[\"Larry the Cable Guy\",\"0.0226\"],[\"Milo Yiannopoulos\",\"0.0069\"]],\"34\":[[\"Jessica Chen\",\"0.682\"],[\"None\",\"0.3181\"]],\"35\":[[\"Park Geun-hye\",\"0.6425\"],[\"None\",\"0.3501\"],[\"Kim Jong Un\",\"0.0074\"]],\"36\":[[\"Mohammed Khan\",\"0.7921\"],[\"None\",\"0.208\"]],\"37\":[[\"Fikile Mbalula\",\"0.8933\"],[\"None\",\"0.1067\"]],\"38\":[[\"Rodrigo Duterte\",\"0.5093\"],[\"None\",\"0.3712\"],[\"Gilbert Teodoro\",\"0.0806\"],[\"Alan Peter Cayetano\",\"0.027\"],[\"Salvador Medialdea\",\"0.0119\"]],\"39\":[[\"Kirsten Rausing\",\"0.8562\"],[\"None\",\"0.1438\"]],\"40\":[[\"Stephanie McLean\",\"0.7802\"],[\"None\",\"0.2198\"]],\"41\":[[\"Jeff Moe\",\"0.971\"],[\"None\",\"0.029\"]],\"42\":[[\"Paul Raymond\",\"0.8312\"],[\"None\",\"0.1688\"]],\"43\":[[\"Hugh Martin\",\"0.8858\"],[\"None\",\"0.1142\"]],\"44\":[[\"Jennifer Horn\",\"0.7498\"],[\"None\",\"0.2092\"],[\"Maggie Hassan\",\"0.041\"]],\"45\":[[\"Martin Narey\",\"0.5726\"],[\"None\",\"0.4274\"]],\"46\":[[\"Carrie Johnson\",\"0.7355\"],[\"None\",\"0.2645\"]],\"47\":[[\"David Lang\",\"0.7024\"],[\"None\",\"0.2307\"],[\"John the Divine\",\"0.0535\"],[\"Simon Halsey\",\"0.0134\"]],\"48\":[[\"Eduardo Rodriguez\",\"0.7207\"],[\"None\",\"0.2728\"],[\"John Farrell\",\"0.0066\"]],\"49\":[[\"John Jenner\",\"0.7862\"],[\"None\",\"0.1856\"],[\"Scott Jackson\",\"0.0282\"]],\"50\":[[\"Andrei Konchalovsky\",\"0.9589\"],[\"None\",\"0.0411\"]],\"51\":[[\"Peter Frankopan\",\"0.8666\"],[\"None\",\"0.1077\"],[\"Bill Clinton\",\"0.0257\"]],\"52\":[[\"Bob Stoops\",\"0.5142\"],[\"None\",\"0.4686\"],[\"Mark Andrews\",\"0.0125\"],[\"Austin Roberts\",\"0.0047\"]],\"53\":[[\"Billy Bob Thornton\",\"0.6162\"],[\"Kathy Bates\",\"0.1995\"],[\"None\",\"0.1065\"],[\"Angelina Jolie\",\"0.0654\"],[\"Brad Pitt\",\"0.0124\"]],\"54\":[[\"Andrew Holness\",\"0.824\"],[\"None\",\"0.113\"],[\"Edmund Bartlett\",\"0.0631\"]],\"55\":[[\"Dean Nalder\",\"0.6672\"],[\"None\",\"0.3023\"],[\"Colin Barnett\",\"0.0305\"]],\"56\":[[\"Frederica Wilson\",\"0.8788\"],[\"None\",\"0.1212\"]],\"57\":[[\"Mark Hamilton\",\"0.8585\"],[\"None\",\"0.1415\"]],\"58\":[[\"Martin Gero\",\"0.9113\"],[\"None\",\"0.0621\"],[\"Jaimie Alexander\",\"0.0188\"],[\"Fran\\\\u00e7ois Arnaud\",\"0.0063\"],[\"Kate Taylor\",\"0.0016\"]],\"59\":[[\"Ryan Harrison\",\"0.8818\"],[\"None\",\"0.1182\"]],\"60\":[[\"Rick Mann\",\"0.5812\"],[\"None\",\"0.3541\"],[\"Lisa Gunn\",\"0.0647\"]],\"61\":[[\"Gamal Abdel Nasser\",\"0.8007\"],[\"Alexander the Great\",\"0.1158\"],[\"None\",\"0.0835\"]],\"62\":[[\"Joaquin Castro\",\"0.8689\"],[\"None\",\"0.1292\"],[\"Jon Tester\",\"0.0019\"]],\"63\":[[\"Charlie Davies\",\"0.9418\"],[\"None\",\"0.0582\"]],\"64\":[[\"Michael Bubl\\\\u00e9\",\"0.7196\"],[\"None\",\"0.2804\"]]},\"urls\":{\"0\":[\"http:\\\\/\\\\/timesofindia.indiatimes.com\\\\/city\\\\/delhi\\\\/Students-kidnap-youth-to-fund-parties-arrested\\\\/articleshow\\\\/52158198.cms\"],\"1\":[\"http:\\\\/\\\\/stv.tv\\\\/news\\\\/west-central\\\\/1363216-famous-scots-back-bid-for-statue-of-boxing-legend-benny-lynch\\\\/\",\"http:\\\\/\\\\/www.bbc.co.uk\\\\/news\\\\/uk-scotland-glasgow-west-37009339\",\"http:\\\\/\\\\/www.bbc.co.uk\\\\/news\\\\/uk-scotland-glasgow-west-37024227\"],\"2\":[\"http:\\\\/\\\\/whotv.com\\\\/2016\\\\/08\\\\/27\\\\/trump-takes-stage-with-iowa-family-of-murdered-daughter-promises-secure-border\\\\/\"],\"3\":[\"http:\\\\/\\\\/vancouversun.com\\\\/sports\\\\/football\\\\/cfl\\\\/bc-lions\\\\/b-c-lions-hope-deep-threat-speedster-gets-in-sink-quickly\"],\"4\":[\"http:\\\\/\\\\/businessinsider.my\\\\/best-career-advice-for-young-people-2016-8\\\\/#comment-\",\"http:\\\\/\\\\/businessinsider.sg\\\\/best-career-advice-for-young-people-2016-8\\\\/#comment-\"],\"5\":[\"http:\\\\/\\\\/thegardenisland.com\\\\/news\\\\/local\\\\/he-learned-to-love-well\\\\/article_4511f0d2-2be1-59c9-ba68-7c76217bb51c.html\"],\"6\":[\"http:\\\\/\\\\/www.universityobserver.ie\\\\/otwo\\\\/emerging-writers-oisin-fagan\\\\/\"],\"7\":[\"http:\\\\/\\\\/www.watoday.com.au\\\\/sport\\\\/olympics\\\\/rio-2016\\\\/who-won-the-first-gold-medal-at-the-rio-olympics-american-virginia-thrasher-edges-out-two-chinese-champions-to-win-womens-10m-air-rifle-20160806-gqmpkp.html\"],\"8\":[\"http:\\\\/\\\\/feeds.nydailynews.com\\\\/~r\\\\/nydnrss\\\\/sports\\\\/hockey\\\\/islanders\\\\/~3\\\\/1XqZdDT37r4\\\\/yankees-insider-memories-yogi-spring-training-article-1.2541848\",\"http:\\\\/\\\\/www.nydailynews.com\\\\/sports\\\\/baseball\\\\/yankees\\\\/yankees-insider-memories-yogi-spring-training-article-1.2541848\",\"http:\\\\/\\\\/m.nydailynews.com\\\\/sports\\\\/baseball\\\\/yankees\\\\/yankees-insider-memories-yogi-spring-training-article-1.2541848\"],\"9\":[\"http:\\\\/\\\\/www.themalaymailonline.com\\\\/showbiz\\\\/article\\\\/green-day-takes-aim-on-us-gun-culture-with-first-album-in-four-years\",\"http:\\\\/\\\\/enca.com\\\\/life\\\\/entertainment\\\\/american-idiots-take-aim-at-gun-culture\",\"http:\\\\/\\\\/rappler.com\\\\/entertainment\\\\/news\\\\/142885-green-day-returns-attack-on-us-gun-culture\",\"http:\\\\/\\\\/www.breitbart.com\\\\/news\\\\/green-day-returns-with-attack-on-us-gun-culture\\\\/\",\"http:\\\\/\\\\/ninertimes.com\\\\/2016\\\\/08\\\\/track-review-bang-bang-green-day\\\\/\"],\"10\":[\"http:\\\\/\\\\/www.huffingtonpost.co.uk\\\\/2016\\\\/12\\\\/14\\\\/x-factor-matt-terry-interview-nicole-scherzinger_n_13626794.html\",\"http:\\\\/\\\\/www.huffingtonpost.co.uk\\\\/2016\\\\/12\\\\/14\\\\/x-factor-matt-terry-interview-nicole-scherzinger_n_13626794.html?utm_hp_ref=uk\"],\"11\":[\"http:\\\\/\\\\/calgary.ctvnews.ca\\\\/council-pushes-through-series-of-rule-changes-on-secondary-suites-1.2904736\",\"http:\\\\/\\\\/calgary.ctv.ca\\\\/council-pushes-through-series-of-rule-changes-on-secondary-suites-1.2904736\",\"http:\\\\/\\\\/calgary.ctv.ca\\\\/council-pushes-through-series-of-rule-changes-on-secondary-suites-1.2904736?autoPlay=true\"],\"12\":[\"http:\\\\/\\\\/www.northweststar.com.au\\\\/story\\\\/4155526\\\\/clive-palmer-leaves-court-after-giving-queensland-nickel-evidence\\\\/?cs=7\",\"http:\\\\/\\\\/watoday.com.au\\\\/queensland\\\\/clive-palmer-leaves-court-after-giving-queensland-nickel-evidence-20160909-grd7a0.html\",\"http:\\\\/\\\\/www.townsvillebulletin.com.au\\\\/news\\\\/clives-secret-little-green-book\\\\/news-story\\\\/4ecb2f4840981c42e32a6add80dd139e\"],\"13\":[\"http:\\\\/\\\\/www.dawn.com\\\\/news\\\\/1261297\\\\/despite-its-two-clubs-struggling-milan-happy-for-taste-of-champions-league\"],\"14\":[\"http:\\\\/\\\\/triblive.com\\\\/local\\\\/valleynewsdispatch\\\\/11665891-74\\\\/coal-mining-rules\"],\"15\":[\"http:\\\\/\\\\/rekordeast.co.za\\\\/92710\\\\/three-nabbed-for-housebreaking\\\\/\"],\"16\":[\"http:\\\\/\\\\/www.afr.com\\\\/markets\\\\/equity-markets\\\\/asx-slips-as-profit-season-peaks-eyes-turn-to-federal-reserve-20160826-gr1y6x\"],\"17\":[\"http:\\\\/\\\\/kotaradio.com\\\\/pages\\\\/18491725.php?poll147620ViewResults=1\"],\"18\":[\"http:\\\\/\\\\/www.sportsnet.ca\\\\/curling\\\\/champions-cup-icing-cake-mccarville\\\\/\"],\"19\":[\"http:\\\\/\\\\/nmpolitics.net\\\\/index\\\\/2016\\\\/05\\\\/do-the-upcoming-elections-matter-to-the-homeless-hungry-and-disenfranchised\\\\/\"],\"20\":[\"http:\\\\/\\\\/jpupdates.com\\\\/2016\\\\/05\\\\/08\\\\/mass-graves-in-iraq-suggest-isis-committing-genocide-u-n-representative-says\\\\/\"],\"21\":[\"http:\\\\/\\\\/glamour.com\\\\/gallery\\\\/8-subtle-hair-color-ideas-to-transition-from-summer-to-fall-2013-09\"],\"22\":[\"http:\\\\/\\\\/swtimes.com\\\\/news\\\\/fort-smith-missionaries-join-quest-rebuild-ghana\"],\"23\":[\"http:\\\\/\\\\/www.wkow.com\\\\/story\\\\/32064079\\\\/2016\\\\/05\\\\/25\\\\/wisconsin-joins-lawsuit-challenging-obama-transgender-guidance-for-schools\",\"http:\\\\/\\\\/chippewa.com\\\\/news\\\\/state-and-regional\\\\/wisconsin-joins-states-suing-obama-administration-over-transgender-bathroom-guidelines\\\\/article_8e575568-bc90-524a-bdc2-7767ea47025c.html\",\"http:\\\\/\\\\/wiscnews.com\\\\/news\\\\/state-and-regional\\\\/article_7a223503-6aa9-52a3-93c7-5854f2c86cc5.html\",\"http:\\\\/\\\\/www.jsonline.com\\\\/newswatch\\\\/Sink-or-Swim-One-Franklin-familys-fight-with-rare-bone-cancer.html\",\"http:\\\\/\\\\/www.jsonline.com\\\\/newswatch\\\\/380854921.html\",\"http:\\\\/\\\\/www.jsonline.com\\\\/newswatch\\\\/380857051.html\",\"http:\\\\/\\\\/www.jsonline.com\\\\/newswatch\\\\/380858561.html\",\"http:\\\\/\\\\/www.jsonline.com\\\\/newswatch\\\\/380283681.html\",\"http:\\\\/\\\\/www.jsonline.com\\\\/newswatch\\\\/380869571.html\",\"http:\\\\/\\\\/www.jsonline.com\\\\/newswatch\\\\/380868871.html\",\"http:\\\\/\\\\/www.jsonline.com\\\\/newswatch\\\\/380874311.html\",\"http:\\\\/\\\\/www.jsonline.com\\\\/newswatch\\\\/380878861.html\",\"http:\\\\/\\\\/www.jsonline.com\\\\/newswatch\\\\/380880071.html\",\"http:\\\\/\\\\/www.jsonline.com\\\\/newswatch\\\\/380881531.html\",\"http:\\\\/\\\\/www.jsonline.com\\\\/newswatch\\\\/380876721.html\",\"http:\\\\/\\\\/www.jsonline.com\\\\/newswatch\\\\/380877291.html\",\"http:\\\\/\\\\/www.jsonline.com\\\\/newswatch\\\\/380879801.html\",\"http:\\\\/\\\\/www.jsonline.com\\\\/newswatch\\\\/380887271.html\"],\"24\":[\"http:\\\\/\\\\/wtvr.com\\\\/2016\\\\/06\\\\/18\\\\/6-killed-van-carrying-16-wreck-i95-north-caroline\\\\/\"],\"25\":[\"http:\\\\/\\\\/www.buccaneers.com\\\\/news\\\\/article-smith\\\\/Upon-Further-Review-Buccaneers-Chargers\\\\/a8adb39f-b3d6-40f0-8d30-e2ff00621e07\"],\"26\":[\"http:\\\\/\\\\/dailybulletin.com\\\\/arts-and-entertainment\\\\/20161218\\\\/how-mark-wahlberg-director-peter-berg-feel-the-responsibility-of-patriots-day\",\"http:\\\\/\\\\/dailynews.com\\\\/arts-and-entertainment\\\\/20161218\\\\/how-mark-wahlberg-director-peter-berg-feel-the-responsibility-of-patriots-day\",\"http:\\\\/\\\\/pasadenastarnews.com\\\\/arts-and-entertainment\\\\/20161218\\\\/how-mark-wahlberg-director-peter-berg-feel-the-responsibility-of-patriots-day\",\"http:\\\\/\\\\/presstelegram.com\\\\/arts-and-entertainment\\\\/20161218\\\\/how-mark-wahlberg-director-peter-berg-feel-the-responsibility-of-patriots-day\",\"http:\\\\/\\\\/sbsun.com\\\\/arts-and-entertainment\\\\/20161218\\\\/how-mark-wahlberg-director-peter-berg-feel-the-responsibility-of-patriots-day\",\"http:\\\\/\\\\/sgvtribune.com\\\\/arts-and-entertainment\\\\/20161218\\\\/how-mark-wahlberg-director-peter-berg-feel-the-responsibility-of-patriots-day\",\"http:\\\\/\\\\/whittierdailynews.com\\\\/arts-and-entertainment\\\\/20161218\\\\/how-mark-wahlberg-director-peter-berg-feel-the-responsibility-of-patriots-day\",\"http:\\\\/\\\\/www.dailybreeze.com\\\\/arts-and-entertainment\\\\/20161218\\\\/how-mark-wahlberg-director-peter-berg-feel-the-responsibility-of-patriots-day\"],\"27\":[\"http:\\\\/\\\\/www.philly.com\\\\/r?19=961&43=168316&44=392449701&32=3796&7=195227&40=http:\\\\/\\\\/www.philly.com\\\\/philly\\\\/sports\\\\/Is-Angelo-Cataldi-the-only-person-in-Philly-who-hates-the-Sam-Bradford-trade.html\"],\"28\":[\"http:\\\\/\\\\/www.edmontonsun.com\\\\/2016\\\\/12\\\\/08\\\\/after-disappointing-loss-to-lethbridge-oil-kings-eye-successful-weekend-series\"],\"29\":[\"http:\\\\/\\\\/timesofindia.indiatimes.com\\\\/city\\\\/mumbai\\\\/After-immersion-row-youths-try-to-drown-police-officer\\\\/articleshow\\\\/54158755.cms\"],\"30\":[\"http:\\\\/\\\\/timesofindia.indiatimes.com\\\\/city\\\\/pune\\\\/Kopardi-gangrape-murder-case-Pune-top-cop-meets-victims-kin\\\\/articleshow\\\\/53303687.cms\"],\"31\":[\"http:\\\\/\\\\/singletonargus.com.au\\\\/story\\\\/4174885\\\\/national-hupmobile-rally-comes-to-singleton\\\\/?cs=1660\"],\"32\":[\"http:\\\\/\\\\/athensnews.com\\\\/news\\\\/local\\\\/beacon-school-gym-teacher-fired-for-tossing-student-in-pool\\\\/article_3552a8ce-bfcc-11e6-b261-9faeded8b356.html\"],\"33\":[\"http:\\\\/\\\\/ijr.com\\\\/2016\\\\/07\\\\/654631-can-we-take-a-joke-film-showing-comedian-gilbert-gottfried-aclu-koch-fire-balaker\\\\/\"],\"34\":[\"http:\\\\/\\\\/macarthuradvertiser.com.au\\\\/story\\\\/4359191\\\\/students-surprised-and-excited-to-be-awarded-first-in-course\\\\/?cs=12\",\"http:\\\\/\\\\/macarthuradvertiser.com.au\\\\/story\\\\/4359191\\\\/students-surprised-and-excited-to-be-awarded-first-in-course\\\\/?cs=1437\",\"http:\\\\/\\\\/camdenadvertiser.com.au\\\\/story\\\\/4359690\\\\/students-surprised-and-excited-to-be-awarded-first-in-course\\\\/?cs=1184\",\"http:\\\\/\\\\/camdenadvertiser.com.au\\\\/story\\\\/4359690\\\\/students-surprised-and-excited-to-be-awarded-first-in-course\\\\/?cs=12\",\"http:\\\\/\\\\/camdenadvertiser.com.au\\\\/story\\\\/4359690\\\\/students-surprised-and-excited-to-be-awarded-first-in-course\\\\/?cs=1436#disqus_thread\",\"http:\\\\/\\\\/camdenadvertiser.com.au\\\\/story\\\\/4359690\\\\/students-surprised-and-excited-to-be-awarded-first-in-course\\\\/?cs=4072\",\"http:\\\\/\\\\/fairfieldchampion.com.au\\\\/story\\\\/4361399\\\\/hsc-results-students-surprised-and-excited-to-be-awarded-first-in-course\\\\/?cs=12\",\"http:\\\\/\\\\/fairfieldchampion.com.au\\\\/story\\\\/4361399\\\\/hsc-results-we-get-firsts-in-agriculture-and-biology\\\\/?cs=12\",\"http:\\\\/\\\\/fairfieldchampion.com.au\\\\/story\\\\/4361399\\\\/hsc-results-we-get-firsts-in-agriculture-and-biology\\\\/?cs=4095\",\"http:\\\\/\\\\/www.liverpoolchampion.com.au\\\\/story\\\\/4361399\\\\/hsc-results-we-get-firsts-in-agriculture-and-biology\\\\/?src=rss\"],\"35\":[\"http:\\\\/\\\\/www.41nbc.com\\\\/2016\\\\/02\\\\/15\\\\/south-koreas-leader-warns-of-north-korea-collapse-3\\\\/\",\"http:\\\\/\\\\/lasvegassun.com\\\\/news\\\\/2016\\\\/feb\\\\/16\\\\/south-koreas-leader-warns-of-north-korea-collapse\\\\/\",\"http:\\\\/\\\\/ktar.com\\\\/story\\\\/910677\\\\/south-koreas-leader-warns-of-north-korea-collapse-2\\\\/\",\"http:\\\\/\\\\/www.41nbc.com\\\\/2016\\\\/02\\\\/16\\\\/south-koreas-leader-warns-of-north-korea-collapse-4\\\\/\",\"http:\\\\/\\\\/newsok.com\\\\/south-koreas-leader-warns-of-north-korea-collapse\\\\/article\\\\/feed\\\\/967339\",\"http:\\\\/\\\\/www.daily-chronicle.com\\\\/2016\\\\/02\\\\/16\\\\/south-koreas-leader-warns-of-north-korea-collapse\\\\/aau3pw9\\\\/\",\"http:\\\\/\\\\/www.cbs8.com\\\\/story\\\\/31228270\\\\/south-koreas-leader-warns-of-north-korea-collapse\",\"http:\\\\/\\\\/wric.com\\\\/ap\\\\/south-koreas-leader-warns-of-north-korea-collapse-2\\\\/\",\"http:\\\\/\\\\/kxan.com\\\\/ap\\\\/south-koreas-leader-warns-of-north-korea-collapse-2\\\\/\",\"http:\\\\/\\\\/www.journal-news.com\\\\/ap\\\\/ap\\\\/top-news\\\\/south-koreas-leader-warns-of-north-korea-collapse\\\\/nqQnb\\\\/\",\"http:\\\\/\\\\/malaysiandigest.com\\\\/world\\\\/595054-south-korea-s-leader-warns-of-north-korea-collapse.html\",\"http:\\\\/\\\\/14news.com\\\\/story\\\\/31228271\\\\/south-koreas-leader-warns-of-north-korea-collapse\",\"http:\\\\/\\\\/wafb.com\\\\/story\\\\/31228271\\\\/south-koreas-leader-warns-of-north-korea-collapse\",\"http:\\\\/\\\\/wbtv.com\\\\/story\\\\/31228271\\\\/south-koreas-leader-warns-of-north-korea-collapse\",\"http:\\\\/\\\\/wave3.com\\\\/story\\\\/31228271\\\\/south-koreas-leader-warns-of-north-korea-collapse\",\"http:\\\\/\\\\/kptv.com\\\\/story\\\\/31228271\\\\/south-koreas-leader-warns-of-north-korea-collapse\",\"http:\\\\/\\\\/fox5vegas.com\\\\/story\\\\/31228271\\\\/south-koreas-leader-warns-of-north-korea-collapse\",\"http:\\\\/\\\\/www.westernmassnews.com\\\\/story\\\\/31228271\\\\/south-koreas-leader-warns-of-north-korea-collapse\",\"http:\\\\/\\\\/kplctv.com\\\\/story\\\\/31228271\\\\/south-koreas-leader-warns-of-north-korea-collapse\",\"http:\\\\/\\\\/wsmv.com\\\\/story\\\\/31228271\\\\/south-koreas-leader-warns-of-north-korea-collapse\",\"http:\\\\/\\\\/kfvs12.com\\\\/story\\\\/31228271\\\\/south-koreas-leader-warns-of-north-korea-collapse\",\"http:\\\\/\\\\/wsfa.com\\\\/story\\\\/31228271\\\\/south-koreas-leader-warns-of-north-korea-collapse\",\"http:\\\\/\\\\/wnem.com\\\\/story\\\\/31228271\\\\/south-koreas-leader-warns-of-north-korea-collapse\",\"http:\\\\/\\\\/wflx.com\\\\/story\\\\/31228271\\\\/south-koreas-leader-warns-of-north-korea-collapse\",\"http:\\\\/\\\\/foxcarolina.com\\\\/story\\\\/31228271\\\\/south-koreas-leader-warns-of-north-korea-collapse\",\"http:\\\\/\\\\/wfsb.com\\\\/story\\\\/31228271\\\\/south-koreas-leader-warns-of-north-korea-collapse\",\"http:\\\\/\\\\/ktre.com\\\\/story\\\\/31228271\\\\/south-koreas-leader-warns-of-north-korea-collapse\",\"http:\\\\/\\\\/live5news.com\\\\/story\\\\/31228271\\\\/south-koreas-leader-warns-of-north-korea-collapse\",\"http:\\\\/\\\\/wtvm.com\\\\/story\\\\/31228271\\\\/south-koreas-leader-warns-of-north-korea-collapse\",\"http:\\\\/\\\\/nbc12.com\\\\/story\\\\/31228271\\\\/south-koreas-leader-warns-of-north-korea-collapse\",\"http:\\\\/\\\\/www.bostonglobe.com\\\\/news\\\\/world\\\\/2016\\\\/02\\\\/16\\\\/korean-president-warns-korea-collapse\\\\/6N2AtSpMDq4feYT62sggVM\\\\/story.html\",\"http:\\\\/\\\\/www.journal-news.com\\\\/news\\\\/ap\\\\/international\\\\/south-koreas-leader-warns-of-north-korea-collapse\\\\/nqQnb\\\\/\",\"http:\\\\/\\\\/www.goerie.com\\\\/apps\\\\/pbcs.dll\\\\/article?AID=\\\\/20160216\\\\/NEWS07\\\\/302169911\\\\/-1\\\\/RSS\",\"http:\\\\/\\\\/military.com\\\\/daily-news\\\\/2016\\\\/02\\\\/16\\\\/south-korea-leader-warns-north-korea-collapse.html\",\"http:\\\\/\\\\/www.theepochtimes.com\\\\/n3\\\\/1967513-south-koreas-leader-warns-of-north-korea-collapse\\\\/\",\"http:\\\\/\\\\/medinagazette.northcoastnow.com\\\\/2016\\\\/02\\\\/16\\\\/south-koreas-leader-warns-of-north-collapse\\\\/\",\"http:\\\\/\\\\/feeds.chicagotribune.com\\\\/~r\\\\/chicagotribune\\\\/hottopics\\\\/~3\\\\/VclOS0KAIkk\\\\/ct-south-korea-north-korea-collapse-warning-20160216-story.html\",\"http:\\\\/\\\\/www.chicagotribune.com\\\\/news\\\\/nationworld\\\\/ct-south-korea-north-korea-collapse-warning-20160216-story.html\",\"http:\\\\/\\\\/www.dailypress.com\\\\/news\\\\/nationworld\\\\/ct-south-korea-north-korea-collapse-warning-20160216-story.html\",\"http:\\\\/\\\\/www.wmbfnews.com\\\\/story\\\\/31228271\\\\/south-koreas-leader-warns-of-north-korea-collapse\",\"http:\\\\/\\\\/courant.com\\\\/nation-world\\\\/ct-south-korea-north-korea-collapse-warning-20160216-story.html#nt=oft06a-19li2\",\"http:\\\\/\\\\/sun-sentinel.com\\\\/news\\\\/nationworld\\\\/ct-south-korea-north-korea-collapse-warning-20160216-story.html#nt=oft13a-22gp1\",\"http:\\\\/\\\\/www.cp24.com\\\\/world\\\\/s-korean-president-says-n-korea-faces-collapse-if-it-keeps-nuclear-program-1.2779715\",\"http:\\\\/\\\\/pekintimes.com\\\\/news\\\\/20160216\\\\/south-koreas-leader-warns-of-north-korea-collapse\",\"http:\\\\/\\\\/pjstar.com\\\\/news\\\\/20160216\\\\/south-koreas-leader-warns-of-north-korea-collapse\",\"http:\\\\/\\\\/mdjonline.com\\\\/view\\\\/full_story\\\\/27088349\\\\/article-South-Korea-s-leader-warns-of-North-Korea-collapse-?instance=home_state_bullets\",\"http:\\\\/\\\\/texarkanagazette.com\\\\/news\\\\/international\\\\/story\\\\/2016\\\\/feb\\\\/16\\\\/south-koreas-leader-warns-north-korea-collapse\\\\/415947\\\\/\",\"http:\\\\/\\\\/sfgate.com\\\\/world\\\\/article\\\\/South-Korea-s-leader-warns-of-North-Korea-6834381.php\",\"http:\\\\/\\\\/www.goerie.com\\\\/BC-AS-Koreas-Tension-7th-Ld-Writethru\"],\"36\":[\"http:\\\\/\\\\/www.newindianexpress.com\\\\/nation\\\\/Only-elite-not-Muslim-masses-feel-alienation-in-India\\\\/2016\\\\/07\\\\/24\\\\/article3545061.ece\",\"http:\\\\/\\\\/www.outlookindia.com\\\\/newswire\\\\/story\\\\/only-elite-not-muslim-masses-feel-alienation-in-india\\\\/947814\",\"http:\\\\/\\\\/www.oneindia.com\\\\/india\\\\/only-elite-not-muslim-masses-feel-alienation-india-2161882.html\"],\"37\":[\"http:\\\\/\\\\/classic.iol.co.za\\\\/malema-and-rapper-aka-clash-1.2024416\",\"http:\\\\/\\\\/www.iol.co.za\\\\/news\\\\/special-features\\\\/malema-and-rapper-aka-clash-2024416\"],\"38\":[\"http:\\\\/\\\\/sg.news.yahoo.com\\\\/classmates-named-dotc-dfa-posts-000000852.html\"],\"39\":[\"http:\\\\/\\\\/www.bloodhorse.com\\\\/horse-racing\\\\/articles\\\\/215200\\\\/kittens-joys-first-sire-son-in-europe?source=rss\"],\"40\":[\"http:\\\\/\\\\/www.sprucegroveexaminer.com\\\\/2016\\\\/12\\\\/16\\\\/no-payback-for-early-payback\"],\"41\":[\"http:\\\\/\\\\/www.tctmagazine.com\\\\/3D-software-news\\\\/aleph-objects-sponsors-free-enterprise-software-odoo-community\\\\/\"],\"42\":[\"http:\\\\/\\\\/www.tmcnet.com\\\\/usubmit\\\\/2016\\\\/12\\\\/01\\\\/8461552.htm\"],\"43\":[\"http:\\\\/\\\\/divorcedreformedremarried.wordpress.com\\\\/2016\\\\/05\\\\/31\\\\/diversity-what-it-should-not-be-in-the-true-church\\\\/\"],\"44\":[\"http:\\\\/\\\\/www.wmur.com\\\\/politics\\\\/wmurcom-first-nhgop-asks-hassan-for-records-on-36m-state-contract-with-dartmouthhitchcock\\\\/41684160\"],\"45\":[\"http:\\\\/\\\\/www.bbc.co.uk\\\\/news\\\\/uk-36923961\"],\"46\":[\"http:\\\\/\\\\/waow.com\\\\/story\\\\/32765328\\\\/2016\\\\/08\\\\/15\\\\/safety-lights-required-on-school-buses-under-new-state-law\"],\"47\":[\"http:\\\\/\\\\/www.wsj.com\\\\/articles\\\\/artists-and-audience-blend-as-1-000-voices-sing-1470871769\"],\"48\":[\"http:\\\\/\\\\/www.providencejournal.com\\\\/sports\\\\/20160508\\\\/red-wings-3-pawsox-2-eduardo-rodriguez-looks-ready-to-return\",\"http:\\\\/\\\\/www.bostonglobe.com\\\\/sports\\\\/redsox\\\\/2016\\\\/05\\\\/08\\\\/travis-shaw-has-faith-hanley-ramirez-first-base\\\\/F2YKv2Ff2LsozRb701gRQP\\\\/story.html\",\"http:\\\\/\\\\/fullcount.weei.com\\\\/sports\\\\/boston\\\\/baseball\\\\/red-sox\\\\/tag\\\\/kyle-martin\\\\/\"],\"49\":[\"http:\\\\/\\\\/wshu.org\\\\/post\\\\/conn-community-colleges-targeting-veterans-advanced-manufacturing\",\"http:\\\\/\\\\/wshu.org\\\\/post\\\\/ct-community-colleges-targeting-veterans-advanced-manufacturing\"],\"50\":[\"http:\\\\/\\\\/tass.com\\\\/society\\\\/898751\",\"http:\\\\/\\\\/tass.com\\\\/society\\\\/899105\"],\"51\":[\"http:\\\\/\\\\/www.worldcrunch.com\\\\/world-affairs\\\\/across-the-world-democracy-slides-into-recession-\\\\/c1s21038\\\\/\"],\"52\":[\"http:\\\\/\\\\/normantranscript.com\\\\/sports\\\\/all_ou_sports\\\\/sooners-shuffle-offensive-line\\\\/article_35b003ae-c7e7-5f18-af5b-9db8f127c736.html\"],\"53\":[\"http:\\\\/\\\\/www.aol.co.uk\\\\/living\\\\/2016\\\\/09\\\\/21\\\\/billy-bob-thornton-tightlipped-over-exwife-angelina-jolies-divorce\\\\/\",\"http:\\\\/\\\\/www.croydonguardian.co.uk\\\\/uk_national_entertainment\\\\/14755011.Billy_Bob_Thornton_tight_lipped_over_ex_wife_Angelina_Jolie_s_divorce\\\\/?ref=rss\",\"http:\\\\/\\\\/hillingdontimes.co.uk\\\\/uk_national_entertainment\\\\/14755011.Billy_Bob_Thornton_tight_lipped_over_ex_wife_Angelina_Jolie_s_divorce\\\\/\",\"http:\\\\/\\\\/bucksfreepress.co.uk\\\\/uk_national_entertainment\\\\/14755011.Billy_Bob_Thornton_tight_lipped_over_ex_wife_Angelina_Jolie_s_divorce\\\\/\",\"http:\\\\/\\\\/eveningtimes.co.uk\\\\/entertainment\\\\/nationalentsfeed\\\\/14755011.Billy_Bob_Thornton_tight_lipped_over_ex_wife_Angelina_Jolie_s_divorce\\\\/\",\"http:\\\\/\\\\/www.kildare-nationalist.ie\\\\/2016\\\\/09\\\\/21\\\\/billy-bob-thornton-tight-lipped-over-ex-wife-angelina-jolies-divorce\\\\/\",\"http:\\\\/\\\\/feeds.breakingnews.ie\\\\/~r\\\\/bntopstories\\\\/~3\\\\/BJlUBZeRIOU\\\\/billy-bob-thornton-tight-lipped-over-ex-wife-angelina-jolies-divorce-755677.html\",\"http:\\\\/\\\\/www.breakingnews.ie\\\\/showbiz\\\\/billy-bob-thornton-tight-lipped-over-ex-wife-angelina-jolies-divorce-755677.html\",\"http:\\\\/\\\\/eveningtimes.co.uk\\\\/news\\\\/14755164.Billy_Bob_Thornton_tight_lipped_over_ex_wife_Angelina_Jolie_s_divorce\\\\/\",\"http:\\\\/\\\\/www.irishmirror.ie\\\\/showbiz\\\\/billy-bob-thornton-remains-tight-8881044#comments-section\",\"http:\\\\/\\\\/uk.celebrity.yahoo.com\\\\/billy-bob-thornton-tight-lipped-043010173.html\",\"http:\\\\/\\\\/heraldscotland.com\\\\/news\\\\/14755280.Billy_Bob_Thornton_tight_lipped_over_ex_wife_Angelina_Jolie_s_divorce\\\\/\"],\"54\":[\"http:\\\\/\\\\/jis.gov.jm\\\\/pm-commends-minister-bartlett-world-travel-awards-honour\\\\/\",\"http:\\\\/\\\\/jamaicaobserver.com\\\\/news\\\\/PM-commends-Bartlett-on-World-Travel-Awards-honour_74591\"],\"55\":[\"http:\\\\/\\\\/www.abc.net.au\\\\/news\\\\/2016-09-17\\\\/wa-government-not-in-a-\\'winnable\\'-election-position\\\\/7855314\"],\"56\":[\"http:\\\\/\\\\/www.washingtontimes.com\\\\/news\\\\/2016\\\\/jul\\\\/21\\\\/man-hands-up-shot-north-miami-police-officer\\\\/?utm_source=RSS_Feed&utm_medium=RSS\"],\"57\":[\"http:\\\\/\\\\/feeds.latimes.com\\\\/~r\\\\/latimes\\\\/business\\\\/~3\\\\/7KLp1Hy-UPE\\\\/la-fi-lazarus-league-secret-society-20160812-snap-story.html\",\"http:\\\\/\\\\/feeds.latimes.com\\\\/~r\\\\/latimes\\\\/entertainment\\\\/news\\\\/music\\\\/~3\\\\/mjcHgIlSX38\\\\/la-fi-lazarus-league-secret-society-20160812-snap-story.html\",\"http:\\\\/\\\\/www.latimes.com\\\\/business\\\\/la-fi-lazarus-league-secret-society-20160812-snap-story.html\",\"http:\\\\/\\\\/www.latimes.com\\\\/la-fi-lazarus-league-secret-society-20160812-snap-story.html\",\"http:\\\\/\\\\/crescent-news.com\\\\/business\\\\/consumer-confidential-this-secret-society-says-it-can-help-you\\\\/article_80c57b30-5b90-5c13-9ed3-beda8ecd32af.html\"],\"58\":[\"http:\\\\/\\\\/www.businessinsider.in\\\\/10-things-to-expect-on-the-new-season-of-Blindspot\\\\/articleshow\\\\/54333525.cms#commentHash\",\"http:\\\\/\\\\/businessinsider.my\\\\/blindspot-season-2-spoilers-2016-9\\\\/#comment-\",\"http:\\\\/\\\\/businessinsider.sg\\\\/blindspot-season-2-spoilers-2016-9\\\\/#comment-\",\"http:\\\\/\\\\/nordic.businessinsider.com\\\\/woman-pressuring-massage-envy-sexual-assault-joins-safety-council-2017-12\\\\/\",\"http:\\\\/\\\\/nordic.businessinsider.com\\\\/walmart-personal-shopping-service-targets-wealthy-customers-2017-12\\\\/\",\"http:\\\\/\\\\/nordic.businessinsider.com\\\\/trump-inner-circle-victor-cha-confirm-bloody-nose-strategy-north-korea-2018-1\\\\/\",\"http:\\\\/\\\\/nordic.businessinsider.com\\\\/nintendo-stock-price-nailing-everything-its-doing-2018-2\\\\/\",\"http:\\\\/\\\\/nordic.businessinsider.com\\\\/jake-arrieta-mlb-free-agents-pay-2018-2\\\\/\",\"http:\\\\/\\\\/nordic.businessinsider.com\\\\/lush-holiday-range-collection-2018-9\\\\/\",\"http:\\\\/\\\\/nordic.businessinsider.com\\\\/review-daredevil-season-three-one-of-the-best-seasons-of-netflixs-marvel-shows-2018-10\\\\/\",\"http:\\\\/\\\\/nordic.businessinsider.com\\\\/review-homecoming-amazon-julia-roberts-2018-11\\\\/\",\"http:\\\\/\\\\/nordic.businessinsider.com\\\\/democrats-wont-wait-mueller-report-investigate-trump-impeachment-2019-1\\\\/\"],\"59\":[\"http:\\\\/\\\\/www.timesledger.com\\\\/stories\\\\/2016\\\\/36\\\\/ryanharrisonupset-tl-2016-09-02-q.html?utm_medium=feed&utm_campaign=rss&utm_source=main_full&utm_content=link\"],\"60\":[\"http:\\\\/\\\\/www.lfpress.com\\\\/2016\\\\/10\\\\/09\\\\/indiscernible-from-anxiety-alcohol-depression-and-mental-health-to-a-needless-death\"],\"61\":[\"http:\\\\/\\\\/freefreedomblog.wordpress.com\\\\/2016\\\\/02\\\\/15\\\\/syria-will-be-free-and-independent-\\\\ufeff\\\\/\"],\"62\":[\"http:\\\\/\\\\/searchsecurity.techtarget.com\\\\/news\\\\/450296785\\\\/Senate-bill-would-quash-unlimited-Rule-41-government-hacks\"],\"63\":[\"http:\\\\/\\\\/kwbe.com\\\\/abc_sports\\\\/three-soccer-share-secret-to-social-media-success-abcid35701340\\\\/\",\"http:\\\\/\\\\/kticradio.com\\\\/abc_sports\\\\/three-soccer-share-secret-to-social-media-success-abcid35701340\\\\/\",\"http:\\\\/\\\\/www.mycentraloregon.com\\\\/2016\\\\/05\\\\/30\\\\/three-soccer-share-secret-to-social-media-success\\\\/\",\"http:\\\\/\\\\/wjbdradio.com\\\\/NationalSports\\\\/Three-Soccer-Share-Secret-to-Social-Media-Success\"],\"64\":[\"http:\\\\/\\\\/eon.businesswire.com\\\\/news\\\\/eon\\\\/20160811005188\\\\/en\\\\/Fathom-Events\\\\/Warner-Bros.-Records\\\\/Michael-Bubl\\\\u00e9\",\"http:\\\\/\\\\/feeds.businesswire.com\\\\/click.phdo?i=975c8294dc6671b4e9621440aad4b540\",\"http:\\\\/\\\\/news.hamlethub.com\\\\/ridgefield\\\\/events\\\\/53160-take-a-look-at-life-on-the-road-with-michael-buble-with-a-special-screening-of-michael-buble-tour-stop-148-at-the-ridgefield-playhouse-on-september-27\",\"http:\\\\/\\\\/www.theridgefieldpress.com\\\\/72540\\\\/michael-buble-on-the-big-screen-at-the-ridgefield-playhouse\\\\/\",\"http:\\\\/\\\\/news.hamlethub.com\\\\/brookfield\\\\/events\\\\/43664-hd-screening-of-michael-buble-tour-stop-148-at-the-ridgefield-playhouse-on-september-27\",\"http:\\\\/\\\\/www.hvpress.net\\\\/news\\\\/122\\\\/ARTICLE\\\\/16670\\\\/2016-09-21.html\"]},\"phase\":{\"0\":\"E\",\"1\":\"E\",\"2\":\"E\",\"3\":\"E\",\"4\":\"E\",\"5\":\"E\",\"6\":\"E\",\"7\":\"E\",\"8\":\"E\",\"9\":\"E\",\"10\":\"E\",\"11\":\"E\",\"12\":\"E\",\"13\":\"E\",\"14\":\"E\",\"15\":\"E\",\"16\":\"E\",\"17\":\"E\",\"18\":\"E\",\"19\":\"E\",\"20\":\"E\",\"21\":\"E\",\"22\":\"E\",\"23\":\"E\",\"24\":\"E\",\"25\":\"E\",\"26\":\"E\",\"27\":\"E\",\"28\":\"E\",\"29\":\"E\",\"30\":\"E\",\"31\":\"E\",\"32\":\"E\",\"33\":\"E\",\"34\":\"E\",\"35\":\"E\",\"36\":\"E\",\"37\":\"E\",\"38\":\"E\",\"39\":\"E\",\"40\":\"E\",\"41\":\"E\",\"42\":\"E\",\"43\":\"E\",\"44\":\"E\",\"45\":\"E\",\"46\":\"E\",\"47\":\"E\",\"48\":\"E\",\"49\":\"E\",\"50\":\"E\",\"51\":\"E\",\"52\":\"E\",\"53\":\"E\",\"54\":\"E\",\"55\":\"E\",\"56\":\"E\",\"57\":\"E\",\"58\":\"E\",\"59\":\"E\",\"60\":\"E\",\"61\":\"E\",\"62\":\"E\",\"63\":\"E\",\"64\":\"E\"},\"sitenames\":{\"0\":[\"indiatimes\"],\"1\":[\"stv\",\"bbc\",\"bbc\"],\"2\":[\"whotv\"],\"3\":[\"vancouversun\"],\"4\":[\"businessinsider\",\"businessinsider\"],\"5\":[\"thegardenisland\"],\"6\":[\"universityobserver\"],\"7\":[\"watoday\"],\"8\":[\"nydailynews\",\"nydailynews\",\"nydailynews\"],\"9\":[\"themalaymailonline\",\"enca\",\"rappler\",\"breitbart\",\"ninertimes\"],\"10\":[\"huffingtonpost\",\"huffingtonpost\"],\"11\":[\"ctvnews\",\"ctv\",\"ctv\"],\"12\":[\"northweststar\",\"watoday\",\"townsvillebulletin\"],\"13\":[\"dawn\"],\"14\":[\"triblive\"],\"15\":[\"rekordeast\"],\"16\":[\"afr\"],\"17\":[\"kotaradio\"],\"18\":[\"sportsnet\"],\"19\":[\"nmpolitics\"],\"20\":[\"jpupdates\"],\"21\":[\"glamour\"],\"22\":[\"swtimes\"],\"23\":[\"wkow\",\"chippewa\",\"wiscnews\",\"jsonline\",\"jsonline\",\"jsonline\",\"jsonline\",\"jsonline\",\"jsonline\",\"jsonline\",\"jsonline\",\"jsonline\",\"jsonline\",\"jsonline\",\"jsonline\",\"jsonline\",\"jsonline\",\"jsonline\"],\"24\":[\"wtvr\"],\"25\":[\"buccaneers\"],\"26\":[\"dailybulletin\",\"dailynews\",\"pasadenastarnews\",\"presstelegram\",\"sbsun\",\"sgvtribune\",\"whittierdailynews\",\"dailybreeze\"],\"27\":[\"philly\"],\"28\":[\"edmontonsun\"],\"29\":[\"indiatimes\"],\"30\":[\"indiatimes\"],\"31\":[\"singletonargus\"],\"32\":[\"athensnews\"],\"33\":[\"ijr\"],\"34\":[\"macarthuradvertiser\",\"macarthuradvertiser\",\"camdenadvertiser\",\"camdenadvertiser\",\"camdenadvertiser\",\"camdenadvertiser\",\"fairfieldchampion\",\"fairfieldchampion\",\"fairfieldchampion\",\"liverpoolchampion\"],\"35\":[\"41nbc\",\"lasvegassun\",\"ktar\",\"41nbc\",\"newsok\",\"daily-chronicle\",\"cbs8\",\"wric\",\"kxan\",\"journal-news\",\"malaysiandigest\",\"14news\",\"wafb\",\"wbtv\",\"wave3\",\"kptv\",\"fox5vegas\",\"westernmassnews\",\"kplctv\",\"wsmv\",\"kfvs12\",\"wsfa\",\"wnem\",\"wflx\",\"foxcarolina\",\"wfsb\",\"ktre\",\"live5news\",\"wtvm\",\"nbc12\",\"bostonglobe\",\"journal-news\",\"goerie\",\"military\",\"theepochtimes\",\"northcoastnow\",\"chicagotribune\",\"chicagotribune\",\"dailypress\",\"wmbfnews\",\"courant\",\"sun-sentinel\",\"cp24\",\"pekintimes\",\"pjstar\",\"mdjonline\",\"texarkanagazette\",\"sfgate\",\"goerie\"],\"36\":[\"newindianexpress\",\"outlookindia\",\"oneindia\"],\"37\":[\"iol\",\"iol\"],\"38\":[\"yahoo\"],\"39\":[\"bloodhorse\"],\"40\":[\"sprucegroveexaminer\"],\"41\":[\"tctmagazine\"],\"42\":[\"tmcnet\"],\"43\":[\"wordpress\"],\"44\":[\"wmur\"],\"45\":[\"bbc\"],\"46\":[\"waow\"],\"47\":[\"wsj\"],\"48\":[\"providencejournal\",\"bostonglobe\",\"weei\"],\"49\":[\"wshu\",\"wshu\"],\"50\":[\"tass\",\"tass\"],\"51\":[\"worldcrunch\"],\"52\":[\"normantranscript\"],\"53\":[\"aol\",\"croydonguardian\",\"hillingdontimes\",\"bucksfreepress\",\"eveningtimes\",\"kildare-nationalist\",\"breakingnews\",\"breakingnews\",\"eveningtimes\",\"irishmirror\",\"yahoo\",\"heraldscotland\"],\"54\":[\"jis\",\"jamaicaobserver\"],\"55\":[\"abc\"],\"56\":[\"washingtontimes\"],\"57\":[\"latimes\",\"latimes\",\"latimes\",\"latimes\",\"crescent-news\"],\"58\":[\"businessinsider\",\"businessinsider\",\"businessinsider\",\"businessinsider\",\"businessinsider\",\"businessinsider\",\"businessinsider\",\"businessinsider\",\"businessinsider\",\"businessinsider\",\"businessinsider\",\"businessinsider\"],\"59\":[\"timesledger\"],\"60\":[\"lfpress\"],\"61\":[\"wordpress\"],\"62\":[\"techtarget\"],\"63\":[\"kwbe\",\"kticradio\",\"mycentraloregon\",\"wjbdradio\"],\"64\":[\"businesswire\",\"businesswire\",\"hamlethub\",\"theridgefieldpress\",\"hamlethub\",\"hvpress\"]},\"domain\":{\"0\":[\"com\"],\"1\":[\"tv\",\"co.uk\",\"co.uk\"],\"2\":[\"com\"],\"3\":[\"com\"],\"4\":[\"my\",\"sg\"],\"5\":[\"com\"],\"6\":[\"ie\"],\"7\":[\"com.au\"],\"8\":[\"com\",\"com\",\"com\"],\"9\":[\"com\",\"com\",\"com\",\"com\",\"com\"],\"10\":[\"co.uk\",\"co.uk\"],\"11\":[\"ca\",\"ca\",\"ca\"],\"12\":[\"com.au\",\"com.au\",\"com.au\"],\"13\":[\"com\"],\"14\":[\"com\"],\"15\":[\"co.za\"],\"16\":[\"com\"],\"17\":[\"com\"],\"18\":[\"ca\"],\"19\":[\"net\"],\"20\":[\"com\"],\"21\":[\"com\"],\"22\":[\"com\"],\"23\":[\"com\",\"com\",\"com\",\"com\",\"com\",\"com\",\"com\",\"com\",\"com\",\"com\",\"com\",\"com\",\"com\",\"com\",\"com\",\"com\",\"com\",\"com\"],\"24\":[\"com\"],\"25\":[\"com\"],\"26\":[\"com\",\"com\",\"com\",\"com\",\"com\",\"com\",\"com\",\"com\"],\"27\":[\"com\"],\"28\":[\"com\"],\"29\":[\"com\"],\"30\":[\"com\"],\"31\":[\"com.au\"],\"32\":[\"com\"],\"33\":[\"com\"],\"34\":[\"com.au\",\"com.au\",\"com.au\",\"com.au\",\"com.au\",\"com.au\",\"com.au\",\"com.au\",\"com.au\",\"com.au\"],\"35\":[\"com\",\"com\",\"com\",\"com\",\"com\",\"com\",\"com\",\"com\",\"com\",\"com\",\"com\",\"com\",\"com\",\"com\",\"com\",\"com\",\"com\",\"com\",\"com\",\"com\",\"com\",\"com\",\"com\",\"com\",\"com\",\"com\",\"com\",\"com\",\"com\",\"com\",\"com\",\"com\",\"com\",\"com\",\"com\",\"com\",\"com\",\"com\",\"com\",\"com\",\"com\",\"com\",\"com\",\"com\",\"com\",\"com\",\"com\",\"com\",\"com\"],\"36\":[\"com\",\"com\",\"com\"],\"37\":[\"co.za\",\"co.za\"],\"38\":[\"com\"],\"39\":[\"com\"],\"40\":[\"com\"],\"41\":[\"com\"],\"42\":[\"com\"],\"43\":[\"com\"],\"44\":[\"com\"],\"45\":[\"co.uk\"],\"46\":[\"com\"],\"47\":[\"com\"],\"48\":[\"com\",\"com\",\"com\"],\"49\":[\"org\",\"org\"],\"50\":[\"com\",\"com\"],\"51\":[\"com\"],\"52\":[\"com\"],\"53\":[\"co.uk\",\"co.uk\",\"co.uk\",\"co.uk\",\"co.uk\",\"ie\",\"ie\",\"ie\",\"co.uk\",\"ie\",\"com\",\"com\"],\"54\":[\"gov.jm\",\"com\"],\"55\":[\"net.au\"],\"56\":[\"com\"],\"57\":[\"com\",\"com\",\"com\",\"com\",\"com\"],\"58\":[\"in\",\"my\",\"sg\",\"com\",\"com\",\"com\",\"com\",\"com\",\"com\",\"com\",\"com\",\"com\"],\"59\":[\"com\"],\"60\":[\"com\"],\"61\":[\"com\"],\"62\":[\"com\"],\"63\":[\"com\",\"com\",\"com\",\"com\"],\"64\":[\"com\",\"com\",\"com\",\"com\",\"com\",\"net\"]},\"tags\":{\"0\":[[]],\"1\":[[],[],[]],\"2\":[[]],\"3\":[[\"sport\",\"sport\"]],\"4\":[[],[]],\"5\":[[]],\"6\":[[]],\"7\":[[\"sport\"]],\"8\":[[\"sport\"],[\"sport\"],[\"sport\"]],\"9\":[[],[],[],[],[]],\"10\":[[],[]],\"11\":[[],[],[]],\"12\":[[],[],[]],\"13\":[[]],\"14\":[[]],\"15\":[[]],\"16\":[[]],\"17\":[[]],\"18\":[[]],\"19\":[[]],\"20\":[[]],\"21\":[[]],\"22\":[[]],\"23\":[[],[],[],[],[],[],[],[],[],[],[],[],[],[],[],[],[],[]],\"24\":[[]],\"25\":[[]],\"26\":[[\"art\"],[\"art\"],[\"art\"],[\"art\"],[\"art\"],[\"art\"],[\"art\"],[\"art\"]],\"27\":[[\"sport\"]],\"28\":[[]],\"29\":[[]],\"30\":[[]],\"31\":[[]],\"32\":[[]],\"33\":[[]],\"34\":[[],[],[],[],[],[],[],[],[],[]],\"35\":[[],[],[],[],[],[],[],[],[],[],[],[],[],[],[],[],[],[],[],[],[],[],[],[],[],[],[],[],[],[],[],[],[],[],[],[],[],[],[],[],[],[],[],[],[],[],[],[],[]],\"36\":[[],[],[]],\"37\":[[],[]],\"38\":[[]],\"39\":[[]],\"40\":[[]],\"41\":[[]],\"42\":[[]],\"43\":[[]],\"44\":[[]],\"45\":[[]],\"46\":[[]],\"47\":[[]],\"48\":[[\"sport\"],[\"sport\"],[\"sport\"]],\"49\":[[],[]],\"50\":[[],[]],\"51\":[[]],\"52\":[[\"sport\"]],\"53\":[[],[],[],[],[],[],[],[],[],[],[],[]],\"54\":[[],[]],\"55\":[[]],\"56\":[[]],\"57\":[[\"business\"],[],[\"business\"],[],[\"business\"]],\"58\":[[],[],[],[],[],[],[],[],[],[],[],[]],\"59\":[[]],\"60\":[[]],\"61\":[[]],\"62\":[[]],\"63\":[[],[],[],[]],\"64\":[[],[],[],[],[],[]]}}'"
      ]
     },
     "execution_count": 39,
     "metadata": {},
     "output_type": "execute_result"
    }
   ],
   "source": [
    "chunk_json"
   ]
  },
  {
   "cell_type": "code",
   "execution_count": null,
   "id": "61c71234",
   "metadata": {},
   "outputs": [],
   "source": []
  }
 ],
 "metadata": {
  "kernelspec": {
   "display_name": "Python 3 (ipykernel)",
   "language": "python",
   "name": "python3"
  },
  "language_info": {
   "codemirror_mode": {
    "name": "ipython",
    "version": 3
   },
   "file_extension": ".py",
   "mimetype": "text/x-python",
   "name": "python",
   "nbconvert_exporter": "python",
   "pygments_lexer": "ipython3",
   "version": "3.9.7"
  }
 },
 "nbformat": 4,
 "nbformat_minor": 5
}

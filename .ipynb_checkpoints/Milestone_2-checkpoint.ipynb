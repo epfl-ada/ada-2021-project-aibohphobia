{
 "cells": [
  {
   "cell_type": "markdown",
   "id": "perceived-sword",
   "metadata": {},
   "source": [
    "## Milestone 2: Hand in \n",
    "# Careful people we need to have the analysis ON ALL THE DATASET !!!!! :/ refer to zulip\n",
    "\n",
    "In this notebook we start the project regarding **The representation of women in media**\n",
    "\n",
    "This notebook includes:\n",
    "- the data cleaning process\n",
    "- the merging with additional datasets\n",
    "- the basic data analysis including plots\n",
    "\n",
    "\n",
    "\n",
    "\n",
    "Let us remind ourselves of some of the **research questions** we wish to answer:\n",
    "\n",
    "- Is the representation **equal between males and females** in media?\n",
    "- How does the distribution of quotes based on gender vary across countries and across domains?\n",
    "- How does the distribution of quotes between genders evolve in time, geographically and thematically?\n",
    "- Is there a tendency in each category for a males to have **longer quotes** than females?\n",
    "- Are males more likely to be **quoted in highly respected media**?\n",
    "- Are there any **blind spots** in media where females are especially neglected?\n",
    "- Is there a difference in how females/males at a certain **age** are quoted?\n",
    "- Are countries known to promote gender equality more likely to reflect this in media compared to the rest of the world   \n",
    "\n",
    "\n",
    "Extra ideas (draft selene):\n",
    "- Can we identify speakers who were quoted and that triggered a change in trend? Example: a woman is quoted once as she talks about topic A. After that we see an increase of women quoted talking about topic A ? Like some turning points in media? \n",
    "------> Comment Lavi: Not sure about this, we could discuss :))))\n",
    "\n",
    "\n",
    "\n",
    "#### **Data cleaning**"
   ]
  },
  {
   "cell_type": "code",
   "execution_count": 2,
   "id": "personalized-state",
   "metadata": {},
   "outputs": [],
   "source": [
    "# Libraries to import\n",
    "\n",
    "from journal_API_wikidata import *\n",
    "import pandas as pd\n",
    "import numpy as np\n"
   ]
  },
  {
   "cell_type": "code",
   "execution_count": 1,
   "id": "rational-utilization",
   "metadata": {},
   "outputs": [
    {
     "data": {
      "text/plain": [
       "'\\nOf course the function should not be run here it would take too long but you can comment it out and \\nadd the cleaned version directly \\n'"
      ]
     },
     "execution_count": 1,
     "metadata": {},
     "output_type": "execute_result"
    }
   ],
   "source": [
    "# Here Lisa and Souche add the function, be careful it has to be documented I recommend using\n",
    "# Pycharm with easy documentation\n",
    "\n",
    "\"\"\"\n",
    "Of course the function should not be run here it would take too long but you can comment it out and \n",
    "add the cleaned version directly \n",
    "\"\"\""
   ]
  },
  {
   "cell_type": "markdown",
   "id": "infrared-discovery",
   "metadata": {},
   "source": [
    "#### **Addition of datasets**\n",
    "The following function allows us to add the country of origin of the newspappers in which the quotes may be found, this will be used to analyse the geographic tendencies of quoting different genders accross the world"
   ]
  },
  {
   "cell_type": "code",
   "execution_count": null,
   "id": "serious-layout",
   "metadata": {},
   "outputs": [],
   "source": [
    "# Here Lavi add function "
   ]
  },
  {
   "cell_type": "markdown",
   "id": "billion-walnut",
   "metadata": {},
   "source": [
    "#### **Basic data analysis**\n",
    "\n",
    "NOTE FOR US Check on the read me for plots and stuff to do:\n",
    "\n",
    "\n",
    "Comparison of number of male versus female quotes\n",
    "\n",
    "- Overall difference in count of males versus females, over all years.\n",
    "- Overall count of male versus female quotes, per year.\n",
    "- Overall count of male versus female quotes, per category.\n",
    "- Overall count of male versus female quotes, per year and per category.\n",
    "- Overall count of male versus female quotes, per country/geographical location.\n",
    "- Overall count of male versus female quotes, per year and per country/geographical location.\n",
    "\n",
    "Tests for statistical significance\n",
    "\n",
    "- Perform statistical tests to see if the difference between counts of males and females per year is statistically significant.\n",
    "- Perform statistical tests to see if the difference per year and per category is statistically significant.\n",
    "- Perform statistical tests to see if the difference per year and per location is statistically significant.\n"
   ]
  },
  {
   "cell_type": "code",
   "execution_count": null,
   "id": "ordered-machinery",
   "metadata": {},
   "outputs": [],
   "source": []
  }
 ],
 "metadata": {
  "kernelspec": {
   "display_name": "Python 3",
   "language": "python",
   "name": "python3"
  },
  "language_info": {
   "codemirror_mode": {
    "name": "ipython",
    "version": 3
   },
   "file_extension": ".py",
   "mimetype": "text/x-python",
   "name": "python",
   "nbconvert_exporter": "python",
   "pygments_lexer": "ipython3",
   "version": "3.8.10"
  }
 },
 "nbformat": 4,
 "nbformat_minor": 5
}

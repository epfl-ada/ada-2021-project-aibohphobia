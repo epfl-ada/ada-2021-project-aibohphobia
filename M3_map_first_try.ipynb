{
 "cells": [
  {
   "cell_type": "code",
   "execution_count": null,
   "id": "ed0bc714",
   "metadata": {},
   "outputs": [],
   "source": [
    "# Libraries to import\n",
    "import pandas as pd\n",
    "import numpy as np\n",
    "import matplotlib.pyplot as plt\n",
    "import seaborn as sns\n",
    "import scipy.stats as stats\n",
    "import pickle\n",
    "import geopandas\n",
    "import folium\n",
    "import json"
   ]
  },
  {
   "cell_type": "code",
   "execution_count": null,
   "id": "a59d8681",
   "metadata": {},
   "outputs": [],
   "source": [
    "DATA_PATH = './data/'\n",
    "DATA_PATH2020 = DATA_PATH + 'data_2020/'\n",
    "FILE2020 = DATA_PATH2020 + 'M3_df_2020_final.pkl'\n",
    "\n",
    "\n",
    "DATA_PATH = './data/'\n",
    "\n",
    "DATA_PATH2015 = DATA_PATH + 'data2015/'\n",
    "DATA_PATH2016 = DATA_PATH + 'data2016/'\n",
    "DATA_PATH2017 = DATA_PATH + 'data2017/'\n",
    "DATA_PATH2018 = DATA_PATH + 'data2018/'\n",
    "DATA_PATH2019 = DATA_PATH + 'data2019/'\n",
    "DATA_PATH2020 = DATA_PATH + 'data2020/'\n",
    "\n",
    "FILE2015 = DATA_PATH2015 + 'M3_df_2015_final.pkl'\n",
    "FILE2016 = DATA_PATH2016 + 'M3_df_2016_final.pkl'\n",
    "FILE2017 = DATA_PATH2017 + 'M3_df_2017_final.pkl'\n",
    "FILE2018 = DATA_PATH2018 + 'M3_df_2018_final.pkl'\n",
    "FILE2019 = DATA_PATH2019 + 'M3_df_2019_final.pkl'\n",
    "FILE2020 = DATA_PATH2020 + 'M3_df_2020_final.pkl'\n",
    "\n",
    "FILES = [FILE2015, FILE2016, FILE2017, FILE2018, FILE2019, FILE2020]"
   ]
  },
  {
   "cell_type": "code",
   "execution_count": null,
   "id": "977783d9",
   "metadata": {},
   "outputs": [],
   "source": [
    "with open(FILE2020, 'rb') as input_file:\n",
    "    df_2020_base = pickle.load(input_file)"
   ]
  },
  {
   "cell_type": "code",
   "execution_count": null,
   "id": "a820c165",
   "metadata": {},
   "outputs": [],
   "source": [
    "df_2020 = df_2020_base.copy()"
   ]
  },
  {
   "cell_type": "code",
   "execution_count": null,
   "id": "481a1de9",
   "metadata": {},
   "outputs": [],
   "source": [
    "df_2020.columns"
   ]
  },
  {
   "cell_type": "code",
   "execution_count": null,
   "id": "56030336",
   "metadata": {},
   "outputs": [],
   "source": [
    "with open(FILE2019, 'rb') as input_file:\n",
    "    df_2019_base = pickle.load(input_file)"
   ]
  },
  {
   "cell_type": "code",
   "execution_count": null,
   "id": "43bdcf8e",
   "metadata": {},
   "outputs": [],
   "source": [
    "df_2019 = df_2019_base.copy()"
   ]
  },
  {
   "cell_type": "code",
   "execution_count": null,
   "id": "020c76b1",
   "metadata": {},
   "outputs": [],
   "source": []
  },
  {
   "cell_type": "code",
   "execution_count": null,
   "id": "97d5052c",
   "metadata": {},
   "outputs": [],
   "source": [
    "def create_df_citizenship(df):\n",
    "    df_citizenship = df.groupby(['gender', 'citizenship'])['numOcurrences'].sum().sort_values(ascending=False).to_frame(name='numOccurences').reset_index()\n",
    "    return df_citizenship"
   ]
  },
  {
   "cell_type": "markdown",
   "id": "259490e0",
   "metadata": {},
   "source": [
    "## 2020"
   ]
  },
  {
   "cell_type": "code",
   "execution_count": null,
   "id": "608f60ea",
   "metadata": {},
   "outputs": [],
   "source": [
    "df_2020"
   ]
  },
  {
   "cell_type": "code",
   "execution_count": null,
   "id": "d9a20445",
   "metadata": {
    "scrolled": false
   },
   "outputs": [],
   "source": [
    "df_cit_2020 = create_df_citizenship(df_2020)\n",
    "df_cit_2020"
   ]
  },
  {
   "cell_type": "code",
   "execution_count": null,
   "id": "dc302e02",
   "metadata": {},
   "outputs": [],
   "source": [
    "df_cit_2020 = df_cit_2020.set_index(['citizenship', 'gender']).sort_values(['citizenship','gender'])"
   ]
  },
  {
   "cell_type": "code",
   "execution_count": null,
   "id": "8072b540",
   "metadata": {},
   "outputs": [],
   "source": [
    "idx = pd.IndexSlice\n",
    "df_cit_2020_f = df_cit_2020.loc[idx[:,'Female'],:].reset_index().drop(\"gender\",axis=1)\n",
    "df_cit_2020_f = df_cit_2020_f.rename({\"numOccurences\":\"numOccurences_female\"}, axis=1)\n",
    "df_cit_2020_f"
   ]
  },
  {
   "cell_type": "code",
   "execution_count": null,
   "id": "eb45bf13",
   "metadata": {},
   "outputs": [],
   "source": [
    "idx = pd.IndexSlice\n",
    "df_cit_2020_m = df_cit_2020.loc[idx[:,'Male'],:].reset_index().drop(\"gender\",axis=1)\n",
    "df_cit_2020_m = df_cit_2020_m.rename({\"numOccurences\":\"numOccurences_male\"}, axis=1)\n",
    "df_cit_2020_m"
   ]
  },
  {
   "cell_type": "code",
   "execution_count": null,
   "id": "8d6fdc18",
   "metadata": {},
   "outputs": [],
   "source": [
    "df_cit_2020_fm = pd.merge(df_cit_2020_m, df_cit_2020_f, on=\"citizenship\", how='outer', sort=True)"
   ]
  },
  {
   "cell_type": "code",
   "execution_count": null,
   "id": "7d8d2197",
   "metadata": {},
   "outputs": [],
   "source": [
    "df_cit_2020_fm[\"female>male_2020\"] = np.where(df_cit_2020_fm[\"numOccurences_male\"]<df_cit_2020_fm[\"numOccurences_male\"],1,0)"
   ]
  },
  {
   "cell_type": "code",
   "execution_count": null,
   "id": "e2b39b9b",
   "metadata": {},
   "outputs": [],
   "source": [
    "df_cit_2020_fm"
   ]
  },
  {
   "cell_type": "markdown",
   "id": "3a11afab",
   "metadata": {},
   "source": [
    "## 2019"
   ]
  },
  {
   "cell_type": "code",
   "execution_count": null,
   "id": "4e75b43e",
   "metadata": {},
   "outputs": [],
   "source": [
    "df_cit_2019 = create_df_citizenship(df_2019)"
   ]
  },
  {
   "cell_type": "code",
   "execution_count": null,
   "id": "4d38096e",
   "metadata": {},
   "outputs": [],
   "source": [
    "df_cit_2019 = df_cit_2019.set_index(['citizenship', 'gender']).sort_values(['citizenship','gender'])"
   ]
  },
  {
   "cell_type": "code",
   "execution_count": null,
   "id": "353c1da7",
   "metadata": {},
   "outputs": [],
   "source": [
    "idx = pd.IndexSlice\n",
    "df_cit_2019_f = df_cit_2019.loc[idx[:,'Female'],:].reset_index().drop(\"gender\",axis=1)\n",
    "df_cit_2019_f = df_cit_2019_f.rename({\"numOccurences\":\"numOccurences_female\"}, axis=1)"
   ]
  },
  {
   "cell_type": "code",
   "execution_count": null,
   "id": "424035cf",
   "metadata": {},
   "outputs": [],
   "source": [
    "idx = pd.IndexSlice\n",
    "df_cit_2019_m = df_cit_2019.loc[idx[:,'Male'],:].reset_index().drop(\"gender\",axis=1)\n",
    "df_cit_2019_m = df_cit_2019_m.rename({\"numOccurences\":\"numOccurences_male\"}, axis=1)"
   ]
  },
  {
   "cell_type": "code",
   "execution_count": null,
   "id": "12c647dc",
   "metadata": {},
   "outputs": [],
   "source": [
    "df_cit_2019_fm = pd.merge(df_cit_2019_m, df_cit_2019_f, on=\"citizenship\", how='outer', sort=True)"
   ]
  },
  {
   "cell_type": "code",
   "execution_count": null,
   "id": "924a62d6",
   "metadata": {},
   "outputs": [],
   "source": [
    "df_cit_2019_fm[\"female>male_2019\"] = np.where(df_cit_2019_fm[\"numOccurences_male\"]<df_cit_2019_fm[\"numOccurences_male\"],1,0)"
   ]
  },
  {
   "cell_type": "code",
   "execution_count": null,
   "id": "a3bac64a",
   "metadata": {},
   "outputs": [],
   "source": [
    "df_cit_2019_fm"
   ]
  },
  {
   "cell_type": "markdown",
   "id": "18440137",
   "metadata": {},
   "source": [
    "## Combine all years"
   ]
  },
  {
   "cell_type": "code",
   "execution_count": null,
   "id": "cf1064db",
   "metadata": {},
   "outputs": [],
   "source": [
    "df_cit_fm = pd.merge(df_cit_2019_fm[[\"citizenship\", \"female>male_2019\"]],\n",
    "                     df_cit_2020_fm[[\"citizenship\", \"female>male_2020\"]], on = \"citizenship\", how='outer')"
   ]
  },
  {
   "cell_type": "code",
   "execution_count": null,
   "id": "8b9b3cff",
   "metadata": {},
   "outputs": [],
   "source": [
    "df_cit_fm"
   ]
  },
  {
   "cell_type": "markdown",
   "id": "3ed46a38",
   "metadata": {},
   "source": [
    "## MAP"
   ]
  },
  {
   "cell_type": "code",
   "execution_count": null,
   "id": "6ca35615",
   "metadata": {},
   "outputs": [],
   "source": [
    "with open('./data/countries.geojson', 'rb') as input_file:\n",
    "    countries_json = json.load(input_file)"
   ]
  },
  {
   "cell_type": "raw",
   "id": "bf652360",
   "metadata": {},
   "source": [
    "my_map = folium.Map()\n",
    "\n",
    "choropleth = folium.Choropleth(\n",
    "    geo_data=countries_json,\n",
    "    name='choroplet',\n",
    "    data=df_cit_2020_fm,\n",
    "    columns=['citizenship','female>male_2020'],\n",
    "    key_on='feature.properties.ADMIN',\n",
    "    fill_opacity=1, \n",
    "    fill_color='YlGnBu',\n",
    "    line_opacity=1,\n",
    "    highlight=True,\n",
    "    smooth_factor=0\n",
    ").add_to(my_map)"
   ]
  },
  {
   "cell_type": "raw",
   "id": "46595935",
   "metadata": {},
   "source": [
    "style_function = \"font-size: 15px; font-weigth: bold\"\n",
    "choropleth.geojson.add_child(\n",
    "    folium.features.GeoJsonTooltip([\"ADMIN\"], style=style_function, labels=False))"
   ]
  },
  {
   "cell_type": "code",
   "execution_count": null,
   "id": "388b732a",
   "metadata": {},
   "outputs": [],
   "source": []
  },
  {
   "cell_type": "code",
   "execution_count": null,
   "id": "3acc3870",
   "metadata": {},
   "outputs": [],
   "source": [
    "my_map"
   ]
  },
  {
   "cell_type": "code",
   "execution_count": null,
   "id": "d6510ac4",
   "metadata": {},
   "outputs": [],
   "source": []
  },
  {
   "cell_type": "code",
   "execution_count": null,
   "id": "458c9da6",
   "metadata": {},
   "outputs": [],
   "source": [
    "from branca.colormap import linear\n",
    "\n",
    "my_map1 = folium.Map(tiles=None, overlay=False)\n",
    "\n",
    "\n",
    "feature_group0 = folium.FeatureGroup(name='2019',overlay=False).add_to(my_map1)\n",
    "feature_group1= folium.FeatureGroup(name='2020',overlay=False).add_to(my_map1)\n",
    "fs = [feature_group0,feature_group1]\n",
    "years = [\"female>male_2019\", \"female>male_2020\"]\n",
    "\n",
    "\n",
    "for i in range(len(years)): \n",
    "    choropleth1 = folium.Choropleth(\n",
    "    geo_data=countries_json,\n",
    "    name='choropleth',\n",
    "    data=df_cit_fm,\n",
    "    columns=['citizenship', years[i]],\n",
    "    key_on='feature.properties.ADMIN',\n",
    "    fill_color='YlGn',\n",
    "    nan_fill_color=\"black\",\n",
    "    fill_opacity=1,\n",
    "    line_opacity=1,\n",
    "    #legend_name='',\n",
    "    highlight=True,\n",
    "    line_color='black').geojson.add_to(fs[i])\n",
    "    \n",
    "  \n",
    "\n",
    "    #geojson for country labels\n",
    "    geojson1 = folium.GeoJson(data=countries_json,\n",
    "                              name='countries',\n",
    "                              smooth_factor=2,\n",
    "                              style_function=lambda x: {'color':'black','fillColor':'transparent','weight':0.5},\n",
    "                              tooltip=folium.GeoJsonTooltip(fields=['ADMIN'],\n",
    "                                                            labels=False,\n",
    "                                                            sticky=True),\n",
    "                              highlight_function=lambda x: {'weight':3,'fillColor':'grey'},\n",
    "                             ).add_to(choropleth1)\n",
    "    \n",
    "folium.LayerControl(collapsed=False).add_to(my_map1)\n",
    "\n",
    "'''\n",
    "colormap = linear.YlGn_09.scale(0,1)\n",
    "colormap.caption = 'Female speakers of citizenship more quoted than male'\n",
    "colormap.add_to(my_map1)\n",
    "'''\n",
    "\n",
    "\n",
    "import branca.colormap as cmp\n",
    "step = cmp.StepColormap(\n",
    " ['white', 'green'],\n",
    " vmin=0, vmax=1,\n",
    " index=[0,0.5,1],  #for change in the colors, not used fr linear\n",
    " caption='Female speakers of citizenship more quoted than male'\n",
    ")\n",
    "step.add_to(my_map1)\n",
    "\n"
   ]
  },
  {
   "cell_type": "code",
   "execution_count": null,
   "id": "31cc27b5",
   "metadata": {},
   "outputs": [],
   "source": [
    "my_map1"
   ]
  },
  {
   "cell_type": "code",
   "execution_count": null,
   "id": "ddc20685",
   "metadata": {},
   "outputs": [],
   "source": []
  }
 ],
 "metadata": {
  "kernelspec": {
   "display_name": "Python 3 (ipykernel)",
   "language": "python",
   "name": "python3"
  },
  "language_info": {
   "codemirror_mode": {
    "name": "ipython",
    "version": 3
   },
   "file_extension": ".py",
   "mimetype": "text/x-python",
   "name": "python",
   "nbconvert_exporter": "python",
   "pygments_lexer": "ipython3",
   "version": "3.9.7"
  }
 },
 "nbformat": 4,
 "nbformat_minor": 5
}

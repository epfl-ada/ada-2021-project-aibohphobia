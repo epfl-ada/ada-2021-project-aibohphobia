{
 "cells": [
  {
   "cell_type": "code",
   "execution_count": 1,
   "id": "234f8c33",
   "metadata": {},
   "outputs": [],
   "source": [
    "# Libraries to import\n",
    "import pandas as pd\n",
    "import numpy as np\n",
    "import matplotlib.pyplot as plt\n",
    "import seaborn as sns\n",
    "import scipy.stats as stats\n",
    "import pickle"
   ]
  },
  {
   "cell_type": "raw",
   "id": "7362897a",
   "metadata": {},
   "source": [
    "from M2_media_wikidata import *\n",
    "from M2_cleaning import *\n",
    "from M2_plots import *"
   ]
  },
  {
   "cell_type": "code",
   "execution_count": 2,
   "id": "1bd04356",
   "metadata": {},
   "outputs": [],
   "source": [
    "#Settings for the plots \n",
    "sns.set_style(\"ticks\")\n",
    "colors= sns.color_palette('colorblind')\n",
    "plt.rc('xtick', labelsize=14) \n",
    "plt.rc('ytick', labelsize=14) \n",
    "plt.rc('axes', titlesize=20)\n",
    "plt.rc('axes', labelsize=18)\n",
    "plt.rcParams['ytick.major.size'] = 7\n",
    "plt.rcParams['ytick.minor.size'] = 6\n",
    "\n",
    "sns.set_style(\"darkgrid\", {'axes.grid' : False, 'ytick.left': True, 'xtick.bottom': True})"
   ]
  },
  {
   "cell_type": "code",
   "execution_count": 13,
   "id": "3f393271",
   "metadata": {},
   "outputs": [],
   "source": [
    "DATA_PATH = './data/'\n",
    "DATA_PATH2020 = DATA_PATH + 'data_2020/'\n",
    "FILE2020 = DATA_PATH2020 + 'M3_df_2020_final.pkl'\n",
    "\n",
    "\n",
    "DATA_PATH = './data/'\n",
    "\n",
    "DATA_PATH2015 = DATA_PATH + 'data2015/'\n",
    "DATA_PATH2016 = DATA_PATH + 'data2016/'\n",
    "DATA_PATH2017 = DATA_PATH + 'data2017/'\n",
    "DATA_PATH2018 = DATA_PATH + 'data2018/'\n",
    "DATA_PATH2019 = DATA_PATH + 'data2019/'\n",
    "DATA_PATH2020 = DATA_PATH + 'data2020/'\n",
    "\n",
    "FILE2015 = DATA_PATH2015 + 'M3_df_2015_final.pkl'\n",
    "FILE2016 = DATA_PATH2016 + 'M3_df_2016_final.pkl'\n",
    "FILE2017 = DATA_PATH2017 + 'M3_df_2017_final.pkl'\n",
    "FILE2018 = DATA_PATH2018 + 'M3_df_2018_final.pkl'\n",
    "FILE2019 = DATA_PATH2019 + 'M3_df_2019_final.pkl'\n",
    "FILE2020 = DATA_PATH2020 + 'M3_df_2020_final.pkl'\n",
    "\n",
    "FILES = [FILE2015, FILE2016, FILE2017, FILE2018, FILE2019, FILE2020]"
   ]
  },
  {
   "cell_type": "code",
   "execution_count": 8,
   "id": "dca39763",
   "metadata": {},
   "outputs": [],
   "source": [
    "with open(FILE2015, 'rb') as input_file:\n",
    "    df_2015_base = pickle.load(input_file)"
   ]
  },
  {
   "cell_type": "code",
   "execution_count": 9,
   "id": "2dc812c8",
   "metadata": {},
   "outputs": [],
   "source": [
    "with open(FILE2016, 'rb') as input_file:\n",
    "    df_2016_base = pickle.load(input_file)"
   ]
  },
  {
   "cell_type": "code",
   "execution_count": 10,
   "id": "b2160384",
   "metadata": {},
   "outputs": [],
   "source": [
    "with open(FILE2017, 'rb') as input_file:\n",
    "    df_2017_base = pickle.load(input_file)"
   ]
  },
  {
   "cell_type": "code",
   "execution_count": 14,
   "id": "85bac128",
   "metadata": {},
   "outputs": [
    {
     "ename": "KeyboardInterrupt",
     "evalue": "",
     "output_type": "error",
     "traceback": [
      "\u001b[0;31m---------------------------------------------------------------------------\u001b[0m",
      "\u001b[0;31mKeyboardInterrupt\u001b[0m                         Traceback (most recent call last)",
      "\u001b[0;32m/var/folders/j9/h2f8ljxj1q15x5vkfkkmdz_80000gn/T/ipykernel_4233/1538484318.py\u001b[0m in \u001b[0;36m<module>\u001b[0;34m\u001b[0m\n\u001b[1;32m      1\u001b[0m \u001b[0;32mwith\u001b[0m \u001b[0mopen\u001b[0m\u001b[0;34m(\u001b[0m\u001b[0mFILE2018\u001b[0m\u001b[0;34m,\u001b[0m \u001b[0;34m'rb'\u001b[0m\u001b[0;34m)\u001b[0m \u001b[0;32mas\u001b[0m \u001b[0minput_file\u001b[0m\u001b[0;34m:\u001b[0m\u001b[0;34m\u001b[0m\u001b[0;34m\u001b[0m\u001b[0m\n\u001b[0;32m----> 2\u001b[0;31m     \u001b[0mdf_2018_base\u001b[0m \u001b[0;34m=\u001b[0m \u001b[0mpickle\u001b[0m\u001b[0;34m.\u001b[0m\u001b[0mload\u001b[0m\u001b[0;34m(\u001b[0m\u001b[0minput_file\u001b[0m\u001b[0;34m)\u001b[0m\u001b[0;34m\u001b[0m\u001b[0;34m\u001b[0m\u001b[0m\n\u001b[0m",
      "\u001b[0;32m/Applications/anaconda3/envs/adaproject/lib/python3.9/site-packages/pandas/core/internals/blocks.py\u001b[0m in \u001b[0;36mnew_block\u001b[0;34m(values, placement, ndim, klass)\u001b[0m\n\u001b[1;32m   1929\u001b[0m \u001b[0;34m\u001b[0m\u001b[0m\n\u001b[1;32m   1930\u001b[0m \u001b[0;34m\u001b[0m\u001b[0m\n\u001b[0;32m-> 1931\u001b[0;31m \u001b[0;32mdef\u001b[0m \u001b[0mnew_block\u001b[0m\u001b[0;34m(\u001b[0m\u001b[0mvalues\u001b[0m\u001b[0;34m,\u001b[0m \u001b[0mplacement\u001b[0m\u001b[0;34m,\u001b[0m \u001b[0;34m*\u001b[0m\u001b[0;34m,\u001b[0m \u001b[0mndim\u001b[0m\u001b[0;34m:\u001b[0m \u001b[0mint\u001b[0m\u001b[0;34m,\u001b[0m \u001b[0mklass\u001b[0m\u001b[0;34m=\u001b[0m\u001b[0;32mNone\u001b[0m\u001b[0;34m)\u001b[0m \u001b[0;34m->\u001b[0m \u001b[0mBlock\u001b[0m\u001b[0;34m:\u001b[0m\u001b[0;34m\u001b[0m\u001b[0;34m\u001b[0m\u001b[0m\n\u001b[0m\u001b[1;32m   1932\u001b[0m \u001b[0;34m\u001b[0m\u001b[0m\n\u001b[1;32m   1933\u001b[0m     \u001b[0;32mif\u001b[0m \u001b[0;32mnot\u001b[0m \u001b[0misinstance\u001b[0m\u001b[0;34m(\u001b[0m\u001b[0mplacement\u001b[0m\u001b[0;34m,\u001b[0m \u001b[0mBlockPlacement\u001b[0m\u001b[0;34m)\u001b[0m\u001b[0;34m:\u001b[0m\u001b[0;34m\u001b[0m\u001b[0;34m\u001b[0m\u001b[0m\n",
      "\u001b[0;31mKeyboardInterrupt\u001b[0m: "
     ]
    }
   ],
   "source": [
    "with open(FILE2018, 'rb') as input_file:\n",
    "    df_2018_base = pickle.load(input_file)"
   ]
  },
  {
   "cell_type": "code",
   "execution_count": null,
   "id": "817d01ca",
   "metadata": {},
   "outputs": [],
   "source": [
    "with open(FILE2019, 'rb') as input_file:\n",
    "    df_2019_base = pickle.load(input_file)"
   ]
  },
  {
   "cell_type": "code",
   "execution_count": null,
   "id": "90719610",
   "metadata": {},
   "outputs": [],
   "source": [
    "with open(FILE2020, 'rb') as input_file:\n",
    "    df_2020_base = pickle.load(input_file)"
   ]
  },
  {
   "cell_type": "code",
   "execution_count": 15,
   "id": "adb47e29",
   "metadata": {},
   "outputs": [],
   "source": [
    "df_2015 = df_2015_base.copy()"
   ]
  },
  {
   "cell_type": "code",
   "execution_count": 16,
   "id": "3f721e37",
   "metadata": {},
   "outputs": [],
   "source": [
    "df_2016 = df_2016_base.copy()"
   ]
  },
  {
   "cell_type": "code",
   "execution_count": 17,
   "id": "81357a58",
   "metadata": {},
   "outputs": [],
   "source": [
    "df_2017 = df_2017_base.copy()"
   ]
  },
  {
   "cell_type": "code",
   "execution_count": null,
   "id": "079d83ca",
   "metadata": {},
   "outputs": [],
   "source": [
    "df_2018 = df_2018_base.copy()"
   ]
  },
  {
   "cell_type": "code",
   "execution_count": null,
   "id": "763abcf3",
   "metadata": {},
   "outputs": [],
   "source": [
    "df_2019 = df_2019_base.copy()"
   ]
  },
  {
   "cell_type": "code",
   "execution_count": null,
   "id": "3eeb961e",
   "metadata": {},
   "outputs": [],
   "source": [
    "df_2020 = df_2020_base.copy()"
   ]
  },
  {
   "cell_type": "raw",
   "id": "8e3c4d4b",
   "metadata": {},
   "source": [
    "# Load QIDS to countries\n",
    "with open(DATA_PATH + 'qid_country.pkl', 'rb') as input_file:\n",
    "    qids_to_country = pickle.load(input_file)"
   ]
  },
  {
   "cell_type": "raw",
   "id": "823ace0f",
   "metadata": {},
   "source": [
    "countries_to_continent = pd.read_csv(DATA_PATH+'Countries_to_continent.csv', sep=';')"
   ]
  },
  {
   "cell_type": "markdown",
   "id": "c735b7e6",
   "metadata": {},
   "source": [
    "## Number of quotes depending on gender"
   ]
  },
  {
   "cell_type": "code",
   "execution_count": 24,
   "id": "a40240e7",
   "metadata": {},
   "outputs": [],
   "source": [
    "#change with num ocourrences instead of count \n",
    "def count_by_gender(df):\n",
    "    \"\"\"\n",
    "        Function compute the number of quotes depending on `gender`\n",
    "    :param df: dataframe \n",
    "    :return gender_count: dataframe of the number of quotes for one year\n",
    "    \"\"\"\n",
    "    year = 2015\n",
    "    #year = df['quoteID'][0][0:4]\n",
    "    gender_count = df.groupby(by=['gender'])['numOcurrences'].sum().to_frame(name=year).T\n",
    "    return gender_count"
   ]
  },
  {
   "cell_type": "code",
   "execution_count": 27,
   "id": "96a9c6f4",
   "metadata": {},
   "outputs": [
    {
     "data": {
      "text/html": [
       "<div>\n",
       "<style scoped>\n",
       "    .dataframe tbody tr th:only-of-type {\n",
       "        vertical-align: middle;\n",
       "    }\n",
       "\n",
       "    .dataframe tbody tr th {\n",
       "        vertical-align: top;\n",
       "    }\n",
       "\n",
       "    .dataframe thead th {\n",
       "        text-align: right;\n",
       "    }\n",
       "</style>\n",
       "<table border=\"1\" class=\"dataframe\">\n",
       "  <thead>\n",
       "    <tr style=\"text-align: right;\">\n",
       "      <th>gender</th>\n",
       "      <th>Female</th>\n",
       "      <th>Male</th>\n",
       "    </tr>\n",
       "  </thead>\n",
       "  <tbody>\n",
       "    <tr>\n",
       "      <th>2015</th>\n",
       "      <td>1865085</td>\n",
       "      <td>9274759</td>\n",
       "    </tr>\n",
       "  </tbody>\n",
       "</table>\n",
       "</div>"
      ],
      "text/plain": [
       "gender   Female     Male\n",
       "2015    1865085  9274759"
      ]
     },
     "execution_count": 27,
     "metadata": {},
     "output_type": "execute_result"
    }
   ],
   "source": [
    "count_by_gender(df_2017)"
   ]
  },
  {
   "cell_type": "code",
   "execution_count": 28,
   "id": "05c3230b",
   "metadata": {},
   "outputs": [],
   "source": [
    "def gather_all_years_to_one_df(df_list):\n",
    "    \"\"\"\n",
    "        Function to merge all the years in one dataframe\n",
    "    :param df: list of Dataframes \n",
    "    :return gender_count_all_years: dataframe of the number of quotes for all the years \n",
    "    :return year_list: list of years (integer format)\n",
    "    \"\"\"\n",
    "    gender_list = []\n",
    "    year_list = []\n",
    "    for df in df_list:\n",
    "        year = df['quoteID'][0][0:4]\n",
    "        gender_count = count_by_gender(df)\n",
    "        gender_list.append(gender_count)\n",
    "        year_list.append(int(year))\n",
    "    gender_count_all_years = pd.concat(gender_list)\n",
    "    return gender_count_all_years, year_list"
   ]
  },
  {
   "cell_type": "code",
   "execution_count": null,
   "id": "d89d64be",
   "metadata": {},
   "outputs": [],
   "source": [
    "def gender_all_years_extension(df_list):\n",
    "    \"\"\"\n",
    "        Function to add columns with the relative number of quotes for both gender for all the Dataframes in `df_list`\n",
    "    :param df_list: list of Dataframes \n",
    "    :return gender_all_years: DataFrame with added columns `% Female/Male` and the `year`\n",
    "    \"\"\"\n",
    "    gender_all_years, year_list = gather_all_years_to_one_df(df_list)\n",
    "    gender_all_years['percentage_female'] = gender_all_years['Female']/(gender_all_years['Female'] + gender_all_years['Male'])\n",
    "    gender_all_years['percentage_male'] = gender_all_years['Male']/(gender_all_years['Female'] + gender_all_years['Male'])\n",
    "    gender_all_years['year'] = year_list\n",
    "    return gender_all_years"
   ]
  },
  {
   "cell_type": "code",
   "execution_count": null,
   "id": "eada9ac7",
   "metadata": {},
   "outputs": [],
   "source": [
    "def plot_gender_all_years(gender_all_years):\n",
    "    \"\"\"\n",
    "        Function to plot the number of quotes depending on `gender`\n",
    "    :param gender_all_years: data frame with percentage of males/females\n",
    "    \"\"\"       \n",
    "    fig1 = (gender_all_years[['Male','Female']]/1000000).plot(kind='bar', title='Number of quotations depending on the gender in absolute value for each year', rot=0, xlabel='Years', ylabel='Number of quotations \\n [in Millions]', figsize=(16,6))\n",
    "    fig2 = gender_all_years[['percentage_male','percentage_female']].plot(kind='bar', title='Number of quotations depending on the gender in % for each year', rot=0, xlabel='Years', ylabel='% of quotations', figsize=(16,6))"
   ]
  },
  {
   "cell_type": "raw",
   "id": "1265672c",
   "metadata": {},
   "source": [
    "gender_all_years_extended = gender_all_years_extension(df_list)\n",
    "plot_gender_all_years(gender_all_years_extended)"
   ]
  },
  {
   "cell_type": "markdown",
   "id": "077a9446",
   "metadata": {},
   "source": [
    "## Number of quotes per age"
   ]
  },
  {
   "cell_type": "code",
   "execution_count": null,
   "id": "5a3bc240",
   "metadata": {},
   "outputs": [],
   "source": [
    "def create_df_agerange(df):\n",
    "    df_agerange = df_2020.groupby(['gender', 'age_range'])['numOcurrences'].sum().sort_values(ascending=False).to_frame(name='count').reset_index()\n",
    "    return df_agerange"
   ]
  },
  {
   "cell_type": "code",
   "execution_count": null,
   "id": "23d5d3d3",
   "metadata": {},
   "outputs": [],
   "source": [
    "def plot_quotes_age(df, age_threshold):\n",
    "    \"\"\"\n",
    "        Function to plot the number of quotes depending on `age_range` and `gender`\n",
    "    :param df: dataframe\n",
    "    :param age_threshold: consider only speakers with an age smaller than `age_threshold`\n",
    "    \"\"\"\n",
    "    f = plt.figure(figsize=(16,6))\n",
    "    ax = sns.barplot(data=df, x='age_range',y='count', hue='gender')\n",
    "    plt.xlabel('Age intervals')\n",
    "    plt.ylabel('Number of quotes')\n",
    "    #year = df['quoteID'][0][0:4]\n",
    "    #plt.title('Number of quotes depending on age and gender for the year '+ year)"
   ]
  },
  {
   "cell_type": "code",
   "execution_count": null,
   "id": "98ff6fb3",
   "metadata": {},
   "outputs": [],
   "source": [
    "df_agerange = create_df_agerange(df_2020)"
   ]
  },
  {
   "cell_type": "code",
   "execution_count": null,
   "id": "cdcdcf9f",
   "metadata": {},
   "outputs": [],
   "source": [
    "plot_quotes_age(df_agerange, age_threshold=100)"
   ]
  },
  {
   "cell_type": "markdown",
   "id": "d7032351",
   "metadata": {},
   "source": [
    "## Number of quotes per country of citizenship"
   ]
  },
  {
   "cell_type": "code",
   "execution_count": 29,
   "id": "1c5ed71d",
   "metadata": {},
   "outputs": [],
   "source": [
    "def create_df_citizenship(df):\n",
    "    df_citizenship = df.groupby(['gender', 'citizenship'])['numOcurrences'].sum().sort_values(ascending=False).to_frame(name='count').reset_index()\n",
    "    return df_citizenship"
   ]
  },
  {
   "cell_type": "code",
   "execution_count": 31,
   "id": "77426c3c",
   "metadata": {},
   "outputs": [],
   "source": [
    "df_2015_citizenship = create_df_citizenship(df_2015)"
   ]
  },
  {
   "cell_type": "code",
   "execution_count": 35,
   "id": "ab29bf3c",
   "metadata": {},
   "outputs": [
    {
     "data": {
      "text/html": [
       "<div>\n",
       "<style scoped>\n",
       "    .dataframe tbody tr th:only-of-type {\n",
       "        vertical-align: middle;\n",
       "    }\n",
       "\n",
       "    .dataframe tbody tr th {\n",
       "        vertical-align: top;\n",
       "    }\n",
       "\n",
       "    .dataframe thead th {\n",
       "        text-align: right;\n",
       "    }\n",
       "</style>\n",
       "<table border=\"1\" class=\"dataframe\">\n",
       "  <thead>\n",
       "    <tr style=\"text-align: right;\">\n",
       "      <th></th>\n",
       "      <th>gender</th>\n",
       "      <th>citizenship</th>\n",
       "      <th>count</th>\n",
       "    </tr>\n",
       "  </thead>\n",
       "  <tbody>\n",
       "    <tr>\n",
       "      <th>2</th>\n",
       "      <td>Female</td>\n",
       "      <td>United States of America</td>\n",
       "      <td>472100</td>\n",
       "    </tr>\n",
       "    <tr>\n",
       "      <th>7</th>\n",
       "      <td>Female</td>\n",
       "      <td>United Kingdom</td>\n",
       "      <td>119823</td>\n",
       "    </tr>\n",
       "    <tr>\n",
       "      <th>10</th>\n",
       "      <td>Female</td>\n",
       "      <td>Australia</td>\n",
       "      <td>72700</td>\n",
       "    </tr>\n",
       "    <tr>\n",
       "      <th>16</th>\n",
       "      <td>Female</td>\n",
       "      <td>Canada</td>\n",
       "      <td>37852</td>\n",
       "    </tr>\n",
       "    <tr>\n",
       "      <th>19</th>\n",
       "      <td>Female</td>\n",
       "      <td>India</td>\n",
       "      <td>29790</td>\n",
       "    </tr>\n",
       "    <tr>\n",
       "      <th>...</th>\n",
       "      <td>...</td>\n",
       "      <td>...</td>\n",
       "      <td>...</td>\n",
       "    </tr>\n",
       "    <tr>\n",
       "      <th>591</th>\n",
       "      <td>Female</td>\n",
       "      <td>Liang dynasty</td>\n",
       "      <td>1</td>\n",
       "    </tr>\n",
       "    <tr>\n",
       "      <th>592</th>\n",
       "      <td>Female</td>\n",
       "      <td>French Indochina</td>\n",
       "      <td>1</td>\n",
       "    </tr>\n",
       "    <tr>\n",
       "      <th>593</th>\n",
       "      <td>Female</td>\n",
       "      <td>Transnistria</td>\n",
       "      <td>1</td>\n",
       "    </tr>\n",
       "    <tr>\n",
       "      <th>594</th>\n",
       "      <td>Female</td>\n",
       "      <td>Holland</td>\n",
       "      <td>1</td>\n",
       "    </tr>\n",
       "    <tr>\n",
       "      <th>595</th>\n",
       "      <td>Female</td>\n",
       "      <td>Niger</td>\n",
       "      <td>1</td>\n",
       "    </tr>\n",
       "  </tbody>\n",
       "</table>\n",
       "<p>243 rows × 3 columns</p>\n",
       "</div>"
      ],
      "text/plain": [
       "     gender               citizenship   count\n",
       "2    Female  United States of America  472100\n",
       "7    Female            United Kingdom  119823\n",
       "10   Female                 Australia   72700\n",
       "16   Female                    Canada   37852\n",
       "19   Female                     India   29790\n",
       "..      ...                       ...     ...\n",
       "591  Female             Liang dynasty       1\n",
       "592  Female          French Indochina       1\n",
       "593  Female              Transnistria       1\n",
       "594  Female                   Holland       1\n",
       "595  Female                     Niger       1\n",
       "\n",
       "[243 rows x 3 columns]"
      ]
     },
     "execution_count": 35,
     "metadata": {},
     "output_type": "execute_result"
    }
   ],
   "source": [
    "df_2015_citizenship[df_2015_citizenship[\"gender\"]==\"Female\"]"
   ]
  },
  {
   "cell_type": "code",
   "execution_count": null,
   "id": "36a40a2e",
   "metadata": {},
   "outputs": [],
   "source": [
    "def plot_quotes_country(df_citizenship, threshold_nber):\n",
    "    \"\"\"\n",
    "        Function to plot the number of quotes depending on `citizenship` and `gender`\n",
    "    :param df: dataframe\n",
    "    :param threshold_nber: consider only countries of citizenship for which there is at least `threshold_nber` of quotes\n",
    "    \"\"\"\n",
    "    f = plt.figure(figsize=(18,6))\n",
    "    ax = sns.barplot(data=df_citizenship[df_citizenship['count']>threshold_nber], x='citizenship',y='count', hue='gender')\n",
    "    plt.xlabel('Citizenship')\n",
    "    plt.ylabel('Number of quotes')\n",
    "    plt.legend(loc = 'upper right')\n",
    "    #year = df_citizenship['quoteID'][0][0:4]\n",
    "    #plt.title('Number of quotes above '+ str(threshold_nber) +' depending on gender and citizenship for the year '+year)\n",
    "    locs, labels = plt.xticks()\n",
    "    plt.setp(labels, rotation=90)\n",
    "    ax.set_yscale('log')"
   ]
  },
  {
   "cell_type": "code",
   "execution_count": null,
   "id": "01f43a11",
   "metadata": {},
   "outputs": [],
   "source": [
    "df_citizenship = create_df_citizenship(df_2020)"
   ]
  },
  {
   "cell_type": "code",
   "execution_count": null,
   "id": "60c413f3",
   "metadata": {},
   "outputs": [],
   "source": [
    "plot_quotes_country(df_citizenship, threshold_nber=300)"
   ]
  },
  {
   "cell_type": "markdown",
   "id": "650b4365",
   "metadata": {},
   "source": [
    "## Numer of quotes per continent"
   ]
  },
  {
   "cell_type": "code",
   "execution_count": null,
   "id": "c0600ba6",
   "metadata": {},
   "outputs": [],
   "source": [
    "def create_df_continent(df):\n",
    "    df_continent = df_2020.groupby(['gender', 'Continent'])['numOcurrences'].sum().sort_values(ascending=False).to_frame(name='count').reset_index()\n",
    "    return df_continent"
   ]
  },
  {
   "cell_type": "code",
   "execution_count": null,
   "id": "aa165549",
   "metadata": {},
   "outputs": [],
   "source": [
    "def plot_quotes_continent(df):\n",
    "    \"\"\"\n",
    "        Function to plot the number of quotes depending on `continent` and `gender`\n",
    "    :param df: dataframe\n",
    "    \"\"\"\n",
    "    f = plt.figure(figsize=(12,6))\n",
    "    ax = sns.barplot(data=df, x='Continent', y='count', hue='gender')\n",
    "    plt.xlabel('Continent')\n",
    "    plt.ylabel('Number of quotes')\n",
    "    #year = df['quoteID'][0][0:4]\n",
    "    #plt.title('Number of quotes depending on gender and continent for the year '+year)"
   ]
  },
  {
   "cell_type": "code",
   "execution_count": null,
   "id": "2966b208",
   "metadata": {},
   "outputs": [],
   "source": [
    "df_continent = create_df_continent(df_2020)"
   ]
  },
  {
   "cell_type": "code",
   "execution_count": null,
   "id": "532ee045",
   "metadata": {},
   "outputs": [],
   "source": [
    "plot_quotes_continent(df_continent)"
   ]
  },
  {
   "cell_type": "markdown",
   "id": "4880f8ed",
   "metadata": {},
   "source": [
    "## Number of quotes depending on length of quotes"
   ]
  },
  {
   "cell_type": "code",
   "execution_count": null,
   "id": "e9e4abd4",
   "metadata": {},
   "outputs": [],
   "source": [
    "### Plot length of quotes\n",
    "def plot_quotes_distribution(df):\n",
    "    \"\"\"\n",
    "        Function to plot the distribution of the quotes length depending on `gender`\n",
    "    :param df: dataframe\n",
    "    \"\"\" \n",
    "    f = plt.figure(figsize=(14,6))\n",
    "    f = sns.histplot(data = df, y='quotation_length', hue='gender', bins=200, alpha=0.8, log_scale = [True,False], \n",
    "                     hue_order = ['Female', 'Male'], palette=[colors[1], colors[0]])\n",
    "    plt.ylabel('Quotation length')\n",
    "    #year = df['quoteID'][0][0:4]\n",
    "    #plt.title('Quotation length distribution per gender for the year '+year)\n",
    "    plt.show()\n",
    "    \n",
    "def plot_avg_quotes_length(df, conf_int):\n",
    "    \"\"\"\n",
    "        Function to plot average length of quotes and confidence intervals depending on `gender`\n",
    "    :param df: dataframe \n",
    "    :param conf_int: confidence interval for the plot\n",
    "    \"\"\"\n",
    "    f = plt.figure(figsize=(8,10))\n",
    "    sns.catplot(data = df, x='gender', y='quotation_length', kind='bar', height=5, aspect=0.8, ci=conf_int)\n",
    "    #year = df['quoteID'][0][0:4]\n",
    "    #plt.title('Average quotation length depending on gender for the year '+ year)\n",
    "    plt.ylabel('Quotation length')\n",
    "    plt.tight_layout()\n",
    "    #plt.ylim(113,126)\n",
    "    plt.show()"
   ]
  },
  {
   "cell_type": "code",
   "execution_count": null,
   "id": "8a361239",
   "metadata": {},
   "outputs": [],
   "source": [
    "plot_quotes_distribution(df_2020)"
   ]
  },
  {
   "cell_type": "code",
   "execution_count": null,
   "id": "a366b2d5",
   "metadata": {},
   "outputs": [],
   "source": [
    "plot_avg_quotes_length(df_2020, conf_int=95)"
   ]
  },
  {
   "cell_type": "markdown",
   "id": "704f5120",
   "metadata": {},
   "source": [
    "## Number of quotes per media"
   ]
  },
  {
   "cell_type": "code",
   "execution_count": 36,
   "id": "f1be53c3",
   "metadata": {},
   "outputs": [],
   "source": [
    "def create_df_media(df):\n",
    "    df_sitenames_explode = df.explode(\"sitenames\")\n",
    "    df_sitenames = df_sitenames_explode.groupby([\"sitenames\",\"gender\"]).quoteID.count().to_frame(name=\"count\").sort_values(['count'],ascending=False).reset_index()\n",
    "    return df_sitenames"
   ]
  },
  {
   "cell_type": "code",
   "execution_count": 37,
   "id": "84655df5",
   "metadata": {},
   "outputs": [
    {
     "data": {
      "text/html": [
       "<div>\n",
       "<style scoped>\n",
       "    .dataframe tbody tr th:only-of-type {\n",
       "        vertical-align: middle;\n",
       "    }\n",
       "\n",
       "    .dataframe tbody tr th {\n",
       "        vertical-align: top;\n",
       "    }\n",
       "\n",
       "    .dataframe thead th {\n",
       "        text-align: right;\n",
       "    }\n",
       "</style>\n",
       "<table border=\"1\" class=\"dataframe\">\n",
       "  <thead>\n",
       "    <tr style=\"text-align: right;\">\n",
       "      <th></th>\n",
       "      <th>sitenames</th>\n",
       "      <th>gender</th>\n",
       "      <th>count</th>\n",
       "    </tr>\n",
       "  </thead>\n",
       "  <tbody>\n",
       "    <tr>\n",
       "      <th>0</th>\n",
       "      <td>yahoo</td>\n",
       "      <td>Male</td>\n",
       "      <td>684832</td>\n",
       "    </tr>\n",
       "    <tr>\n",
       "      <th>1</th>\n",
       "      <td>wikia</td>\n",
       "      <td>Male</td>\n",
       "      <td>318873</td>\n",
       "    </tr>\n",
       "    <tr>\n",
       "      <th>2</th>\n",
       "      <td>msn</td>\n",
       "      <td>Male</td>\n",
       "      <td>258520</td>\n",
       "    </tr>\n",
       "    <tr>\n",
       "      <th>3</th>\n",
       "      <td>theguardian</td>\n",
       "      <td>Male</td>\n",
       "      <td>228170</td>\n",
       "    </tr>\n",
       "    <tr>\n",
       "      <th>4</th>\n",
       "      <td>reuters</td>\n",
       "      <td>Male</td>\n",
       "      <td>197001</td>\n",
       "    </tr>\n",
       "    <tr>\n",
       "      <th>...</th>\n",
       "      <td>...</td>\n",
       "      <td>...</td>\n",
       "      <td>...</td>\n",
       "    </tr>\n",
       "    <tr>\n",
       "      <th>182</th>\n",
       "      <td>riotimesonline</td>\n",
       "      <td>Female</td>\n",
       "      <td>104</td>\n",
       "    </tr>\n",
       "    <tr>\n",
       "      <th>183</th>\n",
       "      <td>manoramaonline</td>\n",
       "      <td>Male</td>\n",
       "      <td>50</td>\n",
       "    </tr>\n",
       "    <tr>\n",
       "      <th>184</th>\n",
       "      <td>baltictimes</td>\n",
       "      <td>Female</td>\n",
       "      <td>31</td>\n",
       "    </tr>\n",
       "    <tr>\n",
       "      <th>185</th>\n",
       "      <td>sny</td>\n",
       "      <td>Female</td>\n",
       "      <td>23</td>\n",
       "    </tr>\n",
       "    <tr>\n",
       "      <th>186</th>\n",
       "      <td>manoramaonline</td>\n",
       "      <td>Female</td>\n",
       "      <td>23</td>\n",
       "    </tr>\n",
       "  </tbody>\n",
       "</table>\n",
       "<p>187 rows × 3 columns</p>\n",
       "</div>"
      ],
      "text/plain": [
       "          sitenames  gender   count\n",
       "0             yahoo    Male  684832\n",
       "1             wikia    Male  318873\n",
       "2               msn    Male  258520\n",
       "3       theguardian    Male  228170\n",
       "4           reuters    Male  197001\n",
       "..              ...     ...     ...\n",
       "182  riotimesonline  Female     104\n",
       "183  manoramaonline    Male      50\n",
       "184     baltictimes  Female      31\n",
       "185             sny  Female      23\n",
       "186  manoramaonline  Female      23\n",
       "\n",
       "[187 rows x 3 columns]"
      ]
     },
     "execution_count": 37,
     "metadata": {},
     "output_type": "execute_result"
    }
   ],
   "source": [
    "create_df_media(df_2015)"
   ]
  },
  {
   "cell_type": "code",
   "execution_count": null,
   "id": "cfbde068",
   "metadata": {},
   "outputs": [],
   "source": [
    "def plot_quotes_media(df_sitenames, threshold_nber): \n",
    "    \"\"\"\n",
    "        Function to plot the number of quotes depending on `gender` and `media_country`\n",
    "    :param df: dataframe \n",
    "    \"\"\"\n",
    "    f = plt.figure(figsize=(18,6))\n",
    "    ax = sns.barplot(data=df_sitenames[df_sitenames['count']>threshold_nber], x='sitenames',y='count', hue='gender')\n",
    "    locs, labels = plt.xticks();\n",
    "    plt.setp(labels, rotation=90);\n",
    "    plt.xlabel(\"Famous media\")\n",
    "    plt.ylabel('Number of quotes')\n",
    "    #year = df['quoteID'][0][0:4]\n",
    "    #plt.title(\"Number of quotes depending on gender and media's country for the year \"+year)"
   ]
  },
  {
   "cell_type": "code",
   "execution_count": null,
   "id": "b56b083f",
   "metadata": {},
   "outputs": [],
   "source": [
    "df_sitenames = create_df_media(df_2020)"
   ]
  },
  {
   "cell_type": "code",
   "execution_count": null,
   "id": "60dcb9d0",
   "metadata": {},
   "outputs": [],
   "source": [
    "plot_quotes_media(df_sitenames, threshold_nber=1000)"
   ]
  },
  {
   "cell_type": "markdown",
   "id": "f485d953",
   "metadata": {},
   "source": [
    "## Number of quotes per category"
   ]
  },
  {
   "cell_type": "code",
   "execution_count": null,
   "id": "9f7b912b",
   "metadata": {},
   "outputs": [],
   "source": [
    "def create_df_categories(df):\n",
    "    df_tags_explode = df.explode(\"tags\").explode(\"tags\")\n",
    "    df_tags = df_tags_explode.groupby([\"tags\",\"gender\"]).quoteID.count().to_frame(name=\"count\").sort_values(['count'],ascending=False).reset_index()\n",
    "    return df_tags"
   ]
  },
  {
   "cell_type": "code",
   "execution_count": null,
   "id": "66da2147",
   "metadata": {},
   "outputs": [],
   "source": [
    "def plot_quotes_categories(df_tags):\n",
    "    \"\"\"\n",
    "        Function to plot the number of quotes depending on `tags` and `gender`\n",
    "    :param df: dataframe \n",
    "    \"\"\"\n",
    "    #create plot\n",
    "    f = plt.figure(figsize=(18,6))\n",
    "    ax = sns.barplot(data=df_tags, x='tags',y='count', hue='gender')\n",
    "    plt.xlabel('Category')\n",
    "    plt.ylabel('Number of quotes')\n",
    "    ax.set_yscale('log')\n",
    "    #year = df['quoteID'][0][0:4]\n",
    "    #plt.title('Number of quotes depending on gender and media for the year '+year)\n",
    "    locs, labels = plt.xticks()\n",
    "    plt.setp(labels, rotation=45,  horizontalalignment='right')"
   ]
  },
  {
   "cell_type": "code",
   "execution_count": null,
   "id": "ddaac6e5",
   "metadata": {},
   "outputs": [],
   "source": [
    "df_tags = create_df_categories(df_2020)"
   ]
  },
  {
   "cell_type": "code",
   "execution_count": null,
   "id": "5450740f",
   "metadata": {},
   "outputs": [],
   "source": [
    "plot_quotes_categories(df_tags)"
   ]
  },
  {
   "cell_type": "markdown",
   "id": "86ae4d53",
   "metadata": {},
   "source": [
    "#### Number of quotes per media's country location"
   ]
  },
  {
   "cell_type": "code",
   "execution_count": null,
   "id": "93bfcf8a",
   "metadata": {},
   "outputs": [],
   "source": [
    "df_2020"
   ]
  },
  {
   "cell_type": "code",
   "execution_count": null,
   "id": "5440f1dd",
   "metadata": {},
   "outputs": [],
   "source": [
    "def create_df_media_country(df):\n",
    "    df_media_country_explode = df.explode(\"media_country\")\n",
    "    df_media_country = df_media_country_explode.groupby([\"media_country\",\"gender\"]).quoteID.count().to_frame(name=\"count\").sort_values(['count'],ascending=False).reset_index()\n",
    "    return df_media_country"
   ]
  },
  {
   "cell_type": "code",
   "execution_count": null,
   "id": "edca73b1",
   "metadata": {},
   "outputs": [],
   "source": [
    "def plot_quotes_media_country(df_media_country):\n",
    "    \"\"\"\n",
    "        Function to plot the number of quotes depending on `gender` and `media_country`\n",
    "    :param df: dataframe \n",
    "    \"\"\"    \n",
    "    f = plt.figure(figsize=(12,6))\n",
    "    ax = sns.barplot(data=df_media_country, x='media_country',y='count', hue='gender')\n",
    "    plt.xlabel(\"Top media's country\")\n",
    "    plt.ylabel('Number of quotes')\n",
    "    #year = df['quoteID'][0][0:4]\n",
    "    #plt.title(\"Number of quotes depending on gender and media's country for the year \"+year)\n",
    "    locs, labels = plt.xticks()\n",
    "    plt.setp(labels, rotation=45,  horizontalalignment='right')"
   ]
  },
  {
   "cell_type": "code",
   "execution_count": null,
   "id": "06c6e839",
   "metadata": {},
   "outputs": [],
   "source": [
    "df_media_country = create_df_media_country(df_2020)"
   ]
  },
  {
   "cell_type": "code",
   "execution_count": null,
   "id": "37af1e40",
   "metadata": {},
   "outputs": [],
   "source": [
    "plot_quotes_media_country(df_media_country)"
   ]
  },
  {
   "cell_type": "markdown",
   "id": "ab81cd56",
   "metadata": {},
   "source": [
    "print the name of the media in label also?"
   ]
  },
  {
   "cell_type": "code",
   "execution_count": null,
   "id": "a8228cd1",
   "metadata": {},
   "outputs": [],
   "source": []
  }
 ],
 "metadata": {
  "kernelspec": {
   "display_name": "Python 3 (ipykernel)",
   "language": "python",
   "name": "python3"
  },
  "language_info": {
   "codemirror_mode": {
    "name": "ipython",
    "version": 3
   },
   "file_extension": ".py",
   "mimetype": "text/x-python",
   "name": "python",
   "nbconvert_exporter": "python",
   "pygments_lexer": "ipython3",
   "version": "3.9.7"
  }
 },
 "nbformat": 4,
 "nbformat_minor": 5
}

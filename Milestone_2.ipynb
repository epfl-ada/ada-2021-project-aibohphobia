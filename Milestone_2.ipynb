{
 "cells": [
  {
   "cell_type": "markdown",
   "id": "8d5ed22f-7f72-4be0-a9bd-d06986aae154",
   "metadata": {},
   "source": [
    "## Milestone 2: Hand in \n",
    "\n",
    "\n",
    "In this notebook we start the project regarding **The representation of women in media**\n",
    "\n",
    "This notebook includes:\n",
    "- the data cleaning process\n",
    "- the merging with additional datasets\n",
    "- the basic data analysis including plots\n",
    "\n",
    "*Note*: In order to limit the computation, we only kept the quotations of 2019. Of course, in order to add the time dependent analysis we would need to include the quotes of each year.\n",
    "\n",
    "\n",
    "Let us remind ourselves of some of the **research questions** we wish to answer:\n",
    "\n",
    "- Is the representation **equal between males and females** in media?\n",
    "- How does the distribution of quotes based on gender vary across countries and across domains?\n",
    "- How does the distribution of quotes between genders evolve in time, geographically and thematically?\n",
    "- Is there a tendency in each category for a males to have **longer quotes** than females?\n",
    "- Are males more likely to be **quoted in highly respected media**?\n",
    "- Are there any **blind spots** in media where females are especially neglected?\n",
    "- Is there a difference in how females/males at a certain **age** are quoted?\n",
    "- Are countries known to promote gender equality more likely to reflect this in media compared to the rest of the world   \n",
    "\n",
    "\n",
    "Extra ideas (draft selene):\n",
    "- Can we identify speakers who were quoted and that triggered a change in trend? Example: a woman is quoted once as she talks about topic A. After that we see an increase of women quoted talking about topic A ? Like some turning points in media? \n",
    "------> Comment Lavi: Not sure about this, we could discuss :))))\n",
    "\n",
    "\n",
    "\n",
    "#### **Data cleaning**"
   ]
  },
  {
   "cell_type": "markdown",
   "id": "902f7a06",
   "metadata": {},
   "source": [
    "# Import packages"
   ]
  },
  {
   "cell_type": "markdown",
   "id": "5b14a6af",
   "metadata": {},
   "source": [
    "### LAVI"
   ]
  },
  {
   "cell_type": "code",
   "execution_count": 2,
   "id": "7506cfd0-3d72-45fa-9177-cd64865599c2",
   "metadata": {},
   "outputs": [],
   "source": [
    "# Libraries to import\n",
    "\n",
    "from journal_API_wikidata import *\n",
    "import pandas as pd\n",
    "import numpy as np\n"
   ]
  },
  {
   "cell_type": "markdown",
   "id": "8ff377a7",
   "metadata": {},
   "source": [
    "# Load cleaned data"
   ]
  },
  {
   "cell_type": "markdown",
   "id": "6a181dcb",
   "metadata": {},
   "source": [
    "### LAVI (cleaning process in another notebook)\n",
    "with the wikidata_utils process"
   ]
  },
  {
   "cell_type": "markdown",
   "id": "17431e56",
   "metadata": {},
   "source": [
    "Check for inconsistency"
   ]
  },
  {
   "cell_type": "markdown",
   "id": "4c3bd8d5-5a18-40a0-b624-3fea673e04ba",
   "metadata": {},
   "source": [
    "#### **Addition of datasets**\n",
    "The following function allows us to add the country of origin of the newspappers in which the quotes may be found, this will be used to analyse the geographic tendencies of quoting different genders accross the world"
   ]
  },
  {
   "cell_type": "markdown",
   "id": "30d573de",
   "metadata": {},
   "source": [
    "- Media countries (Lavi)\n",
    "- Countries to continent"
   ]
  },
  {
   "cell_type": "markdown",
   "id": "5c9618b2",
   "metadata": {},
   "source": [
    "# Analysis"
   ]
  },
  {
   "cell_type": "markdown",
   "id": "d6f092b8",
   "metadata": {},
   "source": [
    "## Number of quotes per gender"
   ]
  },
  {
   "cell_type": "markdown",
   "id": "c7e75330",
   "metadata": {},
   "source": [
    "#### In absolute value"
   ]
  },
  {
   "cell_type": "code",
   "execution_count": null,
   "id": "7899f173",
   "metadata": {},
   "outputs": [],
   "source": [
    "#do not create a new dataframe, motify what's next \n",
    "gender_count = df_2016.groupby(by=['gender'])['quoteID'].count().to_frame(name='count')\n",
    "#use seaborn instead of plt\n",
    "axs = gender_count.plot(kind='bar', title='Number of quotes depending on the gender', rot=0)"
   ]
  },
  {
   "cell_type": "markdown",
   "id": "b39967d6",
   "metadata": {},
   "source": [
    "#### In relative value"
   ]
  },
  {
   "cell_type": "code",
   "execution_count": null,
   "id": "7802510d",
   "metadata": {},
   "outputs": [],
   "source": []
  },
  {
   "cell_type": "markdown",
   "id": "d912d560",
   "metadata": {},
   "source": [
    "##### Statistical tests over the years"
   ]
  },
  {
   "cell_type": "code",
   "execution_count": null,
   "id": "ac95f6ea",
   "metadata": {},
   "outputs": [],
   "source": []
  },
  {
   "cell_type": "markdown",
   "id": "310470ca",
   "metadata": {},
   "source": [
    "## Age"
   ]
  },
  {
   "cell_type": "code",
   "execution_count": null,
   "id": "a192db83",
   "metadata": {},
   "outputs": [],
   "source": [
    "def dateofbirth_to_timestamp(df):\n",
    "    df['date_of_birth'] = extract_element_from_series(df['date_of_birth'])\n",
    "    df['date_of_birth'] = df['date_of_birth'].replace(to_replace='[\\+Z]',value='', regex=True)                                                                              \n",
    "    df['date_of_birth'] = pd.to_datetime(df['date_of_birth'], format='%Y-%m-%dT%H:%M:%S', errors='coerce')\n",
    "    return df"
   ]
  },
  {
   "cell_type": "code",
   "execution_count": null,
   "id": "771cc024",
   "metadata": {},
   "outputs": [],
   "source": [
    "def compute_age(df):\n",
    "    now = pd.to_datetime('now')\n",
    "    df['age'] = (now.year - df.date_of_birth.dt.year) - ((now.month - df.date_of_birth.dt.month) < 0)\n",
    "    return df"
   ]
  },
  {
   "cell_type": "code",
   "execution_count": null,
   "id": "4c4b35ff",
   "metadata": {},
   "outputs": [],
   "source": [
    "def compute_age_range(df):\n",
    "    bins = np.arange(0,110,step=10)\n",
    "    df[\"age_range\"] = pd.cut(df[\"age\"], bins)\n",
    "    return df"
   ]
  },
  {
   "cell_type": "code",
   "execution_count": null,
   "id": "9abc4122",
   "metadata": {},
   "outputs": [],
   "source": [
    "#do a function\n",
    "f = plt.figure(figsize=(16,6))\n",
    "sns.histplot(data = df_2016[df_2016[\"age\"]<100], x=\"age\", hue = \"gender\",\n",
    "             multiple=\"dodge\", shrink=.8, discrete=True, binwidth=0.4)\n",
    "locs, labels = plt.xticks()\n",
    "plt.setp(labels, rotation=90);"
   ]
  },
  {
   "cell_type": "markdown",
   "id": "e5ed8a8e",
   "metadata": {},
   "source": [
    "## Countries"
   ]
  },
  {
   "cell_type": "code",
   "execution_count": null,
   "id": "1619f77a",
   "metadata": {},
   "outputs": [],
   "source": [
    "f = plt.figure(figsize=(16,6))\n",
    "sns.histplot(data = df_2016, x=\"citizenship\", element='bars', hue = \"gender\",\n",
    "             multiple=\"dodge\", shrink=.8, discrete=True, fill=True, binwidth=0.4)\n",
    "locs, labels = plt.xticks()\n",
    "plt.setp(labels, rotation=90);\n",
    "#find a way to represent only contries for which there is more than x quotes"
   ]
  },
  {
   "cell_type": "code",
   "execution_count": null,
   "id": "cf11038b",
   "metadata": {},
   "outputs": [],
   "source": [
    "gender_citizenship_count = df_2016.groupby(['gender', 'citizenship'])['quoteID'].count().to_frame(name='count')\n",
    "gender_citizenship_count"
   ]
  },
  {
   "cell_type": "markdown",
   "id": "03900340",
   "metadata": {},
   "source": [
    "## Continents"
   ]
  },
  {
   "cell_type": "code",
   "execution_count": null,
   "id": "86587e59",
   "metadata": {},
   "outputs": [],
   "source": [
    "df = pd.merge(df, countries_to_continent, left_on='citizenship', right_on='Country', copy=False)\n",
    "df = df.drop('Country', axis=1)\n",
    "df"
   ]
  },
  {
   "cell_type": "code",
   "execution_count": null,
   "id": "8ab7aadd",
   "metadata": {},
   "outputs": [],
   "source": [
    "f = plt.figure(figsize=(16,6))\n",
    "sns.histplot(data = df_2016, x=\"Continent\", element='bars', hue = \"gender\",\n",
    "             multiple=\"dodge\", shrink=.8, discrete=True, fill=True, binwidth=0.4)\n",
    "\n",
    "#, thresh=1, palette=[colors[6], colors[-1]]) \n",
    "#axs.set_xticklabels(f.get_xticklabels(), rotation=0, horizontalalignment='right');\n",
    "locs, labels = plt.xticks()\n",
    "plt.setp(labels, rotation=90);"
   ]
  },
  {
   "cell_type": "code",
   "execution_count": null,
   "id": "6ee60b60",
   "metadata": {},
   "outputs": [],
   "source": [
    "gender_continent_count = gender_continent.groupby(['gender', 'Continent'])['quoteID'].count().to_frame(name='count')\n",
    "gender_continent_count"
   ]
  },
  {
   "cell_type": "markdown",
   "id": "42ce8eba",
   "metadata": {},
   "source": [
    "## Length of quotes"
   ]
  },
  {
   "cell_type": "code",
   "execution_count": null,
   "id": "2120f528",
   "metadata": {},
   "outputs": [],
   "source": []
  },
  {
   "cell_type": "markdown",
   "id": "e6ba9980",
   "metadata": {},
   "source": [
    "## Quotes per journals"
   ]
  },
  {
   "cell_type": "markdown",
   "id": "5fc937b7-6b08-41af-a407-5af334a3d77e",
   "metadata": {},
   "source": [
    "#### **Basic data analysis**\n",
    "\n",
    "NOTE FOR US Check on the read me for plots and stuff to do:\n",
    "\n",
    "*Note*: For this hand in we will not look into questions that are computed over the years since we only focus on a subset of the whole data \n",
    "\n",
    "Comparison of number of male versus female quotes\n",
    "USE FUNCTIONS TO PLOT TO RUN IT FOR EACH YEAR\n",
    "Lisa : \n",
    "- Overall difference in count of males versus females, over all years.\n",
    "- Overall count of male versus female quotes, per year.\n",
    "- Overall count of male versus female quotes, per category.\n",
    "- Overall count of male versus female quotes, per year and per category.\n",
    "- Overall count of male versus female quotes, per country/geographical location.\n",
    "- Overall count of male versus female quotes, per year and per country/geographical location.\n",
    "Arthur : \n",
    "- Compare length of quotes \n",
    "\n",
    "Tests for statistical significance\n",
    "Arthur : \n",
    "- Perform statistical tests to see if the difference between counts of males and females per year is statistically significant.\n",
    "- Perform statistical tests to see if the difference per year and per category is statistically significant.\n",
    "- Perform statistical tests to see if the difference per year and per location is statistically significant.\n"
   ]
  },
  {
   "cell_type": "code",
   "execution_count": null,
   "id": "d11da64e-1765-4c89-b301-24d006ed7cae",
   "metadata": {},
   "outputs": [],
   "source": []
  }
 ],
 "metadata": {
  "kernelspec": {
   "display_name": "Python 3 (ipykernel)",
   "language": "python",
   "name": "python3"
  },
  "language_info": {
   "codemirror_mode": {
    "name": "ipython",
    "version": 3
   },
   "file_extension": ".py",
   "mimetype": "text/x-python",
   "name": "python",
   "nbconvert_exporter": "python",
   "pygments_lexer": "ipython3",
   "version": "3.9.7"
  }
 },
 "nbformat": 4,
 "nbformat_minor": 5
}

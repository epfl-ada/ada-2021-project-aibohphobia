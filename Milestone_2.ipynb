{
 "cells": [
  {
   "cell_type": "markdown",
   "id": "8d5ed22f-7f72-4be0-a9bd-d06986aae154",
   "metadata": {},
   "source": [
    "## Milestone 2: Hand in \n",
    "\n",
    "\n",
    "In this notebook we start the project regarding **The representation of women in media**\n",
    "\n",
    "This notebook includes:\n",
    "- the data cleaning process\n",
    "- the merging with additional datasets\n",
    "- the basic data analysis including plots\n",
    "\n",
    "*Note*: In order to limit the computation, we only kept the quotations of 2019. Of course, in order to add the time dependent analysis we would need to include the quotes of each year.\n",
    "\n",
    "\n",
    "Let us remind ourselves of some of the **research questions** we wish to answer:\n",
    "\n",
    "- Is the representation **equal between males and females** in media?\n",
    "- How does the distribution of quotes based on gender vary across countries and across domains?\n",
    "- How does the distribution of quotes between genders evolve in time, geographically and thematically?\n",
    "- Is there a tendency in each category for a males to have **longer quotes** than females?\n",
    "- Are males more likely to be **quoted in highly respected media**?\n",
    "- Are there any **blind spots** in media where females are especially neglected?\n",
    "- Is there a difference in how females/males at a certain **age** are quoted?\n",
    "- Are countries known to promote gender equality more likely to reflect this in media compared to the rest of the world   \n",
    "\n",
    "\n",
    "Extra ideas (draft selene):\n",
    "- Can we identify speakers who were quoted and that triggered a change in trend? Example: a woman is quoted once as she talks about topic A. After that we see an increase of women quoted talking about topic A ? Like some turning points in media? \n",
    "------> Comment Lavi: Not sure about this, we could discuss :))))\n",
    "\n",
    "\n",
    "\n",
    "#### **Data cleaning**"
   ]
  },
  {
   "cell_type": "markdown",
   "id": "902f7a06",
   "metadata": {},
   "source": [
    "# Import packages"
   ]
  },
  {
   "cell_type": "markdown",
   "id": "5b14a6af",
   "metadata": {},
   "source": [
    "### LAVI"
   ]
  },
  {
   "cell_type": "code",
   "execution_count": 2,
   "id": "7506cfd0-3d72-45fa-9177-cd64865599c2",
   "metadata": {},
   "outputs": [],
   "source": [
    "# Libraries to import\n",
    "\n",
    "from journal_API_wikidata import *\n",
    "import pandas as pd\n",
    "import numpy as np\n"
   ]
  },
  {
   "cell_type": "markdown",
   "id": "8fc1f057",
   "metadata": {},
   "source": [
    "# Cleaning process : # \n",
    "### See notebook `milestone_2_BLABLA.ipynb`"
   ]
  },
  {
   "cell_type": "markdown",
   "id": "8ff377a7",
   "metadata": {},
   "source": [
    "# Load cleaned data"
   ]
  },
  {
   "cell_type": "markdown",
   "id": "6a181dcb",
   "metadata": {},
   "source": [
    "### LAVI (cleaning process in another notebook)\n",
    "with the wikidata_utils process"
   ]
  },
  {
   "cell_type": "markdown",
   "id": "ce7a448e",
   "metadata": {},
   "source": [
    "Check for inconsistency"
   ]
  },
  {
   "cell_type": "markdown",
   "id": "4c3bd8d5-5a18-40a0-b624-3fea673e04ba",
   "metadata": {},
   "source": [
    "#### **Addition of datasets**\n",
    "The following function allows us to add the country of origin of the newspappers in which the quotes may be found, this will be used to analyse the geographic tendencies of quoting different genders accross the world"
   ]
  },
  {
   "cell_type": "markdown",
   "id": "30d573de",
   "metadata": {},
   "source": [
    "- Media countries (Lavi)\n",
    "- Countries to continent"
   ]
  },
  {
   "cell_type": "markdown",
   "id": "401b9047",
   "metadata": {},
   "source": [
    "# Analysis"
   ]
  },
  {
   "cell_type": "markdown",
   "id": "772b3b02",
   "metadata": {},
   "source": [
    "## Number of quotes per gender"
   ]
  },
  {
   "cell_type": "markdown",
   "id": "2c56a7b8",
   "metadata": {},
   "source": [
    "#### In absolute value"
   ]
  },
  {
   "cell_type": "code",
   "execution_count": null,
   "id": "3d566ef7",
   "metadata": {},
   "outputs": [],
   "source": [
    "def plot_quotes_number_abs(df):\n",
    "    f = plt.figure(figsize=(12,6))\n",
    "    ax = sns.countplot(data=df, x='gender')\n",
    "    plt.xlabel('Gender')\n",
    "    plt.ylabel('Number of quotes')\n",
    "    plt.title('Number of quotes depending on gender')"
   ]
  },
  {
   "cell_type": "code",
   "execution_count": null,
   "id": "9742d40e",
   "metadata": {},
   "outputs": [],
   "source": [
    "plot_quotes_number_abs(df_2016)"
   ]
  },
  {
   "cell_type": "markdown",
   "id": "ac2febb6",
   "metadata": {},
   "source": [
    "#### In relative value"
   ]
  },
  {
   "cell_type": "code",
   "execution_count": null,
   "id": "a6f80535",
   "metadata": {},
   "outputs": [],
   "source": []
  },
  {
   "cell_type": "markdown",
   "id": "b5935c04",
   "metadata": {},
   "source": [
    "##### Statistical tests over the years"
   ]
  },
  {
   "cell_type": "code",
   "execution_count": null,
   "id": "f44c38c8",
   "metadata": {},
   "outputs": [],
   "source": []
  },
  {
   "cell_type": "markdown",
   "id": "5b295e30",
   "metadata": {},
   "source": [
    "## Age"
   ]
  },
  {
   "cell_type": "code",
   "execution_count": null,
   "id": "49d69c04",
   "metadata": {},
   "outputs": [],
   "source": [
    "def dateofbirth_to_timestamp(df):\n",
    "    df['date_of_birth'] = extract_element_from_series(df['date_of_birth'])\n",
    "    df['date_of_birth'] = df['date_of_birth'].replace(to_replace='[\\+Z]',value='', regex=True)                                                                              \n",
    "    df['date_of_birth'] = pd.to_datetime(df['date_of_birth'], format='%Y-%m-%dT%H:%M:%S', errors='coerce')\n",
    "    return df"
   ]
  },
  {
   "cell_type": "code",
   "execution_count": null,
   "id": "00eeaa1e",
   "metadata": {},
   "outputs": [],
   "source": [
    "def compute_age(df):\n",
    "    now = pd.to_datetime('now')\n",
    "    df['age'] = (now.year - df.date_of_birth.dt.year) - ((now.month - df.date_of_birth.dt.month) < 0)\n",
    "    return df"
   ]
  },
  {
   "cell_type": "code",
   "execution_count": null,
   "id": "c7023802",
   "metadata": {},
   "outputs": [],
   "source": [
    "def compute_age_range(df):\n",
    "    bins = np.arange(0,110,step=10)\n",
    "    df[\"age_range\"] = pd.cut(df[\"age\"], bins)\n",
    "    return df"
   ]
  },
  {
   "cell_type": "code",
   "execution_count": null,
   "id": "871dc851",
   "metadata": {},
   "outputs": [],
   "source": [
    "df_2016 = dateofbirth_to_timestamp(df_2016)\n",
    "df_2016 = compute_age(df_2016)\n",
    "df_2016 = compute_age_range(df_2016)"
   ]
  },
  {
   "cell_type": "code",
   "execution_count": null,
   "id": "2db6bb0e",
   "metadata": {},
   "outputs": [],
   "source": [
    "def plot_quotes_age(df, age_threshold):\n",
    "    f = plt.figure(figsize=(16,6))\n",
    "    ax = sns.countplot(data=df[df[\"age\"]<age_threshold], x='age_range', hue ='gender')\n",
    "    plt.xlabel('Age intervals')\n",
    "    plt.ylabel('Number of quotes')\n",
    "    plt.title('Number of quotes depending on age and gender')\n",
    "    #labels = ['[0,10]','[10,20]','[20,30]','[30,40]','[50,60]','[60,70]','[70,80]','[80,90]','[90,100]']\n",
    "    #ax.set_xticklabels(labels)"
   ]
  },
  {
   "cell_type": "code",
   "execution_count": null,
   "id": "87d3a3a1",
   "metadata": {},
   "outputs": [],
   "source": [
    "plot_quotes_age(df_2016, 100)"
   ]
  },
  {
   "cell_type": "markdown",
   "id": "81b7ccae",
   "metadata": {},
   "source": [
    "## Countries"
   ]
  },
  {
   "cell_type": "code",
   "execution_count": null,
   "id": "290ab265",
   "metadata": {},
   "outputs": [],
   "source": [
    "def plot_quotes_country(df, threshold_nber):\n",
    "    df_citizenship_count = df.groupby(['gender', 'citizenship'])['quoteID'].count().to_frame(name='count').reset_index()\n",
    "    df_citizenship_count = df_citizenship_count[df_citizenship_count['count']>threshold_nber]\n",
    "    \n",
    "    f = plt.figure(figsize=(18,6))\n",
    "    ax = sns.barplot(data=df_citizenship_count, x='citizenship',y='count', hue='gender')\n",
    "    plt.xlabel('Citizenship')\n",
    "    plt.ylabel('Number of quotes')\n",
    "    plt.title('Number of quotes above '+ str(threshold_nber) +' depending on gender and citizenship')\n",
    "    locs, labels = plt.xticks()\n",
    "    plt.setp(labels, rotation=90)\n",
    "    ax.set_yscale('log')\n",
    "    return ax"
   ]
  },
  {
   "cell_type": "code",
   "execution_count": null,
   "id": "fbd2353b",
   "metadata": {},
   "outputs": [],
   "source": [
    "ax = plot_quotes_country(df_2016, threshold_nber = 300)"
   ]
  },
  {
   "cell_type": "markdown",
   "id": "42592c3a",
   "metadata": {},
   "source": [
    "## Continents"
   ]
  },
  {
   "cell_type": "code",
   "execution_count": null,
   "id": "979bdb36",
   "metadata": {},
   "outputs": [],
   "source": [
    "def add_continent(df, countries_to_continent):\n",
    "    df = pd.merge(df, countries_to_continent, left_on='citizenship', right_on='Country', copy=False)\n",
    "    df = df.drop('Country', axis=1)\n",
    "    return df"
   ]
  },
  {
   "cell_type": "code",
   "execution_count": null,
   "id": "a86da448",
   "metadata": {},
   "outputs": [],
   "source": [
    "df_2016 = add_continent(df_2016, countries_to_continent)"
   ]
  },
  {
   "cell_type": "code",
   "execution_count": null,
   "id": "c02fa545",
   "metadata": {},
   "outputs": [],
   "source": [
    "def plot_quotes_continent(df):\n",
    "    f = plt.figure(figsize=(12,6))\n",
    "    ax = sns.countplot(data=df, x='Continent', hue='gender')\n",
    "    plt.xlabel('Continent')\n",
    "    plt.ylabel('Number of quotes')\n",
    "    plt.title('Number of quotes depending on gender and continent')"
   ]
  },
  {
   "cell_type": "code",
   "execution_count": null,
   "id": "81fa7bd7",
   "metadata": {},
   "outputs": [],
   "source": [
    "plot_quotes_continent(df_2016)"
   ]
  },
  {
   "cell_type": "markdown",
   "id": "4a21feca",
   "metadata": {},
   "source": [
    "## Number of quotes per journals"
   ]
  },
  {
   "cell_type": "code",
   "execution_count": null,
   "id": "ea7d9d85",
   "metadata": {},
   "outputs": [],
   "source": [
    "df_2016['sitenames'] = extract_element_from_series(df_2016['sitenames'])"
   ]
  },
  {
   "cell_type": "code",
   "execution_count": null,
   "id": "94368fcb",
   "metadata": {},
   "outputs": [],
   "source": [
    "def plot_quotes_journals(df):\n",
    "    f = plt.figure(figsize=(14,6))\n",
    "    ax = sns.countplot(data=df, x='sitenames', hue='gender', order=df['sitenames'].value_counts().index)\n",
    "    plt.xlabel('Media')\n",
    "    plt.ylabel('Number of quotes')\n",
    "    plt.title('Number of quotes depending on gender and media')\n",
    "    locs, labels = plt.xticks()\n",
    "    plt.setp(labels, rotation=45,  horizontalalignment='right')"
   ]
  },
  {
   "cell_type": "code",
   "execution_count": null,
   "id": "c6a552d7",
   "metadata": {},
   "outputs": [],
   "source": [
    "plot_quotes_journals(df_2016)"
   ]
  },
  {
   "cell_type": "markdown",
   "id": "89f1af4d",
   "metadata": {},
   "source": [
    "## Number of quotes per category "
   ]
  },
  {
   "cell_type": "code",
   "execution_count": null,
   "id": "9951b2c4",
   "metadata": {},
   "outputs": [],
   "source": [
    "def transform_tags(df):\n",
    "    col_tags = []\n",
    "    for i in range(len(df)):\n",
    "        array = df['tags'][i]\n",
    "        tags = [var for var in array if var]\n",
    "        if tags : \n",
    "            tags = tags[0][0]\n",
    "        else :\n",
    "            tags = 'undefined'\n",
    "        col_tags.append(tags)\n",
    "    return col_tags"
   ]
  },
  {
   "cell_type": "code",
   "execution_count": null,
   "id": "2cde74a4",
   "metadata": {},
   "outputs": [],
   "source": [
    "df_2016['tags'] = transform_tags(df_2016)"
   ]
  },
  {
   "cell_type": "code",
   "execution_count": null,
   "id": "2daf799d",
   "metadata": {},
   "outputs": [],
   "source": [
    "def plot_quotes_categories(df):\n",
    "    f = plt.figure(figsize=(14,6))\n",
    "    ax = sns.countplot(data=df, x='tags', hue='gender', order=df['tags'].value_counts().index)\n",
    "    plt.xlabel('Category')\n",
    "    plt.ylabel('Number of quotes')\n",
    "    plt.title('Number of quotes depending on gender and media')\n",
    "    locs, labels = plt.xticks()\n",
    "    plt.setp(labels, rotation=45,  horizontalalignment='right')"
   ]
  },
  {
   "cell_type": "code",
   "execution_count": null,
   "id": "68f6d5d4",
   "metadata": {},
   "outputs": [],
   "source": [
    "plot_quotes_categories(df_2016)"
   ]
  },
  {
   "cell_type": "markdown",
   "id": "9797664d",
   "metadata": {},
   "source": [
    "## Length of quotes"
   ]
  },
  {
   "cell_type": "code",
   "execution_count": null,
   "id": "bd74671a",
   "metadata": {},
   "outputs": [],
   "source": []
  },
  {
   "cell_type": "markdown",
   "id": "4ec107a7",
   "metadata": {},
   "source": [
    "## Quotes per journals"
   ]
  },
  {
   "cell_type": "markdown",
   "id": "5fc937b7-6b08-41af-a407-5af334a3d77e",
   "metadata": {},
   "source": [
    "#### **Basic data analysis**\n",
    "\n",
    "NOTE FOR US Check on the read me for plots and stuff to do:\n",
    "\n",
    "*Note*: For this hand in we will not look into questions that are computed over the years since we only focus on a subset of the whole data \n",
    "\n",
    "Comparison of number of male versus female quotes\n",
    "USE FUNCTIONS TO PLOT TO RUN IT FOR EACH YEAR\n",
    "Lisa : \n",
    "- Overall difference in count of males versus females, over all years.\n",
    "- Overall count of male versus female quotes, per year.\n",
    "- Overall count of male versus female quotes, per category.\n",
    "- Overall count of male versus female quotes, per year and per category.\n",
    "- Overall count of male versus female quotes, per country/geographical location.\n",
    "- Overall count of male versus female quotes, per year and per country/geographical location.\n",
    "Arthur : \n",
    "- Compare length of quotes \n",
    "\n",
    "Tests for statistical significance\n",
    "Arthur : \n",
    "- Perform statistical tests to see if the difference between counts of males and females per year is statistically significant.\n",
    "- Perform statistical tests to see if the difference per year and per category is statistically significant.\n",
    "- Perform statistical tests to see if the difference per year and per location is statistically significant.\n"
   ]
  },
  {
   "cell_type": "code",
   "execution_count": null,
   "id": "d11da64e-1765-4c89-b301-24d006ed7cae",
   "metadata": {},
   "outputs": [],
   "source": []
  }
 ],
 "metadata": {
  "kernelspec": {
   "display_name": "Python 3 (ipykernel)",
   "language": "python",
   "name": "python3"
  },
  "language_info": {
   "codemirror_mode": {
    "name": "ipython",
    "version": 3
   },
   "file_extension": ".py",
   "mimetype": "text/x-python",
   "name": "python",
   "nbconvert_exporter": "python",
   "pygments_lexer": "ipython3",
   "version": "3.9.7"
  }
 },
 "nbformat": 4,
 "nbformat_minor": 5
}
